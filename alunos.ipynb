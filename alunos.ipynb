{
 "cells": [
  {
   "cell_type": "markdown",
   "id": "integrated-worcester",
   "metadata": {},
   "source": [
    "## Faça um programa que acesse o nome de um aluno, suas notas N1 e N2 e calcule a média entre elas."
   ]
  },
  {
   "cell_type": "code",
   "execution_count": 4,
   "id": "convinced-permit",
   "metadata": {},
   "outputs": [],
   "source": [
    "#include <iostream>\n",
    "#include <string>\n",
    "\n",
    "using namespace std;"
   ]
  },
  {
   "cell_type": "code",
   "execution_count": 2,
   "id": "million-latitude",
   "metadata": {},
   "outputs": [],
   "source": [
    "int main() {\n",
    "    string nome;\n",
    "    float n1, n2, media;\n",
    "    \n",
    "    cout << \"Digite o nome do aluno:\\n\";\n",
    "    cin >> nome;\n",
    "\n",
    "    cout << \"Digite o nota N1:\\n\";    \n",
    "    cin >> n1;\n",
    "    \n",
    "    cout << \"Digite o nota N2:\\n\";    \n",
    "    cin >> n2;\n",
    "\n",
    "    media = (n1 + n2) / 2;\n",
    "    cout << \"Média: \" << media;\n",
    "}"
   ]
  },
  {
   "cell_type": "code",
   "execution_count": 3,
   "id": "korean-egypt",
   "metadata": {},
   "outputs": [
    {
     "name": "stdout",
     "output_type": "stream",
     "text": [
      "Digite o nome do aluno:\n"
     ]
    },
    {
     "name": "stdin",
     "output_type": "stream",
     "text": [
      " aaa\n"
     ]
    },
    {
     "name": "stdout",
     "output_type": "stream",
     "text": [
      "Digite o nota N1:\n"
     ]
    },
    {
     "name": "stdin",
     "output_type": "stream",
     "text": [
      " 3\n"
     ]
    },
    {
     "name": "stdout",
     "output_type": "stream",
     "text": [
      "Digite o nota N2:\n"
     ]
    },
    {
     "name": "stdin",
     "output_type": "stream",
     "text": [
      " 2\n"
     ]
    },
    {
     "name": "stdout",
     "output_type": "stream",
     "text": [
      "Média: 2.5"
     ]
    },
    {
     "data": {
      "text/plain": [
       "0"
      ]
     },
     "execution_count": 3,
     "metadata": {},
     "output_type": "execute_result"
    }
   ],
   "source": [
    "main()"
   ]
  },
  {
   "cell_type": "markdown",
   "id": "mineral-browse",
   "metadata": {},
   "source": [
    "## N1 e N2 devem ser valores entre 0 e 10."
   ]
  },
  {
   "cell_type": "code",
   "execution_count": 4,
   "id": "renewable-authentication",
   "metadata": {},
   "outputs": [],
   "source": [
    "int main() {\n",
    "    string nome;\n",
    "    float n1, n2=0, media;\n",
    "    \n",
    "    cout << \"Digite o nome do aluno:\\n\";\n",
    "    cin >> nome;\n",
    "\n",
    "    do {\n",
    "        cout << \"Digite a nota N1:\\n\";    \n",
    "        cin >> n1;\n",
    "    } while(n1 < 0 or n1 > 10);\n",
    "    \n",
    "    n2 = 11;\n",
    "    while(n2 < 0 or n2 > 10) {\n",
    "        cout << \"Digite a nota N2:\\n\";    \n",
    "        cin >> n2;        \n",
    "    }\n",
    "    \n",
    "    media = (n1 + n2) / 2;\n",
    "    cout << \"Média: \" << media;\n",
    "}"
   ]
  },
  {
   "cell_type": "code",
   "execution_count": 5,
   "id": "worst-running",
   "metadata": {},
   "outputs": [
    {
     "name": "stdout",
     "output_type": "stream",
     "text": [
      "Digite o nome do aluno:\n"
     ]
    },
    {
     "name": "stdin",
     "output_type": "stream",
     "text": [
      " aaaa\n"
     ]
    },
    {
     "name": "stdout",
     "output_type": "stream",
     "text": [
      "Digite a nota N1:\n"
     ]
    },
    {
     "name": "stdin",
     "output_type": "stream",
     "text": [
      " -1\n"
     ]
    },
    {
     "name": "stdout",
     "output_type": "stream",
     "text": [
      "Digite a nota N1:\n"
     ]
    },
    {
     "name": "stdin",
     "output_type": "stream",
     "text": [
      " 11\n"
     ]
    },
    {
     "name": "stdout",
     "output_type": "stream",
     "text": [
      "Digite a nota N1:\n"
     ]
    },
    {
     "name": "stdin",
     "output_type": "stream",
     "text": [
      " 10\n"
     ]
    },
    {
     "name": "stdout",
     "output_type": "stream",
     "text": [
      "Digite a nota N2:\n"
     ]
    },
    {
     "name": "stdin",
     "output_type": "stream",
     "text": [
      " 10\n"
     ]
    },
    {
     "name": "stdout",
     "output_type": "stream",
     "text": [
      "Média: 10"
     ]
    },
    {
     "data": {
      "text/plain": [
       "0"
      ]
     },
     "execution_count": 5,
     "metadata": {},
     "output_type": "execute_result"
    }
   ],
   "source": [
    "main()"
   ]
  },
  {
   "cell_type": "markdown",
   "id": "brown-pension",
   "metadata": {},
   "source": [
    "## Armazene as informações dos alunos em um struct."
   ]
  },
  {
   "cell_type": "code",
   "execution_count": 6,
   "id": "spectacular-supplement",
   "metadata": {},
   "outputs": [],
   "source": [
    "int main() {\n",
    "    struct aluno {\n",
    "        string nome;\n",
    "        float n1, n2, media;  \n",
    "    };\n",
    "    aluno aluno01; \n",
    "    \n",
    "    cout << \"Digite o nome do aluno:\\n\";\n",
    "    cin >> aluno01.nome;\n",
    "\n",
    "    do {\n",
    "        cout << \"Digite o nota N1:\\n\";    \n",
    "        cin >> aluno01.n1;\n",
    "    } while(aluno01.n1 < 0 or aluno01.n1 > 10);\n",
    "    \n",
    "    do {\n",
    "        cout << \"Digite o nota N2:\\n\";    \n",
    "        cin >> aluno01.n2;        \n",
    "    } while(aluno01.n2 < 0 or aluno01.n2 > 10);\n",
    "    \n",
    "    aluno01.media = (aluno01.n1 + aluno01.n2) / 2;\n",
    "    cout << \"Média: \" << aluno01.media;\n",
    "}"
   ]
  },
  {
   "cell_type": "code",
   "execution_count": 7,
   "id": "awful-routine",
   "metadata": {},
   "outputs": [
    {
     "name": "stdout",
     "output_type": "stream",
     "text": [
      "Digite o nome do aluno:\n"
     ]
    },
    {
     "name": "stdin",
     "output_type": "stream",
     "text": [
      " aaaa\n"
     ]
    },
    {
     "name": "stdout",
     "output_type": "stream",
     "text": [
      "Digite o nota N1:\n"
     ]
    },
    {
     "name": "stdin",
     "output_type": "stream",
     "text": [
      " 3\n"
     ]
    },
    {
     "name": "stdout",
     "output_type": "stream",
     "text": [
      "Digite o nota N2:\n"
     ]
    },
    {
     "name": "stdin",
     "output_type": "stream",
     "text": [
      " 2\n"
     ]
    },
    {
     "name": "stdout",
     "output_type": "stream",
     "text": [
      "Média: 2.5"
     ]
    },
    {
     "data": {
      "text/plain": [
       "0"
      ]
     },
     "execution_count": 7,
     "metadata": {},
     "output_type": "execute_result"
    }
   ],
   "source": [
    "main()"
   ]
  },
  {
   "cell_type": "markdown",
   "id": "favorite-worthy",
   "metadata": {},
   "source": [
    "## Armazene os nomes e notas de 3 alunos em um vetor"
   ]
  },
  {
   "cell_type": "code",
   "execution_count": 8,
   "id": "sorted-apparel",
   "metadata": {},
   "outputs": [],
   "source": [
    "int main() {\n",
    "    struct aluno {\n",
    "        string nome;\n",
    "        float n1, n2, media;  \n",
    "    };\n",
    "    aluno alunos[3];\n",
    "    int i;\n",
    "    for (int i = 0 ; i < 3 ; i++) {\n",
    "        cout << \"Digite o nome do aluno [\" << i << \"]:\\n\";\n",
    "        cin >> alunos[i].nome;\n",
    "        do {\n",
    "            cout << \"Digite o nota N1:\\n\";    \n",
    "            cin >> alunos[i].n1;\n",
    "        } while(alunos[i].n1 < 0 or alunos[i].n1 > 10);\n",
    "        do {\n",
    "            cout << \"Digite o nota N2:\\n\";    \n",
    "            cin >> alunos[i].n2;        \n",
    "        } while(alunos[i].n2 < 0 or alunos[i].n2 > 10);\n",
    "        alunos[i].media = (alunos[i].n1 + alunos[i].n2) / 2;\n",
    "    }\n",
    "    \n",
    "    i = 0;\n",
    "    while (i < 3) {\n",
    "        cout << \"Aluno [\" << i << \"]: \" << alunos[i].nome << \"\\nMédia: \" << alunos[i].media << \"\\n---\\n\";\n",
    "        i++;\n",
    "    }\n",
    "}"
   ]
  },
  {
   "cell_type": "code",
   "execution_count": 9,
   "id": "italian-cycle",
   "metadata": {},
   "outputs": [
    {
     "name": "stdout",
     "output_type": "stream",
     "text": [
      "Digite o nome do aluno [0]:\n"
     ]
    },
    {
     "name": "stdin",
     "output_type": "stream",
     "text": [
      " aaaa\n"
     ]
    },
    {
     "name": "stdout",
     "output_type": "stream",
     "text": [
      "Digite o nota N1:\n"
     ]
    },
    {
     "name": "stdin",
     "output_type": "stream",
     "text": [
      " 4\n"
     ]
    },
    {
     "name": "stdout",
     "output_type": "stream",
     "text": [
      "Digite o nota N2:\n"
     ]
    },
    {
     "name": "stdin",
     "output_type": "stream",
     "text": [
      " 5\n"
     ]
    },
    {
     "name": "stdout",
     "output_type": "stream",
     "text": [
      "Digite o nome do aluno [1]:\n"
     ]
    },
    {
     "name": "stdin",
     "output_type": "stream",
     "text": [
      " bbb\n"
     ]
    },
    {
     "name": "stdout",
     "output_type": "stream",
     "text": [
      "Digite o nota N1:\n"
     ]
    },
    {
     "name": "stdin",
     "output_type": "stream",
     "text": [
      " 6\n"
     ]
    },
    {
     "name": "stdout",
     "output_type": "stream",
     "text": [
      "Digite o nota N2:\n"
     ]
    },
    {
     "name": "stdin",
     "output_type": "stream",
     "text": [
      " 7\n"
     ]
    },
    {
     "name": "stdout",
     "output_type": "stream",
     "text": [
      "Digite o nome do aluno [2]:\n"
     ]
    },
    {
     "name": "stdin",
     "output_type": "stream",
     "text": [
      " cccc\n"
     ]
    },
    {
     "name": "stdout",
     "output_type": "stream",
     "text": [
      "Digite o nota N1:\n"
     ]
    },
    {
     "name": "stdin",
     "output_type": "stream",
     "text": [
      " 8\n"
     ]
    },
    {
     "name": "stdout",
     "output_type": "stream",
     "text": [
      "Digite o nota N2:\n"
     ]
    },
    {
     "name": "stdin",
     "output_type": "stream",
     "text": [
      " 9\n"
     ]
    },
    {
     "name": "stdout",
     "output_type": "stream",
     "text": [
      "Aluno [0]: aaaa\n",
      "Média: 4.5\n",
      "---\n",
      "Aluno [1]: bbb\n",
      "Média: 6.5\n",
      "---\n",
      "Aluno [2]: cccc\n",
      "Média: 8.5\n",
      "---\n"
     ]
    },
    {
     "data": {
      "text/plain": [
       "0"
      ]
     },
     "execution_count": 9,
     "metadata": {},
     "output_type": "execute_result"
    }
   ],
   "source": [
    "main()"
   ]
  },
  {
   "cell_type": "markdown",
   "id": "broke-sussex",
   "metadata": {},
   "source": [
    "## Armazene os alunos e notas em uma pilha dinâmica"
   ]
  },
  {
   "cell_type": "code",
   "execution_count": 5,
   "id": "incoming-financing",
   "metadata": {},
   "outputs": [],
   "source": [
    "class Pilha {\n",
    "    private:\n",
    "        struct noPilha {\n",
    "            string nome;\n",
    "            float n1, n2, media;  \n",
    "            noPilha *proximoNo; // ligação próximo nó\n",
    "        };\n",
    "        typedef noPilha *PonteiroPilha;\n",
    "        PonteiroPilha topo;\n",
    "    public:\n",
    "        Pilha();\n",
    "        bool estaVazia();\n",
    "        bool empilhar(string nome, float n1, float n2, float media);\n",
    "        bool desempilhar(string &nome, float &n1, float &n2, float &media);\n",
    "};"
   ]
  },
  {
   "cell_type": "code",
   "execution_count": 6,
   "id": "younger-colonial",
   "metadata": {},
   "outputs": [],
   "source": [
    "Pilha::Pilha() {\n",
    "    topo = NULL;\n",
    "}"
   ]
  },
  {
   "cell_type": "code",
   "execution_count": 7,
   "id": "framed-perry",
   "metadata": {},
   "outputs": [],
   "source": [
    "bool Pilha::estaVazia() {\n",
    "    if (topo == NULL) {\n",
    "        return 1;\n",
    "    } else {\n",
    "        return 0;\n",
    "    }\n",
    "}"
   ]
  },
  {
   "cell_type": "code",
   "execution_count": 8,
   "id": "norman-syntax",
   "metadata": {},
   "outputs": [],
   "source": [
    "bool Pilha::empilhar(string nome, float n1, float n2, float media) {\n",
    "    PonteiroPilha p;\n",
    "    p = new noPilha;\n",
    "    if (p == NULL) {\n",
    "        return 0;\n",
    "    }\n",
    "    p->nome = nome;\n",
    "    p->n1 = n1;\n",
    "    p->n2 = n2;\n",
    "    p->media = media;    \n",
    "    p->proximoNo = topo;\n",
    "    topo = p;\n",
    "    return 1;\n",
    "}"
   ]
  },
  {
   "cell_type": "code",
   "execution_count": 9,
   "id": "french-terminal",
   "metadata": {},
   "outputs": [],
   "source": [
    "bool Pilha::desempilhar(string &nome, float &n1, float &n2, float &media) {\n",
    "    PonteiroPilha p;\n",
    "    if (estaVazia()) {\n",
    "        return 0;\n",
    "    }\n",
    "    nome = topo->nome;\n",
    "    n1 = topo->n1;\n",
    "    n2 = topo->n2;\n",
    "    media = topo->media;\n",
    "    p = topo;\n",
    "    topo = topo->proximoNo;\n",
    "    free(p);\n",
    "    return 1;\n",
    "}"
   ]
  },
  {
   "cell_type": "code",
   "execution_count": 10,
   "id": "portable-import",
   "metadata": {},
   "outputs": [],
   "source": [
    "int main() {\n",
    "    struct aluno {\n",
    "        string nome;\n",
    "        float n1, n2, media;  \n",
    "    };\n",
    "    aluno auxAluno; \n",
    "    char sn;\n",
    "    Pilha alunos;\n",
    "    do {\n",
    "        cout << \"Digite o nome do aluno:\\n\";\n",
    "        cin >> auxAluno.nome;\n",
    "\n",
    "        do {\n",
    "            cout << \"Digite o nota N1:\\n\";    \n",
    "            cin >> auxAluno.n1;\n",
    "        } while(auxAluno.n1 < 0 or auxAluno.n1 > 10);\n",
    "        \n",
    "        do {\n",
    "            cout << \"Digite o nota N2:\\n\";    \n",
    "            cin >> auxAluno.n2;        \n",
    "        } while(auxAluno.n2 < 0 or auxAluno.n2 > 10);\n",
    "        \n",
    "        auxAluno.media = (auxAluno.n1 + auxAluno.n2) / 2;\n",
    "        \n",
    "        alunos.empilhar(auxAluno.nome, auxAluno.n1, auxAluno.n2, auxAluno.media);\n",
    "\n",
    "        cout << \"Deseja sair? s/n\";\n",
    "        cin >> sn;\n",
    "    } while(sn != 's');\n",
    "    \n",
    "    cout << \"\\nSaindo\\n\\n\";\n",
    "    while (! alunos.estaVazia()) {\n",
    "        alunos.desempilhar(auxAluno.nome, auxAluno.n1, auxAluno.n2, auxAluno.media);\n",
    "        cout << \"Aluno: \" << auxAluno.nome << \"\\nMédia: \" << auxAluno.media << \"\\n---\\n\";\n",
    "    }\n",
    "}"
   ]
  },
  {
   "cell_type": "code",
   "execution_count": 11,
   "id": "earned-conservation",
   "metadata": {},
   "outputs": [
    {
     "name": "stdout",
     "output_type": "stream",
     "text": [
      "Digite o nome do aluno:\n"
     ]
    },
    {
     "name": "stdin",
     "output_type": "stream",
     "text": [
      " aaa\n"
     ]
    },
    {
     "name": "stdout",
     "output_type": "stream",
     "text": [
      "Digite o nota N1:\n"
     ]
    },
    {
     "name": "stdin",
     "output_type": "stream",
     "text": [
      " 4\n"
     ]
    },
    {
     "name": "stdout",
     "output_type": "stream",
     "text": [
      "Digite o nota N2:\n"
     ]
    },
    {
     "name": "stdin",
     "output_type": "stream",
     "text": [
      " 5\n"
     ]
    },
    {
     "name": "stdout",
     "output_type": "stream",
     "text": [
      "Deseja sair? s/n"
     ]
    },
    {
     "name": "stdin",
     "output_type": "stream",
     "text": [
      " n\n"
     ]
    },
    {
     "name": "stdout",
     "output_type": "stream",
     "text": [
      "Digite o nome do aluno:\n"
     ]
    },
    {
     "name": "stdin",
     "output_type": "stream",
     "text": [
      " bbb\n"
     ]
    },
    {
     "name": "stdout",
     "output_type": "stream",
     "text": [
      "Digite o nota N1:\n"
     ]
    },
    {
     "name": "stdin",
     "output_type": "stream",
     "text": [
      " 6\n"
     ]
    },
    {
     "name": "stdout",
     "output_type": "stream",
     "text": [
      "Digite o nota N2:\n"
     ]
    },
    {
     "name": "stdin",
     "output_type": "stream",
     "text": [
      " 7\n"
     ]
    },
    {
     "name": "stdout",
     "output_type": "stream",
     "text": [
      "Deseja sair? s/n"
     ]
    },
    {
     "name": "stdin",
     "output_type": "stream",
     "text": [
      " n\n"
     ]
    },
    {
     "name": "stdout",
     "output_type": "stream",
     "text": [
      "Digite o nome do aluno:\n"
     ]
    },
    {
     "name": "stdin",
     "output_type": "stream",
     "text": [
      " ccc\n"
     ]
    },
    {
     "name": "stdout",
     "output_type": "stream",
     "text": [
      "Digite o nota N1:\n"
     ]
    },
    {
     "name": "stdin",
     "output_type": "stream",
     "text": [
      " 7\n"
     ]
    },
    {
     "name": "stdout",
     "output_type": "stream",
     "text": [
      "Digite o nota N2:\n"
     ]
    },
    {
     "name": "stdin",
     "output_type": "stream",
     "text": [
      " 8\n"
     ]
    },
    {
     "name": "stdout",
     "output_type": "stream",
     "text": [
      "Deseja sair? s/n"
     ]
    },
    {
     "name": "stdin",
     "output_type": "stream",
     "text": [
      " s\n"
     ]
    },
    {
     "name": "stdout",
     "output_type": "stream",
     "text": [
      "\n",
      "Saindo\n",
      "\n",
      "Aluno: ccc\n",
      "Média: 7.5\n",
      "---\n",
      "Aluno: bbb\n",
      "Média: 6.5\n",
      "---\n",
      "Aluno: aaa\n",
      "Média: 4.5\n",
      "---\n"
     ]
    }
   ],
   "source": [
    "main();"
   ]
  },
  {
   "cell_type": "markdown",
   "id": "scenic-audio",
   "metadata": {},
   "source": [
    "## Outro exemplo de implementação de pilha"
   ]
  },
  {
   "cell_type": "code",
   "execution_count": 12,
   "id": "anticipated-aerospace",
   "metadata": {},
   "outputs": [],
   "source": [
    "class Pilha {\n",
    "    private:\n",
    "        struct noPilha {\n",
    "            int valor;\n",
    "            noPilha *proximoNo; // ligação próximo nó\n",
    "        };\n",
    "        typedef noPilha *PonteiroPilha;\n",
    "        PonteiroPilha topo;\n",
    "    public:\n",
    "        Pilha(); //construtor\n",
    "        bool estaVazia();\n",
    "        bool empilhar(int x);\n",
    "        bool desempilhar(int &x);\n",
    "};"
   ]
  },
  {
   "cell_type": "code",
   "execution_count": 13,
   "id": "authentic-associate",
   "metadata": {},
   "outputs": [],
   "source": [
    "Pilha::Pilha() {\n",
    "    topo = NULL;\n",
    "}"
   ]
  },
  {
   "cell_type": "code",
   "execution_count": 14,
   "id": "after-college",
   "metadata": {},
   "outputs": [],
   "source": [
    "bool Pilha::estaVazia() {\n",
    "    if (topo == NULL) {\n",
    "        return 1;\n",
    "    } else {\n",
    "        return 0;\n",
    "    }\n",
    "}"
   ]
  },
  {
   "cell_type": "code",
   "execution_count": 15,
   "id": "related-complaint",
   "metadata": {},
   "outputs": [],
   "source": [
    "bool Pilha::empilhar(int x) {\n",
    "    PonteiroPilha p;\n",
    "    p = new noPilha;\n",
    "    if (p == NULL) {\n",
    "        return 0;\n",
    "    }\n",
    "    p->valor = x;\n",
    "    p->proximoNo = topo;\n",
    "    topo = p;\n",
    "    return 1;\n",
    "}"
   ]
  },
  {
   "cell_type": "code",
   "execution_count": 16,
   "id": "exact-wales",
   "metadata": {},
   "outputs": [],
   "source": [
    "bool Pilha::desempilhar(int &x) {\n",
    "    PonteiroPilha p;\n",
    "    if (estaVazia()) {\n",
    "        return 0;\n",
    "    }\n",
    "    x = topo->valor;\n",
    "    p = topo;\n",
    "    topo = topo->proximoNo;\n",
    "    free(p);\n",
    "    return 1;\n",
    "}"
   ]
  },
  {
   "cell_type": "code",
   "execution_count": null,
   "id": "accessible-lesbian",
   "metadata": {},
   "outputs": [],
   "source": []
  },
  {
   "cell_type": "code",
   "execution_count": null,
   "id": "introductory-component",
   "metadata": {},
   "outputs": [],
   "source": [
    "void func1(Pilha *p01, Pilha *p02)"
   ]
  },
  {
   "cell_type": "code",
   "execution_count": 17,
   "id": "accompanied-mississippi",
   "metadata": {},
   "outputs": [],
   "source": [
    "Pilha texto;"
   ]
  },
  {
   "cell_type": "code",
   "execution_count": 20,
   "id": "mysterious-lodging",
   "metadata": {},
   "outputs": [
    {
     "name": "stdout",
     "output_type": "stream",
     "text": [
      "tamanho: 5\n",
      "\n",
      "T\n",
      "e\n",
      "s\n",
      "t\n",
      "e\n"
     ]
    }
   ],
   "source": [
    "string nome;\n",
    "int l;\n",
    "\n",
    "nome = \"Teste\";\n",
    "cout << \"tamanho: \" << nome.length() << \"\\n\\n\";\n",
    "\n",
    "for (int i = 0 ; i < nome.length(); i++) {\n",
    "    cout << nome[i] << \"\\n\";\n",
    "    texto.empilhar(nome[i]);\n",
    "}"
   ]
  },
  {
   "cell_type": "code",
   "execution_count": 19,
   "id": "isolated-liberty",
   "metadata": {},
   "outputs": [
    {
     "name": "stdout",
     "output_type": "stream",
     "text": [
      "etseT"
     ]
    }
   ],
   "source": [
    "while (texto.estaVazia() == false) {\n",
    "    texto.desempilhar(l);\n",
    "    cout << (char) l;\n",
    "}"
   ]
  },
  {
   "cell_type": "code",
   "execution_count": null,
   "id": "polish-chicago",
   "metadata": {},
   "outputs": [],
   "source": []
  },
  {
   "cell_type": "code",
   "execution_count": null,
   "id": "ready-motel",
   "metadata": {},
   "outputs": [],
   "source": [
    "int tam1 = 0, tam2 = 0;\n",
    "\n",
    "Pilha texto1, texto2;\n",
    "\n",
    "nome = \"12345\";\n",
    "for (int i = 0 ; i < nome.length(); i++) {\n",
    "    texto1.empilhar(nome[i]);\n",
    "}\n",
    "\n",
    "nome = \"1234567\";\n",
    "for (int i = 0 ; i < nome.length(); i++) {\n",
    "    texto2.empilhar(nome[i]);\n",
    "}\n",
    "\n",
    "while (! texto1.estaVazia()) {\n",
    "    texto1.desempilhar(l);\n",
    "    tam1++;\n",
    "}\n",
    "\n",
    "while (texto2.desempilhar(l)) {\n",
    "    tam2++;\n",
    "}\n",
    "\n",
    "cout << \"tam 01: \" << tam1 << \"\\ntam 02: \" << tam2;\n"
   ]
  },
  {
   "cell_type": "code",
   "execution_count": null,
   "id": "killing-collapse",
   "metadata": {},
   "outputs": [],
   "source": []
  }
 ],
 "metadata": {
  "kernelspec": {
   "display_name": "C++11",
   "language": "C++11",
   "name": "xcpp11"
  },
  "language_info": {
   "codemirror_mode": "text/x-c++src",
   "file_extension": ".cpp",
   "mimetype": "text/x-c++src",
   "name": "c++",
   "version": "11"
  }
 },
 "nbformat": 4,
 "nbformat_minor": 5
}
