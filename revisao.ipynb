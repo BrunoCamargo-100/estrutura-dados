{
 "cells": [
  {
   "cell_type": "markdown",
   "id": "future-malaysia",
   "metadata": {},
   "source": [
    "# DISCIPLINA: ESTRUTURAS DE DADOS (4 AULAS SEMANAIS)\n",
    "\n",
    "## OBJETIVOS\n",
    "\n",
    "Criar e manipular tipos abstratos de dados: listas, pilhas, filas e árvores.\n",
    "\n",
    "## EMENTA\n",
    "\n",
    "Pilhas, filas, alocação dinâmica, recursividade, listas encadeadas, tabelas de espalhamento e árvores."
   ]
  },
  {
   "cell_type": "markdown",
   "id": "married-louisville",
   "metadata": {},
   "source": [
    "### Relembrando a linguagem C:"
   ]
  },
  {
   "cell_type": "code",
   "execution_count": 17,
   "id": "patent-flesh",
   "metadata": {},
   "outputs": [
    {
     "name": "stdout",
     "output_type": "stream",
     "text": [
      "Writing revisao/hello01.c\n"
     ]
    }
   ],
   "source": [
    "%%file revisao/hello01.c\n",
    "#include <stdio.h>\n",
    "\n",
    "int main(){\n",
    "    printf(\"Ola mundo 01!\");\n",
    "    return 0;\n",
    "}"
   ]
  },
  {
   "cell_type": "code",
   "execution_count": 18,
   "id": "deadly-baltimore",
   "metadata": {},
   "outputs": [
    {
     "name": "stdout",
     "output_type": "stream",
     "text": [
      "Ola mundo 01!"
     ]
    }
   ],
   "source": [
    "!gcc revisao/hello01.c -o revisao/hello01\n",
    "!./revisao/hello01"
   ]
  },
  {
   "cell_type": "code",
   "execution_count": 19,
   "id": "greatest-pontiac",
   "metadata": {},
   "outputs": [
    {
     "name": "stdout",
     "output_type": "stream",
     "text": [
      "Overwriting revisao/hello02.cpp\n"
     ]
    }
   ],
   "source": [
    "%%file revisao/hello02.cpp\n",
    "#include <iostream>\n",
    "\n",
    "int main() {\n",
    "    std::cout << \"Ola mundo 02!\";\n",
    "    return 0;\n",
    "}"
   ]
  },
  {
   "cell_type": "code",
   "execution_count": 20,
   "id": "twenty-preparation",
   "metadata": {},
   "outputs": [
    {
     "name": "stdout",
     "output_type": "stream",
     "text": [
      "Ola mundo 02!"
     ]
    }
   ],
   "source": [
    "!g++ revisao/hello02.cpp -o revisao/hello02\n",
    "!./revisao/hello02"
   ]
  },
  {
   "cell_type": "code",
   "execution_count": 21,
   "id": "victorian-genome",
   "metadata": {},
   "outputs": [
    {
     "name": "stdout",
     "output_type": "stream",
     "text": [
      "Overwriting revisao/hello03.cpp\n"
     ]
    }
   ],
   "source": [
    "%%file revisao/hello03.cpp\n",
    "#include <iostream>\n",
    "using namespace std;\n",
    "\n",
    "int main() {\n",
    "    cout << \"Olá mundo 03!\";\n",
    "    return 0;\n",
    "}"
   ]
  },
  {
   "cell_type": "code",
   "execution_count": 22,
   "id": "amazing-measurement",
   "metadata": {},
   "outputs": [
    {
     "name": "stdout",
     "output_type": "stream",
     "text": [
      "Olá mundo 03!"
     ]
    }
   ],
   "source": [
    "!g++ revisao/hello03.cpp -o revisao/hello03\n",
    "!./revisao/hello03"
   ]
  },
  {
   "cell_type": "markdown",
   "id": "outside-switzerland",
   "metadata": {},
   "source": [
    "### TIPOS DE DADOS\n",
    "\n",
    "- char : caracter\n",
    "- int : inteiros\n",
    "- float : precisão simples (32-bits aproximadamente sete digitos)\n",
    "- double : precisão dupla (64-bits entre 15 e 16 digitos)\n",
    "- bool : booleano\n",
    "\n",
    "É importante ressaltar que embora C++ disponha do tipo bool, qualquer valor diferente de zero é interpretado\n",
    "como sendo verdadeiro (true). O valor zero é interpretado como sendo falso (false).\n",
    "O exemplo abaixo cria variáveis dos tipos básicos e exibe seus valores. "
   ]
  },
  {
   "cell_type": "code",
   "execution_count": 25,
   "id": "conscious-communications",
   "metadata": {},
   "outputs": [
    {
     "name": "stdout",
     "output_type": "stream",
     "text": [
      "Overwriting revisao/tipos.cpp\n"
     ]
    }
   ],
   "source": [
    "%%file revisao/tipos.cpp\n",
    "#include <iostream>\n",
    "using namespace std;\n",
    "\n",
    "int main() {\n",
    "    char charVar = 't';\n",
    "    int intVar = 298;\n",
    "    float floatVar = 49.95;\n",
    "    double doubleVar = 99.9999;\n",
    "    bool boolVar = (2 > 3);\n",
    "    std::cout << \"charVar = \" \n",
    "        << charVar \n",
    "        << \"\\n\";\n",
    "    std::cout << \"intVar = \" \n",
    "        << intVar \n",
    "        << \"\\n\";\n",
    "    std::cout << \"floatVar = \" \n",
    "        << floatVar \n",
    "        << \"\\n\";\n",
    "    std::cout << \"doubleVar = \" \n",
    "        << doubleVar \n",
    "        << \"\\n\";\n",
    "    std::cout << \"boolVar = \" \n",
    "        << boolVar \n",
    "        << \"\\n\";\n",
    "    return 0;\n",
    "}"
   ]
  },
  {
   "cell_type": "code",
   "execution_count": 26,
   "id": "alien-cedar",
   "metadata": {},
   "outputs": [
    {
     "name": "stdout",
     "output_type": "stream",
     "text": [
      "charVar = t\n",
      "intVar = 298\n",
      "floatVar = 49.95\n",
      "doubleVar = 99.9999\n",
      "boolVar = 0\n"
     ]
    }
   ],
   "source": [
    "!g++ revisao/tipos.cpp -o revisao/tipos\n",
    "!./revisao/tipos"
   ]
  },
  {
   "cell_type": "markdown",
   "id": "improved-planning",
   "metadata": {},
   "source": [
    "### Escape\n",
    "\n",
    "- \\n caractere de nova linha\n",
    "- \\t caractere de tabulação (tab)\n",
    "- \\b caractere backspace\n",
    "- \\\" aspa dupla\n",
    "- \\' aspa simples\n",
    "- \\? ponto de interrogação\n",
    "- \\\\ barra invertida "
   ]
  },
  {
   "cell_type": "code",
   "execution_count": 28,
   "id": "valued-backup",
   "metadata": {},
   "outputs": [
    {
     "name": "stdout",
     "output_type": "stream",
     "text": [
      "Writing revisao/escape.cpp\n"
     ]
    }
   ],
   "source": [
    "%%file revisao/escape.cpp\n",
    "#include <iostream>\n",
    "\n",
    "int main() {\n",
    "    std::cout << \"\\\"Frase entre aspas\\\"\\n\";\n",
    "    std::cout << \"Alguma duvida\\?\\n\";\n",
    "    return 0;\n",
    "}"
   ]
  },
  {
   "cell_type": "code",
   "execution_count": 31,
   "id": "wound-israeli",
   "metadata": {},
   "outputs": [
    {
     "name": "stdout",
     "output_type": "stream",
     "text": [
      "\"Frase entre aspas\"\n",
      "Alguma duvida?\n"
     ]
    }
   ],
   "source": [
    "!g++ revisao/escape.cpp -o revisao/escape\n",
    "!./revisao/escape"
   ]
  },
  {
   "cell_type": "markdown",
   "id": "appreciated-belle",
   "metadata": {},
   "source": [
    "### Variáveis"
   ]
  },
  {
   "cell_type": "code",
   "execution_count": 41,
   "id": "confident-creek",
   "metadata": {},
   "outputs": [
    {
     "name": "stdout",
     "output_type": "stream",
     "text": [
      "Writing revisao/variaveis01.cpp\n"
     ]
    }
   ],
   "source": [
    "%%file revisao/variaveis01.cpp\n",
    "#include <iostream>\n",
    "int main() {\n",
    "    std::cout << \"*** Tamanhos das variaveis ***\\n\";\n",
    "    std::cout << \"Tamanho de char =\\t\"\n",
    "        << sizeof(char)\n",
    "        << \" bytes.\\n\";\n",
    "    std::cout << \"Tamanho de int =\\t\"\n",
    "        << sizeof(int) \n",
    "        << \" bytes.\\n\";\n",
    "    std::cout << \"Tamanho de float =\\t\"\n",
    "        << sizeof(float)\n",
    "        << \" bytes.\\n\";\n",
    "    std::cout << \"Tamanho de double =\\t\"\n",
    "        << sizeof(double)\n",
    "        << \" bytes.\\n\";\n",
    "    std::cout << \"Tamanho de bool =\\t\"\n",
    "        << sizeof(bool)\n",
    "        << \" bytes.\\n\";\n",
    "    return 0;\n",
    "}"
   ]
  },
  {
   "cell_type": "code",
   "execution_count": 42,
   "id": "burning-identification",
   "metadata": {},
   "outputs": [
    {
     "name": "stdout",
     "output_type": "stream",
     "text": [
      "*** Tamanhos das variaveis ***\n",
      "Tamanho de char =\t1 bytes.\n",
      "Tamanho de int =\t4 bytes.\n",
      "Tamanho de float =\t4 bytes.\n",
      "Tamanho de double =\t8 bytes.\n",
      "Tamanho de bool =\t1 bytes.\n"
     ]
    }
   ],
   "source": [
    "!g++ revisao/variaveis01.cpp -o revisao/variaveis01\n",
    "!./revisao/variaveis01"
   ]
  },
  {
   "cell_type": "code",
   "execution_count": 39,
   "id": "foreign-logan",
   "metadata": {},
   "outputs": [
    {
     "name": "stdout",
     "output_type": "stream",
     "text": [
      "Overwriting revisao/variaveis02.cpp\n"
     ]
    }
   ],
   "source": [
    "%%file revisao/variaveis02.cpp\n",
    "#include <iostream>\n",
    "using namespace std;\n",
    "\n",
    "int main() {\n",
    "    int larg = 7, compr;\n",
    "    compr = 8;\n",
    "    int area = larg * compr;\n",
    "    cout << \"*** Valores finais ***\\n\";\n",
    "    cout << \"Largura = \"\n",
    "        << larg << \"\\n\";\n",
    "    cout << \"Comprimento = \"\n",
    "        << compr << \"\\n\";\n",
    "    cout << \"Area = \"\n",
    "        << area << \"\\n\";\n",
    "    return 0;\n",
    "}"
   ]
  },
  {
   "cell_type": "code",
   "execution_count": 40,
   "id": "organizational-dominant",
   "metadata": {},
   "outputs": [
    {
     "name": "stdout",
     "output_type": "stream",
     "text": [
      "*** Valores finais ***\n",
      "Largura = 7\n",
      "Comprimento = 8\n",
      "Area = 56\n"
     ]
    }
   ],
   "source": [
    "!g++ revisao/variaveis02.cpp -o revisao/variaveis02\n",
    "!./revisao/variaveis02"
   ]
  },
  {
   "cell_type": "code",
   "execution_count": 178,
   "id": "retained-gentleman",
   "metadata": {
    "tags": []
   },
   "outputs": [
    {
     "name": "stdout",
     "output_type": "stream",
     "text": [
      "Overwriting revisao/variaveis03.cpp\n"
     ]
    }
   ],
   "source": [
    "%%file revisao/variaveis03.cpp\n",
    "#include <iostream>\n",
    "#include <iomanip>\n",
    "#include <math.h>\n",
    "using namespace std;\n",
    "\n",
    "int main() {\n",
    "    std::cout.setf(ios::fixed);    \n",
    "    cout << \"Tipo\\t\\t\\tTamanho\\t\\tValores\\n\";\n",
    "    \n",
    "    cout <<\"short int: \\t\\t\"\n",
    "        << sizeof(short int)\n",
    "        << \" bytes\\t\\t\"\n",
    "        << setprecision(0) << pow(2,8*sizeof(unsigned short int))/2*-1\n",
    "        << \" a \"\n",
    "        << pow(2,8*sizeof(unsigned short int))/2-1\n",
    "        << \"\\n\";\n",
    "\n",
    "    cout << \"unsigned short int: \\t\"\n",
    "        << sizeof(unsigned short int)\n",
    "        << \" bytes\\t\\t\"\n",
    "        << 0\n",
    "        << \" a \"\n",
    "        << pow(2,8*sizeof(unsigned short int))-1\n",
    "        << \"\\n\";\n",
    "    \n",
    "    cout <<\"int: \\t\\t\\t\"\n",
    "        << sizeof(int)\n",
    "        << \" bytes\\t\\t\"\n",
    "        << pow(2,8*sizeof(int))/2*-1\n",
    "        << \" a \"\n",
    "        << pow(2,8*sizeof(int))/2-1\n",
    "        << \"\\n\";\n",
    "\n",
    "    \n",
    "    cout << \"unsigned int: \\t\\t\"\n",
    "        << sizeof(unsigned int)\n",
    "        << \" bytes\\t\\t\"\n",
    "        << 0\n",
    "        << \" a \"\n",
    "        << pow(2,8*sizeof(int))-1\n",
    "        << \"\\n\";\n",
    "\n",
    "    cout <<\"long int: \\t\\t\"\n",
    "        << sizeof(long int)\n",
    "        << \" bytes\\t\\t\"\n",
    "        << pow(2,8*sizeof(long int))/2*-1\n",
    "        << \" a \"\n",
    "        << (pow(2,8*sizeof(long int))/2)-1\n",
    "        << \"\\n\";\n",
    "\n",
    "    cout << \"unsigned long int: \\t\"\n",
    "        << sizeof(unsigned long int)\n",
    "        << \" bytes\\t\\t\"\n",
    "        << 0\n",
    "        << \" a \"\n",
    "        << pow(2,8*sizeof(unsigned long int))-1\n",
    "        << \"\\n\";\n",
    "    return 0;\n",
    "}"
   ]
  },
  {
   "cell_type": "code",
   "execution_count": 179,
   "id": "durable-jamaica",
   "metadata": {
    "tags": []
   },
   "outputs": [
    {
     "name": "stdout",
     "output_type": "stream",
     "text": [
      "Tipo\t\t\tTamanho\t\tValores\n",
      "short int: \t\t2 bytes\t\t-32768 a 32767\n",
      "unsigned short int: \t2 bytes\t\t0 a 65535\n",
      "int: \t\t\t4 bytes\t\t-2147483648 a 2147483647\n",
      "unsigned int: \t\t4 bytes\t\t0 a 4294967295\n",
      "long int: \t\t8 bytes\t\t-9223372036854775808 a 9223372036854775808\n",
      "unsigned long int: \t8 bytes\t\t0 a 18446744073709551616\n"
     ]
    }
   ],
   "source": [
    "!g++ revisao/variaveis03.cpp -o revisao/variaveis03\n",
    "!./revisao/variaveis03"
   ]
  },
  {
   "cell_type": "markdown",
   "id": "geological-proportion",
   "metadata": {},
   "source": [
    "### Variáveis Unsigned\n",
    "\n",
    "\n",
    "|Tipo               |Tamanho (em bytes) |Valores   |\n",
    "|-------------------|-------------------|----------|\n",
    "|short int          |2|-32.768 a 32.767|\n",
    "|unsigned short int |2|0 a 65.535|\n",
    "|int                |4| -2.147.483.648 a 2.147.483.647\n",
    "|unsigned int       |4| 0 a 4.294.967.295\n",
    "|long int           |8| -9.223.372.036.854.775.808 a 9.223.372.036.854.775.807\n",
    "|unsigned long int  |8| 0 a 18.446.744.073.709.551.615"
   ]
  },
  {
   "cell_type": "code",
   "execution_count": 112,
   "id": "supposed-socket",
   "metadata": {},
   "outputs": [
    {
     "name": "stdout",
     "output_type": "stream",
     "text": [
      "Overwriting revisao/variaveis03.cpp\n"
     ]
    }
   ],
   "source": [
    "%%file revisao/variaveis03.cpp\n",
    "#include <iostream>\n",
    "#include <iomanip>\n",
    "\n",
    "int main() {\n",
    "    \n",
    "    std::cout << \"*** Tamanhos das variaveis ***\\n\"\n",
    "        <<\"short int: \\t\\t\"\n",
    "        << sizeof(short int)\n",
    "        << \" bytes.\\n\"\n",
    "        << \"unsigned short int: \\t\"\n",
    "        << sizeof(unsigned short int)\n",
    "        << \" bytes\\t\"\n",
    "        << pow(2,8*sizeof(unsigned short int))/2\n",
    "        << \"\\n\"\n",
    "        <<\"int: \\t\\t\\t\"\n",
    "        << sizeof(int)\n",
    "        << \" bytes.\\n\"\n",
    "        << \"unsigned int: \\t\\t\"\n",
    "        << sizeof(unsigned int)\n",
    "        << \" bytes.\\n\"\n",
    "        <<\"long int: \\t\\t\"\n",
    "        << sizeof(long int)\n",
    "        << \" bytes.\\n\"\n",
    "        << \"unsigned long int: \\t\"\n",
    "        << sizeof(unsigned long int)\n",
    "        << \" bytes.\\n\";\n",
    "    return 0;\n",
    "}"
   ]
  },
  {
   "cell_type": "code",
   "execution_count": 113,
   "id": "false-vacuum",
   "metadata": {},
   "outputs": [
    {
     "name": "stdout",
     "output_type": "stream",
     "text": [
      "\u001b[01m\u001b[Krevisao/variaveis03.cpp:\u001b[m\u001b[K In function ‘\u001b[01m\u001b[Kint main()\u001b[m\u001b[K’:\n",
      "\u001b[01m\u001b[Krevisao/variaveis03.cpp:5:20:\u001b[m\u001b[K \u001b[01;31m\u001b[Kerror: \u001b[m\u001b[K‘\u001b[01m\u001b[Kios\u001b[m\u001b[K’ has not been declared\n",
      "     std::cout.setf(\u001b[01;31m\u001b[Kios\u001b[m\u001b[K::fixed);\n",
      "                    \u001b[01;31m\u001b[K^~~\u001b[m\u001b[K\n",
      "\u001b[01m\u001b[Krevisao/variaveis03.cpp:13:12:\u001b[m\u001b[K \u001b[01;31m\u001b[Kerror: \u001b[m\u001b[K‘\u001b[01m\u001b[Kpow\u001b[m\u001b[K’ was not declared in this scope\n",
      "         << \u001b[01;31m\u001b[Kpow\u001b[m\u001b[K(2,8*sizeof(unsigned short int))/2\n",
      "            \u001b[01;31m\u001b[K^~~\u001b[m\u001b[K\n",
      "\u001b[01m\u001b[Krevisao/variaveis03.cpp:13:12:\u001b[m\u001b[K \u001b[01;36m\u001b[Knote: \u001b[m\u001b[Ksuggested alternative: ‘\u001b[01m\u001b[Kputw\u001b[m\u001b[K’\n",
      "         << \u001b[01;36m\u001b[Kpow\u001b[m\u001b[K(2,8*sizeof(unsigned short int))/2\n",
      "            \u001b[01;36m\u001b[K^~~\u001b[m\u001b[K\n",
      "            \u001b[32m\u001b[Kputw\u001b[m\u001b[K\n",
      "Tipo\t\t\tTamanho\t\tValores\n",
      "short int: \t\t2 bytes\t\t-32768 a 32767\n",
      "unsigned short int: \t2 bytes\t\t0 a 65535\n",
      "int: \t\t\t4 bytes\t\t-2.14748e+09 a 2.14748e+09\n",
      "unsigned int: \t\t4 bytes.\n",
      "long int: \t\t8 bytes.\n",
      "unsigned long int: \t8 bytes.\n"
     ]
    }
   ],
   "source": [
    "!g++ revisao/variaveis03.cpp -o revisao/variaveis03\n",
    "!./revisao/variaveis03"
   ]
  },
  {
   "cell_type": "code",
   "execution_count": null,
   "id": "fourth-vietnamese",
   "metadata": {},
   "outputs": [],
   "source": []
  },
  {
   "cell_type": "code",
   "execution_count": null,
   "id": "latin-acrylic",
   "metadata": {},
   "outputs": [],
   "source": []
  },
  {
   "cell_type": "code",
   "execution_count": 64,
   "id": "hidden-mortgage",
   "metadata": {},
   "outputs": [
    {
     "name": "stdout",
     "output_type": "stream",
     "text": [
      "Overwriting revisao/shortint.cpp\n"
     ]
    }
   ],
   "source": [
    "%%file revisao/shortint.cpp\n",
    "#include <iostream>\n",
    "int main() {\n",
    "    unsigned short int usVar;\n",
    "    usVar = 65535;\n",
    "    std::cout << \"Valor inicial = \"\n",
    "        << usVar \n",
    "        << \"\\n\";\n",
    "    usVar = usVar + 1;\n",
    "    std::cout << \"Somando 1 = \"\n",
    "        << usVar \n",
    "        << \"\\n\";\n",
    "    usVar = usVar + 1;\n",
    "    std::cout << \"Somando mais 1 = \"\n",
    "        << usVar \n",
    "        << \"\\n\";\n",
    "    return 0;\n",
    "}"
   ]
  },
  {
   "cell_type": "code",
   "execution_count": 65,
   "id": "responsible-albany",
   "metadata": {},
   "outputs": [
    {
     "name": "stdout",
     "output_type": "stream",
     "text": [
      "Valor inicial = 65535\n",
      "Somando 1 = 0\n",
      "Somando mais 1 = 1\n"
     ]
    }
   ],
   "source": [
    "!g++ revisao/shortint.cpp -o revisao/shortint\n",
    "!./revisao/shortint"
   ]
  },
  {
   "cell_type": "code",
   "execution_count": null,
   "id": "diagnostic-chosen",
   "metadata": {},
   "outputs": [],
   "source": []
  },
  {
   "cell_type": "code",
   "execution_count": null,
   "id": "statewide-batman",
   "metadata": {},
   "outputs": [],
   "source": []
  },
  {
   "cell_type": "code",
   "execution_count": 33,
   "id": "thirty-primary",
   "metadata": {},
   "outputs": [
    {
     "data": {
      "text/plain": [
       "8"
      ]
     },
     "execution_count": 33,
     "metadata": {},
     "output_type": "execute_result"
    }
   ],
   "source": [
    "sizeof(long int)"
   ]
  },
  {
   "cell_type": "code",
   "execution_count": 58,
   "id": "federal-present",
   "metadata": {},
   "outputs": [],
   "source": [
    "#include <iomanip>\n",
    "std::setw(2);\n",
    "std::setprecision(0);"
   ]
  },
  {
   "cell_type": "code",
   "execution_count": 59,
   "id": "geological-citizenship",
   "metadata": {},
   "outputs": [],
   "source": [
    "cout.setf(ios::fixed);"
   ]
  },
  {
   "cell_type": "code",
   "execution_count": 66,
   "id": "internal-fantasy",
   "metadata": {},
   "outputs": [
    {
     "name": "stdout",
     "output_type": "stream",
     "text": [
      "32768.000000\n",
      "65536.000000"
     ]
    }
   ],
   "source": [
    "int nbytes=2;\n",
    "std::cout << pow(2,8*nbytes)/2\n",
    "    << '\\n'\n",
    "    << pow(2,8*nbytes);"
   ]
  },
  {
   "cell_type": "code",
   "execution_count": 54,
   "id": "greatest-blend",
   "metadata": {},
   "outputs": [
    {
     "name": "stdout",
     "output_type": "stream",
     "text": [
      "2147483648.000000"
     ]
    },
    {
     "data": {
      "text/plain": [
       "@0x7f9ec95f0b60"
      ]
     },
     "execution_count": 54,
     "metadata": {},
     "output_type": "execute_result"
    }
   ],
   "source": [
    "int nbytes=4;\n",
    "std::cout << pow(2,8*nbytes)/2"
   ]
  },
  {
   "cell_type": "code",
   "execution_count": 52,
   "id": "improved-distance",
   "metadata": {},
   "outputs": [
    {
     "name": "stdout",
     "output_type": "stream",
     "text": [
      "9223372036854775808.000000"
     ]
    },
    {
     "data": {
      "text/plain": [
       "@0x7f9ec95f0b60"
      ]
     },
     "execution_count": 52,
     "metadata": {},
     "output_type": "execute_result"
    }
   ],
   "source": [
    "int nbytes=8;\n",
    "std::cout << pow(2,8*nbytes)/2"
   ]
  },
  {
   "cell_type": "code",
   "execution_count": null,
   "id": "prescribed-entity",
   "metadata": {},
   "outputs": [],
   "source": []
  },
  {
   "cell_type": "code",
   "execution_count": null,
   "id": "collected-overview",
   "metadata": {},
   "outputs": [],
   "source": []
  },
  {
   "cell_type": "code",
   "execution_count": null,
   "id": "meaningful-triple",
   "metadata": {},
   "outputs": [],
   "source": []
  },
  {
   "cell_type": "code",
   "execution_count": null,
   "id": "interesting-maximum",
   "metadata": {},
   "outputs": [],
   "source": []
  },
  {
   "cell_type": "code",
   "execution_count": null,
   "id": "controlling-outside",
   "metadata": {},
   "outputs": [],
   "source": []
  },
  {
   "cell_type": "code",
   "execution_count": null,
   "id": "gothic-grove",
   "metadata": {},
   "outputs": [],
   "source": []
  },
  {
   "cell_type": "code",
   "execution_count": null,
   "id": "recorded-story",
   "metadata": {},
   "outputs": [],
   "source": []
  },
  {
   "cell_type": "code",
   "execution_count": null,
   "id": "controlling-partition",
   "metadata": {},
   "outputs": [],
   "source": []
  },
  {
   "cell_type": "code",
   "execution_count": 40,
   "id": "administrative-burner",
   "metadata": {},
   "outputs": [],
   "source": [
    "#include <iostream>\n",
    "int main() {\n",
    "    std::cout << \"*** Tamanhos das variaveis ***\\n\";\n",
    "    std::cout << \"Tamanho de char = \"\n",
    "        << sizeof(char)\n",
    "        << \" bytes.\\n\";\n",
    "    std::cout << \"Tamanho de int = \"\n",
    "        << sizeof(int) \n",
    "        << \" bytes.\\n\";\n",
    "    std::cout << \"Tamanho de float = \"\n",
    "        << sizeof(float)\n",
    "        << \" bytes.\\n\";\n",
    "    std::cout << \"Tamanho de double = \"\n",
    "        << sizeof(double)\n",
    "        << \" bytes.\\n\";\n",
    "    std::cout << \"Tamanho de bool = \"\n",
    "        << sizeof(bool)\n",
    "        << \" bytes.\\n\";\n",
    "    return 0;\n",
    "}"
   ]
  },
  {
   "cell_type": "code",
   "execution_count": 41,
   "id": "essential-positive",
   "metadata": {},
   "outputs": [
    {
     "name": "stdout",
     "output_type": "stream",
     "text": [
      "*** Tamanhos das variaveis ***\n",
      "Tamanho de char = 1 bytes.\n",
      "Tamanho de int = 4 bytes.\n",
      "Tamanho de float = 4 bytes.\n",
      "Tamanho de double = 8 bytes.\n",
      "Tamanho de bool = 1 bytes.\n"
     ]
    },
    {
     "data": {
      "text/plain": [
       "0"
      ]
     },
     "execution_count": 41,
     "metadata": {},
     "output_type": "execute_result"
    }
   ],
   "source": [
    "main()"
   ]
  },
  {
   "cell_type": "code",
   "execution_count": null,
   "id": "specific-diving",
   "metadata": {},
   "outputs": [],
   "source": []
  }
 ],
 "metadata": {
  "kernelspec": {
   "display_name": "Python 3",
   "language": "python",
   "name": "python3"
  },
  "language_info": {
   "codemirror_mode": {
    "name": "ipython",
    "version": 3
   },
   "file_extension": ".py",
   "mimetype": "text/x-python",
   "name": "python",
   "nbconvert_exporter": "python",
   "pygments_lexer": "ipython3",
   "version": "3.9.2"
  }
 },
 "nbformat": 4,
 "nbformat_minor": 5
}
