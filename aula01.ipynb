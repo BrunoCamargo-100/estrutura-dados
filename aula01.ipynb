{
 "cells": [
  {
   "cell_type": "markdown",
   "id": "anonymous-guide",
   "metadata": {},
   "source": [
    "# DISCIPLINA: ESTRUTURAS DE DADOS (4 AULAS SEMANAIS)\n",
    "\n",
    "## OBJETIVOS\n",
    "\n",
    "Criar e manipular tipos abstratos de dados: listas, pilhas, filas e árvores.\n",
    "\n",
    "## EMENTA\n",
    "\n",
    "Pilhas, filas, alocação dinâmica, recursividade, listas encadeadas, tabelas de espalhamento e árvores."
   ]
  },
  {
   "cell_type": "markdown",
   "id": "theoretical-embassy",
   "metadata": {},
   "source": [
    "### Relembrando a linguagem C:"
   ]
  },
  {
   "cell_type": "code",
   "execution_count": 1,
   "id": "bacterial-dinner",
   "metadata": {},
   "outputs": [
    {
     "name": "stdout",
     "output_type": "stream",
     "text": [
      "Overwriting aula01/ex01.c\n"
     ]
    }
   ],
   "source": [
    "%%file aula01/ex01.c\n",
    "#include <stdio.h>\n",
    "\n",
    "int main() {\n",
    "    printf(\"Ola mundo 01!\");\n",
    "    return 0;\n",
    "}"
   ]
  },
  {
   "cell_type": "code",
   "execution_count": 2,
   "id": "raising-verse",
   "metadata": {},
   "outputs": [
    {
     "name": "stdout",
     "output_type": "stream",
     "text": [
      "Ola mundo 01!"
     ]
    }
   ],
   "source": [
    "!gcc aula01/ex01.c -o aula01/ex01\n",
    "!./aula01/ex01"
   ]
  },
  {
   "cell_type": "code",
   "execution_count": 3,
   "id": "aware-seventh",
   "metadata": {},
   "outputs": [
    {
     "name": "stdout",
     "output_type": "stream",
     "text": [
      "Overwriting aula01/ex02.cpp\n"
     ]
    }
   ],
   "source": [
    "%%file aula01/ex02.cpp\n",
    "#include <iostream>\n",
    "using namespace std;\n",
    "\n",
    "int main() {\n",
    "    cout << \"Ola mundo 02!\";\n",
    "    return 0;\n",
    "}"
   ]
  },
  {
   "cell_type": "code",
   "execution_count": 4,
   "id": "billion-garlic",
   "metadata": {},
   "outputs": [
    {
     "name": "stdout",
     "output_type": "stream",
     "text": [
      "Ola mundo 02!"
     ]
    }
   ],
   "source": [
    "!g++ aula01/ex02.cpp -o aula01/ex02\n",
    "!./aula01/ex02"
   ]
  },
  {
   "cell_type": "code",
   "execution_count": 5,
   "id": "existing-cheese",
   "metadata": {},
   "outputs": [
    {
     "name": "stdout",
     "output_type": "stream",
     "text": [
      "Overwriting aula01/ex03.cpp\n"
     ]
    }
   ],
   "source": [
    "%%file aula01/ex03.cpp\n",
    "#include <iostream>\n",
    "using namespace std;\n",
    "\n",
    "int main() {\n",
    "    cout << \"Olá mundo 03!\";\n",
    "    return 0;\n",
    "}"
   ]
  },
  {
   "cell_type": "code",
   "execution_count": 6,
   "id": "broken-lender",
   "metadata": {},
   "outputs": [
    {
     "name": "stdout",
     "output_type": "stream",
     "text": [
      "Olá mundo 03!"
     ]
    }
   ],
   "source": [
    "!g++ aula01/ex03.cpp -o aula01/ex03\n",
    "!./aula01/ex03"
   ]
  },
  {
   "cell_type": "markdown",
   "id": "foreign-vermont",
   "metadata": {},
   "source": [
    "### TIPOS DE DADOS\n",
    "\n",
    "- char : caracter\n",
    "- int : inteiros\n",
    "- float : precisão simples (32-bits aproximadamente sete digitos)\n",
    "- double : precisão dupla (64-bits entre 15 e 16 digitos)\n",
    "- bool : booleano\n",
    "\n",
    "É importante ressaltar que embora C++ disponha do tipo bool, qualquer valor diferente de zero é interpretado\n",
    "como sendo verdadeiro (true). O valor zero é interpretado como sendo falso (false).\n",
    "O exemplo abaixo cria variáveis dos tipos básicos e exibe seus valores. "
   ]
  },
  {
   "cell_type": "code",
   "execution_count": 7,
   "id": "involved-aging",
   "metadata": {},
   "outputs": [
    {
     "name": "stdout",
     "output_type": "stream",
     "text": [
      "Overwriting aula01/ex04.cpp\n"
     ]
    }
   ],
   "source": [
    "%%file aula01/ex04.cpp\n",
    "#include <iostream>\n",
    "using namespace std;\n",
    "\n",
    "int main() {\n",
    "    char charVar;\n",
    "    \n",
    "    int intVar = 298;\n",
    "    float floatVar = 49.95;\n",
    "    double doubleVar = 99.9999;\n",
    "    bool boolVar = (2 > 3);\n",
    "    \n",
    "    charVar = 't';\n",
    "    \n",
    "    cout << \"charVar = \" \n",
    "        << charVar \n",
    "        << \"\\n\";\n",
    "    cout << \"intVar = \" \n",
    "        << intVar \n",
    "        << \"\\n\";\n",
    "    cout << \"floatVar = \" \n",
    "        << floatVar \n",
    "        << \"\\n\";\n",
    "    cout << \"doubleVar = \" \n",
    "        << doubleVar \n",
    "        << \"\\n\";\n",
    "    cout << \"boolVar = \" \n",
    "        << boolVar \n",
    "        << \"\\n\";\n",
    "    return 0;\n",
    "}"
   ]
  },
  {
   "cell_type": "code",
   "execution_count": 8,
   "id": "alien-likelihood",
   "metadata": {},
   "outputs": [
    {
     "name": "stdout",
     "output_type": "stream",
     "text": [
      "charVar = t\n",
      "intVar = 298\n",
      "floatVar = 49.95\n",
      "doubleVar = 99.9999\n",
      "boolVar = 0\n"
     ]
    }
   ],
   "source": [
    "!g++ aula01/ex04.cpp -o aula01/ex04\n",
    "!./aula01/ex04"
   ]
  },
  {
   "cell_type": "markdown",
   "id": "cooperative-present",
   "metadata": {},
   "source": [
    "### Escape\n",
    "\n",
    "- \\n caractere de nova linha\n",
    "- \\t caractere de tabulação (tab)\n",
    "- \\b caractere backspace\n",
    "- \\\" aspa dupla\n",
    "- \\' aspa simples\n",
    "- \\? ponto de interrogação\n",
    "- \\\\ barra invertida "
   ]
  },
  {
   "cell_type": "code",
   "execution_count": 9,
   "id": "seven-advertiser",
   "metadata": {},
   "outputs": [
    {
     "name": "stdout",
     "output_type": "stream",
     "text": [
      "Overwriting aula01/ex05.cpp\n"
     ]
    }
   ],
   "source": [
    "%%file aula01/ex05.cpp\n",
    "#include <iostream>\n",
    "using namespace std;\n",
    "\n",
    "int main() {\n",
    "    cout << \"\\\"Frase entre aspas\\\"\\n\";\n",
    "    cout << \"Alguma \\tduvida\\?\\n\\\\\";\n",
    "    return 0;\n",
    "}"
   ]
  },
  {
   "cell_type": "code",
   "execution_count": 10,
   "id": "public-trading",
   "metadata": {},
   "outputs": [
    {
     "name": "stdout",
     "output_type": "stream",
     "text": [
      "\"Frase entre aspas\"\n",
      "Alguma \tduvida?\n",
      "\\"
     ]
    }
   ],
   "source": [
    "!g++ aula01/ex05.cpp -o aula01/ex05\n",
    "!./aula01/ex05"
   ]
  },
  {
   "cell_type": "markdown",
   "id": "commercial-wholesale",
   "metadata": {},
   "source": [
    "### Variáveis"
   ]
  },
  {
   "cell_type": "code",
   "execution_count": 11,
   "id": "handed-break",
   "metadata": {},
   "outputs": [
    {
     "name": "stdout",
     "output_type": "stream",
     "text": [
      "Overwriting aula01/ex06.cpp\n"
     ]
    }
   ],
   "source": [
    "%%file aula01/ex06.cpp\n",
    "#include <iostream>\n",
    "using namespace std;\n",
    "\n",
    "int main() {\n",
    "    cout << \"*** Tamanhos das variaveis ***\\n\";\n",
    "    cout << \"Tamanho de char =\\t\"\n",
    "        << sizeof(char)\n",
    "        << \" bytes.\\n\";\n",
    "    cout << \"Tamanho de int =\\t\"\n",
    "        << sizeof(int) \n",
    "        << \" bytes.\\n\";\n",
    "    cout << \"Tamanho de float =\\t\"\n",
    "        << sizeof(float)\n",
    "        << \" bytes.\\n\";\n",
    "    cout << \"Tamanho de double =\\t\"\n",
    "        << sizeof(double)\n",
    "        << \" bytes.\\n\";\n",
    "    cout << \"Tamanho de bool =\\t\"\n",
    "        << sizeof(bool)\n",
    "        << \" bytes.\\n\";\n",
    "    return 0;\n",
    "}"
   ]
  },
  {
   "cell_type": "code",
   "execution_count": 12,
   "id": "described-retro",
   "metadata": {},
   "outputs": [
    {
     "name": "stdout",
     "output_type": "stream",
     "text": [
      "*** Tamanhos das variaveis ***\n",
      "Tamanho de char =\t1 bytes.\n",
      "Tamanho de int =\t4 bytes.\n",
      "Tamanho de float =\t4 bytes.\n",
      "Tamanho de double =\t8 bytes.\n",
      "Tamanho de bool =\t1 bytes.\n"
     ]
    }
   ],
   "source": [
    "!g++ aula01/ex06.cpp -o aula01/ex06\n",
    "!./aula01/ex06"
   ]
  },
  {
   "cell_type": "code",
   "execution_count": 13,
   "id": "grateful-budapest",
   "metadata": {},
   "outputs": [
    {
     "name": "stdout",
     "output_type": "stream",
     "text": [
      "Overwriting aula01/ex07.cpp\n"
     ]
    }
   ],
   "source": [
    "%%file aula01/ex07.cpp\n",
    "#include <iostream>\n",
    "using namespace std;\n",
    "\n",
    "int main() {\n",
    "    int larg = 7, compr;\n",
    "    compr = 8;\n",
    "    int area = larg * compr;\n",
    "    area = area + 1;\n",
    "    cout << \"*** Valores finais ***\\n\";\n",
    "    cout << \"Largura = \"\n",
    "        << larg << \"\\n\";\n",
    "    cout << \"Comprimento = \"\n",
    "        << compr << \"\\n\";\n",
    "    cout << \"Area = \"\n",
    "        << area << \"\\n\";\n",
    "    return 0;\n",
    "}"
   ]
  },
  {
   "cell_type": "code",
   "execution_count": 14,
   "id": "pressing-immunology",
   "metadata": {},
   "outputs": [
    {
     "name": "stdout",
     "output_type": "stream",
     "text": [
      "*** Valores finais ***\n",
      "Largura = 7\n",
      "Comprimento = 8\n",
      "Area = 57\n"
     ]
    }
   ],
   "source": [
    "!g++ aula01/ex07.cpp -o aula01/ex07\n",
    "!./aula01/ex07"
   ]
  },
  {
   "cell_type": "markdown",
   "id": "raising-rogers",
   "metadata": {},
   "source": [
    "### Variáveis Unsigned"
   ]
  },
  {
   "cell_type": "code",
   "execution_count": 15,
   "id": "rough-haven",
   "metadata": {
    "tags": []
   },
   "outputs": [
    {
     "name": "stdout",
     "output_type": "stream",
     "text": [
      "Overwriting aula01/ex08.cpp\n"
     ]
    }
   ],
   "source": [
    "%%file aula01/ex08.cpp\n",
    "#include <iostream>\n",
    "#include <iomanip>\n",
    "#include <math.h>\n",
    "using namespace std;\n",
    "\n",
    "int main() {\n",
    "    cout.setf(ios::fixed);    \n",
    "    cout << \"Tipo\\t\\t\\tTamanho\\t\\tValores\\n\";\n",
    "    \n",
    "    cout <<\"short int: \\t\\t\"\n",
    "        << sizeof(short int)\n",
    "        << \" bytes\\t\\t\"\n",
    "        << setprecision(0) << pow(2,8*sizeof(unsigned short int))/2*-1\n",
    "        << \" a \"\n",
    "        << pow(2,8*sizeof(unsigned short int))/2-1\n",
    "        << \"\\n\";\n",
    "\n",
    "    cout << \"unsigned short int: \\t\"\n",
    "        << sizeof(unsigned short int)\n",
    "        << \" bytes\\t\\t\"\n",
    "        << 0\n",
    "        << \" a \"\n",
    "        << pow(2,8*sizeof(unsigned short int))-1\n",
    "        << \"\\n\";\n",
    "    \n",
    "    cout <<\"int: \\t\\t\\t\"\n",
    "        << sizeof(int)\n",
    "        << \" bytes\\t\\t\"\n",
    "        << pow(2,8*sizeof(int))/2*-1\n",
    "        << \" a \"\n",
    "        << pow(2,8*sizeof(int))/2-1\n",
    "        << \"\\n\";\n",
    "\n",
    "    \n",
    "    cout << \"unsigned int: \\t\\t\"\n",
    "        << sizeof(unsigned int)\n",
    "        << \" bytes\\t\\t\"\n",
    "        << 0\n",
    "        << \" a \"\n",
    "        << pow(2,8*sizeof(int))-1\n",
    "        << \"\\n\";\n",
    "\n",
    "    cout <<\"long int: \\t\\t\"\n",
    "        << sizeof(long int)\n",
    "        << \" bytes\\t\\t\"\n",
    "        << pow(2,8*sizeof(long int))/2*-1\n",
    "        << \" a \"\n",
    "        << (pow(2,8*sizeof(long int))/2)-1\n",
    "        << \"\\n\";\n",
    "\n",
    "    cout << \"unsigned long int: \\t\"\n",
    "        << sizeof(unsigned long int)\n",
    "        << \" bytes\\t\\t\"\n",
    "        << 0\n",
    "        << \" a \"\n",
    "        << pow(2,8*sizeof(unsigned long int))-1\n",
    "        << \"\\n\";\n",
    "    return 0;\n",
    "}"
   ]
  },
  {
   "cell_type": "code",
   "execution_count": 16,
   "id": "joined-orientation",
   "metadata": {
    "tags": []
   },
   "outputs": [
    {
     "name": "stdout",
     "output_type": "stream",
     "text": [
      "Tipo\t\t\tTamanho\t\tValores\n",
      "short int: \t\t2 bytes\t\t-32768 a 32767\n",
      "unsigned short int: \t2 bytes\t\t0 a 65535\n",
      "int: \t\t\t4 bytes\t\t-2147483648 a 2147483647\n",
      "unsigned int: \t\t4 bytes\t\t0 a 4294967295\n",
      "long int: \t\t8 bytes\t\t-9223372036854775808 a 9223372036854775808\n",
      "unsigned long int: \t8 bytes\t\t0 a 18446744073709551616\n"
     ]
    }
   ],
   "source": [
    "!g++ aula01/ex08.cpp -o aula01/ex08\n",
    "!./aula01/ex08"
   ]
  },
  {
   "cell_type": "code",
   "execution_count": 17,
   "id": "expected-amateur",
   "metadata": {},
   "outputs": [
    {
     "name": "stdout",
     "output_type": "stream",
     "text": [
      "Overwriting aula01/ex09.cpp\n"
     ]
    }
   ],
   "source": [
    "%%file aula01/ex09.cpp\n",
    "#include <iostream>\n",
    "using namespace std;\n",
    "\n",
    "int main() {\n",
    "    unsigned short int usVar;\n",
    "    usVar = 65535;\n",
    "    cout << \"Valor inicial = \" << usVar << \"\\n\";\n",
    "    usVar = usVar + 1;\n",
    "    cout << \"Somando 1 = \" << usVar << \"\\n\";\n",
    "    usVar = usVar + 1;\n",
    "    cout << \"Somando mais 1 = \" << usVar << \"\\n\";\n",
    "    return 0;\n",
    "}"
   ]
  },
  {
   "cell_type": "code",
   "execution_count": 18,
   "id": "equivalent-correction",
   "metadata": {},
   "outputs": [
    {
     "name": "stdout",
     "output_type": "stream",
     "text": [
      "Valor inicial = 65535\n",
      "Somando 1 = 0\n",
      "Somando mais 1 = 1\n"
     ]
    }
   ],
   "source": [
    "!g++ aula01/ex09.cpp -o aula01/ex09\n",
    "!./aula01/ex09"
   ]
  },
  {
   "cell_type": "markdown",
   "id": "classified-music",
   "metadata": {},
   "source": [
    "### Strings"
   ]
  },
  {
   "cell_type": "code",
   "execution_count": 19,
   "id": "closed-scanning",
   "metadata": {},
   "outputs": [
    {
     "name": "stdout",
     "output_type": "stream",
     "text": [
      "Overwriting aula01/ex10.cpp\n"
     ]
    }
   ],
   "source": [
    "%%file aula01/ex10.cpp\n",
    "#include <iostream>\n",
    "using namespace std;\n",
    "\n",
    "int main() {\n",
    "    string s1 = \"Ola\";\n",
    "    string s2 = \"Mundo\";\n",
    "    cout << s1 + \" \" + s2;\n",
    "    return 0;\n",
    "}"
   ]
  },
  {
   "cell_type": "code",
   "execution_count": 20,
   "id": "recovered-investigation",
   "metadata": {},
   "outputs": [
    {
     "name": "stdout",
     "output_type": "stream",
     "text": [
      "Ola Mundo"
     ]
    }
   ],
   "source": [
    "!g++ aula01/ex10.cpp -o aula01/ex10\n",
    "!./aula01/ex10"
   ]
  },
  {
   "cell_type": "markdown",
   "id": "preliminary-exception",
   "metadata": {},
   "source": [
    "### Funções"
   ]
  },
  {
   "cell_type": "code",
   "execution_count": 21,
   "id": "prospective-influence",
   "metadata": {},
   "outputs": [
    {
     "name": "stdout",
     "output_type": "stream",
     "text": [
      "Overwriting aula01/ex11.cpp\n"
     ]
    }
   ],
   "source": [
    "%%file aula01/ex11.cpp\n",
    "#include <iostream>\n",
    "using namespace std;\n",
    "\n",
    "void digaAlo() {\n",
    "    cout << \"Alo, Mundo!\";\n",
    "}\n",
    "\n",
    "int main() {\n",
    "    digaAlo();\n",
    "    return 0;\n",
    "}"
   ]
  },
  {
   "cell_type": "code",
   "execution_count": 22,
   "id": "prompt-native",
   "metadata": {},
   "outputs": [
    {
     "name": "stdout",
     "output_type": "stream",
     "text": [
      "Alo, Mundo!"
     ]
    }
   ],
   "source": [
    "!g++ aula01/ex11.cpp -o aula01/ex11\n",
    "!./aula01/ex11"
   ]
  },
  {
   "cell_type": "markdown",
   "id": "nonprofit-protest",
   "metadata": {},
   "source": [
    "#### Funções: parametros e protótipo de função"
   ]
  },
  {
   "cell_type": "code",
   "execution_count": 23,
   "id": "respiratory-chemistry",
   "metadata": {},
   "outputs": [
    {
     "name": "stdout",
     "output_type": "stream",
     "text": [
      "Overwriting aula01/ex12.cpp\n"
     ]
    }
   ],
   "source": [
    "%%file aula01/ex12.cpp\n",
    "#include <iostream>\n",
    "using namespace std;\n",
    "\n",
    "void digaAlo(string msg);\n",
    "\n",
    "int main() {\n",
    "    digaAlo(\"Alo mundo!!!\\n\");\n",
    "    digaAlo(\"FATEC RP\");\n",
    "    return 0;\n",
    "}\n",
    "\n",
    "void digaAlo(string msg) {\n",
    "    cout << msg;\n",
    "}\n"
   ]
  },
  {
   "cell_type": "code",
   "execution_count": 24,
   "id": "satisfactory-precipitation",
   "metadata": {},
   "outputs": [
    {
     "name": "stdout",
     "output_type": "stream",
     "text": [
      "Alo mundo!!!\n",
      "FATEC RP"
     ]
    }
   ],
   "source": [
    "!g++ aula01/ex12.cpp -o aula01/ex12\n",
    "!./aula01/ex12"
   ]
  },
  {
   "cell_type": "markdown",
   "id": "irish-assembly",
   "metadata": {},
   "source": [
    "### Entrada de dados"
   ]
  },
  {
   "cell_type": "code",
   "execution_count": 25,
   "id": "competitive-wrapping",
   "metadata": {},
   "outputs": [
    {
     "name": "stdout",
     "output_type": "stream",
     "text": [
      "Overwriting aula01/ex13.cpp\n"
     ]
    }
   ],
   "source": [
    "%%file aula01/ex13.cpp\n",
    "#include <iostream>\n",
    "using namespace std;\n",
    "\n",
    "int Soma(int i, int j) {\n",
    "    cout << \"Estamos na funcao Soma().\\n\";\n",
    "    cout << \"Valores recebidos: \\n\";\n",
    "    cout << \"i = \"\n",
    "        << i\n",
    "        << \", j = \"\n",
    "        << j\n",
    "        << \"\\n\";\n",
    "    return (i + j);\n",
    "}\n",
    "\n",
    "int main() {\n",
    "    cout << \"Estamos em main()\\n\";\n",
    "    int x, y, z;\n",
    "    cout << \"\\nDigite o primeiro num. + <Enter>\";\n",
    "    cin >> x;\n",
    "    cout << \"\\nDigite o segundo num. + <Enter>\";\n",
    "    cin >> y; \n",
    "    cout << \"Chamando funcao Soma()...\\n\";\n",
    "    z = Soma(x, y);\n",
    "    cout << \"Voltamos a main()\\n\";\n",
    "    cout << \"Novo valor de z = \"\n",
    "        << z\n",
    "        << \"\\n\";\n",
    "    return 0;\n",
    "}"
   ]
  },
  {
   "cell_type": "code",
   "execution_count": 26,
   "id": "arbitrary-shock",
   "metadata": {},
   "outputs": [],
   "source": [
    "!g++ aula01/ex13.cpp -o aula01/ex13\n",
    "#!./aula01/ex13"
   ]
  },
  {
   "cell_type": "markdown",
   "id": "manufactured-demonstration",
   "metadata": {},
   "source": [
    "### Operadores Matemáticos\n",
    "\n",
    "- \\+ adição\n",
    "- \\- subtração\n",
    "- \\* multiplicação\n",
    "- / divisão\n",
    "- % módulo"
   ]
  },
  {
   "cell_type": "code",
   "execution_count": 67,
   "id": "valid-decade",
   "metadata": {},
   "outputs": [
    {
     "name": "stdout",
     "output_type": "stream",
     "text": [
      "Overwriting aula01/ex14.cpp\n"
     ]
    }
   ],
   "source": [
    "%%file aula01/ex14.cpp\n",
    "#include <iostream>\n",
    "using namespace std;\n",
    "\n",
    "int main()\n",
    "{\n",
    "    cout << \"*** Resto da divisao inteira ***\\n\";\n",
    "    cout << \"40 % 4 = \"\n",
    "        << 40 % 4\n",
    "        << \"\\n\";\n",
    "    cout << \"41 % 4 = \"\n",
    "        << 41 % 4\n",
    "        << \"\\n\";\n",
    "    cout << \"42 % 4 = \"\n",
    "        << 42 % 4\n",
    "        << \"\\n\"; \n",
    "    cout << \"43 % 4 = \"\n",
    "        << 43 % 4\n",
    "        << \"\\n\";\n",
    "    cout << \"44 % 4 = \"\n",
    "        << 44 % 4\n",
    "        << \"\\n\";\n",
    "    return 0;\n",
    "} // Fim de main()"
   ]
  },
  {
   "cell_type": "code",
   "execution_count": 68,
   "id": "serious-senate",
   "metadata": {},
   "outputs": [
    {
     "name": "stdout",
     "output_type": "stream",
     "text": [
      "*** Resto da divisao inteira ***\n",
      "40 % 4 = 0\n",
      "41 % 4 = 1\n",
      "42 % 4 = 2\n",
      "43 % 4 = 3\n",
      "44 % 4 = 0\n"
     ]
    }
   ],
   "source": [
    "!g++ aula01/ex14.cpp -o aula01/ex14\n",
    "!./aula01/ex14"
   ]
  },
  {
   "cell_type": "code",
   "execution_count": 69,
   "id": "independent-thumbnail",
   "metadata": {},
   "outputs": [
    {
     "name": "stdout",
     "output_type": "stream",
     "text": [
      "Overwriting aula01/ex15.cpp\n"
     ]
    }
   ],
   "source": [
    "%%file aula01/ex15.cpp\n",
    "#include <iostream>\n",
    "using namespace std;\n",
    "\n",
    "int main() {\n",
    "    short unsigned int diferenca;\n",
    "    short unsigned  int numMaior = 1000;\n",
    "    short unsigned  int numMenor = 300;\n",
    "    cout << \"\\nnumMaior = \"\n",
    "        << numMaior\n",
    "        << \", numMenor = \"\n",
    "        << numMenor\n",
    "        << \"\\n\"; \n",
    "    diferenca = numMaior - numMenor;\n",
    "    cout << \"\\nnumMaior - numMenor = \"\n",
    "        << diferenca\n",
    "        << \"\\n\";\n",
    "    diferenca = numMenor - numMaior;\n",
    "    cout << \"\\nnumMenor - numMaior = \"\n",
    "        << diferenca\n",
    "        << \"\\n\";\n",
    "    return 0;\n",
    "}"
   ]
  },
  {
   "cell_type": "code",
   "execution_count": 30,
   "id": "confidential-puppy",
   "metadata": {},
   "outputs": [
    {
     "name": "stdout",
     "output_type": "stream",
     "text": [
      "\n",
      "numMaior = 1000, numMenor = 300\n",
      "\n",
      "numMaior - numMenor = 700\n",
      "\n",
      "numMenor - numMaior = 64836\n"
     ]
    }
   ],
   "source": [
    "!g++ aula01/ex15.cpp -o aula01/ex15\n",
    "!./aula01/ex15"
   ]
  },
  {
   "cell_type": "markdown",
   "id": "increasing-principle",
   "metadata": {},
   "source": [
    "### Operadores incremento / decremento"
   ]
  },
  {
   "cell_type": "code",
   "execution_count": 31,
   "id": "tested-functionality",
   "metadata": {},
   "outputs": [
    {
     "name": "stdout",
     "output_type": "stream",
     "text": [
      "Overwriting aula01/ex16.cpp\n"
     ]
    }
   ],
   "source": [
    "%%file aula01/ex16.cpp\n",
    "#include <iostream>\n",
    "using namespace std;\n",
    "\n",
    "int main() {\n",
    "    int a,b,x, y;\n",
    "    a = b = 10;\n",
    "    x = a++;\n",
    "    y = ++b;\n",
    "    cout << \"a: \" \n",
    "        << a \n",
    "        << \"\\nb: \"\n",
    "        << b \n",
    "        << \"\\nx: \"\n",
    "        << x \n",
    "        << \"\\ny: \"\n",
    "        << y;\n",
    "    cout << \"\\n\\nDecremento:\\n\";\n",
    "    x = a--;\n",
    "    y = --b;\n",
    "    cout << \"a: \" \n",
    "        << a \n",
    "        << \"\\nb: \"\n",
    "        << b \n",
    "        << \"\\nx: \"\n",
    "        << x \n",
    "        << \"\\ny: \"\n",
    "        << y;\n",
    "    return 0;\n",
    "}"
   ]
  },
  {
   "cell_type": "code",
   "execution_count": 32,
   "id": "forty-surfing",
   "metadata": {},
   "outputs": [
    {
     "name": "stdout",
     "output_type": "stream",
     "text": [
      "a: 11\n",
      "b: 11\n",
      "x: 10\n",
      "y: 11\n",
      "\n",
      "Decremento:\n",
      "a: 10\n",
      "b: 10\n",
      "x: 11\n",
      "y: 10"
     ]
    }
   ],
   "source": [
    "!g++ aula01/ex16.cpp -o aula01/ex16\n",
    "!./aula01/ex16"
   ]
  },
  {
   "cell_type": "markdown",
   "id": "inner-advertiser",
   "metadata": {},
   "source": [
    "### Estrutura condicional\n",
    "\n",
    "- argc – é um valor inteiro que indica a quantidade de argumentos que foram passados ao chamar o programa.\n",
    "- argv – é um vetor de char que contém os argumentos, um para cada string passada na linha de comando.\n",
    "- argv[0] armazena o nome do programa que foi chamado no prompt, sendo assim, argc é pelo menos igual a 1, pois no mínimo existirá um argumento.\n",
    "- int atoi (const char * str); : converte string to integer"
   ]
  },
  {
   "cell_type": "code",
   "execution_count": 33,
   "id": "quick-therapy",
   "metadata": {},
   "outputs": [
    {
     "name": "stdout",
     "output_type": "stream",
     "text": [
      "Overwriting aula01/ex17.cpp\n"
     ]
    }
   ],
   "source": [
    "%%file aula01/ex17.cpp\n",
    "#include <iostream>\n",
    "using namespace std;\n",
    "\n",
    "int main(int argc, char *argv[ ]) {\n",
    "    int a;\n",
    "    a = atoi(argv[1]);\n",
    "    \n",
    "    if (a > 10) {\n",
    "        cout << \"a: \" << a << \" maior que 10!\\n\";\n",
    "    } else {\n",
    "        cout << \"a: \" << a <<  \" menor que 10!\\n\";\n",
    "        if (a > 5) {\n",
    "            cout << \"a: \" << a << \" maior que 5\\n\";\n",
    "        }\n",
    "    }\n",
    "    cout << \"\\n\";\n",
    "    \n",
    "    return 0;\n",
    "}"
   ]
  },
  {
   "cell_type": "code",
   "execution_count": 34,
   "id": "celtic-print",
   "metadata": {},
   "outputs": [
    {
     "name": "stdout",
     "output_type": "stream",
     "text": [
      "a: 11 maior que 10!\n",
      "\n"
     ]
    }
   ],
   "source": [
    "!g++ aula01/ex17.cpp -o aula01/ex17\n",
    "!./aula01/ex17 11"
   ]
  },
  {
   "cell_type": "code",
   "execution_count": 35,
   "id": "illegal-radio",
   "metadata": {},
   "outputs": [
    {
     "name": "stdout",
     "output_type": "stream",
     "text": [
      "a: 9 menor que 10!\n",
      "a: 9 maior que 5\n",
      "\n"
     ]
    }
   ],
   "source": [
    "!./aula01/ex17 9"
   ]
  },
  {
   "cell_type": "code",
   "execution_count": 36,
   "id": "trying-singapore",
   "metadata": {},
   "outputs": [
    {
     "name": "stdout",
     "output_type": "stream",
     "text": [
      "a: 6 menor que 10!\n",
      "a: 6 maior que 5\n",
      "\n"
     ]
    }
   ],
   "source": [
    "!./aula01/ex17 6"
   ]
  },
  {
   "cell_type": "markdown",
   "id": "premium-ultimate",
   "metadata": {},
   "source": [
    "### Operadores lógicos\n",
    "\n",
    "|Operador |Símbolo |Exemplo                      |\n",
    "|---------|--------|-----------------------------|\n",
    "|AND      | &&     | expressao1 && expressao2    |\n",
    "|OR       | \\|\\|   |expressao1 \\|\\| expressao2 |\n",
    "|NOT      | !      |!expressao                   |"
   ]
  },
  {
   "cell_type": "code",
   "execution_count": 37,
   "id": "handed-bloom",
   "metadata": {},
   "outputs": [
    {
     "name": "stdout",
     "output_type": "stream",
     "text": [
      "Overwriting aula01/ex18.cpp\n"
     ]
    }
   ],
   "source": [
    "%%file aula01/ex18.cpp\n",
    "#include <iostream>\n",
    "using namespace std;\n",
    "\n",
    "int main(int argc, char *argv[ ]) {\n",
    "    int a;\n",
    "    a = atoi(argv[1]);\n",
    "    \n",
    "    if ((a > 10) && (a < 20)) {\n",
    "        cout << \"a: \" << a << \" maior que 10 e menor que 20!\\n\";\n",
    "    } \n",
    "\n",
    "    if ((a <= 10) || (a >= 20)) {\n",
    "        cout << \"a: \" << a << \" menor que 10 ou maior que 20!\\n\";\n",
    "    } \n",
    "    \n",
    "    if (! (a == 11) ) {\n",
    "        cout << \"a: \" << a << \" diferente de 11!\\n\";\n",
    "    }\n",
    "    cout << \"\\n\";\n",
    "    \n",
    "    return 0;\n",
    "}"
   ]
  },
  {
   "cell_type": "code",
   "execution_count": 38,
   "id": "amino-learning",
   "metadata": {},
   "outputs": [
    {
     "name": "stdout",
     "output_type": "stream",
     "text": [
      "a: 11 maior que 10 e menor que 20!\n",
      "\n",
      "a: 9 menor que 10 ou maior que 20!\n",
      "a: 9 diferente de 11!\n",
      "\n",
      "a: 21 menor que 10 ou maior que 20!\n",
      "a: 21 diferente de 11!\n",
      "\n"
     ]
    }
   ],
   "source": [
    "!g++ aula01/ex18.cpp -o aula01/ex18\n",
    "!./aula01/ex18 11\n",
    "!./aula01/ex18 9\n",
    "!./aula01/ex18 21\n"
   ]
  },
  {
   "cell_type": "markdown",
   "id": "infinite-territory",
   "metadata": {},
   "source": [
    "### Operador condicional ternário\n",
    "\n",
    "(expressao1) ? (expressao2) : (expressao3);\n",
    "\n",
    "Esta operação pode ser interpretada da seguinte forma: se expressao1 for verdadeira, retorne o valor de\n",
    "expressao2; caso contrario, retorne o valor de expressao3. "
   ]
  },
  {
   "cell_type": "code",
   "execution_count": 39,
   "id": "foster-decimal",
   "metadata": {},
   "outputs": [
    {
     "name": "stdout",
     "output_type": "stream",
     "text": [
      "Overwriting aula01/ex19.cpp\n"
     ]
    }
   ],
   "source": [
    "%%file aula01/ex19.cpp\n",
    "#include <iostream>\n",
    "using namespace std;\n",
    "\n",
    "int main(int argc, char *argv[ ]) {\n",
    "    int a;\n",
    "    string resultado;\n",
    "    a = atoi(argv[1]);\n",
    "    resultado = (a > 10) ? (\"maior\") : (\"menor\");\n",
    "    cout << \"a: \" << a << \" resultado: \" << resultado << \"\\n\\n\";\n",
    "    return 0;\n",
    "}"
   ]
  },
  {
   "cell_type": "code",
   "execution_count": 40,
   "id": "knowing-pregnancy",
   "metadata": {},
   "outputs": [
    {
     "name": "stdout",
     "output_type": "stream",
     "text": [
      "a: 11 resultado: maior\n",
      "\n",
      "a: 9 resultado: menor\n",
      "\n",
      "a: 21 resultado: maior\n",
      "\n"
     ]
    }
   ],
   "source": [
    "!g++ aula01/ex19.cpp -o aula01/ex19\n",
    "!./aula01/ex19 11\n",
    "!./aula01/ex19 9\n",
    "!./aula01/ex19 21"
   ]
  },
  {
   "cell_type": "markdown",
   "id": "harmful-layout",
   "metadata": {},
   "source": [
    "### Variáveis Locais e Globais"
   ]
  },
  {
   "cell_type": "code",
   "execution_count": 41,
   "id": "reserved-guatemala",
   "metadata": {},
   "outputs": [
    {
     "name": "stdout",
     "output_type": "stream",
     "text": [
      "Overwriting aula01/ex20.cpp\n"
     ]
    }
   ],
   "source": [
    "%%file aula01/ex20.cpp\n",
    "#include <iostream>\n",
    "using namespace std;\n",
    "\n",
    "int num(int b);\n",
    "int aGlobal = 4;\n",
    "\n",
    "int main() {\n",
    "    int a = 3;\n",
    "    int b = 1;\n",
    "    int c = 2;\n",
    "    cout << \"aGlobal: \" << aGlobal << \"\\n\";\n",
    "    cout << \"a main: \" << a << \"\\n\";\n",
    "    cout << \"b main: \" << b << \"\\n\";\n",
    "    cout << \"c main: \" << c << \"\\n\";\n",
    "    c = num(4);\n",
    "    cout << \"aGlobal: \" << aGlobal << \"\\n\";\n",
    "    cout << \"a main: \" << a << \"\\n\";\n",
    "    cout << \"b main: \" << b << \"\\n\";\n",
    "    cout << \"c main: \" << c << \"\\n\";\n",
    "    return 0;\n",
    "}\n",
    "\n",
    "int num(int b) {\n",
    "    int a = 5;\n",
    "    cout << \"\\n---inicio função---\\n\";\n",
    "    cout << \"a na função: \" << a << \"\\n\";\n",
    "    cout << \"b na função: \" << b << \"\\n\";\n",
    "    cout << \"aGlobal na função: \" << aGlobal << \"\\n\";\n",
    "    aGlobal++;\n",
    "    b++;\n",
    "    cout << \"---fim função---\\n\\n\";\n",
    "    return b;\n",
    "}\n"
   ]
  },
  {
   "cell_type": "code",
   "execution_count": 42,
   "id": "federal-seminar",
   "metadata": {},
   "outputs": [
    {
     "name": "stdout",
     "output_type": "stream",
     "text": [
      "aGlobal: 4\n",
      "a main: 3\n",
      "b main: 1\n",
      "c main: 2\n",
      "\n",
      "---inicio função---\n",
      "a na função: 5\n",
      "b na função: 4\n",
      "aGlobal na função: 4\n",
      "---fim função---\n",
      "\n",
      "aGlobal: 5\n",
      "a main: 3\n",
      "b main: 1\n",
      "c main: 5\n"
     ]
    }
   ],
   "source": [
    "ex='ex20'\n",
    "!g++ aula01/\"$ex\".cpp -o aula01/$ex\n",
    "!./aula01/$ex 11"
   ]
  },
  {
   "cell_type": "markdown",
   "id": "personalized-closing",
   "metadata": {},
   "source": [
    "### Estruturas de Repetição\n",
    "\n",
    "#### While"
   ]
  },
  {
   "cell_type": "code",
   "execution_count": 43,
   "id": "magnetic-brief",
   "metadata": {},
   "outputs": [
    {
     "name": "stdout",
     "output_type": "stream",
     "text": [
      "Overwriting aula01/ex21.cpp\n"
     ]
    }
   ],
   "source": [
    "%%file aula01/ex21.cpp\n",
    "#include <iostream>\n",
    "using namespace std;\n",
    "\n",
    "int main() {\n",
    "    int contador = 0;\n",
    "    while(contador < 10) {\n",
    "        contador++;\n",
    "        cout << \"\\nContador = \"\n",
    "        << contador;\n",
    "    }\n",
    "    cout << \"\\n\\nValor final: Contador = \"\n",
    "    << contador;\n",
    "    return 0;\n",
    "}"
   ]
  },
  {
   "cell_type": "code",
   "execution_count": 44,
   "id": "extra-mechanics",
   "metadata": {},
   "outputs": [
    {
     "name": "stdout",
     "output_type": "stream",
     "text": [
      "\n",
      "Contador = 1\n",
      "Contador = 2\n",
      "Contador = 3\n",
      "Contador = 4\n",
      "Contador = 5\n",
      "Contador = 6\n",
      "Contador = 7\n",
      "Contador = 8\n",
      "Contador = 9\n",
      "Contador = 10\n",
      "\n",
      "Valor final: Contador = 10"
     ]
    }
   ],
   "source": [
    "ex='ex21'\n",
    "!g++ aula01/\"$ex\".cpp -o aula01/$ex\n",
    "!./aula01/$ex 11"
   ]
  },
  {
   "cell_type": "markdown",
   "id": "spectacular-treat",
   "metadata": {},
   "source": [
    "#### continue e break"
   ]
  },
  {
   "cell_type": "code",
   "execution_count": 45,
   "id": "official-jesus",
   "metadata": {},
   "outputs": [
    {
     "name": "stdout",
     "output_type": "stream",
     "text": [
      "Overwriting aula01/ex22.cpp\n"
     ]
    }
   ],
   "source": [
    "%%file aula01/ex22.cpp\n",
    "#include <iostream>\n",
    "using namespace std;\n",
    "\n",
    "int main() { \n",
    "    int contador = 0;\n",
    "     while(true) {\n",
    "         contador++;\n",
    "         if (contador > 20)\n",
    "             break;\n",
    "         if (contador > 10)\n",
    "             continue;\n",
    "         cout << \"\\nContador = \"\n",
    "             << contador;         \n",
    "     }\n",
    "     cout << \"\\n\\nValor final = \"\n",
    "         << contador;\n",
    "    \n",
    "     return 0;\n",
    "}"
   ]
  },
  {
   "cell_type": "code",
   "execution_count": 46,
   "id": "sitting-intervention",
   "metadata": {},
   "outputs": [
    {
     "name": "stdout",
     "output_type": "stream",
     "text": [
      "\n",
      "Contador = 1\n",
      "Contador = 2\n",
      "Contador = 3\n",
      "Contador = 4\n",
      "Contador = 5\n",
      "Contador = 6\n",
      "Contador = 7\n",
      "Contador = 8\n",
      "Contador = 9\n",
      "Contador = 10\n",
      "\n",
      "Valor final = 21"
     ]
    }
   ],
   "source": [
    "ex='ex22'\n",
    "!g++ aula01/\"$ex\".cpp -o aula01/$ex\n",
    "!./aula01/$ex 11"
   ]
  },
  {
   "cell_type": "markdown",
   "id": "miniature-significance",
   "metadata": {},
   "source": [
    "#### do while"
   ]
  },
  {
   "cell_type": "code",
   "execution_count": 47,
   "id": "magnetic-veteran",
   "metadata": {},
   "outputs": [
    {
     "name": "stdout",
     "output_type": "stream",
     "text": [
      "Overwriting aula01/ex23.cpp\n"
     ]
    }
   ],
   "source": [
    "%%file aula01/ex23.cpp\n",
    "#include <iostream>\n",
    "using namespace std;\n",
    "\n",
    "int main() {\n",
    "    int contador = 11;\n",
    "    do {\n",
    "        contador++;\n",
    "        cout << \"\\nContador = \"\n",
    "        << contador;\n",
    "    } while(contador < 10);\n",
    "    cout << \"\\n\\nValor final: Contador = \"\n",
    "    << contador;\n",
    "    return 0;\n",
    "}"
   ]
  },
  {
   "cell_type": "code",
   "execution_count": 48,
   "id": "timely-substance",
   "metadata": {},
   "outputs": [
    {
     "name": "stdout",
     "output_type": "stream",
     "text": [
      "\n",
      "Contador = 12\n",
      "\n",
      "Valor final: Contador = 12"
     ]
    }
   ],
   "source": [
    "ex='ex23'\n",
    "!g++ aula01/\"$ex\".cpp -o aula01/$ex\n",
    "!./aula01/$ex 11"
   ]
  },
  {
   "cell_type": "markdown",
   "id": "weird-fountain",
   "metadata": {},
   "source": [
    "#### for"
   ]
  },
  {
   "cell_type": "code",
   "execution_count": 49,
   "id": "silent-sucking",
   "metadata": {},
   "outputs": [
    {
     "name": "stdout",
     "output_type": "stream",
     "text": [
      "Overwriting aula01/ex24.cpp\n"
     ]
    }
   ],
   "source": [
    "%%file aula01/ex24.cpp\n",
    "#include <iostream>\n",
    "using namespace std;\n",
    "\n",
    "int main() {\n",
    "    int contador = 0;\n",
    "    for(contador = 0; contador <= 10; contador++) {\n",
    "        cout << \"\\nContador = \" << contador;\n",
    "    }\n",
    "    return 0;\n",
    "}"
   ]
  },
  {
   "cell_type": "code",
   "execution_count": 50,
   "id": "endangered-finland",
   "metadata": {},
   "outputs": [
    {
     "name": "stdout",
     "output_type": "stream",
     "text": [
      "\n",
      "Contador = 0\n",
      "Contador = 1\n",
      "Contador = 2\n",
      "Contador = 3\n",
      "Contador = 4\n",
      "Contador = 5\n",
      "Contador = 6\n",
      "Contador = 7\n",
      "Contador = 8\n",
      "Contador = 9\n",
      "Contador = 10"
     ]
    }
   ],
   "source": [
    "ex='ex24'\n",
    "!g++ aula01/\"$ex\".cpp -o aula01/$ex\n",
    "!./aula01/$ex 11"
   ]
  },
  {
   "cell_type": "markdown",
   "id": "finnish-toddler",
   "metadata": {},
   "source": [
    "#### switch"
   ]
  },
  {
   "cell_type": "code",
   "execution_count": 51,
   "id": "aggregate-colleague",
   "metadata": {},
   "outputs": [
    {
     "name": "stdout",
     "output_type": "stream",
     "text": [
      "Overwriting aula01/ex25.cpp\n"
     ]
    }
   ],
   "source": [
    "%%file aula01/ex25.cpp\n",
    "#include <iostream>\n",
    "using namespace std;\n",
    "\n",
    "int main() {\n",
    "    int num;\n",
    "    cout << \"Digite um número: \";\n",
    "    cin >> num;\n",
    "    switch(num) {\n",
    "        case 1:\n",
    "            cout << \"\\nVocê digitou um!\";\n",
    "            break;\n",
    "        case 2:\n",
    "            cout << \"\\nVocê digitou dois!\";\n",
    "            break;\n",
    "        case 3:\n",
    "            cout << \"\\nVocê digitou três!\";\n",
    "            break;\n",
    "        case 4:\n",
    "            cout << \"\\nVocê digitou quatro!\";\n",
    "            break;\n",
    "        case 5:\n",
    "            cout << \"\\nVocê digitou cinco!\";\n",
    "            break;\n",
    "        default:\n",
    "            cout << \"\\nVocê digitou um número maior que cinco!\";\n",
    "            break;\n",
    "    }\n",
    "    cout << \"\\n\";\n",
    "    return 0;\n",
    "}"
   ]
  },
  {
   "cell_type": "code",
   "execution_count": 52,
   "id": "completed-tumor",
   "metadata": {},
   "outputs": [],
   "source": [
    "ex='ex25'\n",
    "!g++ aula01/\"$ex\".cpp -o aula01/$ex\n",
    "#!./aula01/$ex 11"
   ]
  },
  {
   "cell_type": "markdown",
   "id": "weird-digest",
   "metadata": {},
   "source": [
    "#### Vetores"
   ]
  },
  {
   "cell_type": "code",
   "execution_count": 53,
   "id": "great-latin",
   "metadata": {},
   "outputs": [
    {
     "name": "stdout",
     "output_type": "stream",
     "text": [
      "Overwriting aula01/ex26.cpp\n"
     ]
    }
   ],
   "source": [
    "%%file aula01/ex26.cpp\n",
    "#include <iostream>\n",
    "using namespace std;\n",
    "\n",
    "int main() {\n",
    "    int intArray[7];\n",
    "    int i;\n",
    "\n",
    "    for (i = 0; i < 7; i++) {\n",
    "        intArray[i] = i * 3;\n",
    "    }\n",
    "    \n",
    "    for(i = 0; i < 7; i++) {\n",
    "        cout << \"\\nValor de intArray[\"\n",
    "            << i\n",
    "            << \"] = \"\n",
    "            << intArray[i];\n",
    "    }\n",
    "    return 0;\n",
    "}"
   ]
  },
  {
   "cell_type": "code",
   "execution_count": 54,
   "id": "atomic-friday",
   "metadata": {},
   "outputs": [
    {
     "name": "stdout",
     "output_type": "stream",
     "text": [
      "\n",
      "Valor de intArray[0] = 0\n",
      "Valor de intArray[1] = 3\n",
      "Valor de intArray[2] = 6\n",
      "Valor de intArray[3] = 9\n",
      "Valor de intArray[4] = 12\n",
      "Valor de intArray[5] = 15\n",
      "Valor de intArray[6] = 18"
     ]
    }
   ],
   "source": [
    "ex='ex26'\n",
    "!g++ aula01/\"$ex\".cpp -o aula01/$ex\n",
    "!./aula01/$ex 11"
   ]
  },
  {
   "cell_type": "markdown",
   "id": "secure-scene",
   "metadata": {},
   "source": [
    "#### Matrizes"
   ]
  },
  {
   "cell_type": "code",
   "execution_count": 55,
   "id": "coordinate-roman",
   "metadata": {},
   "outputs": [
    {
     "name": "stdout",
     "output_type": "stream",
     "text": [
      "Overwriting aula01/ex27.cpp\n"
     ]
    }
   ],
   "source": [
    "%%file aula01/ex27.cpp\n",
    "#include <iostream>\n",
    "using namespace std;\n",
    "\n",
    "int main() {\n",
    "    int array2D[4][3] = { {2, 4 ,6},\n",
    "                            {8, 10, 12},\n",
    "                            {14, 16, 18},\n",
    "                            {20, 22, 24}\n",
    "                            };\n",
    "    for(int i = 0; i < 4; i++) {\n",
    "        for(int j = 0; j < 3; j++) {\n",
    "            cout << array2D[i][j] << \"\\t\";\n",
    "        }\n",
    "        cout << \"\\n\";\n",
    "    }\n",
    "    return 0;\n",
    "}"
   ]
  },
  {
   "cell_type": "code",
   "execution_count": 56,
   "id": "healthy-stress",
   "metadata": {},
   "outputs": [
    {
     "name": "stdout",
     "output_type": "stream",
     "text": [
      "2\t4\t6\t\n",
      "8\t10\t12\t\n",
      "14\t16\t18\t\n",
      "20\t22\t24\t\n"
     ]
    }
   ],
   "source": [
    "ex='ex27'\n",
    "!g++ aula01/\"$ex\".cpp -o aula01/$ex\n",
    "!./aula01/$ex 11"
   ]
  },
  {
   "cell_type": "markdown",
   "id": "undefined-manufacturer",
   "metadata": {},
   "source": [
    "#### Funções: parametros por referencia"
   ]
  },
  {
   "cell_type": "code",
   "execution_count": 57,
   "id": "genetic-savings",
   "metadata": {},
   "outputs": [
    {
     "name": "stdout",
     "output_type": "stream",
     "text": [
      "Overwriting aula01/ex28.cpp\n"
     ]
    }
   ],
   "source": [
    "%%file aula01/ex28.cpp\n",
    "#include <iostream>\n",
    "using namespace std;\n",
    "\n",
    "void func1(int y) {\n",
    "  y++;\n",
    "  cout << \"y em func1:\\t\" << y << \"\\n\";\n",
    "}\n",
    "\n",
    "void func2(int &y) {\n",
    "  y++;\n",
    "  cout << \"y em func2:\\t\" << y << \"\\n\";\n",
    "}\n",
    "\n",
    "int main() {\n",
    "  int y = 3;\n",
    "  cout << \"y em main: \\t\" << y << \"\\n\";\n",
    "  //getchar();\n",
    "\n",
    "  func1(y);\n",
    "  //getchar();\n",
    "\n",
    "  cout << \"y em main: \\t\" << y << \"\\n\\n\";\n",
    "  //getchar();\n",
    "\n",
    "  func2(y);\n",
    "  //getchar();\n",
    "\n",
    "  cout << \"y em main: \\t\" << y << \"\\n\";\n",
    "}"
   ]
  },
  {
   "cell_type": "code",
   "execution_count": 58,
   "id": "distinct-spyware",
   "metadata": {},
   "outputs": [
    {
     "name": "stdout",
     "output_type": "stream",
     "text": [
      "y em main: \t3\n",
      "y em func1:\t4\n",
      "y em main: \t3\n",
      "\n",
      "y em func2:\t4\n",
      "y em main: \t4\n"
     ]
    }
   ],
   "source": [
    "ex='ex28'\n",
    "!g++ aula01/\"$ex\".cpp -o aula01/$ex\n",
    "!./aula01/$ex"
   ]
  },
  {
   "cell_type": "markdown",
   "id": "enclosed-sociology",
   "metadata": {},
   "source": [
    "#### Ponteiros"
   ]
  },
  {
   "cell_type": "code",
   "execution_count": 2,
   "id": "european-haiti",
   "metadata": {},
   "outputs": [
    {
     "name": "stdout",
     "output_type": "stream",
     "text": [
      "Overwriting aula01/ex29.cpp\n"
     ]
    }
   ],
   "source": [
    "%%file aula01/ex29.cpp\n",
    "#include <iostream>\n",
    "using namespace std;\n",
    "\n",
    "void func1(int y) {\n",
    "  y++;\n",
    "  cout << \"y em func1:\\t\" << y << \"\\n\";\n",
    "  cout << \"end y: \\t\" << &y << \"\\n\\n\";\n",
    "}\n",
    "\n",
    "void func2(int *py) {\n",
    "  (*py)++;\n",
    "  cout << \"y em func2:\\t\" << *py << \"\\n\";\n",
    "  cout << \"end py:\\t\" << py << \"\\n\\n\";\n",
    "}\n",
    "\n",
    "int main() {\n",
    "  int y = 3;\n",
    "  cout << \"y em main: \\t\" << y << \"\\n\";\n",
    "  cout << \"end y: \\t\" << &y << \"\\n\\n\";\n",
    "  //getchar();\n",
    "\n",
    "  func1(y);\n",
    "  //getchar();\n",
    "\n",
    "  cout << \"y em main: \\t\" << y << \"\\n\";\n",
    "  cout << \"end y: \\t\" << &y << \"\\n\\n\";\n",
    "  //getchar();\n",
    "\n",
    "  func2(&y);\n",
    "  //getchar();\n",
    "\n",
    "  cout << \"y em main: \\t\" << y << \"\\n\";\n",
    "  cout << \"end y: \\t\" << &y << \"\\n\\n\";\n",
    "\n",
    "  func2(y);\n",
    "  //getchar();\n",
    "\n",
    "  cout << \"y em main: \\t\" << y << \"\\n\";\n",
    "  cout << \"end y: \\t\" << &y << \"\\n\\n\";\n",
    "\n",
    "}"
   ]
  },
  {
   "cell_type": "code",
   "execution_count": 3,
   "id": "sunset-amsterdam",
   "metadata": {},
   "outputs": [
    {
     "name": "stdout",
     "output_type": "stream",
     "text": [
      "\u001b[01m\u001b[Kaula01/ex29.cpp:\u001b[m\u001b[K In function ‘\u001b[01m\u001b[Kint main()\u001b[m\u001b[K’:\n",
      "\u001b[01m\u001b[Kaula01/ex29.cpp:35:9:\u001b[m\u001b[K \u001b[01;31m\u001b[Kerror: \u001b[m\u001b[Kinvalid conversion from ‘\u001b[01m\u001b[Kint\u001b[m\u001b[K’ to ‘\u001b[01m\u001b[Kint*\u001b[m\u001b[K’ [\u001b[01;31m\u001b[K-fpermissive\u001b[m\u001b[K]\n",
      "   func2(\u001b[01;31m\u001b[Ky\u001b[m\u001b[K);\n",
      "         \u001b[01;31m\u001b[K^\u001b[m\u001b[K\n",
      "\u001b[01m\u001b[Kaula01/ex29.cpp:10:17:\u001b[m\u001b[K \u001b[01;36m\u001b[Knote: \u001b[m\u001b[K  initializing argument 1 of ‘\u001b[01m\u001b[Kvoid func2(int*)\u001b[m\u001b[K’\n",
      " void func2(\u001b[01;36m\u001b[Kint *py\u001b[m\u001b[K) {\n",
      "            \u001b[01;36m\u001b[K~~~~~^~\u001b[m\u001b[K\n",
      "y em main: \t3\n",
      "end y: \t0x7ffd945e08fc\n",
      "\n",
      "y em func1:\t4\n",
      "end y: \t0x7ffd945e08dc\n",
      "\n",
      "y em main: \t3\n",
      "end y: \t0x7ffd945e08fc\n",
      "\n",
      "y em func2:\t4\n",
      "end py:\t0x7ffd945e08fc\n",
      "\n",
      "y em main: \t4\n",
      "end y: \t0x7ffd945e08fc\n",
      "\n"
     ]
    }
   ],
   "source": [
    "ex='ex29'\n",
    "!g++ aula01/\"$ex\".cpp -o aula01/$ex\n",
    "!./aula01/$ex"
   ]
  },
  {
   "cell_type": "markdown",
   "id": "ready-former",
   "metadata": {},
   "source": [
    "#### Pilha e alocação dinaminca\n",
    "\n",
    "- sizeof: retorna a quantidade de bytes necessária para um determinado tipo de dados\n",
    "- malloc: aloca um espaço de memória e retorna um ponteiro do tipo void para o início do espaço de memória alocado\n",
    "- free libera o espaço de memória alocado\n"
   ]
  },
  {
   "cell_type": "code",
   "execution_count": 61,
   "id": "adequate-swimming",
   "metadata": {},
   "outputs": [
    {
     "name": "stdout",
     "output_type": "stream",
     "text": [
      "Overwriting aula01/ex30.cpp\n"
     ]
    }
   ],
   "source": [
    "%%file aula01/ex30.cpp\n",
    "#include <iostream>\n",
    "using namespace std;\n",
    "\n",
    "struct Pilha {\n",
    "  int topo;\n",
    "  int capacidade;\n",
    "  float *prox;\n",
    "};\n",
    "\n",
    "void criarPilha(struct Pilha *p, int c) {\n",
    "  p->topo = -1;\n",
    "  p->capacidade = c - 1;\n",
    "  p->prox = (float*) malloc (c * sizeof(float));\n",
    "}\n",
    "\n",
    "void destroiPilha(struct Pilha *p) {\n",
    "    free(p);\n",
    "}\n",
    "\n",
    "int estaVazia(struct Pilha *p) {\n",
    "  if (p->topo == -1) {\n",
    "    return 1;\n",
    "  } else {\n",
    "    return 0;\n",
    "  }\n",
    "}\n",
    "\n",
    "int estaCheia(struct Pilha *p) {\n",
    "  if (p->topo == p->capacidade) {\n",
    "    return 1;\n",
    "  } else {\n",
    "    return 0;\n",
    "  }\n",
    "}\n",
    "\n",
    "void empilhar(struct Pilha *p, float v) {\n",
    "  p->topo++;\n",
    "  p->prox[p->topo] = v;\n",
    "}\n",
    "\n",
    "float desempilhar(struct Pilha *p) {\n",
    "  float aux = p->prox[p->topo];\n",
    "  p->topo--;\n",
    "  return aux;\n",
    "}\n",
    "\n",
    "int retornaTopo(struct Pilha *p) {\n",
    "  return p->prox [p->topo];\n",
    "}\n",
    "\n",
    "int main() {\n",
    "  struct Pilha minhaPilha;\n",
    "  int capacidade, op;\n",
    "  float valor;\n",
    "\n",
    "  cout << \"Capacidade da pilha: \";\n",
    "  cin >> capacidade;\n",
    "  criarPilha(&minhaPilha, capacidade);\n",
    "\n",
    "  do {\n",
    "    cout << \"\\nOpções:\\n\";\n",
    "    cout << \"1 - empilhar (push)\\n\";\n",
    "    cout << \"2 - desempilhar (pop)\\n\";\n",
    "    cout << \"3 - mostrar topo\\n\";\n",
    "    cout << \"4 - redefinir pilha\\n\";\n",
    "    cout << \"5 - sair\\n\";\n",
    "    cin >> op;\n",
    "\n",
    "    switch(op) {\n",
    "      case 1:\n",
    "        if (estaCheia(&minhaPilha) == 1) {\n",
    "          cout << \"\\nPilha cheia!!!\\n\";\n",
    "        } else {\n",
    "          cout << \"Valor:\\n\";\n",
    "          cin >> valor;\n",
    "          empilhar(&minhaPilha, valor);\n",
    "        }\n",
    "        break;\n",
    "      case 2:\n",
    "        if (estaVazia(&minhaPilha) == 1) {\n",
    "          cout << \"\\nPilha vazia!!!\\n\";\n",
    "        } else {\n",
    "          valor = desempilhar(&minhaPilha);\n",
    "          cout << \"Valor desempilhado: \" << valor << \"\\n\";\n",
    "        }\n",
    "        break;\n",
    "      case 3:\n",
    "        if (estaVazia(&minhaPilha) == 1) {\n",
    "          cout << \"\\nPilha vazia!!!\\n\";\n",
    "        } else {\n",
    "          valor = retornaTopo(&minhaPilha);\n",
    "          cout << \"Valor topo: \" << valor << \"\\n\";\n",
    "        }\n",
    "        break;\n",
    "      case 4:\n",
    "          cout << \"Destruindo a pilha\\n\\n\";\n",
    "          destroiPilha(&minhaPilha);\n",
    "        \n",
    "          cout << \"Redefinindo a pilha\\n\";\n",
    "          cout << \"Capacidade da pilha: \";\n",
    "          cin >> capacidade;\n",
    "          criarPilha(&minhaPilha, capacidade);\n",
    "        \n",
    "    }\n",
    "  } while (op != 5);\n",
    "}"
   ]
  },
  {
   "cell_type": "code",
   "execution_count": 62,
   "id": "bearing-fellowship",
   "metadata": {},
   "outputs": [],
   "source": [
    "ex='ex30'\n",
    "!g++ aula01/\"$ex\".cpp -o aula01/$ex\n",
    "#!./aula01/$ex"
   ]
  },
  {
   "cell_type": "markdown",
   "id": "exciting-championship",
   "metadata": {},
   "source": [
    "#### Pilha tamanho dinâmico orientada a objetos"
   ]
  },
  {
   "cell_type": "code",
   "execution_count": 81,
   "id": "electric-motion",
   "metadata": {},
   "outputs": [
    {
     "name": "stdout",
     "output_type": "stream",
     "text": [
      "Overwriting pilha01/Pilha.h\n"
     ]
    }
   ],
   "source": [
    "%%file pilha01/Pilha.h\n",
    "\n",
    "class Pilha {\n",
    "    private:\n",
    "        int topo;\n",
    "        int capacidade;\n",
    "        int *conteudo;\n",
    "    public:\n",
    "        void redefinir(int tamanho);\n",
    "        Pilha(int tamanho);\n",
    "        bool estaVazia();\n",
    "        bool estaCheia();\n",
    "        bool empilhar(int valor);\n",
    "        int desempilhar();\n",
    "        int retornaTopo();\n",
    "};"
   ]
  },
  {
   "cell_type": "code",
   "execution_count": 82,
   "id": "tested-relation",
   "metadata": {},
   "outputs": [
    {
     "name": "stdout",
     "output_type": "stream",
     "text": [
      "Overwriting pilha01/Pilha.cpp\n"
     ]
    }
   ],
   "source": [
    "%%file pilha01/Pilha.cpp\n",
    "#include <cstdlib>\n",
    "#include \"Pilha.h\"\n",
    "\n",
    "// Construtor\n",
    "Pilha::Pilha(int tamanho) {\n",
    "    this->redefinir(tamanho);\n",
    "}\n",
    "\n",
    "void Pilha::redefinir(int tamanho) {\n",
    "    this->topo = -1;\n",
    "    this->capacidade = tamanho -1;\n",
    "    this->conteudo = (int*) malloc (tamanho * sizeof(int));\t\n",
    "}\n",
    "\n",
    "bool Pilha::estaVazia() {\n",
    "    if (this->topo == -1) {\n",
    "        return 1;\n",
    "    } else {\n",
    "        return 0;\n",
    "    }\n",
    "}\n",
    "\n",
    "bool Pilha::estaCheia() {\n",
    "    if (this->topo == this->capacidade) {\n",
    "        return 1;\n",
    "    } else {\n",
    "        return 0;\n",
    "    }\n",
    "}\n",
    "\n",
    "bool Pilha::empilhar(int valor) {\n",
    "    if (this->estaCheia())\n",
    "        return 0;\n",
    "    this->topo++;\n",
    "    this->conteudo[this->topo] = valor;\n",
    "    return 1;\n",
    "}\n",
    "\n",
    "int Pilha::desempilhar() {\n",
    "    int aux = this->conteudo[this->topo];\n",
    "    if (this->estaVazia())\n",
    "        return 0;\n",
    "    this->topo--;\n",
    "    return aux;\n",
    "}\n",
    "\n",
    "int Pilha::retornaTopo() {\n",
    "    return this->conteudo[this->topo];\n",
    "}"
   ]
  },
  {
   "cell_type": "code",
   "execution_count": 91,
   "id": "determined-seventh",
   "metadata": {},
   "outputs": [
    {
     "name": "stdout",
     "output_type": "stream",
     "text": [
      "Overwriting pilha01/main.cpp\n"
     ]
    }
   ],
   "source": [
    "%%file pilha01/main.cpp\n",
    "#include <iostream>\n",
    "#include \"Pilha.h\"\n",
    "\n",
    "using namespace std;\n",
    "\n",
    "int main() {\n",
    "    Pilha minhaPilha(2);\n",
    "\n",
    "    if (minhaPilha.estaVazia())\n",
    "        cout << \"Esta vazia!\\n\";\n",
    "    else\n",
    "        cout << \"Não esta vazia!\\n\";\n",
    "\n",
    "    cout << \"Empilhando: 4 - \";\n",
    "    if (minhaPilha.empilhar(4))\n",
    "        cout << \"ok\\n\";\n",
    "    else\n",
    "        cout << \"não ok\\n\";\n",
    "\n",
    "    cout << \"Empilhando: 3 - \";\n",
    "    if (minhaPilha.empilhar(3))\n",
    "        cout << \"ok\\n\";\n",
    "    else\n",
    "        cout << \"não ok\\n\";\n",
    "\n",
    "    cout << \"Empilhando: 2 - \";\n",
    "    if (minhaPilha.empilhar(2))\n",
    "        cout << \"ok\\n\";\n",
    "    else\n",
    "        cout << \"não ok\\n\";\n",
    "\n",
    "    cout << \"Empilhando: 1 - \";\n",
    "    if (minhaPilha.empilhar(2))\n",
    "        cout << \"ok\\n\";\n",
    "    else\n",
    "        cout << \"não ok\\n\";\n",
    "\n",
    "    cout << \"Topo da pilha: \" << minhaPilha.retornaTopo() << \"\\n\";\n",
    "\n",
    "    cout << \"Desempilhado: \" << minhaPilha.desempilhar() << \"\\n\";\n",
    "    cout << \"Desempilhado: \" << minhaPilha.desempilhar() << \"\\n\";\n",
    "    cout << \"Desempilhado: \" << minhaPilha.desempilhar() << \"\\n\";\n",
    "\n",
    "    minhaPilha.redefinir(3);\n",
    "\n",
    "    cout << \"Empilhando: 4 - \";\n",
    "    if (minhaPilha.empilhar(4))\n",
    "        cout << \"ok\\n\";\n",
    "    else\n",
    "        cout << \"não ok\\n\";\n",
    "\n",
    "    cout << \"Empilhando: 3 - \";\n",
    "    if (minhaPilha.empilhar(3))\n",
    "        cout << \"ok\\n\";\n",
    "    else\n",
    "        cout << \"não ok\\n\";\n",
    "\n",
    "    cout << \"Empilhando: 2 - \";\n",
    "    if (minhaPilha.empilhar(2))\n",
    "        cout << \"ok\\n\";\n",
    "    else\n",
    "        cout << \"não ok\\n\";\n",
    "\n",
    "    cout << \"Empilhando: 1 - \";\n",
    "    if (minhaPilha.empilhar(2))\n",
    "        cout << \"ok\\n\";\n",
    "    else\n",
    "        cout << \"não ok\\n\";\n",
    "\n",
    "    cout << \"Topo da pilha: \" << minhaPilha.retornaTopo() << \"\\n\";\n",
    "\n",
    "    cout << \"Desempilhado: \" << minhaPilha.desempilhar() << \"\\n\";\n",
    "    cout << \"Desempilhado: \" << minhaPilha.desempilhar() << \"\\n\";\n",
    "    cout << \"Desempilhado: \" << minhaPilha.desempilhar() << \"\\n\";\n",
    "    cout << \"Desempilhado: \" << minhaPilha.desempilhar() << \"\\n\";\n",
    "}"
   ]
  },
  {
   "cell_type": "markdown",
   "id": "wrong-colors",
   "metadata": {},
   "source": [
    "Atenção na compilação, os 2 arquivos cpp devem ser compilados juntos."
   ]
  },
  {
   "cell_type": "code",
   "execution_count": 92,
   "id": "noble-brass",
   "metadata": {},
   "outputs": [],
   "source": [
    "!g++ pilha01/main.cpp pilha01/Pilha.cpp -o pilha01/main"
   ]
  },
  {
   "cell_type": "code",
   "execution_count": 90,
   "id": "global-monitoring",
   "metadata": {},
   "outputs": [
    {
     "name": "stdout",
     "output_type": "stream",
     "text": [
      "Esta vazia!\n",
      "Empilhando: 4 - ok\n",
      "Empilhando: 3 - ok\n",
      "Empilhando: 2 - não ok\n",
      "Empilhando: 1 - não ok\n",
      "Topo da pilha: 3\n",
      "Desempilhado: 3\n",
      "Desempilhado: 4\n",
      "Desempilhado: 0\n",
      "Empilhando: 4 - ok\n",
      "Empilhando: 3 - ok\n",
      "Empilhando: 2 - ok\n",
      "Empilhando: 1 - não ok\n",
      "Topo da pilha: 2\n",
      "Desempilhado: 2\n",
      "Desempilhado: 3\n",
      "Desempilhado: 4\n",
      "Desempilhado: 0\n"
     ]
    }
   ],
   "source": [
    "!./pilha01/main"
   ]
  },
  {
   "cell_type": "markdown",
   "id": "attended-inspector",
   "metadata": {},
   "source": [
    "### Pilha dinamica"
   ]
  },
  {
   "cell_type": "code",
   "execution_count": 55,
   "id": "arctic-plymouth",
   "metadata": {},
   "outputs": [
    {
     "name": "stdout",
     "output_type": "stream",
     "text": [
      "Writing pilha02/Pilha.h\n"
     ]
    }
   ],
   "source": [
    "%%file pilha02/Pilha.h\n",
    "\n",
    "\n",
    "class Pilha {\n",
    "    private:\n",
    "        struct noPilha {\n",
    "            int valor;\n",
    "            noPilha *proximoNo; // ligação próximo nó\n",
    "        };\n",
    "        typedef noPilha *PonteiroPilha;\n",
    "        PonteiroPilha topo;\n",
    "    public:\n",
    "        Pilha();\n",
    "        ~Pilha();\n",
    "        bool estaVazia();\n",
    "        bool empilhar(int x);\n",
    "        bool desempilhar(int &x);\n",
    "        int retornaTopo();\n",
    "};"
   ]
  },
  {
   "cell_type": "code",
   "execution_count": 65,
   "id": "marine-bibliography",
   "metadata": {},
   "outputs": [
    {
     "name": "stdout",
     "output_type": "stream",
     "text": [
      "Overwriting pilha02/Pilha.cpp\n"
     ]
    }
   ],
   "source": [
    "%%file pilha02/Pilha.cpp\n",
    "#include <cstdlib>\n",
    "#include \"Pilha.h\"\n",
    "\n",
    "Pilha::Pilha() {\n",
    "    topo = NULL;\n",
    "}\n",
    "\n",
    "Pilha::~Pilha() {\n",
    "    int x;\n",
    "    while (!estaVazia()) {\n",
    "        desempilhar(x);\n",
    "    }\n",
    "}\n",
    "\n",
    "bool Pilha::estaVazia() {\n",
    "    if (topo == NULL) {\n",
    "        return 1;\n",
    "    } else {\n",
    "        return 0;\n",
    "    }\n",
    "}\n",
    "\n",
    "bool Pilha::empilhar(int x) {\n",
    "    PonteiroPilha p;\n",
    "    p = new noPilha;\n",
    "    if (p == NULL) {\n",
    "        return 0;\n",
    "    }\n",
    "    p->valor = x;\n",
    "    p->proximoNo = topo;\n",
    "    topo = p;\n",
    "    return 1;\n",
    "}\n",
    "\n",
    "bool Pilha::desempilhar(int &x) {\n",
    "    PonteiroPilha p;\n",
    "    if (estaVazia()) {\n",
    "        return 0;\n",
    "    }\n",
    "    x = topo->valor;\n",
    "    p = topo;\n",
    "    topo = topo->proximoNo;\n",
    "    free(p);\n",
    "    return 1;\n",
    "}\n",
    "\n",
    "int Pilha::retornaTopo() {\n",
    "    return topo->valor;\n",
    "}"
   ]
  },
  {
   "cell_type": "code",
   "execution_count": 78,
   "id": "proud-bunny",
   "metadata": {},
   "outputs": [
    {
     "name": "stdout",
     "output_type": "stream",
     "text": [
      "Overwriting pilha02/main.cpp\n"
     ]
    }
   ],
   "source": [
    "%%file pilha02/main.cpp\n",
    "#include <iostream>\n",
    "#include \"Pilha.h\"\n",
    "\n",
    "using namespace std;\n",
    "\n",
    "int main() {\n",
    "    Pilha minhaPilha;\n",
    "    int x;\n",
    "\n",
    "    if (minhaPilha.estaVazia())\n",
    "        cout << \"Esta vazia!\\n\";\n",
    "    else\n",
    "        cout << \"Não esta vazia!\\n\";\n",
    "\n",
    "    cout << \"Empilhando: 4 - \";\n",
    "    if (minhaPilha.empilhar(4))\n",
    "        cout << \"ok\\n\";\n",
    "    else\n",
    "        cout << \"não ok\\n\";\n",
    "\n",
    "    cout << \"Empilhando: 3 - \";\n",
    "    if (minhaPilha.empilhar(3))\n",
    "        cout << \"ok\\n\";\n",
    "    else\n",
    "        cout << \"não ok\\n\";\n",
    "\n",
    "    cout << \"Empilhando: 2 - \";\n",
    "    if (minhaPilha.empilhar(2))\n",
    "        cout << \"ok\\n\";\n",
    "    else\n",
    "        cout << \"não ok\\n\";\n",
    "\n",
    "    cout << \"Empilhando: 1 - \";\n",
    "    if (minhaPilha.empilhar(1))\n",
    "        cout << \"ok\\n\";\n",
    "    else\n",
    "        cout << \"não ok\\n\";\n",
    "\n",
    "    cout << \"Topo da pilha: \" << minhaPilha.retornaTopo() << \"\\n\";\n",
    "\n",
    "    if (minhaPilha.desempilhar(x))\n",
    "        cout << \"Desempilhado: \" << x << \"\\n\";\n",
    "    else\n",
    "        cout << \"Pilha vazia!\\n\";\n",
    "\n",
    "    if (minhaPilha.desempilhar(x))\n",
    "        cout << \"Desempilhado: \" << x << \"\\n\";\n",
    "    else\n",
    "        cout << \"Pilha vazia!\\n\";\n",
    "\n",
    "    if (minhaPilha.desempilhar(x))\n",
    "        cout << \"Desempilhado: \" << x << \"\\n\";\n",
    "    else\n",
    "        cout << \"Pilha vazia!\\n\";\n",
    "\n",
    "     if (minhaPilha.desempilhar(x))\n",
    "        cout << \"Desempilhado: \" << x << \"\\n\";\n",
    "    else\n",
    "        cout << \"Pilha vazia!\\n\";\n",
    "\n",
    "     if (minhaPilha.desempilhar(x))\n",
    "        cout << \"Desempilhado: \" << x << \"\\n\";\n",
    "    else\n",
    "        cout << \"Pilha vazia!\\n\";\n",
    "    \n",
    "}"
   ]
  },
  {
   "cell_type": "code",
   "execution_count": 79,
   "id": "exciting-stick",
   "metadata": {},
   "outputs": [],
   "source": [
    "!g++ pilha02/main.cpp pilha02/Pilha.cpp -o pilha02/main"
   ]
  },
  {
   "cell_type": "code",
   "execution_count": 80,
   "id": "referenced-restriction",
   "metadata": {},
   "outputs": [
    {
     "name": "stdout",
     "output_type": "stream",
     "text": [
      "Esta vazia!\n",
      "Empilhando: 4 - ok\n",
      "Empilhando: 3 - ok\n",
      "Empilhando: 2 - ok\n",
      "Empilhando: 1 - ok\n",
      "Topo da pilha: 1\n",
      "Desempilhado: 1\n",
      "Desempilhado: 2\n",
      "Desempilhado: 3\n",
      "Desempilhado: 4\n",
      "Pilha vazia!\n"
     ]
    }
   ],
   "source": [
    "!./pilha02/main"
   ]
  },
  {
   "cell_type": "code",
   "execution_count": null,
   "id": "assumed-necessity",
   "metadata": {},
   "outputs": [],
   "source": []
  }
 ],
 "metadata": {
  "kernelspec": {
   "display_name": "Python 3",
   "language": "python",
   "name": "python3"
  },
  "language_info": {
   "codemirror_mode": {
    "name": "ipython",
    "version": 3
   },
   "file_extension": ".py",
   "mimetype": "text/x-python",
   "name": "python",
   "nbconvert_exporter": "python",
   "pygments_lexer": "ipython3",
   "version": "3.9.2"
  }
 },
 "nbformat": 4,
 "nbformat_minor": 5
}
