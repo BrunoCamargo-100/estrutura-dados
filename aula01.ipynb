{
 "cells": [
  {
   "cell_type": "markdown",
   "id": "labeled-sacrifice",
   "metadata": {},
   "source": [
    "# DISCIPLINA: ESTRUTURAS DE DADOS (4 AULAS SEMANAIS)\n",
    "\n",
    "## OBJETIVOS\n",
    "\n",
    "Criar e manipular tipos abstratos de dados: listas, pilhas, filas e árvores.\n",
    "\n",
    "## EMENTA\n",
    "\n",
    "Pilhas, filas, alocação dinâmica, recursividade, listas encadeadas, tabelas de espalhamento e árvores."
   ]
  },
  {
   "cell_type": "markdown",
   "id": "monetary-directory",
   "metadata": {},
   "source": [
    "### Relembrando a linguagem C:"
   ]
  },
  {
   "cell_type": "code",
   "execution_count": 29,
   "id": "divine-wrong",
   "metadata": {},
   "outputs": [
    {
     "name": "stdout",
     "output_type": "stream",
     "text": [
      "Overwriting aula01/ex01.c\n"
     ]
    }
   ],
   "source": [
    "%%file aula01/ex01.c\n",
    "#include <stdio.h>\n",
    "\n",
    "int main() {\n",
    "    printf(\"Ola mundo 01!\");\n",
    "    return 0;\n",
    "}"
   ]
  },
  {
   "cell_type": "code",
   "execution_count": 30,
   "id": "diagnostic-daniel",
   "metadata": {},
   "outputs": [
    {
     "name": "stdout",
     "output_type": "stream",
     "text": [
      "Ola mundo 01!"
     ]
    }
   ],
   "source": [
    "!gcc aula01/ex01.c -o aula01/ex01\n",
    "!./aula01/ex01"
   ]
  },
  {
   "cell_type": "code",
   "execution_count": 2,
   "id": "separate-dublin",
   "metadata": {},
   "outputs": [
    {
     "name": "stdout",
     "output_type": "stream",
     "text": [
      "Overwriting aula01/ex02.cpp\n"
     ]
    }
   ],
   "source": [
    "%%file aula01/ex02.cpp\n",
    "#include <iostream>\n",
    "\n",
    "int main() {\n",
    "    std::cout << \"Ola mundo 02!\";\n",
    "    return 0;\n",
    "}"
   ]
  },
  {
   "cell_type": "code",
   "execution_count": 3,
   "id": "metropolitan-teaching",
   "metadata": {},
   "outputs": [
    {
     "name": "stdout",
     "output_type": "stream",
     "text": [
      "Ola mundo 02!"
     ]
    }
   ],
   "source": [
    "!g++ aula01/ex02.cpp -o aula01/ex02\n",
    "!./aula01/ex02"
   ]
  },
  {
   "cell_type": "code",
   "execution_count": 4,
   "id": "incorporate-pledge",
   "metadata": {},
   "outputs": [
    {
     "name": "stdout",
     "output_type": "stream",
     "text": [
      "Overwriting aula01/ex03.cpp\n"
     ]
    }
   ],
   "source": [
    "%%file aula01/ex03.cpp\n",
    "#include <iostream>\n",
    "using namespace std;\n",
    "\n",
    "int main() {\n",
    "    cout << \"Olá mundo 03!\";\n",
    "    return 0;\n",
    "}"
   ]
  },
  {
   "cell_type": "code",
   "execution_count": 5,
   "id": "lonely-summary",
   "metadata": {},
   "outputs": [
    {
     "name": "stdout",
     "output_type": "stream",
     "text": [
      "Olá mundo 03!"
     ]
    }
   ],
   "source": [
    "!g++ aula01/ex03.cpp -o aula01/ex03\n",
    "!./aula01/ex03"
   ]
  },
  {
   "cell_type": "markdown",
   "id": "recorded-lending",
   "metadata": {},
   "source": [
    "### TIPOS DE DADOS\n",
    "\n",
    "- char : caracter\n",
    "- int : inteiros\n",
    "- float : precisão simples (32-bits aproximadamente sete digitos)\n",
    "- double : precisão dupla (64-bits entre 15 e 16 digitos)\n",
    "- bool : booleano\n",
    "\n",
    "É importante ressaltar que embora C++ disponha do tipo bool, qualquer valor diferente de zero é interpretado\n",
    "como sendo verdadeiro (true). O valor zero é interpretado como sendo falso (false).\n",
    "O exemplo abaixo cria variáveis dos tipos básicos e exibe seus valores. "
   ]
  },
  {
   "cell_type": "code",
   "execution_count": 6,
   "id": "electrical-republic",
   "metadata": {},
   "outputs": [
    {
     "name": "stdout",
     "output_type": "stream",
     "text": [
      "Overwriting aula01/ex04.cpp\n"
     ]
    }
   ],
   "source": [
    "%%file aula01/ex04.cpp\n",
    "#include <iostream>\n",
    "using namespace std;\n",
    "\n",
    "int main() {\n",
    "    char charVar;\n",
    "    \n",
    "    int intVar = 298;\n",
    "    float floatVar = 49.95;\n",
    "    double doubleVar = 99.9999;\n",
    "    bool boolVar = (2 > 3);\n",
    "    \n",
    "    charVar = 't';\n",
    "    \n",
    "    std::cout << \"charVar = \" \n",
    "        << charVar \n",
    "        << \"\\n\";\n",
    "    std::cout << \"intVar = \" \n",
    "        << intVar \n",
    "        << \"\\n\";\n",
    "    std::cout << \"floatVar = \" \n",
    "        << floatVar \n",
    "        << \"\\n\";\n",
    "    std::cout << \"doubleVar = \" \n",
    "        << doubleVar \n",
    "        << \"\\n\";\n",
    "    std::cout << \"boolVar = \" \n",
    "        << boolVar \n",
    "        << \"\\n\";\n",
    "    return 0;\n",
    "}"
   ]
  },
  {
   "cell_type": "code",
   "execution_count": 7,
   "id": "yellow-klein",
   "metadata": {},
   "outputs": [
    {
     "name": "stdout",
     "output_type": "stream",
     "text": [
      "charVar = t\n",
      "intVar = 298\n",
      "floatVar = 49.95\n",
      "doubleVar = 99.9999\n",
      "boolVar = 0\n"
     ]
    }
   ],
   "source": [
    "!g++ aula01/ex04.cpp -o aula01/ex04\n",
    "!./aula01/ex04"
   ]
  },
  {
   "cell_type": "markdown",
   "id": "lovely-weather",
   "metadata": {},
   "source": [
    "### Escape\n",
    "\n",
    "- \\n caractere de nova linha\n",
    "- \\t caractere de tabulação (tab)\n",
    "- \\b caractere backspace\n",
    "- \\\" aspa dupla\n",
    "- \\' aspa simples\n",
    "- \\? ponto de interrogação\n",
    "- \\\\ barra invertida "
   ]
  },
  {
   "cell_type": "code",
   "execution_count": 8,
   "id": "southwest-hardwood",
   "metadata": {},
   "outputs": [
    {
     "name": "stdout",
     "output_type": "stream",
     "text": [
      "Overwriting aula01/ex05.cpp\n"
     ]
    }
   ],
   "source": [
    "%%file aula01/ex05.cpp\n",
    "#include <iostream>\n",
    "\n",
    "int main() {\n",
    "    std::cout << \"\\\"Frase entre aspas\\\"\\n\";\n",
    "    std::cout << \"Alguma \\tduvida\\?\\n\\\\\";\n",
    "    return 0;\n",
    "}"
   ]
  },
  {
   "cell_type": "code",
   "execution_count": 9,
   "id": "listed-flavor",
   "metadata": {},
   "outputs": [
    {
     "name": "stdout",
     "output_type": "stream",
     "text": [
      "\"Frase entre aspas\"\n",
      "Alguma \tduvida?\n",
      "\\"
     ]
    }
   ],
   "source": [
    "!g++ aula01/ex05.cpp -o aula01/ex05\n",
    "!./aula01/ex05"
   ]
  },
  {
   "cell_type": "markdown",
   "id": "given-pitch",
   "metadata": {},
   "source": [
    "### Variáveis"
   ]
  },
  {
   "cell_type": "code",
   "execution_count": 10,
   "id": "valued-delhi",
   "metadata": {},
   "outputs": [
    {
     "name": "stdout",
     "output_type": "stream",
     "text": [
      "Overwriting aula01/ex06.cpp\n"
     ]
    }
   ],
   "source": [
    "%%file aula01/ex06.cpp\n",
    "#include <iostream>\n",
    "int main() {\n",
    "    std::cout << \"*** Tamanhos das variaveis ***\\n\";\n",
    "    std::cout << \"Tamanho de char =\\t\"\n",
    "        << sizeof(char)\n",
    "        << \" bytes.\\n\";\n",
    "    std::cout << \"Tamanho de int =\\t\"\n",
    "        << sizeof(int) \n",
    "        << \" bytes.\\n\";\n",
    "    std::cout << \"Tamanho de float =\\t\"\n",
    "        << sizeof(float)\n",
    "        << \" bytes.\\n\";\n",
    "    std::cout << \"Tamanho de double =\\t\"\n",
    "        << sizeof(double)\n",
    "        << \" bytes.\\n\";\n",
    "    std::cout << \"Tamanho de bool =\\t\"\n",
    "        << sizeof(bool)\n",
    "        << \" bytes.\\n\";\n",
    "    return 0;\n",
    "}"
   ]
  },
  {
   "cell_type": "code",
   "execution_count": 11,
   "id": "prostate-circular",
   "metadata": {},
   "outputs": [
    {
     "name": "stdout",
     "output_type": "stream",
     "text": [
      "*** Tamanhos das variaveis ***\n",
      "Tamanho de char =\t1 bytes.\n",
      "Tamanho de int =\t4 bytes.\n",
      "Tamanho de float =\t4 bytes.\n",
      "Tamanho de double =\t8 bytes.\n",
      "Tamanho de bool =\t1 bytes.\n"
     ]
    }
   ],
   "source": [
    "!g++ aula01/ex06.cpp -o aula01/ex06\n",
    "!./aula01/ex06"
   ]
  },
  {
   "cell_type": "code",
   "execution_count": 13,
   "id": "signed-yeast",
   "metadata": {},
   "outputs": [
    {
     "name": "stdout",
     "output_type": "stream",
     "text": [
      "Writing aula01/ex07.cpp\n"
     ]
    }
   ],
   "source": [
    "%%file aula01/ex07.cpp\n",
    "#include <iostream>\n",
    "using namespace std;\n",
    "\n",
    "int main() {\n",
    "    int larg = 7, compr;\n",
    "    compr = 8;\n",
    "    int area = larg * compr;\n",
    "    area = area + 1;\n",
    "    cout << \"*** Valores finais ***\\n\";\n",
    "    cout << \"Largura = \"\n",
    "        << larg << \"\\n\";\n",
    "    cout << \"Comprimento = \"\n",
    "        << compr << \"\\n\";\n",
    "    cout << \"Area = \"\n",
    "        << area << \"\\n\";\n",
    "    return 0;\n",
    "}"
   ]
  },
  {
   "cell_type": "code",
   "execution_count": null,
   "id": "accessible-dayton",
   "metadata": {},
   "outputs": [],
   "source": [
    "larg = 7\n",
    "compr = 8\n",
    "area = 57"
   ]
  },
  {
   "cell_type": "code",
   "execution_count": null,
   "id": "major-special",
   "metadata": {},
   "outputs": [],
   "source": []
  },
  {
   "cell_type": "code",
   "execution_count": null,
   "id": "adjacent-ceiling",
   "metadata": {},
   "outputs": [],
   "source": []
  },
  {
   "cell_type": "code",
   "execution_count": null,
   "id": "opened-polls",
   "metadata": {},
   "outputs": [],
   "source": []
  },
  {
   "cell_type": "code",
   "execution_count": 14,
   "id": "greatest-ground",
   "metadata": {},
   "outputs": [
    {
     "name": "stdout",
     "output_type": "stream",
     "text": [
      "*** Valores finais ***\n",
      "Largura = 7\n",
      "Comprimento = 8\n",
      "Area = 56\n"
     ]
    }
   ],
   "source": [
    "!g++ aula01/ex07.cpp -o aula01/ex07\n",
    "!./aula01/ex07"
   ]
  },
  {
   "cell_type": "markdown",
   "id": "hungry-spain",
   "metadata": {},
   "source": [
    "### Variáveis Unsigned"
   ]
  },
  {
   "cell_type": "code",
   "execution_count": 15,
   "id": "unauthorized-million",
   "metadata": {
    "tags": []
   },
   "outputs": [
    {
     "name": "stdout",
     "output_type": "stream",
     "text": [
      "Writing aula01/ex08.cpp\n"
     ]
    }
   ],
   "source": [
    "%%file aula01/ex08.cpp\n",
    "#include <iostream>\n",
    "#include <iomanip>\n",
    "#include <math.h>\n",
    "using namespace std;\n",
    "\n",
    "int main() {\n",
    "    std::cout.setf(ios::fixed);    \n",
    "    cout << \"Tipo\\t\\t\\tTamanho\\t\\tValores\\n\";\n",
    "    \n",
    "    cout <<\"short int: \\t\\t\"\n",
    "        << sizeof(short int)\n",
    "        << \" bytes\\t\\t\"\n",
    "        << setprecision(0) << pow(2,8*sizeof(unsigned short int))/2*-1\n",
    "        << \" a \"\n",
    "        << pow(2,8*sizeof(unsigned short int))/2-1\n",
    "        << \"\\n\";\n",
    "\n",
    "    cout << \"unsigned short int: \\t\"\n",
    "        << sizeof(unsigned short int)\n",
    "        << \" bytes\\t\\t\"\n",
    "        << 0\n",
    "        << \" a \"\n",
    "        << pow(2,8*sizeof(unsigned short int))-1\n",
    "        << \"\\n\";\n",
    "    \n",
    "    cout <<\"int: \\t\\t\\t\"\n",
    "        << sizeof(int)\n",
    "        << \" bytes\\t\\t\"\n",
    "        << pow(2,8*sizeof(int))/2*-1\n",
    "        << \" a \"\n",
    "        << pow(2,8*sizeof(int))/2-1\n",
    "        << \"\\n\";\n",
    "\n",
    "    \n",
    "    cout << \"unsigned int: \\t\\t\"\n",
    "        << sizeof(unsigned int)\n",
    "        << \" bytes\\t\\t\"\n",
    "        << 0\n",
    "        << \" a \"\n",
    "        << pow(2,8*sizeof(int))-1\n",
    "        << \"\\n\";\n",
    "\n",
    "    cout <<\"long int: \\t\\t\"\n",
    "        << sizeof(long int)\n",
    "        << \" bytes\\t\\t\"\n",
    "        << pow(2,8*sizeof(long int))/2*-1\n",
    "        << \" a \"\n",
    "        << (pow(2,8*sizeof(long int))/2)-1\n",
    "        << \"\\n\";\n",
    "\n",
    "    cout << \"unsigned long int: \\t\"\n",
    "        << sizeof(unsigned long int)\n",
    "        << \" bytes\\t\\t\"\n",
    "        << 0\n",
    "        << \" a \"\n",
    "        << pow(2,8*sizeof(unsigned long int))-1\n",
    "        << \"\\n\";\n",
    "    return 0;\n",
    "}"
   ]
  },
  {
   "cell_type": "code",
   "execution_count": 16,
   "id": "wanted-italian",
   "metadata": {
    "tags": []
   },
   "outputs": [
    {
     "name": "stdout",
     "output_type": "stream",
     "text": [
      "Tipo\t\t\tTamanho\t\tValores\n",
      "short int: \t\t2 bytes\t\t-32768 a 32767\n",
      "unsigned short int: \t2 bytes\t\t0 a 65535\n",
      "int: \t\t\t4 bytes\t\t-2147483648 a 2147483647\n",
      "unsigned int: \t\t4 bytes\t\t0 a 4294967295\n",
      "long int: \t\t8 bytes\t\t-9223372036854775808 a 9223372036854775808\n",
      "unsigned long int: \t8 bytes\t\t0 a 18446744073709551616\n"
     ]
    }
   ],
   "source": [
    "!g++ aula01/ex08.cpp -o aula01/ex08\n",
    "!./aula01/ex08"
   ]
  },
  {
   "cell_type": "code",
   "execution_count": 12,
   "id": "burning-bonus",
   "metadata": {},
   "outputs": [
    {
     "name": "stdout",
     "output_type": "stream",
     "text": [
      "Overwriting aula01/ex09.cpp\n"
     ]
    }
   ],
   "source": [
    "%%file aula01/ex09.cpp\n",
    "#include <iostream>\n",
    "int main() {\n",
    "    unsigned short int usVar;\n",
    "    usVar = 65535;\n",
    "    std::cout << \"Valor inicial = \" << usVar << \"\\n\";\n",
    "    usVar = usVar + 1;\n",
    "    std::cout << \"Somando 1 = \" << usVar << \"\\n\";\n",
    "    usVar = usVar + 1;\n",
    "    std::cout << \"Somando mais 1 = \" << usVar << \"\\n\";\n",
    "    return 0;\n",
    "}"
   ]
  },
  {
   "cell_type": "code",
   "execution_count": 13,
   "id": "democratic-experiment",
   "metadata": {},
   "outputs": [
    {
     "name": "stdout",
     "output_type": "stream",
     "text": [
      "Valor inicial = 65535\n",
      "Somando 1 = 0\n",
      "Somando mais 1 = 1\n"
     ]
    }
   ],
   "source": [
    "!g++ aula01/ex09.cpp -o aula01/ex09\n",
    "!./aula01/ex09"
   ]
  },
  {
   "cell_type": "markdown",
   "id": "numerical-sheep",
   "metadata": {},
   "source": [
    "### Strings"
   ]
  },
  {
   "cell_type": "code",
   "execution_count": 14,
   "id": "hidden-duncan",
   "metadata": {},
   "outputs": [
    {
     "name": "stdout",
     "output_type": "stream",
     "text": [
      "Overwriting aula01/ex10.cpp\n"
     ]
    }
   ],
   "source": [
    "%%file aula01/ex10.cpp\n",
    "#include <iostream>\n",
    "using namespace std;\n",
    "\n",
    "int main() {\n",
    "    string s1 = \"Ola\";\n",
    "    string s2 = \"Mundo\";\n",
    "    cout << s1 + \" \" + s2;\n",
    "    return 0;\n",
    "}"
   ]
  },
  {
   "cell_type": "code",
   "execution_count": 15,
   "id": "forward-running",
   "metadata": {},
   "outputs": [
    {
     "name": "stdout",
     "output_type": "stream",
     "text": [
      "Ola Mundo"
     ]
    }
   ],
   "source": [
    "!g++ aula01/ex10.cpp -o aula01/ex10\n",
    "!./aula01/ex10"
   ]
  },
  {
   "cell_type": "markdown",
   "id": "conventional-wrapping",
   "metadata": {},
   "source": [
    "### Funções"
   ]
  },
  {
   "cell_type": "code",
   "execution_count": 16,
   "id": "selective-vienna",
   "metadata": {},
   "outputs": [
    {
     "name": "stdout",
     "output_type": "stream",
     "text": [
      "Overwriting aula01/ex11.cpp\n"
     ]
    }
   ],
   "source": [
    "%%file aula01/ex11.cpp\n",
    "#include <iostream>\n",
    "using namespace std;\n",
    "\n",
    "void digaAlo() {\n",
    "    cout << \"Alo, Mundo!\";\n",
    "}\n",
    "\n",
    "int main() {\n",
    "    digaAlo();\n",
    "    return 0;\n",
    "}"
   ]
  },
  {
   "cell_type": "code",
   "execution_count": 17,
   "id": "democratic-inside",
   "metadata": {},
   "outputs": [
    {
     "name": "stdout",
     "output_type": "stream",
     "text": [
      "Alo, Mundo!"
     ]
    }
   ],
   "source": [
    "!g++ aula01/ex11.cpp -o aula01/ex11\n",
    "!./aula01/ex11"
   ]
  },
  {
   "cell_type": "markdown",
   "id": "communist-scene",
   "metadata": {},
   "source": [
    "#### Funções: parametros e protótipo de função"
   ]
  },
  {
   "cell_type": "code",
   "execution_count": 20,
   "id": "unexpected-appliance",
   "metadata": {},
   "outputs": [
    {
     "name": "stdout",
     "output_type": "stream",
     "text": [
      "Overwriting aula01/ex12.cpp\n"
     ]
    }
   ],
   "source": [
    "%%file aula01/ex12.cpp\n",
    "#include <iostream>\n",
    "using namespace std;\n",
    "\n",
    "void digaAlo(string msg);\n",
    "\n",
    "int main() {\n",
    "    digaAlo(\"Alo mundo!!!\\n\");\n",
    "    digaAlo(\"FATEC RP\");\n",
    "    return 0;\n",
    "}\n",
    "\n",
    "void digaAlo(string msg) {\n",
    "    cout << msg;\n",
    "}\n"
   ]
  },
  {
   "cell_type": "code",
   "execution_count": 21,
   "id": "expanded-switzerland",
   "metadata": {},
   "outputs": [
    {
     "name": "stdout",
     "output_type": "stream",
     "text": [
      "Alo mundo!!!\n",
      "FATEC RP"
     ]
    }
   ],
   "source": [
    "!g++ aula01/ex12.cpp -o aula01/ex12\n",
    "!./aula01/ex12"
   ]
  },
  {
   "cell_type": "markdown",
   "id": "micro-edwards",
   "metadata": {},
   "source": [
    "### Entrada de dados"
   ]
  },
  {
   "cell_type": "code",
   "execution_count": 22,
   "id": "mobile-fossil",
   "metadata": {},
   "outputs": [
    {
     "name": "stdout",
     "output_type": "stream",
     "text": [
      "Overwriting aula01/ex13.cpp\n"
     ]
    }
   ],
   "source": [
    "%%file aula01/ex13.cpp\n",
    "#include <iostream>\n",
    "using namespace std;\n",
    "\n",
    "int Soma(int i, int j) {\n",
    "    cout << \"Estamos na funcao Soma().\\n\";\n",
    "    cout << \"Valores recebidos: \\n\";\n",
    "    cout << \"i = \"\n",
    "        << i\n",
    "        << \", j = \"\n",
    "        << j\n",
    "        << \"\\n\";\n",
    "    return (i + j);\n",
    "}\n",
    "\n",
    "int main() {\n",
    "    cout << \"Estamos em main()\\n\";\n",
    "    int x, y, z;\n",
    "    cout << \"\\nDigite o primeiro num. + <Enter>\";\n",
    "    cin >> x;\n",
    "    cout << \"\\nDigite o segundo num. + <Enter>\";\n",
    "    cin >> y; \n",
    "    cout << \"Chamando funcao Soma()...\\n\";\n",
    "    z = Soma(x, y);\n",
    "    cout << \"Voltamos a main()\\n\";\n",
    "    cout << \"Novo valor de z = \"\n",
    "        << z\n",
    "        << \"\\n\";\n",
    "    return 0;\n",
    "} // Fim de main()"
   ]
  },
  {
   "cell_type": "code",
   "execution_count": 23,
   "id": "funded-clark",
   "metadata": {},
   "outputs": [],
   "source": [
    "!g++ aula01/ex13.cpp -o aula01/ex13\n",
    "#!./aula01/ex13"
   ]
  },
  {
   "cell_type": "markdown",
   "id": "intended-separate",
   "metadata": {},
   "source": [
    "### Operadores Matemáticos\n",
    "\n",
    "- \\+ adição\n",
    "- \\- subtração\n",
    "- \\* multiplicação\n",
    "- / divisão\n",
    "- % módulo"
   ]
  },
  {
   "cell_type": "code",
   "execution_count": 24,
   "id": "defensive-microwave",
   "metadata": {},
   "outputs": [
    {
     "name": "stdout",
     "output_type": "stream",
     "text": [
      "Overwriting aula01/ex14.pp\n"
     ]
    }
   ],
   "source": [
    "%%file aula01/ex14.pp\n",
    "#include <iostream>\n",
    "using namespace std;\n",
    "\n",
    "int main()\n",
    "{\n",
    "    cout << \"*** Resto da divisao inteira ***\\n\";\n",
    "    cout << \"40 % 4 = \"\n",
    "        << 40 % 4\n",
    "        << \"\\n\";\n",
    "    cout << \"41 % 4 = \"\n",
    "        << 41 % 4\n",
    "        << \"\\n\";\n",
    "    cout << \"42 % 4 = \"\n",
    "        << 42 % 4\n",
    "        << \"\\n\"; \n",
    "    cout << \"43 % 4 = \"\n",
    "        << 43 % 4\n",
    "        << \"\\n\";\n",
    "    cout << \"44 % 4 = \"\n",
    "        << 44 % 4\n",
    "        << \"\\n\";\n",
    "    return 0;\n",
    "} // Fim de main()"
   ]
  },
  {
   "cell_type": "code",
   "execution_count": 25,
   "id": "expired-scholarship",
   "metadata": {},
   "outputs": [
    {
     "name": "stdout",
     "output_type": "stream",
     "text": [
      "*** Resto da divisao inteira ***\n",
      "40 % 4 = 0\n",
      "41 % 4 = 1\n",
      "42 % 4 = 2\n",
      "43 % 4 = 3\n",
      "44 % 4 = 0\n"
     ]
    }
   ],
   "source": [
    "!g++ aula01/ex14.cpp -o aula01/ex14\n",
    "!./aula01/ex14"
   ]
  },
  {
   "cell_type": "code",
   "execution_count": 26,
   "id": "suspended-compatibility",
   "metadata": {},
   "outputs": [
    {
     "name": "stdout",
     "output_type": "stream",
     "text": [
      "Overwriting aula01/ex15.cpp\n"
     ]
    }
   ],
   "source": [
    "%%file aula01/ex15.cpp\n",
    "#include <iostream>\n",
    "using namespace std;\n",
    "\n",
    "int main() {\n",
    "    short unsigned int diferenca;\n",
    "    short unsigned  int numMaior = 1000;\n",
    "    short unsigned  int numMenor = 300;\n",
    "    cout << \"\\nnumMaior = \"\n",
    "        << numMaior\n",
    "        << \", numMenor = \"\n",
    "        << numMenor\n",
    "        << \"\\n\"; \n",
    "    diferenca = numMaior - numMenor;\n",
    "    cout << \"\\nnumMaior - numMenor = \"\n",
    "        << diferenca\n",
    "        << \"\\n\";\n",
    "    diferenca = numMenor - numMaior;\n",
    "    cout << \"\\nnumMenor - numMaior = \"\n",
    "        << diferenca\n",
    "        << \"\\n\";\n",
    "    return 0;\n",
    "}"
   ]
  },
  {
   "cell_type": "code",
   "execution_count": 27,
   "id": "promotional-temperature",
   "metadata": {},
   "outputs": [
    {
     "name": "stdout",
     "output_type": "stream",
     "text": [
      "\n",
      "numMaior = 1000, numMenor = 300\n",
      "\n",
      "numMaior - numMenor = 700\n",
      "\n",
      "numMenor - numMaior = 64836\n"
     ]
    }
   ],
   "source": [
    "!g++ aula01/ex15.cpp -o aula01/ex15\n",
    "!./aula01/ex15"
   ]
  },
  {
   "cell_type": "markdown",
   "id": "laughing-movement",
   "metadata": {},
   "source": [
    "### Operadores incremento / decremento"
   ]
  },
  {
   "cell_type": "code",
   "execution_count": 28,
   "id": "approved-exhibit",
   "metadata": {},
   "outputs": [
    {
     "name": "stdout",
     "output_type": "stream",
     "text": [
      "Overwriting aula01/ex16.cpp\n"
     ]
    }
   ],
   "source": [
    "%%file aula01/ex16.cpp\n",
    "#include <iostream>\n",
    "using namespace std;\n",
    "\n",
    "int main() {\n",
    "    int a,b,x, y;\n",
    "    a = b = 10;\n",
    "    x = a++;\n",
    "    y = ++b;\n",
    "    cout << \"a: \" \n",
    "        << a \n",
    "        << \"\\nb: \"\n",
    "        << b \n",
    "        << \"\\nx: \"\n",
    "        << x \n",
    "        << \"\\ny: \"\n",
    "        << y;\n",
    "    cout << \"\\n\\nDecremento:\\n\";\n",
    "    x = a--;\n",
    "    y = --b;\n",
    "    cout << \"a: \" \n",
    "        << a \n",
    "        << \"\\nb: \"\n",
    "        << b \n",
    "        << \"\\nx: \"\n",
    "        << x \n",
    "        << \"\\ny: \"\n",
    "        << y;\n",
    "    return 0;\n",
    "}"
   ]
  },
  {
   "cell_type": "code",
   "execution_count": 29,
   "id": "tropical-hearts",
   "metadata": {},
   "outputs": [
    {
     "name": "stdout",
     "output_type": "stream",
     "text": [
      "a: 11\n",
      "b: 11\n",
      "x: 10\n",
      "y: 11\n",
      "\n",
      "Decremento:\n",
      "a: 10\n",
      "b: 10\n",
      "x: 11\n",
      "y: 10"
     ]
    }
   ],
   "source": [
    "!g++ aula01/ex16.cpp -o aula01/ex16\n",
    "!./aula01/ex16"
   ]
  },
  {
   "cell_type": "markdown",
   "id": "retained-midnight",
   "metadata": {},
   "source": [
    "### Estrutura condicional\n",
    "\n",
    "- argc – é um valor inteiro que indica a quantidade de argumentos que foram passados ao chamar o programa.\n",
    "- argv – é um vetor de char que contém os argumentos, um para cada string passada na linha de comando.\n",
    "- argv[0] armazena o nome do programa que foi chamado no prompt, sendo assim, argc é pelo menos igual a 1, pois no mínimo existirá um argumento.\n",
    "- int atoi (const char * str); : converte string to integer"
   ]
  },
  {
   "cell_type": "code",
   "execution_count": 30,
   "id": "studied-championship",
   "metadata": {},
   "outputs": [
    {
     "name": "stdout",
     "output_type": "stream",
     "text": [
      "Overwriting aula01/ex17.cpp\n"
     ]
    }
   ],
   "source": [
    "%%file aula01/ex17.cpp\n",
    "#include <iostream>\n",
    "using namespace std;\n",
    "\n",
    "int main(int argc, char *argv[ ]) {\n",
    "    int a;\n",
    "    a = atoi(argv[1]);\n",
    "    \n",
    "    if (a > 10) {\n",
    "        cout << \"a: \" << a << \" maior que 10!\\n\";\n",
    "    } else {\n",
    "        cout << \"a: \" << a <<  \" menor que 10!\\n\";\n",
    "        if (a > 5) {\n",
    "            cout << \"a: \" << a << \" maior que 5\\n\";\n",
    "        }\n",
    "    }\n",
    "    cout << \"\\n\";\n",
    "    \n",
    "    return 0;\n",
    "}"
   ]
  },
  {
   "cell_type": "code",
   "execution_count": 32,
   "id": "informed-tribune",
   "metadata": {},
   "outputs": [
    {
     "name": "stdout",
     "output_type": "stream",
     "text": [
      "a: 11 maior que 10!\n",
      "\n"
     ]
    }
   ],
   "source": [
    "!g++ aula01/ex17.cpp -o aula01/ex17\n",
    "!./aula01/ex17 11"
   ]
  },
  {
   "cell_type": "code",
   "execution_count": 33,
   "id": "eight-being",
   "metadata": {},
   "outputs": [
    {
     "name": "stdout",
     "output_type": "stream",
     "text": [
      "a: 9 menor que 10!\n",
      "a: 9 maior que 5\n",
      "\n"
     ]
    }
   ],
   "source": [
    "!./aula01/ex17 9"
   ]
  },
  {
   "cell_type": "code",
   "execution_count": 34,
   "id": "civilian-baseball",
   "metadata": {},
   "outputs": [
    {
     "name": "stdout",
     "output_type": "stream",
     "text": [
      "a: 6 menor que 10!\n",
      "a: 6 maior que 5\n",
      "\n"
     ]
    }
   ],
   "source": [
    "!./aula01/ex17 6"
   ]
  },
  {
   "cell_type": "markdown",
   "id": "racial-undergraduate",
   "metadata": {},
   "source": [
    "### Operadores lógicos\n",
    "\n",
    "|Operador |Símbolo |Exemplo                      |\n",
    "|---------|--------|-----------------------------|\n",
    "|AND      | &&     | expressao1 && expressao2    |\n",
    "|OR       | \\|\\|   |expressao1 \\|\\| expressao2 |\n",
    "|NOT      | !      |!expressao                   |"
   ]
  },
  {
   "cell_type": "code",
   "execution_count": 41,
   "id": "explicit-hypothetical",
   "metadata": {},
   "outputs": [
    {
     "name": "stdout",
     "output_type": "stream",
     "text": [
      "Overwriting aula01/ex18.cpp\n"
     ]
    }
   ],
   "source": [
    "%%file aula01/ex18.cpp\n",
    "#include <iostream>\n",
    "using namespace std;\n",
    "\n",
    "int main(int argc, char *argv[ ]) {\n",
    "    int a;\n",
    "    a = atoi(argv[1]);\n",
    "    \n",
    "    if ((a > 10) && (a < 20)) {\n",
    "        cout << \"a: \" << a << \" maior que 10 e menor que 20!\\n\";\n",
    "    } \n",
    "\n",
    "    if ((a <= 10) || (a >= 20)) {\n",
    "        cout << \"a: \" << a << \" menor que 10 ou maior que 20!\\n\";\n",
    "    } \n",
    "    \n",
    "    if (! (a == 11) ) {\n",
    "        cout << \"a: \" << a << \" diferente de 11!\\n\";\n",
    "    }\n",
    "    cout << \"\\n\";\n",
    "    \n",
    "    return 0;\n",
    "}"
   ]
  },
  {
   "cell_type": "code",
   "execution_count": 35,
   "id": "annual-bacon",
   "metadata": {},
   "outputs": [
    {
     "name": "stdout",
     "output_type": "stream",
     "text": [
      "a: 11 maior que 10 e menor que 20!\n",
      "\n",
      "a: 9 menor que 10 ou maior que 20!\n",
      "a: 9 diferente de 11!\n",
      "\n",
      "a: 21 menor que 10 ou maior que 20!\n",
      "a: 21 diferente de 11!\n",
      "\n"
     ]
    }
   ],
   "source": [
    "!g++ aula01/ex18.cpp -o aula01/ex18\n",
    "!./aula01/ex18 11\n",
    "!./aula01/ex18 9\n",
    "!./aula01/ex18 21\n"
   ]
  },
  {
   "cell_type": "markdown",
   "id": "occupational-conviction",
   "metadata": {},
   "source": [
    "### Operador condicional ternário\n",
    "\n",
    "(expressao1) ? (expressao2) : (expressao3);\n",
    "\n",
    "Esta operação pode ser interpretada da seguinte forma: se expressao1 for verdadeira, retorne o valor de\n",
    "expressao2; caso contrario, retorne o valor de expressao3. "
   ]
  },
  {
   "cell_type": "code",
   "execution_count": 36,
   "id": "successful-spring",
   "metadata": {},
   "outputs": [
    {
     "name": "stdout",
     "output_type": "stream",
     "text": [
      "Overwriting aula01/ex19.cpp\n"
     ]
    }
   ],
   "source": [
    "%%file aula01/ex19.cpp\n",
    "#include <iostream>\n",
    "using namespace std;\n",
    "\n",
    "int main(int argc, char *argv[ ]) {\n",
    "    int a;\n",
    "    string resultado;\n",
    "    a = atoi(argv[1]);\n",
    "    resultado = (a > 10) ? (\"maior\") : (\"menor\");\n",
    "    cout << \"a: \" << a << \" resultado: \" << resultado << \"\\n\\n\";\n",
    "    return 0;\n",
    "}"
   ]
  },
  {
   "cell_type": "code",
   "execution_count": 37,
   "id": "convenient-legend",
   "metadata": {},
   "outputs": [
    {
     "name": "stdout",
     "output_type": "stream",
     "text": [
      "a: 11 resultado: maior\n",
      "\n",
      "a: 9 resultado: menor\n",
      "\n",
      "a: 21 resultado: maior\n",
      "\n"
     ]
    }
   ],
   "source": [
    "!g++ aula01/ex19.cpp -o aula01/ex19\n",
    "!./aula01/ex19 11\n",
    "!./aula01/ex19 9\n",
    "!./aula01/ex19 21"
   ]
  },
  {
   "cell_type": "markdown",
   "id": "unexpected-title",
   "metadata": {},
   "source": [
    "### Variáveis Locais e Globais"
   ]
  },
  {
   "cell_type": "code",
   "execution_count": 94,
   "id": "extreme-sphere",
   "metadata": {},
   "outputs": [
    {
     "name": "stdout",
     "output_type": "stream",
     "text": [
      "Overwriting aula01/ex20.cpp\n"
     ]
    }
   ],
   "source": [
    "%%file aula01/ex20.cpp\n",
    "#include <iostream>\n",
    "using namespace std;\n",
    "\n",
    "int num(int b);\n",
    "int aGlobal = 4;\n",
    "\n",
    "int main() {\n",
    "    int a = 3;\n",
    "    int b = 1;\n",
    "    int c = 2;\n",
    "    cout << \"aGlobal: \" << aGlobal << \"\\n\";\n",
    "    cout << \"a main: \" << a << \"\\n\";\n",
    "    cout << \"b main: \" << b << \"\\n\";\n",
    "    cout << \"c main: \" << c << \"\\n\";\n",
    "    c = num(4);\n",
    "    cout << \"aGlobal: \" << aGlobal << \"\\n\";\n",
    "    cout << \"a main: \" << a << \"\\n\";\n",
    "    cout << \"b main: \" << b << \"\\n\";\n",
    "    cout << \"c main: \" << c << \"\\n\";\n",
    "    return 0;\n",
    "}\n",
    "\n",
    "int num(int b) {\n",
    "    int a = 5;\n",
    "    cout << \"\\n---inicio função---\\n\";\n",
    "    cout << \"a na função: \" << a << \"\\n\";\n",
    "    cout << \"b na função: \" << b << \"\\n\";\n",
    "    cout << \"aGlobal na função: \" << aGlobal << \"\\n\";\n",
    "    aGlobal++;\n",
    "    b++;\n",
    "    cout << \"---fim função---\\n\\n\";\n",
    "    return b;\n",
    "}\n"
   ]
  },
  {
   "cell_type": "code",
   "execution_count": 95,
   "id": "defined-butter",
   "metadata": {},
   "outputs": [
    {
     "name": "stdout",
     "output_type": "stream",
     "text": [
      "aGlobal: 4\n",
      "a main: 3\n",
      "b main: 1\n",
      "c main: 2\n",
      "\n",
      "---inicio função---\n",
      "a na função: 5\n",
      "b na função: 4\n",
      "aGlobal na função: 4\n",
      "---fim função---\n",
      "\n",
      "aGlobal: 5\n",
      "a main: 3\n",
      "b main: 1\n",
      "c main: 5\n"
     ]
    }
   ],
   "source": [
    "ex='ex20'\n",
    "!g++ aula01/\"$ex\".cpp -o aula01/$ex\n",
    "!./aula01/$ex 11"
   ]
  },
  {
   "cell_type": "markdown",
   "id": "angry-marking",
   "metadata": {},
   "source": [
    "### Estruturas de Repetição\n",
    "\n",
    "#### While"
   ]
  },
  {
   "cell_type": "code",
   "execution_count": 8,
   "id": "traditional-liberty",
   "metadata": {},
   "outputs": [
    {
     "name": "stdout",
     "output_type": "stream",
     "text": [
      "Overwriting aula01/ex21.cpp\n"
     ]
    }
   ],
   "source": [
    "%%file aula01/ex21.cpp\n",
    "#include <iostream>\n",
    "using namespace std;\n",
    "\n",
    "int main() {\n",
    "    int contador = 0;\n",
    "    while(contador < 10) {\n",
    "        contador++;\n",
    "        cout << \"\\nContador = \"\n",
    "        << contador;\n",
    "    }\n",
    "    cout << \"\\n\\nValor final: Contador = \"\n",
    "    << contador;\n",
    "    return 0;\n",
    "}"
   ]
  },
  {
   "cell_type": "code",
   "execution_count": 9,
   "id": "prospective-batch",
   "metadata": {},
   "outputs": [
    {
     "name": "stdout",
     "output_type": "stream",
     "text": [
      "\n",
      "Contador = 1\n",
      "Contador = 2\n",
      "Contador = 3\n",
      "Contador = 4\n",
      "Contador = 5\n",
      "Contador = 6\n",
      "Contador = 7\n",
      "Contador = 8\n",
      "Contador = 9\n",
      "Contador = 10\n",
      "\n",
      "Valor final: Contador = 10"
     ]
    }
   ],
   "source": [
    "ex='ex21'\n",
    "!g++ aula01/\"$ex\".cpp -o aula01/$ex\n",
    "!./aula01/$ex 11"
   ]
  },
  {
   "cell_type": "markdown",
   "id": "infinite-yesterday",
   "metadata": {},
   "source": [
    "#### continue e break"
   ]
  },
  {
   "cell_type": "code",
   "execution_count": 18,
   "id": "similar-motel",
   "metadata": {},
   "outputs": [
    {
     "name": "stdout",
     "output_type": "stream",
     "text": [
      "Overwriting aula01/ex22.cpp\n"
     ]
    }
   ],
   "source": [
    "%%file aula01/ex22.cpp\n",
    "#include <iostream>\n",
    "using namespace std;\n",
    "\n",
    "int main() { \n",
    "    int contador = 0;\n",
    "     while(true) {\n",
    "         contador++;\n",
    "         if (contador > 20)\n",
    "             break;\n",
    "         if (contador > 10)\n",
    "             continue;\n",
    "         cout << \"\\nContador = \"\n",
    "             << contador;         \n",
    "     }\n",
    "     cout << \"\\n\\nValor final = \"\n",
    "         << contador;\n",
    "    \n",
    "     return 0;\n",
    "}"
   ]
  },
  {
   "cell_type": "code",
   "execution_count": 19,
   "id": "advised-observer",
   "metadata": {},
   "outputs": [
    {
     "name": "stdout",
     "output_type": "stream",
     "text": [
      "\n",
      "Contador = 1\n",
      "Contador = 2\n",
      "Contador = 3\n",
      "Contador = 4\n",
      "Contador = 5\n",
      "Contador = 6\n",
      "Contador = 7\n",
      "Contador = 8\n",
      "Contador = 9\n",
      "Contador = 10\n",
      "\n",
      "Valor final = 21"
     ]
    }
   ],
   "source": [
    "ex='ex22'\n",
    "!g++ aula01/\"$ex\".cpp -o aula01/$ex\n",
    "!./aula01/$ex 11"
   ]
  },
  {
   "cell_type": "markdown",
   "id": "independent-habitat",
   "metadata": {},
   "source": [
    "#### do while"
   ]
  },
  {
   "cell_type": "code",
   "execution_count": 23,
   "id": "attended-stockholm",
   "metadata": {},
   "outputs": [
    {
     "name": "stdout",
     "output_type": "stream",
     "text": [
      "Overwriting aula01/ex23.cpp\n"
     ]
    }
   ],
   "source": [
    "%%file aula01/ex23.cpp\n",
    "#include <iostream>\n",
    "using namespace std;\n",
    "\n",
    "int main() {\n",
    "    int contador = 11;\n",
    "    do {\n",
    "        contador++;\n",
    "        cout << \"\\nContador = \"\n",
    "        << contador;\n",
    "    } while(contador < 10);\n",
    "    cout << \"\\n\\nValor final: Contador = \"\n",
    "    << contador;\n",
    "    return 0;\n",
    "}"
   ]
  },
  {
   "cell_type": "code",
   "execution_count": 24,
   "id": "peripheral-grocery",
   "metadata": {},
   "outputs": [
    {
     "name": "stdout",
     "output_type": "stream",
     "text": [
      "\n",
      "Contador = 12\n",
      "\n",
      "Valor final: Contador = 12"
     ]
    }
   ],
   "source": [
    "ex='ex23'\n",
    "!g++ aula01/\"$ex\".cpp -o aula01/$ex\n",
    "!./aula01/$ex 11"
   ]
  },
  {
   "cell_type": "markdown",
   "id": "miniature-posting",
   "metadata": {},
   "source": [
    "#### for"
   ]
  },
  {
   "cell_type": "code",
   "execution_count": 30,
   "id": "detailed-strength",
   "metadata": {},
   "outputs": [
    {
     "name": "stdout",
     "output_type": "stream",
     "text": [
      "Overwriting aula01/ex24.cpp\n"
     ]
    }
   ],
   "source": [
    "%%file aula01/ex24.cpp\n",
    "#include <iostream>\n",
    "using namespace std;\n",
    "\n",
    "int main() {\n",
    "    int contador = 0;\n",
    "    for(contador = 0; contador <= 10; contador++) {\n",
    "        cout << \"\\nContador = \" << contador;\n",
    "    }\n",
    "    return 0;\n",
    "}"
   ]
  },
  {
   "cell_type": "code",
   "execution_count": 32,
   "id": "alpine-journalism",
   "metadata": {},
   "outputs": [
    {
     "name": "stdout",
     "output_type": "stream",
     "text": [
      "\n",
      "Contador = 0\n",
      "Contador = 1\n",
      "Contador = 2\n",
      "Contador = 3\n",
      "Contador = 4\n",
      "Contador = 5\n",
      "Contador = 6\n",
      "Contador = 7\n",
      "Contador = 8\n",
      "Contador = 9\n",
      "Contador = 10"
     ]
    }
   ],
   "source": [
    "ex='ex24'\n",
    "!g++ aula01/\"$ex\".cpp -o aula01/$ex\n",
    "!./aula01/$ex 11"
   ]
  },
  {
   "cell_type": "markdown",
   "id": "textile-spending",
   "metadata": {},
   "source": [
    "#### switch"
   ]
  },
  {
   "cell_type": "code",
   "execution_count": 37,
   "id": "robust-subscription",
   "metadata": {},
   "outputs": [
    {
     "name": "stdout",
     "output_type": "stream",
     "text": [
      "Overwriting aula01/ex25.cpp\n"
     ]
    }
   ],
   "source": [
    "%%file aula01/ex25.cpp\n",
    "#include <iostream>\n",
    "using namespace std;\n",
    "\n",
    "int main() {\n",
    "    int num;\n",
    "    cout << \"Digite um número: \";\n",
    "    cin >> num;\n",
    "    switch(num) {\n",
    "        case 1:\n",
    "            cout << \"\\nVocê digitou um!\";\n",
    "            break;\n",
    "        case 2:\n",
    "            cout << \"\\nVocê digitou dois!\";\n",
    "            break;\n",
    "        case 3:\n",
    "            cout << \"\\nVocê digitou três!\";\n",
    "            break;\n",
    "        case 4:\n",
    "            cout << \"\\nVocê digitou quatro!\";\n",
    "            break;\n",
    "        case 5:\n",
    "            cout << \"\\nVocê digitou cinco!\";\n",
    "            break;\n",
    "        default:\n",
    "            cout << \"\\nVocê digitou um número maior que cinco!\";\n",
    "            break;\n",
    "    }\n",
    "    cout << \"\\n\";\n",
    "    return 0;\n",
    "}"
   ]
  },
  {
   "cell_type": "code",
   "execution_count": 38,
   "id": "daily-consciousness",
   "metadata": {},
   "outputs": [],
   "source": [
    "ex='ex25'\n",
    "!g++ aula01/\"$ex\".cpp -o aula01/$ex\n",
    "#!./aula01/$ex 11"
   ]
  },
  {
   "cell_type": "markdown",
   "id": "statistical-easter",
   "metadata": {},
   "source": [
    "#### Vetores"
   ]
  },
  {
   "cell_type": "code",
   "execution_count": 35,
   "id": "packed-pound",
   "metadata": {},
   "outputs": [
    {
     "name": "stdout",
     "output_type": "stream",
     "text": [
      "Overwriting aula01/ex26.cpp\n"
     ]
    }
   ],
   "source": [
    "%%file aula01/ex26.cpp\n",
    "#include <iostream>\n",
    "using namespace std;\n",
    "\n",
    "int main() {\n",
    "    int intArray[7];\n",
    "    int i;\n",
    "\n",
    "    for (i = 0; i < 7; i++) {\n",
    "        intArray[i] = i * 3;\n",
    "    }\n",
    "    \n",
    "    for(i = 0; i < 7; i++) {\n",
    "        cout << \"\\nValor de intArray[\"\n",
    "            << i\n",
    "            << \"] = \"\n",
    "            << intArray[i];\n",
    "    }\n",
    "    return 0;\n",
    "}"
   ]
  },
  {
   "cell_type": "code",
   "execution_count": 36,
   "id": "dangerous-legend",
   "metadata": {},
   "outputs": [
    {
     "name": "stdout",
     "output_type": "stream",
     "text": [
      "\n",
      "Valor de intArray[0] = 0\n",
      "Valor de intArray[1] = 3\n",
      "Valor de intArray[2] = 6\n",
      "Valor de intArray[3] = 9\n",
      "Valor de intArray[4] = 12\n",
      "Valor de intArray[5] = 15\n",
      "Valor de intArray[6] = 18"
     ]
    }
   ],
   "source": [
    "ex='ex26'\n",
    "!g++ aula01/\"$ex\".cpp -o aula01/$ex\n",
    "!./aula01/$ex 11"
   ]
  },
  {
   "cell_type": "markdown",
   "id": "closing-harassment",
   "metadata": {},
   "source": [
    "#### Matrizes"
   ]
  },
  {
   "cell_type": "code",
   "execution_count": 10,
   "id": "loaded-effort",
   "metadata": {},
   "outputs": [
    {
     "name": "stdout",
     "output_type": "stream",
     "text": [
      "Overwriting aula01/ex27.cpp\n"
     ]
    }
   ],
   "source": [
    "%%file aula01/ex27.cpp\n",
    "#include <iostream>\n",
    "using namespace std;\n",
    "\n",
    "int main() {\n",
    "    int array2D[4][3] = { {2, 4 ,6},\n",
    "                            {8, 10, 12},\n",
    "                            {14, 16, 18},\n",
    "                            {20, 22, 24}\n",
    "                            };\n",
    "    for(int i = 0; i < 4; i++) {\n",
    "        for(int j = 0; j < 3; j++) {\n",
    "            cout << array2D[i][j] << \"\\t\";\n",
    "        }\n",
    "        cout << \"\\n\";\n",
    "    }\n",
    "    return 0;\n",
    "}"
   ]
  },
  {
   "cell_type": "code",
   "execution_count": 11,
   "id": "exclusive-hughes",
   "metadata": {},
   "outputs": [
    {
     "name": "stdout",
     "output_type": "stream",
     "text": [
      "2\t4\t6\t\n",
      "8\t10\t12\t\n",
      "14\t16\t18\t\n",
      "20\t22\t24\t\n"
     ]
    }
   ],
   "source": [
    "ex='ex27'\n",
    "!g++ aula01/\"$ex\".cpp -o aula01/$ex\n",
    "!./aula01/$ex 11"
   ]
  },
  {
   "cell_type": "markdown",
   "id": "warming-peoples",
   "metadata": {},
   "source": [
    "#### Funções: parametros por referencia"
   ]
  },
  {
   "cell_type": "code",
   "execution_count": 34,
   "id": "manufactured-garden",
   "metadata": {},
   "outputs": [
    {
     "name": "stdout",
     "output_type": "stream",
     "text": [
      "Overwriting aula01/ex28.cpp\n"
     ]
    }
   ],
   "source": [
    "%%file aula01/ex28.cpp\n",
    "#include <iostream>\n",
    "using namespace std;\n",
    "\n",
    "void func1(int y) {\n",
    "  y++;\n",
    "  cout << \"y em func1:\\t\" << y << \"\\n\";\n",
    "}\n",
    "\n",
    "void func2(int &y) {\n",
    "  y++;\n",
    "  cout << \"y em func2:\\t\" << y << \"\\n\";\n",
    "}\n",
    "\n",
    "int main() {\n",
    "  int y = 3;\n",
    "  cout << \"y em main: \\t\" << y << \"\\n\";\n",
    "  //getchar();\n",
    "\n",
    "  func1(y);\n",
    "  //getchar();\n",
    "\n",
    "  cout << \"y em main: \\t\" << y << \"\\n\\n\";\n",
    "  //getchar();\n",
    "\n",
    "  func2(y);\n",
    "  //getchar();\n",
    "\n",
    "  cout << \"y em main: \\t\" << y << \"\\n\";\n",
    "}"
   ]
  },
  {
   "cell_type": "code",
   "execution_count": 9,
   "id": "mexican-convenience",
   "metadata": {},
   "outputs": [
    {
     "name": "stdout",
     "output_type": "stream",
     "text": [
      "y em main: \t3\n",
      "y em func1:\t4\n",
      "y em main: \t3\n",
      "\n",
      "y em func2:\t4\n",
      "y em main: \t4\n"
     ]
    }
   ],
   "source": [
    "ex='ex28'\n",
    "!g++ aula01/\"$ex\".cpp -o aula01/$ex\n",
    "!./aula01/$ex"
   ]
  },
  {
   "cell_type": "markdown",
   "id": "radio-burst",
   "metadata": {},
   "source": [
    "#### Ponteiros"
   ]
  },
  {
   "cell_type": "code",
   "execution_count": 21,
   "id": "aware-sapphire",
   "metadata": {},
   "outputs": [
    {
     "name": "stdout",
     "output_type": "stream",
     "text": [
      "Overwriting aula01/ex29.cpp\n"
     ]
    }
   ],
   "source": [
    "%%file aula01/ex29.cpp\n",
    "#include <iostream>\n",
    "using namespace std;\n",
    "\n",
    "void func1(int y) {\n",
    "  y++;\n",
    "  cout << \"y em func1:\\t\" << y << \"\\n\";\n",
    "  cout << \"end y: \\t\" << &y << \"\\n\\n\";\n",
    "}\n",
    "\n",
    "void func2(int *py) {\n",
    "  (*py)++;\n",
    "  cout << \"y em func2:\\t\" << *py << \"\\n\";\n",
    "  cout << \"end py:\\t\" << py << \"\\n\\n\";\n",
    "}\n",
    "\n",
    "int main() {\n",
    "  int y = 3;\n",
    "  cout << \"y em main: \\t\" << y << \"\\n\";\n",
    "  cout << \"end y: \\t\" << &y << \"\\n\\n\";\n",
    "  //getchar();\n",
    "\n",
    "  func1(y);\n",
    "  //getchar();\n",
    "\n",
    "  cout << \"y em main: \\t\" << y << \"\\n\";\n",
    "  cout << \"end y: \\t\" << &y << \"\\n\\n\";\n",
    "  //getchar();\n",
    "\n",
    "  func2(&y);\n",
    "  //getchar();\n",
    "\n",
    "  cout << \"y em main: \\t\" << y << \"\\n\";\n",
    "  cout << \"end y: \\t\" << &y << \"\\n\\n\";\n",
    "}"
   ]
  },
  {
   "cell_type": "code",
   "execution_count": 22,
   "id": "chinese-investing",
   "metadata": {},
   "outputs": [
    {
     "name": "stdout",
     "output_type": "stream",
     "text": [
      "y em main: \t3\n",
      "end y: \t0x7fffe46e844c\n",
      "\n",
      "y em func1:\t4\n",
      "end y: \t0x7fffe46e842c\n",
      "\n",
      "y em main: \t3\n",
      "end y: \t0x7fffe46e844c\n",
      "\n",
      "y em func2:\t4\n",
      "end py:\t0x7fffe46e844c\n",
      "\n",
      "y em main: \t4\n",
      "end y: \t0x7fffe46e844c\n",
      "\n"
     ]
    }
   ],
   "source": [
    "ex='ex29'\n",
    "!g++ aula01/\"$ex\".cpp -o aula01/$ex\n",
    "!./aula01/$ex"
   ]
  },
  {
   "cell_type": "markdown",
   "id": "artificial-small",
   "metadata": {},
   "source": [
    "#### Pilha e alocação dinaminca\n",
    "\n",
    "- sizeof: retorna a quantidade de bytes necessária para um determinado tipo de dados\n",
    "- malloc: aloca um espaço de memória e retorna um ponteiro do tipo void para o início do espaço de memória alocado\n",
    "- free libera o espaço de memória alocado\n"
   ]
  },
  {
   "cell_type": "code",
   "execution_count": 27,
   "id": "surface-bottom",
   "metadata": {},
   "outputs": [
    {
     "name": "stdout",
     "output_type": "stream",
     "text": [
      "Overwriting aula01/ex30.cpp\n"
     ]
    }
   ],
   "source": [
    "%%file aula01/ex30.cpp\n",
    "#include <iostream>\n",
    "using namespace std;\n",
    "\n",
    "struct Pilha {\n",
    "  int topo;\n",
    "  int capacidade;\n",
    "  float *prox;\n",
    "};\n",
    "\n",
    "void criarPilha(struct Pilha *p, int c) {\n",
    "  p->topo = -1;\n",
    "  p->capacidade = c - 1;\n",
    "  p->prox = (float*) malloc (c * sizeof(float));\n",
    "}\n",
    "\n",
    "void destroiPilha(struct Pilha *p) {\n",
    "    free(p);\n",
    "}\n",
    "\n",
    "int estaVazia(struct Pilha *p) {\n",
    "  if (p->topo == -1) {\n",
    "    return 1;\n",
    "  } else {\n",
    "    return 0;\n",
    "  }\n",
    "}\n",
    "\n",
    "int estaCheia(struct Pilha *p) {\n",
    "  if (p->topo == p->capacidade) {\n",
    "    return 1;\n",
    "  } else {\n",
    "    return 0;\n",
    "  }\n",
    "}\n",
    "\n",
    "void empilhar(struct Pilha *p, float v) {\n",
    "  p->topo++;\n",
    "  p->prox[p->topo] = v;\n",
    "}\n",
    "\n",
    "float desempilhar(struct Pilha *p) {\n",
    "  float aux = p->prox[p->topo];\n",
    "  p->topo--;\n",
    "  return aux;\n",
    "}\n",
    "\n",
    "int retornaTopo(struct Pilha *p) {\n",
    "  return p->prox [p->topo];\n",
    "}\n",
    "\n",
    "int main() {\n",
    "  struct Pilha minhaPilha;\n",
    "  int capacidade, op;\n",
    "  float valor;\n",
    "\n",
    "  cout << \"Capacidade da pilha: \";\n",
    "  cin >> capacidade;\n",
    "  criarPilha(&minhaPilha, capacidade);\n",
    "\n",
    "  do {\n",
    "    cout << \"\\nOpções:\\n\";\n",
    "    cout << \"1 - empilhar (push)\\n\";\n",
    "    cout << \"2 - desempilhar (pop)\\n\";\n",
    "    cout << \"3 - mostrar topo\\n\";\n",
    "    cout << \"4 - redefinir pilha\\n\";\n",
    "    cout << \"5 - sair\\n\";\n",
    "    cin >> op;\n",
    "\n",
    "    switch(op) {\n",
    "      case 1:\n",
    "        if (estaCheia(&minhaPilha) == 1) {\n",
    "          cout << \"\\nPilha cheia!!!\\n\";\n",
    "        } else {\n",
    "          cout << \"Valor:\\n\";\n",
    "          cin >> valor;\n",
    "          empilhar(&minhaPilha, valor);\n",
    "        }\n",
    "        break;\n",
    "      case 2:\n",
    "        if (estaVazia(&minhaPilha) == 1) {\n",
    "          cout << \"\\nPilha vazia!!!\\n\";\n",
    "        } else {\n",
    "          valor = desempilhar(&minhaPilha);\n",
    "          cout << \"Valor desempilhado: \" << valor << \"\\n\";\n",
    "        }\n",
    "        break;\n",
    "      case 3:\n",
    "        if (estaVazia(&minhaPilha) == 1) {\n",
    "          cout << \"\\nPilha vazia!!!\\n\";\n",
    "        } else {\n",
    "          valor = retornaTopo(&minhaPilha);\n",
    "          cout << \"Valor topo: \" << valor << \"\\n\";\n",
    "        }\n",
    "        break;\n",
    "      case 4:\n",
    "          cout << \"Destruindo a pilha\\n\\n\";\n",
    "          destroiPilha(&minhaPilha);\n",
    "        \n",
    "          cout << \"Redefinindo a pilha\\n\";\n",
    "          cout << \"Capacidade da pilha: \";\n",
    "          cin >> capacidade;\n",
    "          criarPilha(&minhaPilha, capacidade);\n",
    "        \n",
    "    }\n",
    "  } while (op != 5);\n",
    "}"
   ]
  },
  {
   "cell_type": "code",
   "execution_count": 28,
   "id": "drawn-factory",
   "metadata": {},
   "outputs": [],
   "source": [
    "ex='ex30'\n",
    "!g++ aula01/\"$ex\".cpp -o aula01/$ex\n",
    "#!./aula01/$ex"
   ]
  },
  {
   "cell_type": "code",
   "execution_count": 25,
   "id": "fossil-fighter",
   "metadata": {},
   "outputs": [
    {
     "name": "stderr",
     "output_type": "stream",
     "text": [
      "UsageError: Line magic function `%./aula01/$ex` not found.\n"
     ]
    }
   ],
   "source": [
    "%./aula01/$ex"
   ]
  },
  {
   "cell_type": "code",
   "execution_count": null,
   "id": "greenhouse-injection",
   "metadata": {},
   "outputs": [],
   "source": []
  }
 ],
 "metadata": {
  "kernelspec": {
   "display_name": "Python 3",
   "language": "python",
   "name": "python3"
  },
  "language_info": {
   "codemirror_mode": {
    "name": "ipython",
    "version": 3
   },
   "file_extension": ".py",
   "mimetype": "text/x-python",
   "name": "python",
   "nbconvert_exporter": "python",
   "pygments_lexer": "ipython3",
   "version": "3.9.2"
  }
 },
 "nbformat": 4,
 "nbformat_minor": 5
}
