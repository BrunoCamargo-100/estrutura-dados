{
 "cells": [
  {
   "cell_type": "markdown",
   "id": "smoking-syria",
   "metadata": {},
   "source": [
    "# DISCIPLINA: ESTRUTURAS DE DADOS (4 AULAS SEMANAIS)\n",
    "\n",
    "## OBJETIVOS\n",
    "\n",
    "Criar e manipular tipos abstratos de dados: listas, pilhas, filas e árvores.\n",
    "\n",
    "## EMENTA\n",
    "\n",
    "Pilhas, filas, alocação dinâmica, recursividade, listas encadeadas, tabelas de espalhamento e árvores."
   ]
  },
  {
   "cell_type": "markdown",
   "id": "future-swedish",
   "metadata": {},
   "source": [
    "### Relembrando a linguagem C:"
   ]
  },
  {
   "cell_type": "code",
   "execution_count": 1,
   "id": "textile-germany",
   "metadata": {},
   "outputs": [
    {
     "name": "stdout",
     "output_type": "stream",
     "text": [
      "Overwriting aula01/ex01.c\n"
     ]
    }
   ],
   "source": [
    "%%file aula01/ex01.c\n",
    "#include <stdio.h>\n",
    "\n",
    "int main(){\n",
    "    printf(\"Ola mundo 01!\");\n",
    "    return 0;\n",
    "}"
   ]
  },
  {
   "cell_type": "code",
   "execution_count": 2,
   "id": "interracial-convenience",
   "metadata": {},
   "outputs": [
    {
     "name": "stdout",
     "output_type": "stream",
     "text": [
      "Ola mundo 01!"
     ]
    }
   ],
   "source": [
    "!gcc aula01/ex01.c -o aula01/ex01\n",
    "!./aula01/ex01"
   ]
  },
  {
   "cell_type": "code",
   "execution_count": 3,
   "id": "commercial-indicator",
   "metadata": {},
   "outputs": [
    {
     "name": "stdout",
     "output_type": "stream",
     "text": [
      "Writing aula01/ex02.cpp\n"
     ]
    }
   ],
   "source": [
    "%%file aula01/ex02.cpp\n",
    "#include <iostream>\n",
    "\n",
    "int main() {\n",
    "    std::cout << \"Ola mundo 02!\";\n",
    "    return 0;\n",
    "}"
   ]
  },
  {
   "cell_type": "code",
   "execution_count": 4,
   "id": "confidential-forum",
   "metadata": {},
   "outputs": [
    {
     "name": "stdout",
     "output_type": "stream",
     "text": [
      "Ola mundo 02!"
     ]
    }
   ],
   "source": [
    "!g++ aula01/ex02.cpp -o aula01/ex02\n",
    "!./aula01/ex02"
   ]
  },
  {
   "cell_type": "code",
   "execution_count": 5,
   "id": "applied-struggle",
   "metadata": {},
   "outputs": [
    {
     "name": "stdout",
     "output_type": "stream",
     "text": [
      "Writing aula01/ex03.cpp\n"
     ]
    }
   ],
   "source": [
    "%%file aula01/ex03.cpp\n",
    "#include <iostream>\n",
    "using namespace std;\n",
    "\n",
    "int main() {\n",
    "    cout << \"Olá mundo 03!\";\n",
    "    return 0;\n",
    "}"
   ]
  },
  {
   "cell_type": "code",
   "execution_count": 6,
   "id": "opposed-population",
   "metadata": {},
   "outputs": [
    {
     "name": "stdout",
     "output_type": "stream",
     "text": [
      "Olá mundo 03!"
     ]
    }
   ],
   "source": [
    "!g++ aula01/ex03.cpp -o aula01/ex03\n",
    "!./aula01/ex03"
   ]
  },
  {
   "cell_type": "markdown",
   "id": "designed-bidder",
   "metadata": {},
   "source": [
    "### TIPOS DE DADOS\n",
    "\n",
    "- char : caracter\n",
    "- int : inteiros\n",
    "- float : precisão simples (32-bits aproximadamente sete digitos)\n",
    "- double : precisão dupla (64-bits entre 15 e 16 digitos)\n",
    "- bool : booleano\n",
    "\n",
    "É importante ressaltar que embora C++ disponha do tipo bool, qualquer valor diferente de zero é interpretado\n",
    "como sendo verdadeiro (true). O valor zero é interpretado como sendo falso (false).\n",
    "O exemplo abaixo cria variáveis dos tipos básicos e exibe seus valores. "
   ]
  },
  {
   "cell_type": "code",
   "execution_count": 7,
   "id": "adopted-harassment",
   "metadata": {},
   "outputs": [
    {
     "name": "stdout",
     "output_type": "stream",
     "text": [
      "Writing aula01/ex04.cpp\n"
     ]
    }
   ],
   "source": [
    "%%file aula01/ex04.cpp\n",
    "#include <iostream>\n",
    "using namespace std;\n",
    "\n",
    "int main() {\n",
    "    char charVar = 't';\n",
    "    int intVar = 298;\n",
    "    float floatVar = 49.95;\n",
    "    double doubleVar = 99.9999;\n",
    "    bool boolVar = (2 > 3);\n",
    "    std::cout << \"charVar = \" \n",
    "        << charVar \n",
    "        << \"\\n\";\n",
    "    std::cout << \"intVar = \" \n",
    "        << intVar \n",
    "        << \"\\n\";\n",
    "    std::cout << \"floatVar = \" \n",
    "        << floatVar \n",
    "        << \"\\n\";\n",
    "    std::cout << \"doubleVar = \" \n",
    "        << doubleVar \n",
    "        << \"\\n\";\n",
    "    std::cout << \"boolVar = \" \n",
    "        << boolVar \n",
    "        << \"\\n\";\n",
    "    return 0;\n",
    "}"
   ]
  },
  {
   "cell_type": "code",
   "execution_count": 8,
   "id": "broad-advantage",
   "metadata": {},
   "outputs": [
    {
     "name": "stdout",
     "output_type": "stream",
     "text": [
      "charVar = t\n",
      "intVar = 298\n",
      "floatVar = 49.95\n",
      "doubleVar = 99.9999\n",
      "boolVar = 0\n"
     ]
    }
   ],
   "source": [
    "!g++ aula01/ex04.cpp -o aula01/ex04\n",
    "!./aula01/ex04"
   ]
  },
  {
   "cell_type": "markdown",
   "id": "civic-morrison",
   "metadata": {},
   "source": [
    "### Escape\n",
    "\n",
    "- \\n caractere de nova linha\n",
    "- \\t caractere de tabulação (tab)\n",
    "- \\b caractere backspace\n",
    "- \\\" aspa dupla\n",
    "- \\' aspa simples\n",
    "- \\? ponto de interrogação\n",
    "- \\\\ barra invertida "
   ]
  },
  {
   "cell_type": "code",
   "execution_count": 9,
   "id": "polar-auditor",
   "metadata": {},
   "outputs": [
    {
     "name": "stdout",
     "output_type": "stream",
     "text": [
      "Writing aula01/ex05.cpp\n"
     ]
    }
   ],
   "source": [
    "%%file aula01/ex05.cpp\n",
    "#include <iostream>\n",
    "\n",
    "int main() {\n",
    "    std::cout << \"\\\"Frase entre aspas\\\"\\n\";\n",
    "    std::cout << \"Alguma duvida\\?\\n\";\n",
    "    return 0;\n",
    "}"
   ]
  },
  {
   "cell_type": "code",
   "execution_count": 10,
   "id": "relative-christopher",
   "metadata": {},
   "outputs": [
    {
     "name": "stdout",
     "output_type": "stream",
     "text": [
      "\"Frase entre aspas\"\n",
      "Alguma duvida?\n"
     ]
    }
   ],
   "source": [
    "!g++ aula01/ex05.cpp -o aula01/ex05\n",
    "!./aula01/ex05"
   ]
  },
  {
   "cell_type": "markdown",
   "id": "tight-fever",
   "metadata": {},
   "source": [
    "### Variáveis"
   ]
  },
  {
   "cell_type": "code",
   "execution_count": 11,
   "id": "terminal-inventory",
   "metadata": {},
   "outputs": [
    {
     "name": "stdout",
     "output_type": "stream",
     "text": [
      "Writing aula01/ex06.cpp\n"
     ]
    }
   ],
   "source": [
    "%%file aula01/ex06.cpp\n",
    "#include <iostream>\n",
    "int main() {\n",
    "    std::cout << \"*** Tamanhos das variaveis ***\\n\";\n",
    "    std::cout << \"Tamanho de char =\\t\"\n",
    "        << sizeof(char)\n",
    "        << \" bytes.\\n\";\n",
    "    std::cout << \"Tamanho de int =\\t\"\n",
    "        << sizeof(int) \n",
    "        << \" bytes.\\n\";\n",
    "    std::cout << \"Tamanho de float =\\t\"\n",
    "        << sizeof(float)\n",
    "        << \" bytes.\\n\";\n",
    "    std::cout << \"Tamanho de double =\\t\"\n",
    "        << sizeof(double)\n",
    "        << \" bytes.\\n\";\n",
    "    std::cout << \"Tamanho de bool =\\t\"\n",
    "        << sizeof(bool)\n",
    "        << \" bytes.\\n\";\n",
    "    return 0;\n",
    "}"
   ]
  },
  {
   "cell_type": "code",
   "execution_count": 12,
   "id": "continuing-professional",
   "metadata": {},
   "outputs": [
    {
     "name": "stdout",
     "output_type": "stream",
     "text": [
      "*** Tamanhos das variaveis ***\n",
      "Tamanho de char =\t1 bytes.\n",
      "Tamanho de int =\t4 bytes.\n",
      "Tamanho de float =\t4 bytes.\n",
      "Tamanho de double =\t8 bytes.\n",
      "Tamanho de bool =\t1 bytes.\n"
     ]
    }
   ],
   "source": [
    "!g++ aula01/ex06.cpp -o aula01/ex06\n",
    "!./aula01/ex06"
   ]
  },
  {
   "cell_type": "code",
   "execution_count": 13,
   "id": "bound-stamp",
   "metadata": {},
   "outputs": [
    {
     "name": "stdout",
     "output_type": "stream",
     "text": [
      "Writing aula01/ex07.cpp\n"
     ]
    }
   ],
   "source": [
    "%%file aula01/ex07.cpp\n",
    "#include <iostream>\n",
    "using namespace std;\n",
    "\n",
    "int main() {\n",
    "    int larg = 7, compr;\n",
    "    compr = 8;\n",
    "    int area = larg * compr;\n",
    "    cout << \"*** Valores finais ***\\n\";\n",
    "    cout << \"Largura = \"\n",
    "        << larg << \"\\n\";\n",
    "    cout << \"Comprimento = \"\n",
    "        << compr << \"\\n\";\n",
    "    cout << \"Area = \"\n",
    "        << area << \"\\n\";\n",
    "    return 0;\n",
    "}"
   ]
  },
  {
   "cell_type": "code",
   "execution_count": 14,
   "id": "instrumental-helicopter",
   "metadata": {},
   "outputs": [
    {
     "name": "stdout",
     "output_type": "stream",
     "text": [
      "*** Valores finais ***\n",
      "Largura = 7\n",
      "Comprimento = 8\n",
      "Area = 56\n"
     ]
    }
   ],
   "source": [
    "!g++ aula01/ex07.cpp -o aula01/ex07\n",
    "!./aula01/ex07"
   ]
  },
  {
   "cell_type": "markdown",
   "id": "biological-condition",
   "metadata": {},
   "source": [
    "### Variáveis Unsigned"
   ]
  },
  {
   "cell_type": "code",
   "execution_count": 15,
   "id": "reduced-century",
   "metadata": {
    "tags": []
   },
   "outputs": [
    {
     "name": "stdout",
     "output_type": "stream",
     "text": [
      "Writing aula01/ex08.cpp\n"
     ]
    }
   ],
   "source": [
    "%%file aula01/ex08.cpp\n",
    "#include <iostream>\n",
    "#include <iomanip>\n",
    "#include <math.h>\n",
    "using namespace std;\n",
    "\n",
    "int main() {\n",
    "    std::cout.setf(ios::fixed);    \n",
    "    cout << \"Tipo\\t\\t\\tTamanho\\t\\tValores\\n\";\n",
    "    \n",
    "    cout <<\"short int: \\t\\t\"\n",
    "        << sizeof(short int)\n",
    "        << \" bytes\\t\\t\"\n",
    "        << setprecision(0) << pow(2,8*sizeof(unsigned short int))/2*-1\n",
    "        << \" a \"\n",
    "        << pow(2,8*sizeof(unsigned short int))/2-1\n",
    "        << \"\\n\";\n",
    "\n",
    "    cout << \"unsigned short int: \\t\"\n",
    "        << sizeof(unsigned short int)\n",
    "        << \" bytes\\t\\t\"\n",
    "        << 0\n",
    "        << \" a \"\n",
    "        << pow(2,8*sizeof(unsigned short int))-1\n",
    "        << \"\\n\";\n",
    "    \n",
    "    cout <<\"int: \\t\\t\\t\"\n",
    "        << sizeof(int)\n",
    "        << \" bytes\\t\\t\"\n",
    "        << pow(2,8*sizeof(int))/2*-1\n",
    "        << \" a \"\n",
    "        << pow(2,8*sizeof(int))/2-1\n",
    "        << \"\\n\";\n",
    "\n",
    "    \n",
    "    cout << \"unsigned int: \\t\\t\"\n",
    "        << sizeof(unsigned int)\n",
    "        << \" bytes\\t\\t\"\n",
    "        << 0\n",
    "        << \" a \"\n",
    "        << pow(2,8*sizeof(int))-1\n",
    "        << \"\\n\";\n",
    "\n",
    "    cout <<\"long int: \\t\\t\"\n",
    "        << sizeof(long int)\n",
    "        << \" bytes\\t\\t\"\n",
    "        << pow(2,8*sizeof(long int))/2*-1\n",
    "        << \" a \"\n",
    "        << (pow(2,8*sizeof(long int))/2)-1\n",
    "        << \"\\n\";\n",
    "\n",
    "    cout << \"unsigned long int: \\t\"\n",
    "        << sizeof(unsigned long int)\n",
    "        << \" bytes\\t\\t\"\n",
    "        << 0\n",
    "        << \" a \"\n",
    "        << pow(2,8*sizeof(unsigned long int))-1\n",
    "        << \"\\n\";\n",
    "    return 0;\n",
    "}"
   ]
  },
  {
   "cell_type": "code",
   "execution_count": 16,
   "id": "cutting-roads",
   "metadata": {
    "tags": []
   },
   "outputs": [
    {
     "name": "stdout",
     "output_type": "stream",
     "text": [
      "Tipo\t\t\tTamanho\t\tValores\n",
      "short int: \t\t2 bytes\t\t-32768 a 32767\n",
      "unsigned short int: \t2 bytes\t\t0 a 65535\n",
      "int: \t\t\t4 bytes\t\t-2147483648 a 2147483647\n",
      "unsigned int: \t\t4 bytes\t\t0 a 4294967295\n",
      "long int: \t\t8 bytes\t\t-9223372036854775808 a 9223372036854775808\n",
      "unsigned long int: \t8 bytes\t\t0 a 18446744073709551616\n"
     ]
    }
   ],
   "source": [
    "!g++ aula01/ex08.cpp -o aula01/ex08\n",
    "!./aula01/ex08"
   ]
  },
  {
   "cell_type": "code",
   "execution_count": 17,
   "id": "expanded-ideal",
   "metadata": {},
   "outputs": [
    {
     "name": "stdout",
     "output_type": "stream",
     "text": [
      "Writing aula01/ex09.cpp\n"
     ]
    }
   ],
   "source": [
    "%%file aula01/ex09.cpp\n",
    "#include <iostream>\n",
    "int main() {\n",
    "    unsigned short int usVar;\n",
    "    usVar = 65535;\n",
    "    std::cout << \"Valor inicial = \"\n",
    "        << usVar \n",
    "        << \"\\n\";\n",
    "    usVar = usVar + 1;\n",
    "    std::cout << \"Somando 1 = \"\n",
    "        << usVar \n",
    "        << \"\\n\";\n",
    "    usVar = usVar + 1;\n",
    "    std::cout << \"Somando mais 1 = \"\n",
    "        << usVar \n",
    "        << \"\\n\";\n",
    "    return 0;\n",
    "}"
   ]
  },
  {
   "cell_type": "code",
   "execution_count": 18,
   "id": "genetic-badge",
   "metadata": {},
   "outputs": [
    {
     "name": "stdout",
     "output_type": "stream",
     "text": [
      "Valor inicial = 65535\n",
      "Somando 1 = 0\n",
      "Somando mais 1 = 1\n"
     ]
    }
   ],
   "source": [
    "!g++ aula01/ex09.cpp -o aula01/ex09\n",
    "!./aula01/ex09"
   ]
  },
  {
   "cell_type": "markdown",
   "id": "associate-shoot",
   "metadata": {},
   "source": [
    "### Strings"
   ]
  },
  {
   "cell_type": "code",
   "execution_count": 19,
   "id": "timely-saturday",
   "metadata": {},
   "outputs": [
    {
     "name": "stdout",
     "output_type": "stream",
     "text": [
      "Overwriting aula01/ex10.cpp\n"
     ]
    }
   ],
   "source": [
    "%%file aula01/ex10.cpp\n",
    "#include <iostream>\n",
    "using namespace std;\n",
    "\n",
    "int main() {\n",
    "    string s1 = \"Ola\";\n",
    "    string s2 = \"Mundo\";\n",
    "    cout << s1 + \" \" + s2;\n",
    "    return 0;\n",
    "}"
   ]
  },
  {
   "cell_type": "code",
   "execution_count": 20,
   "id": "incorrect-empire",
   "metadata": {},
   "outputs": [
    {
     "name": "stdout",
     "output_type": "stream",
     "text": [
      "Ola Mundo"
     ]
    }
   ],
   "source": [
    "!g++ aula01/ex10.cpp -o aula01/ex10\n",
    "!./aula01/ex10"
   ]
  },
  {
   "cell_type": "markdown",
   "id": "sharp-classics",
   "metadata": {},
   "source": [
    "### Funções"
   ]
  },
  {
   "cell_type": "code",
   "execution_count": 21,
   "id": "fossil-whale",
   "metadata": {},
   "outputs": [
    {
     "name": "stdout",
     "output_type": "stream",
     "text": [
      "Overwriting aula01/ex11.cpp\n"
     ]
    }
   ],
   "source": [
    "%%file aula01/ex11.cpp\n",
    "#include <iostream>\n",
    "using namespace std;\n",
    "\n",
    "void digaAlo() {\n",
    "    cout << \"Alo, Mundo!\";\n",
    "}\n",
    "\n",
    "int main() {\n",
    "    digaAlo();\n",
    "    return 0;\n",
    "}"
   ]
  },
  {
   "cell_type": "code",
   "execution_count": 22,
   "id": "convertible-mathematics",
   "metadata": {},
   "outputs": [
    {
     "name": "stdout",
     "output_type": "stream",
     "text": [
      "Alo, Mundo!"
     ]
    }
   ],
   "source": [
    "!g++ aula01/ex11.cpp -o aula01/ex11\n",
    "!./aula01/ex11"
   ]
  },
  {
   "cell_type": "markdown",
   "id": "verified-salon",
   "metadata": {},
   "source": [
    "#### Funções: parametros e protótipo de função"
   ]
  },
  {
   "cell_type": "code",
   "execution_count": 54,
   "id": "surrounded-aluminum",
   "metadata": {},
   "outputs": [
    {
     "name": "stdout",
     "output_type": "stream",
     "text": [
      "Overwriting aula01/ex12.cpp\n"
     ]
    }
   ],
   "source": [
    "%%file aula01/ex12.cpp\n",
    "#include <iostream>\n",
    "using namespace std;\n",
    "\n",
    "void digaAlo(string msg);\n",
    "\n",
    "int main() {\n",
    "    digaAlo(\"Alo mundo!!!\");\n",
    "    return 0;\n",
    "}\n",
    "\n",
    "void digaAlo(string msg) {\n",
    "    cout << msg;\n",
    "}\n"
   ]
  },
  {
   "cell_type": "code",
   "execution_count": 55,
   "id": "broken-separate",
   "metadata": {},
   "outputs": [
    {
     "name": "stdout",
     "output_type": "stream",
     "text": [
      "Alo mundo!!!"
     ]
    }
   ],
   "source": [
    "!g++ aula01/ex12.cpp -o aula01/ex12\n",
    "!./aula01/ex12"
   ]
  },
  {
   "cell_type": "markdown",
   "id": "entertaining-satellite",
   "metadata": {},
   "source": [
    "### Entrada de dados"
   ]
  },
  {
   "cell_type": "code",
   "execution_count": 26,
   "id": "purple-celebrity",
   "metadata": {},
   "outputs": [
    {
     "name": "stdout",
     "output_type": "stream",
     "text": [
      "Overwriting aula01/ex13.cpp\n"
     ]
    }
   ],
   "source": [
    "%%file aula01/ex13.cpp\n",
    "#include <iostream>\n",
    "using namespace std;\n",
    "\n",
    "int Soma(int i, int j) {\n",
    "    cout << \"Estamos na funcao Soma().\\n\";\n",
    "    cout << \"Valores recebidos: \\n\";\n",
    "    cout << \"i = \"\n",
    "        << i\n",
    "        << \", j = \"\n",
    "        << j\n",
    "        << \"\\n\";\n",
    "    return (i + j);\n",
    "}\n",
    "\n",
    "int main() {\n",
    "    cout << \"Estamos em main()\\n\";\n",
    "    int x, y, z;\n",
    "    cout << \"\\nDigite o primeiro num. + <Enter>\";\n",
    "    //x = 12;\n",
    "    cin >> x;\n",
    "    cout << \"\\nDigite o segundo num. + <Enter>\";\n",
    "    cin >> y; \n",
    "    //y = 14;\n",
    "    cout << \"Chamando funcao Soma()...\\n\";\n",
    "    z = Soma(x, y);\n",
    "    cout << \"Voltamos a main()\\n\";\n",
    "    cout << \"Novo valor de z = \"\n",
    "        << z\n",
    "        << \"\\n\";\n",
    "    return 0;\n",
    "} // Fim de main()"
   ]
  },
  {
   "cell_type": "code",
   "execution_count": 27,
   "id": "mighty-metropolitan",
   "metadata": {},
   "outputs": [],
   "source": [
    "!g++ aula01/ex13.cpp -o aula01/ex13\n",
    "#!./aula01/ex13"
   ]
  },
  {
   "cell_type": "markdown",
   "id": "dominant-cooperative",
   "metadata": {},
   "source": [
    "### Operadores Matemáticos\n",
    "\n",
    "- \\+ adição\n",
    "- \\- subtração\n",
    "- \\* multiplicação\n",
    "- / divisão\n",
    "- % módulo"
   ]
  },
  {
   "cell_type": "code",
   "execution_count": 28,
   "id": "forty-dominant",
   "metadata": {},
   "outputs": [
    {
     "name": "stdout",
     "output_type": "stream",
     "text": [
      "Writing aula01/ex14.pp\n"
     ]
    }
   ],
   "source": [
    "%%file aula01/ex14.pp\n",
    "#include <iostream>\n",
    "using namespace std;\n",
    "\n",
    "int main()\n",
    "{\n",
    "    cout << \"*** Resto da divisao inteira ***\\n\";\n",
    "    cout << \"40 % 4 = \"\n",
    "        << 40 % 4\n",
    "        << \"\\n\";\n",
    "    cout << \"41 % 4 = \"\n",
    "        << 41 % 4\n",
    "        << \"\\n\";\n",
    "    cout << \"42 % 4 = \"\n",
    "        << 42 % 4\n",
    "        << \"\\n\"; \n",
    "    cout << \"43 % 4 = \"\n",
    "        << 43 % 4\n",
    "        << \"\\n\";\n",
    "    cout << \"44 % 4 = \"\n",
    "        << 44 % 4\n",
    "        << \"\\n\";\n",
    "    return 0;\n",
    "} // Fim de main()"
   ]
  },
  {
   "cell_type": "code",
   "execution_count": 29,
   "id": "declared-bolivia",
   "metadata": {},
   "outputs": [
    {
     "name": "stdout",
     "output_type": "stream",
     "text": [
      "*** Resto da divisao inteira ***\n",
      "40 % 4 = 0\n",
      "41 % 4 = 1\n",
      "42 % 4 = 2\n",
      "43 % 4 = 3\n",
      "44 % 4 = 0\n"
     ]
    }
   ],
   "source": [
    "!g++ aula01/ex14.cpp -o aula01/ex14\n",
    "!./aula01/ex14"
   ]
  },
  {
   "cell_type": "code",
   "execution_count": 30,
   "id": "brown-endorsement",
   "metadata": {},
   "outputs": [
    {
     "name": "stdout",
     "output_type": "stream",
     "text": [
      "Overwriting aula01/ex15.cpp\n"
     ]
    }
   ],
   "source": [
    "%%file aula01/ex15.cpp\n",
    "#include <iostream>\n",
    "using namespace std;\n",
    "\n",
    "int main() {\n",
    "    short unsigned int diferenca;\n",
    "    short unsigned  int numMaior = 1000;\n",
    "    short unsigned  int numMenor = 300;\n",
    "    cout << \"\\nnumMaior = \"\n",
    "        << numMaior\n",
    "        << \", numMenor = \"\n",
    "        << numMenor\n",
    "        << \"\\n\"; \n",
    "    diferenca = numMaior - numMenor;\n",
    "    cout << \"\\nnumMaior - numMenor = \"\n",
    "        << diferenca\n",
    "        << \"\\n\";\n",
    "    diferenca = numMenor - numMaior;\n",
    "    cout << \"\\nnumMenor - numMaior = \"\n",
    "        << diferenca\n",
    "        << \"\\n\";\n",
    "    return 0;\n",
    "}"
   ]
  },
  {
   "cell_type": "code",
   "execution_count": 31,
   "id": "entire-master",
   "metadata": {},
   "outputs": [
    {
     "name": "stdout",
     "output_type": "stream",
     "text": [
      "\n",
      "numMaior = 1000, numMenor = 300\n",
      "\n",
      "numMaior - numMenor = 700\n",
      "\n",
      "numMenor - numMaior = 64836\n"
     ]
    }
   ],
   "source": [
    "!g++ aula01/ex15.cpp -o aula01/ex15\n",
    "!./aula01/ex15"
   ]
  },
  {
   "cell_type": "markdown",
   "id": "subtle-brooks",
   "metadata": {},
   "source": [
    "### Operadores incremento / decremento"
   ]
  },
  {
   "cell_type": "code",
   "execution_count": 32,
   "id": "actual-military",
   "metadata": {},
   "outputs": [
    {
     "name": "stdout",
     "output_type": "stream",
     "text": [
      "Overwriting aula01/ex16.cpp\n"
     ]
    }
   ],
   "source": [
    "%%file aula01/ex16.cpp\n",
    "#include <iostream>\n",
    "using namespace std;\n",
    "\n",
    "int main() {\n",
    "    int a,b,x, y;\n",
    "    a = b = 10;\n",
    "    x = a++;\n",
    "    y = ++b;\n",
    "    cout << \"a: \" \n",
    "        << a \n",
    "        << \"\\nb: \"\n",
    "        << b \n",
    "        << \"\\nx: \"\n",
    "        << x \n",
    "        << \"\\ny: \"\n",
    "        << y;\n",
    "    cout << \"\\n\\nDecremento:\\n\";\n",
    "    x = a--;\n",
    "    y = --b;\n",
    "    cout << \"a: \" \n",
    "        << a \n",
    "        << \"\\nb: \"\n",
    "        << b \n",
    "        << \"\\nx: \"\n",
    "        << x \n",
    "        << \"\\ny: \"\n",
    "        << y;\n",
    "    return 0;\n",
    "}"
   ]
  },
  {
   "cell_type": "code",
   "execution_count": 33,
   "id": "fewer-policy",
   "metadata": {},
   "outputs": [
    {
     "name": "stdout",
     "output_type": "stream",
     "text": [
      "a: 11\n",
      "b: 11\n",
      "x: 10\n",
      "y: 11\n",
      "\n",
      "Decremento:\n",
      "a: 10\n",
      "b: 10\n",
      "x: 11\n",
      "y: 10"
     ]
    }
   ],
   "source": [
    "!g++ aula01/ex16.cpp -o aula01/ex16\n",
    "!./aula01/ex16"
   ]
  },
  {
   "cell_type": "markdown",
   "id": "prostate-mercy",
   "metadata": {},
   "source": [
    "### Estrutura condicional\n",
    "\n",
    "- argc – é um valor inteiro que indica a quantidade de argumentos que foram passados ao chamar o programa.\n",
    "- argv – é um vetor de char que contém os argumentos, um para cada string passada na linha de comando.\n",
    "- argv[0] armazena o nome do programa que foi chamado no prompt, sendo assim, argc é pelo menos igual a 1, pois no mínimo existirá um argumento.\n",
    "- int atoi (const char * str); : converte string to integer"
   ]
  },
  {
   "cell_type": "code",
   "execution_count": 28,
   "id": "undefined-medicine",
   "metadata": {},
   "outputs": [
    {
     "name": "stdout",
     "output_type": "stream",
     "text": [
      "Overwriting aula01/ex17.cpp\n"
     ]
    }
   ],
   "source": [
    "%%file aula01/ex17.cpp\n",
    "#include <iostream>\n",
    "using namespace std;\n",
    "\n",
    "int main(int argc, char *argv[ ]) {\n",
    "    int a;\n",
    "    a = atoi(argv[1]);\n",
    "    \n",
    "    if (a > 10) {\n",
    "        cout << \"a: \" << a << \" maior que 10!\\n\";\n",
    "    } else {\n",
    "        cout << \"a: \" << a <<  \" menor que 10!\\n\";\n",
    "        if (a > 5) {\n",
    "            cout << \"a: \" << a << \" maior que 5\\n\";\n",
    "        }\n",
    "    }\n",
    "    cout << \"\\n\";\n",
    "    \n",
    "    return 0;\n",
    "}"
   ]
  },
  {
   "cell_type": "code",
   "execution_count": 27,
   "id": "streaming-carroll",
   "metadata": {},
   "outputs": [
    {
     "name": "stdout",
     "output_type": "stream",
     "text": [
      "a: 11 maior que 10!\n",
      "a: 11 maior que 10!\n",
      "\n",
      "a: 9 menor que 10!\n",
      "a: 9 maior que 5\n",
      "\n",
      "a: 6 menor que 10!\n",
      "a: 6 maior que 5\n",
      "\n"
     ]
    }
   ],
   "source": [
    "!g++ aula01/ex17.cpp -o aula01/ex17\n",
    "!./aula01/ex17 11\n",
    "!./aula01/ex17 9\n",
    "!./aula01/ex17 6"
   ]
  },
  {
   "cell_type": "markdown",
   "id": "curious-boxing",
   "metadata": {},
   "source": [
    "### Operadores lógicos\n",
    "\n",
    "|Operador |Símbolo |Exemplo                      |\n",
    "|---------|--------|-----------------------------|\n",
    "|AND      | &&     | expressao1 && expressao2    |\n",
    "|OR       | \\|\\|   |expressao1 \\|\\| expressao2 |\n",
    "|NOT      | !      |!expressao                   |"
   ]
  },
  {
   "cell_type": "code",
   "execution_count": 41,
   "id": "opposite-amazon",
   "metadata": {},
   "outputs": [
    {
     "name": "stdout",
     "output_type": "stream",
     "text": [
      "Overwriting aula01/ex18.cpp\n"
     ]
    }
   ],
   "source": [
    "%%file aula01/ex18.cpp\n",
    "#include <iostream>\n",
    "using namespace std;\n",
    "\n",
    "int main(int argc, char *argv[ ]) {\n",
    "    int a;\n",
    "    a = atoi(argv[1]);\n",
    "    \n",
    "    if ((a > 10) && (a < 20)) {\n",
    "        cout << \"a: \" << a << \" maior que 10 e menor que 20!\\n\";\n",
    "    } \n",
    "\n",
    "    if ((a <= 10) || (a >= 20)) {\n",
    "        cout << \"a: \" << a << \" menor que 10 ou maior que 20!\\n\";\n",
    "    } \n",
    "    \n",
    "    if (! (a == 11) ) {\n",
    "        cout << \"a: \" << a << \" diferente de 11!\\n\";\n",
    "    }\n",
    "    cout << \"\\n\";\n",
    "    \n",
    "    return 0;\n",
    "}"
   ]
  },
  {
   "cell_type": "code",
   "execution_count": 42,
   "id": "liberal-checklist",
   "metadata": {},
   "outputs": [
    {
     "name": "stdout",
     "output_type": "stream",
     "text": [
      "a: 11 maior que 10 e menor que 20!\n",
      "\n",
      "a: 9 menor que 10 ou maior que 20!\n",
      "a: 9 diferente de 11!\n",
      "\n",
      "a: 21 menor que 10 ou maior que 20!\n",
      "a: 21 diferente de 11!\n",
      "\n"
     ]
    }
   ],
   "source": [
    "!g++ aula01/ex18.cpp -o aula01/ex18\n",
    "!./aula01/ex18 11\n",
    "!./aula01/ex18 9\n",
    "!./aula01/ex18 21\n"
   ]
  },
  {
   "cell_type": "markdown",
   "id": "spare-holder",
   "metadata": {},
   "source": [
    "### Operador condicional ternário\n",
    "\n",
    "(expressao1) ? (expressao2) : (expressao3);\n",
    "\n",
    "Esta operação pode ser interpretada da seguinte forma: se expressao1 for verdadeira, retorne o valor de\n",
    "expressao2; caso contrario, retorne o valor de expressao3. "
   ]
  },
  {
   "cell_type": "code",
   "execution_count": 50,
   "id": "fresh-huntington",
   "metadata": {},
   "outputs": [
    {
     "name": "stdout",
     "output_type": "stream",
     "text": [
      "Overwriting aula01/ex19.cpp\n"
     ]
    }
   ],
   "source": [
    "%%file aula01/ex19.cpp\n",
    "#include <iostream>\n",
    "using namespace std;\n",
    "\n",
    "int main(int argc, char *argv[ ]) {\n",
    "    int a;\n",
    "    string resultado;\n",
    "    a = atoi(argv[1]);\n",
    "    resultado = (a > 10) ? (\"maior\") : (\"menor\");\n",
    "    cout << \"a: \" << a << \" resultado: \" << resultado << \"\\n\\n\";\n",
    "    return 0;\n",
    "}"
   ]
  },
  {
   "cell_type": "code",
   "execution_count": 51,
   "id": "detected-ethernet",
   "metadata": {},
   "outputs": [
    {
     "name": "stdout",
     "output_type": "stream",
     "text": [
      "a: 11 resultado: maior\n",
      "\n",
      "a: 9 resultado: menor\n",
      "\n",
      "a: 21 resultado: maior\n",
      "\n"
     ]
    }
   ],
   "source": [
    "!g++ aula01/ex19.cpp -o aula01/ex19\n",
    "!./aula01/ex19 11\n",
    "!./aula01/ex19 9\n",
    "!./aula01/ex19 21"
   ]
  },
  {
   "cell_type": "markdown",
   "id": "intensive-preserve",
   "metadata": {},
   "source": [
    "### Variáveis Locais e Globais"
   ]
  },
  {
   "cell_type": "code",
   "execution_count": null,
   "id": "dietary-roberts",
   "metadata": {},
   "outputs": [],
   "source": [
    "%%file aula01/ex19.cpp\n",
    "#include <iostream>\n",
    "using namespace std;\n",
    "\n",
    "int main(int argc, char *argv[ ]) {\n",
    "    int a;\n",
    "    string resultado;\n",
    "    a = atoi(argv[1]);\n",
    "    resultado = (a > 10) ? (\"maior\") : (\"menor\");\n",
    "    cout << \"a: \" << a << \" resultado: \" << resultado << \"\\n\\n\";\n",
    "    return 0;\n",
    "}"
   ]
  },
  {
   "cell_type": "code",
   "execution_count": null,
   "id": "forward-compensation",
   "metadata": {},
   "outputs": [],
   "source": []
  },
  {
   "cell_type": "code",
   "execution_count": 94,
   "id": "cooked-length",
   "metadata": {},
   "outputs": [
    {
     "name": "stdout",
     "output_type": "stream",
     "text": [
      "Overwriting aula01/ex20.cpp\n"
     ]
    }
   ],
   "source": [
    "%%file aula01/ex20.cpp\n",
    "#include <iostream>\n",
    "using namespace std;\n",
    "\n",
    "int num(int b);\n",
    "int aGlobal = 4;\n",
    "\n",
    "int main() {\n",
    "    int a = 3;\n",
    "    int b = 1;\n",
    "    int c = 2;\n",
    "    cout << \"aGlobal: \" << aGlobal << \"\\n\";\n",
    "    cout << \"a main: \" << a << \"\\n\";\n",
    "    cout << \"b main: \" << b << \"\\n\";\n",
    "    cout << \"c main: \" << c << \"\\n\";\n",
    "    c = num(4);\n",
    "    cout << \"aGlobal: \" << aGlobal << \"\\n\";\n",
    "    cout << \"a main: \" << a << \"\\n\";\n",
    "    cout << \"b main: \" << b << \"\\n\";\n",
    "    cout << \"c main: \" << c << \"\\n\";\n",
    "    return 0;\n",
    "}\n",
    "\n",
    "int num(int b) {\n",
    "    int a = 5;\n",
    "    cout << \"\\n---inicio função---\\n\";\n",
    "    cout << \"a na função: \" << a << \"\\n\";\n",
    "    cout << \"b na função: \" << b << \"\\n\";\n",
    "    cout << \"aGlobal na função: \" << aGlobal << \"\\n\";\n",
    "    aGlobal++;\n",
    "    b++;\n",
    "    cout << \"---fim função---\\n\\n\";\n",
    "    return b;\n",
    "}\n"
   ]
  },
  {
   "cell_type": "code",
   "execution_count": 95,
   "id": "iraqi-adventure",
   "metadata": {},
   "outputs": [
    {
     "name": "stdout",
     "output_type": "stream",
     "text": [
      "aGlobal: 4\n",
      "a main: 3\n",
      "b main: 1\n",
      "c main: 2\n",
      "\n",
      "---inicio função---\n",
      "a na função: 5\n",
      "b na função: 4\n",
      "aGlobal na função: 4\n",
      "---fim função---\n",
      "\n",
      "aGlobal: 5\n",
      "a main: 3\n",
      "b main: 1\n",
      "c main: 5\n"
     ]
    }
   ],
   "source": [
    "ex='ex20'\n",
    "!g++ aula01/\"$ex\".cpp -o aula01/$ex\n",
    "!./aula01/$ex 11"
   ]
  },
  {
   "cell_type": "markdown",
   "id": "interim-treasure",
   "metadata": {},
   "source": [
    "### Estruturas de Repetição\n",
    "\n",
    "#### While"
   ]
  },
  {
   "cell_type": "code",
   "execution_count": null,
   "id": "judicial-bangladesh",
   "metadata": {},
   "outputs": [],
   "source": []
  },
  {
   "cell_type": "code",
   "execution_count": null,
   "id": "vital-torture",
   "metadata": {},
   "outputs": [],
   "source": []
  }
 ],
 "metadata": {
  "kernelspec": {
   "display_name": "Python 3",
   "language": "python",
   "name": "python3"
  },
  "language_info": {
   "codemirror_mode": {
    "name": "ipython",
    "version": 3
   },
   "file_extension": ".py",
   "mimetype": "text/x-python",
   "name": "python",
   "nbconvert_exporter": "python",
   "pygments_lexer": "ipython3",
   "version": "3.9.2"
  }
 },
 "nbformat": 4,
 "nbformat_minor": 5
}
