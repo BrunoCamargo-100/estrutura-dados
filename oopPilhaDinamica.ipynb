{
 "cells": [
  {
   "cell_type": "markdown",
   "id": "referenced-storage",
   "metadata": {},
   "source": [
    "# Pilha Dinamica Orientada a Objetos"
   ]
  },
  {
   "cell_type": "code",
   "execution_count": 11,
   "id": "informed-investigation",
   "metadata": {},
   "outputs": [],
   "source": [
    "class Pilha {\n",
    "    private:\n",
    "        struct noPilha {\n",
    "            int valor;\n",
    "            noPilha *proximoNo; // ligação próximo nó\n",
    "        };\n",
    "        typedef noPilha *PonteiroPilha;\n",
    "        PonteiroPilha topo;\n",
    "    public:\n",
    "        // construtor\n",
    "        Pilha() {\n",
    "            topo = NULL;\n",
    "        }\n",
    "        // desconstrutor\n",
    "        ~Pilha() {\n",
    "            int x;\n",
    "            while (!estaVazia()) {\n",
    "                desempilhar(x);\n",
    "            }\n",
    "        }\n",
    "        bool estaVazia() {\n",
    "            if (topo == NULL) {\n",
    "                return 1;\n",
    "            } else {\n",
    "                return 0;\n",
    "            }\n",
    "        }\n",
    "\n",
    "        bool empilhar(int x) {\n",
    "            PonteiroPilha p;\n",
    "            p = new noPilha;\n",
    "            if (p == NULL) {\n",
    "                return 0;\n",
    "            }\n",
    "            p->valor = x;\n",
    "            p->proximoNo = topo;\n",
    "            topo = p;\n",
    "            return 1;\n",
    "        }\n",
    "\n",
    "        bool desempilhar(int &x) {\n",
    "            PonteiroPilha p;\n",
    "            if (estaVazia()) {\n",
    "                return 0;\n",
    "            }\n",
    "            x = topo->valor;\n",
    "            p = topo;\n",
    "            topo = topo->proximoNo;\n",
    "            free(p);\n",
    "            return 1;\n",
    "        }\n",
    "\n",
    "        int retornaTopo() {\n",
    "            return topo->valor;\n",
    "        }\n",
    "};"
   ]
  },
  {
   "cell_type": "code",
   "execution_count": 103,
   "id": "laughing-testing",
   "metadata": {},
   "outputs": [],
   "source": [
    "class Pilha {\n",
    "    private:\n",
    "        struct noPilha {\n",
    "            int valor;\n",
    "            noPilha *noAnterior; // ligação próximo nó\n",
    "        };\n",
    "        typedef noPilha *PonteiroPilha;\n",
    "        PonteiroPilha topo;\n",
    "    public:\n",
    "        // construtor\n",
    "        Pilha() {\n",
    "            topo = NULL;\n",
    "        }\n",
    "        bool empilhar(int x) {\n",
    "            PonteiroPilha p;\n",
    "            p = new noPilha;\n",
    "            if (p == NULL) {\n",
    "                return 0;\n",
    "            }\n",
    "            p->valor = x;\n",
    "            p->noAnterior = topo;\n",
    "            topo = p;\n",
    "            return 1;\n",
    "        }\n",
    "        bool estaVazia() {\n",
    "            if (topo == NULL) {\n",
    "                return 1;\n",
    "            } else {\n",
    "                return 0;\n",
    "            }\n",
    "        }\n",
    "\n",
    "        bool desempilhar(int &x) {\n",
    "            PonteiroPilha p;\n",
    "            if (estaVazia()) {\n",
    "                return 0;\n",
    "            }\n",
    "            x = topo->valor;\n",
    "            p = topo;\n",
    "            topo = topo->noAnterior;\n",
    "            free(p);\n",
    "            return 1;\n",
    "        }\n",
    "\n",
    "        int retornaTopo() {\n",
    "            return topo->valor;\n",
    "        }\n",
    "};"
   ]
  },
  {
   "cell_type": "code",
   "execution_count": 104,
   "id": "bigger-shoot",
   "metadata": {},
   "outputs": [],
   "source": [
    "#include <iostream>\n",
    "using namespace std;"
   ]
  },
  {
   "cell_type": "code",
   "execution_count": 105,
   "id": "aggregate-orlando",
   "metadata": {},
   "outputs": [
    {
     "name": "stdout",
     "output_type": "stream",
     "text": [
      "Esta vazia!\n"
     ]
    }
   ],
   "source": [
    "Pilha minhaPilha;\n",
    "int x;\n",
    "\n",
    "if (minhaPilha.estaVazia())\n",
    "    cout << \"Esta vazia!\\n\";\n",
    "else\n",
    "    cout << \"Não esta vazia!\\n\";"
   ]
  },
  {
   "cell_type": "code",
   "execution_count": 106,
   "id": "compound-brunei",
   "metadata": {},
   "outputs": [
    {
     "name": "stdout",
     "output_type": "stream",
     "text": [
      "Empilhando: 4\n",
      "Empilhado\n"
     ]
    }
   ],
   "source": [
    "cout << \"Empilhando: 4\\n\";\n",
    "if (minhaPilha.empilhar(4))\n",
    "    cout << \"Empilhado\\n\";\n",
    "else\n",
    "    cout << \"Não empilhou\\n\";"
   ]
  },
  {
   "cell_type": "code",
   "execution_count": 107,
   "id": "furnished-headquarters",
   "metadata": {},
   "outputs": [
    {
     "name": "stdout",
     "output_type": "stream",
     "text": [
      "Empilhando: 3\n",
      "Empilhado\n"
     ]
    }
   ],
   "source": [
    "cout << \"Empilhando: 3\\n\";\n",
    "if (minhaPilha.empilhar(3))\n",
    "    cout << \"Empilhado\\n\";\n",
    "else\n",
    "    cout << \"Não empilhou\\n\";"
   ]
  },
  {
   "cell_type": "code",
   "execution_count": 108,
   "id": "variable-castle",
   "metadata": {},
   "outputs": [
    {
     "name": "stdout",
     "output_type": "stream",
     "text": [
      "Empilhando: 2\n",
      "Empilhado\n"
     ]
    }
   ],
   "source": [
    "cout << \"Empilhando: 2\\n\";\n",
    "if (minhaPilha.empilhar(2))\n",
    "    cout << \"Empilhado\\n\";\n",
    "else\n",
    "    cout << \"Não empilhou\\n\";"
   ]
  },
  {
   "cell_type": "code",
   "execution_count": 109,
   "id": "positive-concept",
   "metadata": {},
   "outputs": [
    {
     "name": "stdout",
     "output_type": "stream",
     "text": [
      "Empilhando: 1\n",
      "Empilhado\n"
     ]
    }
   ],
   "source": [
    "cout << \"Empilhando: 1\\n\";\n",
    "if (minhaPilha.empilhar(1))\n",
    "    cout << \"Empilhado\\n\";\n",
    "else\n",
    "    cout << \"Não empilhou\\n\";"
   ]
  },
  {
   "cell_type": "code",
   "execution_count": 110,
   "id": "pleasant-district",
   "metadata": {},
   "outputs": [
    {
     "name": "stdout",
     "output_type": "stream",
     "text": [
      "Topo da pilha: 1\n"
     ]
    }
   ],
   "source": [
    "cout << \"Topo da pilha: \" << minhaPilha.retornaTopo() << \"\\n\";"
   ]
  },
  {
   "cell_type": "code",
   "execution_count": 111,
   "id": "union-resource",
   "metadata": {},
   "outputs": [
    {
     "name": "stdout",
     "output_type": "stream",
     "text": [
      "Desempilhou: 1\n"
     ]
    }
   ],
   "source": [
    "if (minhaPilha.desempilhar(x))\n",
    "    cout << \"Desempilhou: \" << x << \"\\n\";\n",
    "else\n",
    "    cout << \"Pilha vazia!\";"
   ]
  },
  {
   "cell_type": "code",
   "execution_count": 112,
   "id": "fatty-carroll",
   "metadata": {},
   "outputs": [
    {
     "name": "stdout",
     "output_type": "stream",
     "text": [
      "Desempilhou: 2\n"
     ]
    }
   ],
   "source": [
    "if (minhaPilha.desempilhar(x))\n",
    "    cout << \"Desempilhou: \" << x << \"\\n\";\n",
    "else\n",
    "    cout << \"Pilha vazia!\";"
   ]
  },
  {
   "cell_type": "code",
   "execution_count": 113,
   "id": "communist-absorption",
   "metadata": {},
   "outputs": [
    {
     "name": "stdout",
     "output_type": "stream",
     "text": [
      "Desempilhou: 3\n"
     ]
    }
   ],
   "source": [
    "if (minhaPilha.desempilhar(x))\n",
    "    cout << \"Desempilhou: \" << x << \"\\n\";\n",
    "else\n",
    "    cout << \"Pilha vazia!\";"
   ]
  },
  {
   "cell_type": "code",
   "execution_count": 114,
   "id": "handed-charity",
   "metadata": {},
   "outputs": [
    {
     "name": "stdout",
     "output_type": "stream",
     "text": [
      "Desempilhou: 4\n"
     ]
    }
   ],
   "source": [
    "if (minhaPilha.desempilhar(x))\n",
    "    cout << \"Desempilhou: \" << x << \"\\n\";\n",
    "else\n",
    "    cout << \"Pilha vazia!\";"
   ]
  },
  {
   "cell_type": "code",
   "execution_count": 115,
   "id": "sixth-familiar",
   "metadata": {},
   "outputs": [
    {
     "name": "stdout",
     "output_type": "stream",
     "text": [
      "Pilha vazia!"
     ]
    }
   ],
   "source": [
    "if (minhaPilha.desempilhar(x))\n",
    "    cout << \"Desempilhou: \" << x << \"\\n\";\n",
    "else\n",
    "    cout << \"Pilha vazia!\";"
   ]
  },
  {
   "cell_type": "code",
   "execution_count": null,
   "id": "ideal-orientation",
   "metadata": {},
   "outputs": [],
   "source": []
  }
 ],
 "metadata": {
  "kernelspec": {
   "display_name": "C++11",
   "language": "C++11",
   "name": "xcpp11"
  },
  "language_info": {
   "codemirror_mode": "text/x-c++src",
   "file_extension": ".cpp",
   "mimetype": "text/x-c++src",
   "name": "c++",
   "version": "11"
  }
 },
 "nbformat": 4,
 "nbformat_minor": 5
}
