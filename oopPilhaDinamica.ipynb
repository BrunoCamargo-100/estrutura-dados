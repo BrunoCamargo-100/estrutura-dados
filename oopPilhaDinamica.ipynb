{
 "cells": [
  {
   "cell_type": "markdown",
   "id": "molecular-dominican",
   "metadata": {},
   "source": [
    "# Pilha Dinamica Orientada a Objetos"
   ]
  },
  {
   "cell_type": "markdown",
   "id": "narrow-austin",
   "metadata": {},
   "source": [
    "## Definição da classe"
   ]
  },
  {
   "cell_type": "code",
   "execution_count": 38,
   "id": "liked-animal",
   "metadata": {},
   "outputs": [],
   "source": [
    "class Pilha {\n",
    "    private:\n",
    "        struct noPilha {\n",
    "            int valor;\n",
    "            noPilha *proximoNo; // ligação próximo nó\n",
    "        };\n",
    "        typedef noPilha *PonteiroPilha;\n",
    "        PonteiroPilha topo;\n",
    "    public:\n",
    "        Pilha();\n",
    "        bool estaVazia();\n",
    "        bool empilhar(int x);\n",
    "        bool desempilhar(int &x);\n",
    "        int retornaTopo();\n",
    "};"
   ]
  },
  {
   "cell_type": "markdown",
   "id": "immediate-bulgaria",
   "metadata": {},
   "source": [
    "Temos somente um ponteiro do tipo PonteiroPilha chamado de topo:\n",
    "\n",
    "![topo](imagens/topo.png)"
   ]
  },
  {
   "cell_type": "markdown",
   "id": "juvenile-mailman",
   "metadata": {},
   "source": [
    "## Inicializando pilha (construtor)"
   ]
  },
  {
   "cell_type": "code",
   "execution_count": 39,
   "id": "small-cathedral",
   "metadata": {},
   "outputs": [],
   "source": [
    "Pilha::Pilha() {\n",
    "    topo = NULL;\n",
    "}"
   ]
  },
  {
   "cell_type": "markdown",
   "id": "charitable-cooking",
   "metadata": {},
   "source": [
    "A pilha é iniciada vazia.\n",
    "\n",
    "![topo](imagens/pilha_vazia.png)\n"
   ]
  },
  {
   "cell_type": "code",
   "execution_count": 40,
   "id": "legitimate-lender",
   "metadata": {},
   "outputs": [],
   "source": [
    "Pilha minhaPilha;"
   ]
  },
  {
   "cell_type": "markdown",
   "id": "enclosed-transport",
   "metadata": {},
   "source": [
    "## Verificando se pilha está vazia"
   ]
  },
  {
   "cell_type": "code",
   "execution_count": 41,
   "id": "chief-fifteen",
   "metadata": {},
   "outputs": [],
   "source": [
    "bool Pilha::estaVazia() {\n",
    "    if (topo == NULL) {\n",
    "        return 1;\n",
    "    } else {\n",
    "        return 0;\n",
    "    }\n",
    "}"
   ]
  },
  {
   "cell_type": "code",
   "execution_count": 42,
   "id": "fitted-calvin",
   "metadata": {},
   "outputs": [
    {
     "data": {
      "text/plain": [
       "true"
      ]
     },
     "execution_count": 42,
     "metadata": {},
     "output_type": "execute_result"
    }
   ],
   "source": [
    "minhaPilha.estaVazia()"
   ]
  },
  {
   "cell_type": "markdown",
   "id": "widespread-finger",
   "metadata": {},
   "source": [
    "## Empilhando"
   ]
  },
  {
   "cell_type": "code",
   "execution_count": 43,
   "id": "seven-florist",
   "metadata": {},
   "outputs": [],
   "source": [
    "bool Pilha::empilhar(int x) {\n",
    "    PonteiroPilha p;\n",
    "    p = new noPilha;\n",
    "    if (p == NULL) {\n",
    "        return 0;\n",
    "    }\n",
    "    p->valor = x;\n",
    "    p->proximoNo = topo;\n",
    "    topo = p;\n",
    "    return 1;\n",
    "}"
   ]
  },
  {
   "cell_type": "code",
   "execution_count": 44,
   "id": "intense-distinction",
   "metadata": {},
   "outputs": [
    {
     "data": {
      "text/plain": [
       "true"
      ]
     },
     "execution_count": 44,
     "metadata": {},
     "output_type": "execute_result"
    }
   ],
   "source": [
    "minhaPilha.empilhar(8)"
   ]
  },
  {
   "cell_type": "markdown",
   "id": "solid-vatican",
   "metadata": {},
   "source": [
    "Primeiro o ponteiro p é criado.\n",
    "\n",
    "```c\n",
    "PonteiroPilha p;\n",
    "```\n",
    "\n",
    "![topo](imagens/empilhar_8_01.png)\n",
    "\n",
    "Definindo p como um struct do tipo noPilha\n",
    "\n",
    "```c\n",
    "p = new noPilha;\n",
    "```\n",
    "\n",
    "![topo](imagens/empilhar_8_02.png)\n",
    "\n",
    "Armazenando o valor 8 em p.valor\n",
    "\n",
    "```c\n",
    "p->valor = x;\n",
    "```\n",
    "\n",
    "![topo](imagens/empilhar_8_03.png)\n",
    "\n",
    "\n",
    "O próximo nó de p aponta para o topo, no caso NULL.\n",
    "\n",
    "```c\n",
    "p->proximoNo = topo;\n",
    "```    \n",
    "\n",
    "![topo](imagens/empilhar_8_04.png)\n",
    "\n",
    "Topo agora aponta para p.\n",
    "\n",
    "```c\n",
    "topo = p;\n",
    "```\n",
    "\n",
    "![topo](imagens/empilhar_8_05.png)\n",
    "\n",
    "Como o ponteiro p era pertencente ao método empilhar, ao termino da execução do método permanece apenas o atributo topo.\n",
    "\n",
    "![topo](imagens/empilhar_8_06.png)"
   ]
  },
  {
   "cell_type": "code",
   "execution_count": 45,
   "id": "useful-copying",
   "metadata": {},
   "outputs": [
    {
     "data": {
      "text/plain": [
       "true"
      ]
     },
     "execution_count": 45,
     "metadata": {},
     "output_type": "execute_result"
    }
   ],
   "source": [
    "minhaPilha.empilhar(10)"
   ]
  },
  {
   "cell_type": "markdown",
   "id": "comprehensive-grammar",
   "metadata": {},
   "source": [
    "Outro nó p é criado.\n",
    "\n",
    "```c\n",
    "PonteiroPilha p;\n",
    "```\n",
    "\n",
    "![topo](imagens/empilhar_10_01.png)\n",
    "\n",
    "```c\n",
    "p = new noPilha;\n",
    "```\n",
    "\n",
    "![topo](imagens/empilhar_10_02.png)\n",
    "\n",
    "```c\n",
    "p->valor = x;\n",
    "```\n",
    "\n",
    "![topo](imagens/empilhar_10_03.png)\n",
    "\n",
    "```c\n",
    "p->proximoNo = topo;\n",
    "```\n",
    "\n",
    "![topo](imagens/empilhar_10_04.png)\n",
    "\n",
    "```c\n",
    "topo = p;\n",
    "```\n",
    "\n",
    "![topo](imagens/empilhar_10_05.png)\n",
    "\n",
    "\n",
    "Como o ponteiro p era pertencente ao método empilhar, ao termino da execução do método permanece apenas o atributo topo.\n",
    "\n",
    "![topo](imagens/empilhar_10_06.png)\n",
    "\n",
    "\n"
   ]
  },
  {
   "cell_type": "code",
   "execution_count": 46,
   "id": "bigger-property",
   "metadata": {},
   "outputs": [
    {
     "data": {
      "text/plain": [
       "true"
      ]
     },
     "execution_count": 46,
     "metadata": {},
     "output_type": "execute_result"
    }
   ],
   "source": [
    "minhaPilha.empilhar(4)"
   ]
  },
  {
   "cell_type": "markdown",
   "id": "herbal-madagascar",
   "metadata": {},
   "source": [
    "Outro nó p é criado.\n",
    "\n",
    "```c\n",
    "PonteiroPilha p;\n",
    "```\n",
    "\n",
    "![topo](imagens/empilhar_4_01.png)\n",
    "\n",
    "```c\n",
    "p = new noPilha;\n",
    "```\n",
    "\n",
    "![topo](imagens/empilhar_4_02.png)\n",
    "\n",
    "```c\n",
    "p->valor = x;\n",
    "```\n",
    "\n",
    "![topo](imagens/empilhar_4_03.png)\n",
    "\n",
    "```c\n",
    "p->proximoNo = topo;\n",
    "```\n",
    "\n",
    "![topo](imagens/empilhar_4_04.png)\n",
    "\n",
    "```c\n",
    "topo = p;\n",
    "```\n",
    "\n",
    "![topo](imagens/empilhar_4_05.png)\n",
    "\n",
    "\n",
    "Como o ponteiro p era pertencente ao método empilhar, ao termino da execução do método permanece apenas o atributo topo.\n",
    "\n",
    "![topo](imagens/empilhar_4_06.png)\n",
    "\n",
    "\n"
   ]
  },
  {
   "cell_type": "markdown",
   "id": "martial-return",
   "metadata": {},
   "source": [
    "## Desempilhar"
   ]
  },
  {
   "cell_type": "code",
   "execution_count": 47,
   "id": "blond-smart",
   "metadata": {},
   "outputs": [],
   "source": [
    "int y;"
   ]
  },
  {
   "cell_type": "code",
   "execution_count": 49,
   "id": "julian-grove",
   "metadata": {},
   "outputs": [],
   "source": [
    "bool Pilha::desempilhar(int &x) {\n",
    "    PonteiroPilha p;\n",
    "    if (estaVazia()) {\n",
    "        return 0;\n",
    "    }\n",
    "    x = topo->valor;\n",
    "    p = topo;\n",
    "    topo = topo->proximoNo;\n",
    "    free(p);\n",
    "    return 1;\n",
    "}"
   ]
  },
  {
   "cell_type": "code",
   "execution_count": 50,
   "id": "distinguished-marsh",
   "metadata": {},
   "outputs": [
    {
     "name": "stdout",
     "output_type": "stream",
     "text": [
      "4"
     ]
    }
   ],
   "source": [
    "minhaPilha.desempilhar(y);\n",
    "cout << y;"
   ]
  },
  {
   "cell_type": "markdown",
   "id": "thorough-lancaster",
   "metadata": {},
   "source": [
    "Um ponteiro p do tipo PonteiroP é criado:\n",
    "\n",
    "```c\n",
    "PonteiroPilha p;\n",
    "```\n",
    "\n",
    "![topo](imagens/desempilhar_4_01.png)\n",
    "\n",
    "Em x é armazenado o valor atual de topo:\n",
    "\n",
    "```c\n",
    "x = topo->valor;\n",
    "```\n",
    "\n",
    "![topo](imagens/desempilhar_4_02.png)\n",
    "\n",
    "p passa a apontar para topo:\n",
    "\n",
    "```\n",
    "p = topo;\n",
    "```\n",
    "\n",
    "![topo](imagens/desempilhar_4_03.png)\n",
    "\n",
    "topo passa a apontar para seu próprio proximoNo:\n",
    "\n",
    "```\n",
    "topo = topo->proximoNo;\n",
    "```\n",
    "\n",
    "![topo](imagens/desempilhar_4_04.png)\n",
    "\n",
    "p é liberado da memória:\n",
    "\n",
    "```\n",
    "free(p);\n",
    "```\n",
    "\n",
    "![topo](imagens/desempilhar_4_05.png)\n"
   ]
  },
  {
   "cell_type": "markdown",
   "id": "reverse-biodiversity",
   "metadata": {},
   "source": [
    "## Retorna topo"
   ]
  },
  {
   "cell_type": "code",
   "execution_count": 51,
   "id": "brilliant-leave",
   "metadata": {},
   "outputs": [],
   "source": [
    "int Pilha::retornaTopo() {\n",
    "    return topo->valor;\n",
    "}"
   ]
  },
  {
   "cell_type": "code",
   "execution_count": 52,
   "id": "rocky-bunch",
   "metadata": {},
   "outputs": [
    {
     "data": {
      "text/plain": [
       "10"
      ]
     },
     "execution_count": 52,
     "metadata": {},
     "output_type": "execute_result"
    }
   ],
   "source": [
    "minhaPilha.retornaTopo()"
   ]
  },
  {
   "cell_type": "markdown",
   "id": "herbal-cloud",
   "metadata": {},
   "source": [
    "## Testando pilha"
   ]
  },
  {
   "cell_type": "code",
   "execution_count": 53,
   "id": "incorporate-honey",
   "metadata": {},
   "outputs": [],
   "source": [
    "Pilha minhaPilha;"
   ]
  },
  {
   "cell_type": "code",
   "execution_count": 54,
   "id": "municipal-effects",
   "metadata": {},
   "outputs": [
    {
     "name": "stdout",
     "output_type": "stream",
     "text": [
      "Esta vazia!\n"
     ]
    }
   ],
   "source": [
    "if (minhaPilha.estaVazia())\n",
    "    cout << \"Esta vazia!\\n\";\n",
    "else\n",
    "    cout << \"Não esta vazia!\\n\";"
   ]
  },
  {
   "cell_type": "code",
   "execution_count": 55,
   "id": "raising-western",
   "metadata": {},
   "outputs": [
    {
     "name": "stdout",
     "output_type": "stream",
     "text": [
      "Empilhando: 4\n",
      "Empilhado\n"
     ]
    }
   ],
   "source": [
    "cout << \"Empilhando: 4\\n\";\n",
    "if (minhaPilha.empilhar(4))\n",
    "    cout << \"Empilhado\\n\";\n",
    "else\n",
    "    cout << \"Não empilhou\\n\";"
   ]
  },
  {
   "cell_type": "code",
   "execution_count": 56,
   "id": "painted-country",
   "metadata": {},
   "outputs": [
    {
     "name": "stdout",
     "output_type": "stream",
     "text": [
      "Empilhando: 3\n",
      "Empilhado\n"
     ]
    }
   ],
   "source": [
    "cout << \"Empilhando: 3\\n\";\n",
    "if (minhaPilha.empilhar(3))\n",
    "    cout << \"Empilhado\\n\";\n",
    "else\n",
    "    cout << \"Não empilhou\\n\";"
   ]
  },
  {
   "cell_type": "code",
   "execution_count": 57,
   "id": "identified-martin",
   "metadata": {},
   "outputs": [
    {
     "name": "stdout",
     "output_type": "stream",
     "text": [
      "Empilhando: 2\n",
      "Empilhado\n"
     ]
    }
   ],
   "source": [
    "cout << \"Empilhando: 2\\n\";\n",
    "if (minhaPilha.empilhar(2))\n",
    "    cout << \"Empilhado\\n\";\n",
    "else\n",
    "    cout << \"Não empilhou\\n\";"
   ]
  },
  {
   "cell_type": "code",
   "execution_count": 58,
   "id": "failing-brunei",
   "metadata": {},
   "outputs": [
    {
     "name": "stdout",
     "output_type": "stream",
     "text": [
      "Empilhando: 1\n",
      "Empilhado\n"
     ]
    }
   ],
   "source": [
    "cout << \"Empilhando: 1\\n\";\n",
    "if (minhaPilha.empilhar(1))\n",
    "    cout << \"Empilhado\\n\";\n",
    "else\n",
    "    cout << \"Não empilhou\\n\";"
   ]
  },
  {
   "cell_type": "code",
   "execution_count": 59,
   "id": "flying-comfort",
   "metadata": {},
   "outputs": [
    {
     "name": "stdout",
     "output_type": "stream",
     "text": [
      "Topo da pilha: 1\n"
     ]
    }
   ],
   "source": [
    "cout << \"Topo da pilha: \" << minhaPilha.retornaTopo() << \"\\n\";"
   ]
  },
  {
   "cell_type": "code",
   "execution_count": 60,
   "id": "behavioral-vanilla",
   "metadata": {},
   "outputs": [
    {
     "name": "stdout",
     "output_type": "stream",
     "text": [
      "Desempilhou: 1\n"
     ]
    }
   ],
   "source": [
    "if (minhaPilha.desempilhar(x))\n",
    "    cout << \"Desempilhou: \" << x << \"\\n\";\n",
    "else\n",
    "    cout << \"Pilha vazia!\";"
   ]
  },
  {
   "cell_type": "code",
   "execution_count": 61,
   "id": "demanding-calculator",
   "metadata": {},
   "outputs": [
    {
     "name": "stdout",
     "output_type": "stream",
     "text": [
      "Desempilhou: 2\n"
     ]
    }
   ],
   "source": [
    "if (minhaPilha.desempilhar(x))\n",
    "    cout << \"Desempilhou: \" << x << \"\\n\";\n",
    "else\n",
    "    cout << \"Pilha vazia!\";"
   ]
  },
  {
   "cell_type": "code",
   "execution_count": 62,
   "id": "accurate-globe",
   "metadata": {},
   "outputs": [
    {
     "name": "stdout",
     "output_type": "stream",
     "text": [
      "Desempilhou: 3\n"
     ]
    }
   ],
   "source": [
    "if (minhaPilha.desempilhar(x))\n",
    "    cout << \"Desempilhou: \" << x << \"\\n\";\n",
    "else\n",
    "    cout << \"Pilha vazia!\";"
   ]
  },
  {
   "cell_type": "code",
   "execution_count": 63,
   "id": "fuzzy-safety",
   "metadata": {},
   "outputs": [
    {
     "name": "stdout",
     "output_type": "stream",
     "text": [
      "Desempilhou: 4\n"
     ]
    }
   ],
   "source": [
    "if (minhaPilha.desempilhar(x))\n",
    "    cout << \"Desempilhou: \" << x << \"\\n\";\n",
    "else\n",
    "    cout << \"Pilha vazia!\";"
   ]
  },
  {
   "cell_type": "code",
   "execution_count": 64,
   "id": "harmful-property",
   "metadata": {},
   "outputs": [
    {
     "name": "stdout",
     "output_type": "stream",
     "text": [
      "Pilha vazia!"
     ]
    }
   ],
   "source": [
    "if (minhaPilha.desempilhar(x))\n",
    "    cout << \"Desempilhou: \" << x << \"\\n\";\n",
    "else\n",
    "    cout << \"Pilha vazia!\";"
   ]
  },
  {
   "cell_type": "code",
   "execution_count": 65,
   "id": "qualified-senior",
   "metadata": {},
   "outputs": [
    {
     "data": {
      "text/plain": [
       "true"
      ]
     },
     "execution_count": 65,
     "metadata": {},
     "output_type": "execute_result"
    }
   ],
   "source": [
    "minhaPilha.empilhar(0)"
   ]
  },
  {
   "cell_type": "code",
   "execution_count": 66,
   "id": "loose-infrastructure",
   "metadata": {},
   "outputs": [
    {
     "name": "stdout",
     "output_type": "stream",
     "text": [
      "Desempilhou: 0\n"
     ]
    }
   ],
   "source": [
    "if (minhaPilha.desempilhar(x))\n",
    "    cout << \"Desempilhou: \" << x << \"\\n\";\n",
    "else\n",
    "    cout << \"Pilha vazia!\";"
   ]
  },
  {
   "cell_type": "code",
   "execution_count": 67,
   "id": "searching-master",
   "metadata": {},
   "outputs": [
    {
     "name": "stdout",
     "output_type": "stream",
     "text": [
      "Pilha vazia!"
     ]
    }
   ],
   "source": [
    "if (minhaPilha.desempilhar(x))\n",
    "    cout << \"Desempilhou: \" << x << \"\\n\";\n",
    "else\n",
    "    cout << \"Pilha vazia!\";"
   ]
  },
  {
   "cell_type": "code",
   "execution_count": null,
   "id": "severe-criticism",
   "metadata": {},
   "outputs": [],
   "source": []
  }
 ],
 "metadata": {
  "kernelspec": {
   "display_name": "C++11",
   "language": "C++11",
   "name": "xcpp11"
  },
  "language_info": {
   "codemirror_mode": "text/x-c++src",
   "file_extension": ".cpp",
   "mimetype": "text/x-c++src",
   "name": "c++",
   "version": "11"
  }
 },
 "nbformat": 4,
 "nbformat_minor": 5
}
