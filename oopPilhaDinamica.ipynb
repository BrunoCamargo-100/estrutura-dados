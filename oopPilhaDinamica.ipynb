{
 "cells": [
  {
   "cell_type": "markdown",
   "id": "irish-crazy",
   "metadata": {},
   "source": [
    "# Pilha Dinamica Orientada a Objetos"
   ]
  },
  {
   "cell_type": "markdown",
   "id": "elect-audio",
   "metadata": {},
   "source": [
    "## Definição da classe"
   ]
  },
  {
   "cell_type": "code",
   "execution_count": 1,
   "id": "satellite-minister",
   "metadata": {},
   "outputs": [],
   "source": [
    "class Pilha {\n",
    "    private:\n",
    "        struct noPilha {\n",
    "            int valor;\n",
    "            noPilha *proximoNo; // ligação próximo nó\n",
    "        };\n",
    "        typedef noPilha *PonteiroPilha;\n",
    "        PonteiroPilha topo;\n",
    "    public:\n",
    "        Pilha();\n",
    "        bool estaVazia();\n",
    "        bool empilhar(int x);\n",
    "        bool desempilhar(int &x);\n",
    "        int retornaTopo();\n",
    "};"
   ]
  },
  {
   "cell_type": "markdown",
   "id": "crucial-certificate",
   "metadata": {},
   "source": [
    "## Inicializando pilha"
   ]
  },
  {
   "cell_type": "code",
   "execution_count": 2,
   "id": "appointed-relaxation",
   "metadata": {},
   "outputs": [],
   "source": [
    "Pilha::Pilha() {\n",
    "    topo = NULL;\n",
    "}"
   ]
  },
  {
   "cell_type": "markdown",
   "id": "dedicated-tucson",
   "metadata": {},
   "source": [
    "A pilha é iniciada vazia.\n",
    "\n",
    "![topo](imagens/topo.png)\n"
   ]
  },
  {
   "cell_type": "code",
   "execution_count": 3,
   "id": "connected-potential",
   "metadata": {},
   "outputs": [],
   "source": [
    "Pilha minhaPilha;"
   ]
  },
  {
   "cell_type": "markdown",
   "id": "frequent-signature",
   "metadata": {},
   "source": [
    "## Verificando se pilha está vazia"
   ]
  },
  {
   "cell_type": "code",
   "execution_count": 4,
   "id": "soviet-strengthening",
   "metadata": {},
   "outputs": [],
   "source": [
    "bool Pilha::estaVazia() {\n",
    "    if (topo == NULL) {\n",
    "        return 1;\n",
    "    } else {\n",
    "        return 0;\n",
    "    }\n",
    "}"
   ]
  },
  {
   "cell_type": "code",
   "execution_count": 5,
   "id": "expensive-factory",
   "metadata": {},
   "outputs": [
    {
     "data": {
      "text/plain": [
       "true"
      ]
     },
     "execution_count": 5,
     "metadata": {},
     "output_type": "execute_result"
    }
   ],
   "source": [
    "minhaPilha.estaVazia()"
   ]
  },
  {
   "cell_type": "markdown",
   "id": "spanish-excellence",
   "metadata": {},
   "source": [
    "## Empilhando"
   ]
  },
  {
   "cell_type": "code",
   "execution_count": 6,
   "id": "bound-henry",
   "metadata": {},
   "outputs": [],
   "source": [
    "bool Pilha::empilhar(int x) {\n",
    "    PonteiroPilha p;\n",
    "    p = new noPilha;\n",
    "    if (p == NULL) {\n",
    "        return 0;\n",
    "    }\n",
    "    p->valor = x;\n",
    "    p->proximoNo = topo;\n",
    "    topo = p;\n",
    "    return 1;\n",
    "}"
   ]
  },
  {
   "cell_type": "code",
   "execution_count": 7,
   "id": "invalid-place",
   "metadata": {},
   "outputs": [
    {
     "data": {
      "text/plain": [
       "true"
      ]
     },
     "execution_count": 7,
     "metadata": {},
     "output_type": "execute_result"
    }
   ],
   "source": [
    "minhaPilha.empilhar(8)"
   ]
  },
  {
   "cell_type": "markdown",
   "id": "exempt-hydrogen",
   "metadata": {},
   "source": [
    "Primeiro o nó é criado e o valor 8 é armazenado.\n",
    "\n",
    "![topo](imagens/empilha01.png)\n",
    "\n",
    "O próximo nó de p aponta para o topo, no caso NULL.\n",
    "\n",
    "Topo agora aponta para p.\n",
    "    \n",
    "![topo](imagens/empilha02.png)"
   ]
  },
  {
   "cell_type": "code",
   "execution_count": 8,
   "id": "intended-knowing",
   "metadata": {},
   "outputs": [
    {
     "data": {
      "text/plain": [
       "true"
      ]
     },
     "execution_count": 8,
     "metadata": {},
     "output_type": "execute_result"
    }
   ],
   "source": [
    "minhaPilha.empilhar(10)"
   ]
  },
  {
   "cell_type": "markdown",
   "id": "centered-equation",
   "metadata": {},
   "source": [
    "Outro nó p é criado e o valor 10 é armazenado.\n",
    "\n",
    "![topo](imagens/empilha03.png)\n",
    "\n",
    "O próximo nó de p aponta para o topo, no caso o nó que contém o valor 8.\n",
    "\n",
    "Topo agora aponta para p.\n",
    "    \n",
    "![topo](imagens/empilha04.png)"
   ]
  },
  {
   "cell_type": "code",
   "execution_count": 9,
   "id": "floating-japanese",
   "metadata": {},
   "outputs": [
    {
     "data": {
      "text/plain": [
       "true"
      ]
     },
     "execution_count": 9,
     "metadata": {},
     "output_type": "execute_result"
    }
   ],
   "source": [
    "minhaPilha.empilhar(4)"
   ]
  },
  {
   "cell_type": "markdown",
   "id": "commercial-revelation",
   "metadata": {},
   "source": [
    "Outro nó p é criado e o valor 4 é armazenado.\n",
    "\n",
    "![topo](imagens/empilha05.png)\n",
    "\n",
    "![topo](imagens/empilha06.png)\n",
    "\n",
    "O próximo nó de p aponta para o topo, no caso o nó que contém o valor 10.\n",
    "\n",
    "Topo agora aponta para p.\n",
    "\n",
    "![topo](imagens/empilha07.png)"
   ]
  },
  {
   "cell_type": "markdown",
   "id": "primary-climb",
   "metadata": {},
   "source": [
    "## Desempilhar"
   ]
  },
  {
   "cell_type": "code",
   "execution_count": 10,
   "id": "early-maryland",
   "metadata": {},
   "outputs": [],
   "source": [
    "bool Pilha::desempilhar(int &x) {\n",
    "    PonteiroPilha p;\n",
    "    if (estaVazia()) {\n",
    "        return 0;\n",
    "    }\n",
    "    x = topo->valor;\n",
    "    p = topo;\n",
    "    topo = topo->proximoNo;\n",
    "    free(p);\n",
    "    return 1;\n",
    "}"
   ]
  },
  {
   "cell_type": "code",
   "execution_count": 14,
   "id": "sacred-garlic",
   "metadata": {},
   "outputs": [],
   "source": [
    "#include <iostream>\n",
    "using namespace std;\n",
    "\n",
    "int x;"
   ]
  },
  {
   "cell_type": "code",
   "execution_count": 15,
   "id": "entitled-finance",
   "metadata": {},
   "outputs": [
    {
     "name": "stdout",
     "output_type": "stream",
     "text": [
      "4"
     ]
    }
   ],
   "source": [
    "minhaPilha.desempilhar(x);\n",
    "std::cout << x;"
   ]
  },
  {
   "cell_type": "markdown",
   "id": "oriental-focus",
   "metadata": {},
   "source": [
    "Outro nó p é criado e o valor 10 é armazenado.\n",
    "\n",
    "![topo](imagens/empilha10.png)\n",
    "\n",
    "Um nó p é criado apontando para topo.\n",
    "\n",
    "![topo](imagens/empilha11.png)\n",
    "\n",
    "O ponteiro topo é setado para apontar para o próximo nó de topo, no caso o nó que contém o valor 8.\n",
    "\n",
    "![topo](imagens/empilha12.png)\n",
    "\n",
    "E por último o ponteiro p é excluido.\n",
    "\n",
    "![topo](imagens/empilha13.png)"
   ]
  },
  {
   "cell_type": "markdown",
   "id": "frozen-press",
   "metadata": {},
   "source": [
    "## Retorna topo"
   ]
  },
  {
   "cell_type": "code",
   "execution_count": 16,
   "id": "utility-george",
   "metadata": {},
   "outputs": [],
   "source": [
    "int Pilha::retornaTopo() {\n",
    "    return topo->valor;\n",
    "}"
   ]
  },
  {
   "cell_type": "markdown",
   "id": "asian-asthma",
   "metadata": {},
   "source": [
    "## Testando pilha"
   ]
  },
  {
   "cell_type": "code",
   "execution_count": 17,
   "id": "interior-saying",
   "metadata": {},
   "outputs": [],
   "source": [
    "Pilha minhaPilha;"
   ]
  },
  {
   "cell_type": "markdown",
   "id": "accessible-playing",
   "metadata": {},
   "source": [
    "A pilha é iniciada vazia.\n",
    "\n",
    "![topo](imagens/topo.png)\n"
   ]
  },
  {
   "cell_type": "code",
   "execution_count": 18,
   "id": "domestic-royal",
   "metadata": {},
   "outputs": [
    {
     "name": "stdout",
     "output_type": "stream",
     "text": [
      "Esta vazia!\n"
     ]
    }
   ],
   "source": [
    "if (minhaPilha.estaVazia())\n",
    "    cout << \"Esta vazia!\\n\";\n",
    "else\n",
    "    cout << \"Não esta vazia!\\n\";"
   ]
  },
  {
   "cell_type": "code",
   "execution_count": null,
   "id": "abroad-welding",
   "metadata": {},
   "outputs": [],
   "source": []
  },
  {
   "cell_type": "code",
   "execution_count": 19,
   "id": "breathing-ethnic",
   "metadata": {},
   "outputs": [
    {
     "name": "stdout",
     "output_type": "stream",
     "text": [
      "Empilhando: 4\n",
      "Empilhado\n"
     ]
    }
   ],
   "source": [
    "cout << \"Empilhando: 4\\n\";\n",
    "if (minhaPilha.empilhar(4))\n",
    "    cout << \"Empilhado\\n\";\n",
    "else\n",
    "    cout << \"Não empilhou\\n\";"
   ]
  },
  {
   "cell_type": "code",
   "execution_count": 20,
   "id": "efficient-display",
   "metadata": {},
   "outputs": [
    {
     "name": "stdout",
     "output_type": "stream",
     "text": [
      "Empilhando: 3\n",
      "Empilhado\n"
     ]
    }
   ],
   "source": [
    "cout << \"Empilhando: 3\\n\";\n",
    "if (minhaPilha.empilhar(3))\n",
    "    cout << \"Empilhado\\n\";\n",
    "else\n",
    "    cout << \"Não empilhou\\n\";"
   ]
  },
  {
   "cell_type": "code",
   "execution_count": 21,
   "id": "ready-voluntary",
   "metadata": {},
   "outputs": [
    {
     "name": "stdout",
     "output_type": "stream",
     "text": [
      "Empilhando: 2\n",
      "Empilhado\n"
     ]
    }
   ],
   "source": [
    "cout << \"Empilhando: 2\\n\";\n",
    "if (minhaPilha.empilhar(2))\n",
    "    cout << \"Empilhado\\n\";\n",
    "else\n",
    "    cout << \"Não empilhou\\n\";"
   ]
  },
  {
   "cell_type": "code",
   "execution_count": 22,
   "id": "foster-entry",
   "metadata": {},
   "outputs": [
    {
     "name": "stdout",
     "output_type": "stream",
     "text": [
      "Empilhando: 1\n",
      "Empilhado\n"
     ]
    }
   ],
   "source": [
    "cout << \"Empilhando: 1\\n\";\n",
    "if (minhaPilha.empilhar(1))\n",
    "    cout << \"Empilhado\\n\";\n",
    "else\n",
    "    cout << \"Não empilhou\\n\";"
   ]
  },
  {
   "cell_type": "code",
   "execution_count": 23,
   "id": "given-columbia",
   "metadata": {},
   "outputs": [
    {
     "name": "stdout",
     "output_type": "stream",
     "text": [
      "Topo da pilha: 1\n"
     ]
    }
   ],
   "source": [
    "cout << \"Topo da pilha: \" << minhaPilha.retornaTopo() << \"\\n\";"
   ]
  },
  {
   "cell_type": "code",
   "execution_count": 24,
   "id": "accurate-faith",
   "metadata": {},
   "outputs": [
    {
     "name": "stdout",
     "output_type": "stream",
     "text": [
      "Desempilhou: 1\n"
     ]
    }
   ],
   "source": [
    "if (minhaPilha.desempilhar(x))\n",
    "    cout << \"Desempilhou: \" << x << \"\\n\";\n",
    "else\n",
    "    cout << \"Pilha vazia!\";"
   ]
  },
  {
   "cell_type": "code",
   "execution_count": 25,
   "id": "breathing-arizona",
   "metadata": {},
   "outputs": [
    {
     "name": "stdout",
     "output_type": "stream",
     "text": [
      "Desempilhou: 2\n"
     ]
    }
   ],
   "source": [
    "if (minhaPilha.desempilhar(x))\n",
    "    cout << \"Desempilhou: \" << x << \"\\n\";\n",
    "else\n",
    "    cout << \"Pilha vazia!\";"
   ]
  },
  {
   "cell_type": "code",
   "execution_count": 26,
   "id": "orange-supplier",
   "metadata": {},
   "outputs": [
    {
     "name": "stdout",
     "output_type": "stream",
     "text": [
      "Desempilhou: 3\n"
     ]
    }
   ],
   "source": [
    "if (minhaPilha.desempilhar(x))\n",
    "    cout << \"Desempilhou: \" << x << \"\\n\";\n",
    "else\n",
    "    cout << \"Pilha vazia!\";"
   ]
  },
  {
   "cell_type": "code",
   "execution_count": 27,
   "id": "brazilian-juvenile",
   "metadata": {},
   "outputs": [
    {
     "name": "stdout",
     "output_type": "stream",
     "text": [
      "Desempilhou: 4\n"
     ]
    }
   ],
   "source": [
    "if (minhaPilha.desempilhar(x))\n",
    "    cout << \"Desempilhou: \" << x << \"\\n\";\n",
    "else\n",
    "    cout << \"Pilha vazia!\";"
   ]
  },
  {
   "cell_type": "code",
   "execution_count": 28,
   "id": "compressed-double",
   "metadata": {},
   "outputs": [
    {
     "name": "stdout",
     "output_type": "stream",
     "text": [
      "Pilha vazia!"
     ]
    }
   ],
   "source": [
    "if (minhaPilha.desempilhar(x))\n",
    "    cout << \"Desempilhou: \" << x << \"\\n\";\n",
    "else\n",
    "    cout << \"Pilha vazia!\";"
   ]
  }
 ],
 "metadata": {
  "kernelspec": {
   "display_name": "C++11",
   "language": "C++11",
   "name": "xcpp11"
  },
  "language_info": {
   "codemirror_mode": "text/x-c++src",
   "file_extension": ".cpp",
   "mimetype": "text/x-c++src",
   "name": "c++",
   "version": "11"
  }
 },
 "nbformat": 4,
 "nbformat_minor": 5
}
