{
 "cells": [
  {
   "cell_type": "markdown",
   "id": "processed-emergency",
   "metadata": {},
   "source": [
    "# Pilha Dinamica Orientada a Objetos"
   ]
  },
  {
   "cell_type": "code",
   "execution_count": 14,
   "id": "typical-parallel",
   "metadata": {},
   "outputs": [],
   "source": [
    "#include <iostream>\n",
    "using namespace std;"
   ]
  },
  {
   "cell_type": "markdown",
   "id": "technical-heater",
   "metadata": {},
   "source": [
    "## Definição da classe"
   ]
  },
  {
   "cell_type": "code",
   "execution_count": 61,
   "id": "damaged-broadcast",
   "metadata": {},
   "outputs": [],
   "source": [
    "class Pilha {\n",
    "    private:\n",
    "        struct noPilha {\n",
    "            int valor;\n",
    "            noPilha *proximoNo; // ligação próximo nó\n",
    "        };\n",
    "        typedef noPilha *PonteiroPilha;\n",
    "        PonteiroPilha topo;\n",
    "    public:\n",
    "        Pilha();//construtor\n",
    "        bool estaVazia();\n",
    "        bool empilhar(int x);\n",
    "        bool desempilhar(int &x);\n",
    "        bool retornaTopo(int &x);\n",
    "};"
   ]
  },
  {
   "cell_type": "markdown",
   "id": "sound-league",
   "metadata": {},
   "source": [
    "Temos somente um ponteiro do tipo PonteiroPilha chamado de topo:\n",
    "\n",
    "![topo](imagens/topo.png)"
   ]
  },
  {
   "cell_type": "markdown",
   "id": "falling-assignment",
   "metadata": {},
   "source": [
    "## Inicializando pilha (construtor)"
   ]
  },
  {
   "cell_type": "code",
   "execution_count": 62,
   "id": "stupid-modification",
   "metadata": {},
   "outputs": [],
   "source": [
    "Pilha::Pilha() {\n",
    "    topo = NULL;\n",
    "}"
   ]
  },
  {
   "cell_type": "markdown",
   "id": "eligible-property",
   "metadata": {},
   "source": [
    "A pilha é iniciada vazia.\n",
    "\n",
    "![topo](imagens/pilha_vazia.png)\n"
   ]
  },
  {
   "cell_type": "code",
   "execution_count": 63,
   "id": "prescribed-runner",
   "metadata": {},
   "outputs": [],
   "source": [
    "Pilha minhaPilha;"
   ]
  },
  {
   "cell_type": "markdown",
   "id": "amazing-minute",
   "metadata": {},
   "source": [
    "## Verificando se pilha está vazia"
   ]
  },
  {
   "cell_type": "code",
   "execution_count": 64,
   "id": "liked-consultancy",
   "metadata": {},
   "outputs": [],
   "source": [
    "bool Pilha::estaVazia() {\n",
    "    if (topo == NULL) {\n",
    "        return 1;\n",
    "    } else {\n",
    "        return 0;\n",
    "    }\n",
    "}"
   ]
  },
  {
   "cell_type": "code",
   "execution_count": 65,
   "id": "promotional-option",
   "metadata": {},
   "outputs": [
    {
     "data": {
      "text/plain": [
       "true"
      ]
     },
     "execution_count": 65,
     "metadata": {},
     "output_type": "execute_result"
    }
   ],
   "source": [
    "minhaPilha.estaVazia()"
   ]
  },
  {
   "cell_type": "markdown",
   "id": "material-mouth",
   "metadata": {},
   "source": [
    "## Empilhando"
   ]
  },
  {
   "cell_type": "code",
   "execution_count": 66,
   "id": "current-parent",
   "metadata": {},
   "outputs": [],
   "source": [
    "bool Pilha::empilhar(int x) {\n",
    "    PonteiroPilha p;\n",
    "    p = new noPilha;\n",
    "    if (p == NULL) {\n",
    "        return 0;\n",
    "    }\n",
    "    p->valor = x;\n",
    "    p->proximoNo = topo;\n",
    "    topo = p;\n",
    "    return 1;\n",
    "}"
   ]
  },
  {
   "cell_type": "code",
   "execution_count": 67,
   "id": "signal-velvet",
   "metadata": {},
   "outputs": [
    {
     "data": {
      "text/plain": [
       "true"
      ]
     },
     "execution_count": 67,
     "metadata": {},
     "output_type": "execute_result"
    }
   ],
   "source": [
    "minhaPilha.empilhar(8)"
   ]
  },
  {
   "cell_type": "markdown",
   "id": "experimental-component",
   "metadata": {},
   "source": [
    "Primeiro o ponteiro p é criado.\n",
    "\n",
    "```c\n",
    "PonteiroPilha p;\n",
    "```\n",
    "\n",
    "![topo](imagens/empilhar_8_01.png)\n",
    "\n",
    "Definindo p como um struct do tipo noPilha\n",
    "\n",
    "```c\n",
    "p = new noPilha;\n",
    "```\n",
    "\n",
    "![topo](imagens/empilhar_8_02.png)\n",
    "\n",
    "Armazenando o valor 8 em p.valor\n",
    "\n",
    "```c\n",
    "p->valor = x;\n",
    "```\n",
    "\n",
    "![topo](imagens/empilhar_8_03.png)\n",
    "\n",
    "\n",
    "O próximo nó de p aponta para o topo, no caso NULL.\n",
    "\n",
    "```c\n",
    "p->proximoNo = topo;\n",
    "```    \n",
    "\n",
    "![topo](imagens/empilhar_8_04.png)\n",
    "\n",
    "Topo agora aponta para p.\n",
    "\n",
    "```c\n",
    "topo = p;\n",
    "```\n",
    "\n",
    "![topo](imagens/empilhar_8_05.png)\n",
    "\n",
    "Como o ponteiro p era pertencente ao método empilhar, ao termino da execução do método permanece apenas o atributo topo.\n",
    "\n",
    "![topo](imagens/empilhar_8_06.png)"
   ]
  },
  {
   "cell_type": "code",
   "execution_count": 68,
   "id": "eleven-worcester",
   "metadata": {},
   "outputs": [
    {
     "data": {
      "text/plain": [
       "true"
      ]
     },
     "execution_count": 68,
     "metadata": {},
     "output_type": "execute_result"
    }
   ],
   "source": [
    "minhaPilha.empilhar(10)"
   ]
  },
  {
   "cell_type": "markdown",
   "id": "modified-watson",
   "metadata": {},
   "source": [
    "Outro nó p é criado.\n",
    "\n",
    "```c\n",
    "PonteiroPilha p;\n",
    "```\n",
    "\n",
    "![topo](imagens/empilhar_10_01.png)\n",
    "\n",
    "```c\n",
    "p = new noPilha;\n",
    "```\n",
    "\n",
    "![topo](imagens/empilhar_10_02.png)\n",
    "\n",
    "```c\n",
    "p->valor = x;\n",
    "```\n",
    "\n",
    "![topo](imagens/empilhar_10_03.png)\n",
    "\n",
    "```c\n",
    "p->proximoNo = topo;\n",
    "```\n",
    "\n",
    "![topo](imagens/empilhar_10_04.png)\n",
    "\n",
    "```c\n",
    "topo = p;\n",
    "```\n",
    "\n",
    "![topo](imagens/empilhar_10_05.png)\n",
    "\n",
    "\n",
    "Como o ponteiro p era pertencente ao método empilhar, ao termino da execução do método permanece apenas o atributo topo.\n",
    "\n",
    "![topo](imagens/empilhar_10_06.png)\n",
    "\n",
    "\n"
   ]
  },
  {
   "cell_type": "code",
   "execution_count": 69,
   "id": "allied-tobago",
   "metadata": {},
   "outputs": [
    {
     "data": {
      "text/plain": [
       "true"
      ]
     },
     "execution_count": 69,
     "metadata": {},
     "output_type": "execute_result"
    }
   ],
   "source": [
    "minhaPilha.empilhar(4)"
   ]
  },
  {
   "cell_type": "markdown",
   "id": "technical-allergy",
   "metadata": {},
   "source": [
    "Outro nó p é criado.\n",
    "\n",
    "```c\n",
    "PonteiroPilha p;\n",
    "```\n",
    "\n",
    "![topo](imagens/empilhar_4_01.png)\n",
    "\n",
    "```c\n",
    "p = new noPilha;\n",
    "```\n",
    "\n",
    "![topo](imagens/empilhar_4_02.png)\n",
    "\n",
    "```c\n",
    "p->valor = x;\n",
    "```\n",
    "\n",
    "![topo](imagens/empilhar_4_03.png)\n",
    "\n",
    "```c\n",
    "p->proximoNo = topo;\n",
    "```\n",
    "\n",
    "![topo](imagens/empilhar_4_04.png)\n",
    "\n",
    "```c\n",
    "topo = p;\n",
    "```\n",
    "\n",
    "![topo](imagens/empilhar_4_05.png)\n",
    "\n",
    "\n",
    "Como o ponteiro p era pertencente ao método empilhar, ao termino da execução do método permanece apenas o atributo topo.\n",
    "\n",
    "![topo](imagens/empilhar_4_06.png)\n",
    "\n",
    "\n"
   ]
  },
  {
   "cell_type": "markdown",
   "id": "crazy-brooklyn",
   "metadata": {},
   "source": [
    "## Desempilhar"
   ]
  },
  {
   "cell_type": "code",
   "execution_count": 70,
   "id": "departmental-instruction",
   "metadata": {},
   "outputs": [],
   "source": [
    "int y;\n",
    "int resultado;"
   ]
  },
  {
   "cell_type": "code",
   "execution_count": 71,
   "id": "higher-stream",
   "metadata": {},
   "outputs": [],
   "source": [
    "bool Pilha::desempilhar(int &x) {\n",
    "    PonteiroPilha p;\n",
    "    if (estaVazia()) {\n",
    "        return 0;\n",
    "    }\n",
    "    x = topo->valor;\n",
    "    p = topo;\n",
    "    topo = topo->proximoNo;\n",
    "    free(p);\n",
    "    return 1;\n",
    "}"
   ]
  },
  {
   "cell_type": "code",
   "execution_count": 72,
   "id": "domestic-astrology",
   "metadata": {},
   "outputs": [
    {
     "name": "stdout",
     "output_type": "stream",
     "text": [
      "4"
     ]
    }
   ],
   "source": [
    "resultado = minhaPilha.desempilhar(y);\n",
    "cout << y;"
   ]
  },
  {
   "cell_type": "code",
   "execution_count": 73,
   "id": "strange-search",
   "metadata": {},
   "outputs": [
    {
     "name": "stdout",
     "output_type": "stream",
     "text": [
      "1"
     ]
    }
   ],
   "source": [
    "cout << resultado;"
   ]
  },
  {
   "cell_type": "markdown",
   "id": "ultimate-nelson",
   "metadata": {},
   "source": [
    "Um ponteiro p do tipo PonteiroP é criado:\n",
    "\n",
    "```c\n",
    "PonteiroPilha p;\n",
    "```\n",
    "\n",
    "![topo](imagens/desempilhar_4_01.png)\n",
    "\n",
    "Em x é armazenado o valor atual de topo:\n",
    "\n",
    "```c\n",
    "x = topo->valor;\n",
    "```\n",
    "\n",
    "![topo](imagens/desempilhar_4_02.png)\n",
    "\n",
    "p passa a apontar para topo:\n",
    "\n",
    "```\n",
    "p = topo;\n",
    "```\n",
    "\n",
    "![topo](imagens/desempilhar_4_03.png)\n",
    "\n",
    "topo passa a apontar para seu próprio proximoNo:\n",
    "\n",
    "```\n",
    "topo = topo->proximoNo;\n",
    "```\n",
    "\n",
    "![topo](imagens/desempilhar_4_04.png)\n",
    "\n",
    "p é liberado da memória:\n",
    "\n",
    "```\n",
    "free(p);\n",
    "```\n",
    "\n",
    "![topo](imagens/desempilhar_4_05.png)\n"
   ]
  },
  {
   "cell_type": "code",
   "execution_count": 74,
   "id": "earlier-siemens",
   "metadata": {},
   "outputs": [
    {
     "name": "stdout",
     "output_type": "stream",
     "text": [
      "10 - 1"
     ]
    }
   ],
   "source": [
    "resultado = minhaPilha.desempilhar(y);\n",
    "cout << y << \" - \" << resultado;"
   ]
  },
  {
   "cell_type": "code",
   "execution_count": 75,
   "id": "excellent-commonwealth",
   "metadata": {},
   "outputs": [
    {
     "name": "stdout",
     "output_type": "stream",
     "text": [
      "8 - 1"
     ]
    }
   ],
   "source": [
    "resultado = minhaPilha.desempilhar(y);\n",
    "cout << y << \" - \" << resultado;"
   ]
  },
  {
   "cell_type": "code",
   "execution_count": 76,
   "id": "invalid-teens",
   "metadata": {},
   "outputs": [
    {
     "name": "stdout",
     "output_type": "stream",
     "text": [
      "8 - 0"
     ]
    }
   ],
   "source": [
    "resultado = minhaPilha.desempilhar(y);\n",
    "cout << y << \" - \" << resultado;"
   ]
  },
  {
   "cell_type": "code",
   "execution_count": 77,
   "id": "editorial-experiment",
   "metadata": {},
   "outputs": [],
   "source": [
    "minhaPilha.empilhar(0);"
   ]
  },
  {
   "cell_type": "code",
   "execution_count": 78,
   "id": "frequent-productivity",
   "metadata": {},
   "outputs": [],
   "source": [
    "resultado = minhaPilha.desempilhar(y);"
   ]
  },
  {
   "cell_type": "code",
   "execution_count": 79,
   "id": "royal-experience",
   "metadata": {},
   "outputs": [
    {
     "name": "stdout",
     "output_type": "stream",
     "text": [
      "1"
     ]
    }
   ],
   "source": [
    "cout << resultado;"
   ]
  },
  {
   "cell_type": "code",
   "execution_count": 80,
   "id": "shaped-entry",
   "metadata": {},
   "outputs": [
    {
     "name": "stdout",
     "output_type": "stream",
     "text": [
      "0"
     ]
    }
   ],
   "source": [
    "cout << y;"
   ]
  },
  {
   "cell_type": "code",
   "execution_count": 81,
   "id": "solved-riverside",
   "metadata": {},
   "outputs": [],
   "source": [
    "minhaPilha.empilhar(1);\n",
    "minhaPilha.empilhar(0);"
   ]
  },
  {
   "cell_type": "code",
   "execution_count": 82,
   "id": "lightweight-sullivan",
   "metadata": {},
   "outputs": [
    {
     "name": "stdout",
     "output_type": "stream",
     "text": [
      "desempilhou: 0"
     ]
    }
   ],
   "source": [
    "if (minhaPilha.desempilhar(y))\n",
    "    cout << \"desempilhou: \" << y;\n",
    "else\n",
    "    cout << \"não desempilhou!\";"
   ]
  },
  {
   "cell_type": "code",
   "execution_count": 83,
   "id": "engaging-thanksgiving",
   "metadata": {},
   "outputs": [
    {
     "name": "stdout",
     "output_type": "stream",
     "text": [
      "desempilhou: 1"
     ]
    }
   ],
   "source": [
    "if (minhaPilha.desempilhar(y))\n",
    "    cout << \"desempilhou: \" << y;\n",
    "else\n",
    "    cout << \"não desempilhou!\";"
   ]
  },
  {
   "cell_type": "code",
   "execution_count": 84,
   "id": "prompt-while",
   "metadata": {},
   "outputs": [
    {
     "name": "stdout",
     "output_type": "stream",
     "text": [
      "não desempilhou!"
     ]
    }
   ],
   "source": [
    "if (minhaPilha.desempilhar(y))\n",
    "    cout << \"desempilhou: \" << y;\n",
    "else\n",
    "    cout << \"não desempilhou!\";"
   ]
  },
  {
   "cell_type": "markdown",
   "id": "chief-sierra",
   "metadata": {},
   "source": [
    "## Retorna topo"
   ]
  },
  {
   "cell_type": "code",
   "execution_count": 103,
   "id": "listed-language",
   "metadata": {},
   "outputs": [],
   "source": [
    "minhaPilha.empilhar(4);"
   ]
  },
  {
   "cell_type": "code",
   "execution_count": 104,
   "id": "identified-subscription",
   "metadata": {},
   "outputs": [
    {
     "name": "stderr",
     "output_type": "stream",
     "text": [
      "\u001b[1minput_line_126:1:13: \u001b[0m\u001b[0;1;31merror: \u001b[0m\u001b[1mredefinition of 'retornaTopo'\u001b[0m\n",
      "bool Pilha::retornaTopo(int &x) {\n",
      "\u001b[0;1;32m            ^\n",
      "\u001b[0m\u001b[1minput_line_107:1:13: \u001b[0m\u001b[0;1;30mnote: \u001b[0mprevious definition is here\u001b[0m\n",
      "bool Pilha::retornaTopo(int &x) {\n",
      "\u001b[0;1;32m            ^\n",
      "\u001b[0m"
     ]
    },
    {
     "ename": "Interpreter Error",
     "evalue": "",
     "output_type": "error",
     "traceback": [
      "Interpreter Error: "
     ]
    }
   ],
   "source": [
    "bool Pilha::retornaTopo(int &x) {\n",
    "    if (estaVazia()) {\n",
    "        return 0;\n",
    "    }\n",
    "    x = topo->valor;\n",
    "    return 1;\n",
    "}"
   ]
  },
  {
   "cell_type": "code",
   "execution_count": 105,
   "id": "concrete-advocate",
   "metadata": {},
   "outputs": [],
   "source": [
    "y = 999;\n",
    "resultado = minhaPilha.retornaTopo(y);"
   ]
  },
  {
   "cell_type": "code",
   "execution_count": 106,
   "id": "acoustic-classic",
   "metadata": {},
   "outputs": [
    {
     "name": "stdout",
     "output_type": "stream",
     "text": [
      "4"
     ]
    }
   ],
   "source": [
    "cout << y;"
   ]
  },
  {
   "cell_type": "code",
   "execution_count": 107,
   "id": "chubby-defense",
   "metadata": {},
   "outputs": [
    {
     "name": "stdout",
     "output_type": "stream",
     "text": [
      "1"
     ]
    }
   ],
   "source": [
    "cout << resultado;"
   ]
  },
  {
   "cell_type": "code",
   "execution_count": 109,
   "id": "employed-dakota",
   "metadata": {},
   "outputs": [
    {
     "name": "stdout",
     "output_type": "stream",
     "text": [
      "valor: 4 - resultado: 1"
     ]
    }
   ],
   "source": [
    "y = 999;\n",
    "resultado = minhaPilha.retornaTopo(y);\n",
    "cout << \"valor: \" << y << \" - resultado: \" << resultado;"
   ]
  },
  {
   "cell_type": "code",
   "execution_count": 110,
   "id": "local-metro",
   "metadata": {},
   "outputs": [
    {
     "data": {
      "text/plain": [
       "true"
      ]
     },
     "execution_count": 110,
     "metadata": {},
     "output_type": "execute_result"
    }
   ],
   "source": [
    "minhaPilha.desempilhar(y)"
   ]
  },
  {
   "cell_type": "code",
   "execution_count": 111,
   "id": "light-stopping",
   "metadata": {},
   "outputs": [
    {
     "name": "stdout",
     "output_type": "stream",
     "text": [
      "valor: 999 - resultado: 0"
     ]
    }
   ],
   "source": [
    "y = 999;\n",
    "resultado = minhaPilha.retornaTopo(y);\n",
    "cout << \"valor: \" << y << \" - resultado: \" << resultado;"
   ]
  },
  {
   "cell_type": "code",
   "execution_count": null,
   "id": "taken-consciousness",
   "metadata": {},
   "outputs": [],
   "source": []
  },
  {
   "cell_type": "code",
   "execution_count": 90,
   "id": "planned-cancellation",
   "metadata": {},
   "outputs": [
    {
     "name": "stdout",
     "output_type": "stream",
     "text": [
      "1"
     ]
    }
   ],
   "source": []
  },
  {
   "cell_type": "markdown",
   "id": "union-practice",
   "metadata": {},
   "source": [
    "## Testando pilha"
   ]
  },
  {
   "cell_type": "code",
   "execution_count": 53,
   "id": "developing-technical",
   "metadata": {},
   "outputs": [],
   "source": [
    "Pilha minhaPilha;"
   ]
  },
  {
   "cell_type": "code",
   "execution_count": 54,
   "id": "detailed-lighting",
   "metadata": {},
   "outputs": [
    {
     "name": "stdout",
     "output_type": "stream",
     "text": [
      "Esta vazia!\n"
     ]
    }
   ],
   "source": [
    "if (minhaPilha.estaVazia())\n",
    "    cout << \"Esta vazia!\\n\";\n",
    "else\n",
    "    cout << \"Não esta vazia!\\n\";"
   ]
  },
  {
   "cell_type": "code",
   "execution_count": 55,
   "id": "informed-symposium",
   "metadata": {},
   "outputs": [
    {
     "name": "stdout",
     "output_type": "stream",
     "text": [
      "Empilhando: 4\n",
      "Empilhado\n"
     ]
    }
   ],
   "source": [
    "cout << \"Empilhando: 4\\n\";\n",
    "if (minhaPilha.empilhar(4))\n",
    "    cout << \"Empilhado\\n\";\n",
    "else\n",
    "    cout << \"Não empilhou\\n\";"
   ]
  },
  {
   "cell_type": "code",
   "execution_count": 56,
   "id": "bored-fruit",
   "metadata": {},
   "outputs": [
    {
     "name": "stdout",
     "output_type": "stream",
     "text": [
      "Empilhando: 3\n",
      "Empilhado\n"
     ]
    }
   ],
   "source": [
    "cout << \"Empilhando: 3\\n\";\n",
    "if (minhaPilha.empilhar(3))\n",
    "    cout << \"Empilhado\\n\";\n",
    "else\n",
    "    cout << \"Não empilhou\\n\";"
   ]
  },
  {
   "cell_type": "code",
   "execution_count": 57,
   "id": "humanitarian-channel",
   "metadata": {},
   "outputs": [
    {
     "name": "stdout",
     "output_type": "stream",
     "text": [
      "Empilhando: 2\n",
      "Empilhado\n"
     ]
    }
   ],
   "source": [
    "cout << \"Empilhando: 2\\n\";\n",
    "if (minhaPilha.empilhar(2))\n",
    "    cout << \"Empilhado\\n\";\n",
    "else\n",
    "    cout << \"Não empilhou\\n\";"
   ]
  },
  {
   "cell_type": "code",
   "execution_count": 58,
   "id": "urban-stevens",
   "metadata": {},
   "outputs": [
    {
     "name": "stdout",
     "output_type": "stream",
     "text": [
      "Empilhando: 1\n",
      "Empilhado\n"
     ]
    }
   ],
   "source": [
    "cout << \"Empilhando: 1\\n\";\n",
    "if (minhaPilha.empilhar(1))\n",
    "    cout << \"Empilhado\\n\";\n",
    "else\n",
    "    cout << \"Não empilhou\\n\";"
   ]
  },
  {
   "cell_type": "code",
   "execution_count": 59,
   "id": "composite-conducting",
   "metadata": {},
   "outputs": [
    {
     "name": "stdout",
     "output_type": "stream",
     "text": [
      "Topo da pilha: 1\n"
     ]
    }
   ],
   "source": [
    "cout << \"Topo da pilha: \" << minhaPilha.retornaTopo() << \"\\n\";"
   ]
  },
  {
   "cell_type": "code",
   "execution_count": 60,
   "id": "boring-concept",
   "metadata": {},
   "outputs": [
    {
     "name": "stdout",
     "output_type": "stream",
     "text": [
      "Desempilhou: 1\n"
     ]
    }
   ],
   "source": [
    "if (minhaPilha.desempilhar(x))\n",
    "    cout << \"Desempilhou: \" << x << \"\\n\";\n",
    "else\n",
    "    cout << \"Pilha vazia!\";"
   ]
  },
  {
   "cell_type": "code",
   "execution_count": 61,
   "id": "floral-comedy",
   "metadata": {},
   "outputs": [
    {
     "name": "stdout",
     "output_type": "stream",
     "text": [
      "Desempilhou: 2\n"
     ]
    }
   ],
   "source": [
    "if (minhaPilha.desempilhar(x))\n",
    "    cout << \"Desempilhou: \" << x << \"\\n\";\n",
    "else\n",
    "    cout << \"Pilha vazia!\";"
   ]
  },
  {
   "cell_type": "code",
   "execution_count": 62,
   "id": "split-pillow",
   "metadata": {},
   "outputs": [
    {
     "name": "stdout",
     "output_type": "stream",
     "text": [
      "Desempilhou: 3\n"
     ]
    }
   ],
   "source": [
    "if (minhaPilha.desempilhar(x))\n",
    "    cout << \"Desempilhou: \" << x << \"\\n\";\n",
    "else\n",
    "    cout << \"Pilha vazia!\";"
   ]
  },
  {
   "cell_type": "code",
   "execution_count": 63,
   "id": "turned-footage",
   "metadata": {},
   "outputs": [
    {
     "name": "stdout",
     "output_type": "stream",
     "text": [
      "Desempilhou: 4\n"
     ]
    }
   ],
   "source": [
    "if (minhaPilha.desempilhar(x))\n",
    "    cout << \"Desempilhou: \" << x << \"\\n\";\n",
    "else\n",
    "    cout << \"Pilha vazia!\";"
   ]
  },
  {
   "cell_type": "code",
   "execution_count": 64,
   "id": "collective-hartford",
   "metadata": {},
   "outputs": [
    {
     "name": "stdout",
     "output_type": "stream",
     "text": [
      "Pilha vazia!"
     ]
    }
   ],
   "source": [
    "if (minhaPilha.desempilhar(x))\n",
    "    cout << \"Desempilhou: \" << x << \"\\n\";\n",
    "else\n",
    "    cout << \"Pilha vazia!\";"
   ]
  },
  {
   "cell_type": "code",
   "execution_count": 65,
   "id": "reported-shannon",
   "metadata": {},
   "outputs": [
    {
     "data": {
      "text/plain": [
       "true"
      ]
     },
     "execution_count": 65,
     "metadata": {},
     "output_type": "execute_result"
    }
   ],
   "source": [
    "minhaPilha.empilhar(0)"
   ]
  },
  {
   "cell_type": "code",
   "execution_count": 66,
   "id": "eleven-expert",
   "metadata": {},
   "outputs": [
    {
     "name": "stdout",
     "output_type": "stream",
     "text": [
      "Desempilhou: 0\n"
     ]
    }
   ],
   "source": [
    "if (minhaPilha.desempilhar(x))\n",
    "    cout << \"Desempilhou: \" << x << \"\\n\";\n",
    "else\n",
    "    cout << \"Pilha vazia!\";"
   ]
  },
  {
   "cell_type": "code",
   "execution_count": 67,
   "id": "expired-independence",
   "metadata": {},
   "outputs": [
    {
     "name": "stdout",
     "output_type": "stream",
     "text": [
      "Pilha vazia!"
     ]
    }
   ],
   "source": [
    "if (minhaPilha.desempilhar(x))\n",
    "    cout << \"Desempilhou: \" << x << \"\\n\";\n",
    "else\n",
    "    cout << \"Pilha vazia!\";"
   ]
  },
  {
   "cell_type": "code",
   "execution_count": null,
   "id": "returning-explorer",
   "metadata": {},
   "outputs": [],
   "source": []
  }
 ],
 "metadata": {
  "kernelspec": {
   "display_name": "C++11",
   "language": "C++11",
   "name": "xcpp11"
  },
  "language_info": {
   "codemirror_mode": "text/x-c++src",
   "file_extension": ".cpp",
   "mimetype": "text/x-c++src",
   "name": "c++",
   "version": "11"
  }
 },
 "nbformat": 4,
 "nbformat_minor": 5
}
