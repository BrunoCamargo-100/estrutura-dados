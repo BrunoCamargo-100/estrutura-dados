{
 "cells": [
  {
   "cell_type": "markdown",
   "id": "explicit-james",
   "metadata": {},
   "source": [
    "# Listas Dinâmica\n",
    "\n",
    "## Implementação"
   ]
  },
  {
   "cell_type": "code",
   "execution_count": 32,
   "id": "recovered-moisture",
   "metadata": {},
   "outputs": [],
   "source": [
    "#include <iostream>\n",
    "using namespace std;"
   ]
  },
  {
   "cell_type": "markdown",
   "id": "metallic-portal",
   "metadata": {},
   "source": [
    "## Definição da classe"
   ]
  },
  {
   "cell_type": "code",
   "execution_count": 311,
   "id": "modern-teach",
   "metadata": {},
   "outputs": [],
   "source": [
    "class Lista {\n",
    "    private:\n",
    "        struct elemento {\n",
    "            int valor;\n",
    "            elemento *proximoElemento; // ligação próximo nó\n",
    "        };\n",
    "        typedef elemento *PonteiroElemento;\n",
    "        PonteiroElemento inicio;\n",
    "        int contador;\n",
    "    public:\n",
    "        Lista();\n",
    "        bool vazia();\n",
    "        bool cheia();\n",
    "        bool inserir(int posicao, int x);\n",
    "        bool remover(int posicao, int &x);\n",
    "        //implementar\n",
    "        string listar();\n",
    "        int tamanho();\n",
    "    private:\n",
    "        bool setaPosicao(int p, PonteiroElemento &atual);\n",
    "};"
   ]
  },
  {
   "cell_type": "markdown",
   "id": "increasing-nirvana",
   "metadata": {},
   "source": [
    "### Método Construtor"
   ]
  },
  {
   "cell_type": "code",
   "execution_count": 312,
   "id": "about-heritage",
   "metadata": {},
   "outputs": [],
   "source": [
    "Lista::Lista() {\n",
    "    inicio = NULL;\n",
    "    contador = -1;\n",
    "}"
   ]
  },
  {
   "cell_type": "code",
   "execution_count": 313,
   "id": "interesting-washington",
   "metadata": {},
   "outputs": [],
   "source": [
    "Lista minhaLista;"
   ]
  },
  {
   "cell_type": "markdown",
   "id": "chemical-volleyball",
   "metadata": {},
   "source": [
    "![topo](imagens/lista01.png)"
   ]
  },
  {
   "cell_type": "markdown",
   "id": "talented-rally",
   "metadata": {},
   "source": [
    "### Verifica se lista está vazia"
   ]
  },
  {
   "cell_type": "code",
   "execution_count": 314,
   "id": "bibliographic-footage",
   "metadata": {},
   "outputs": [],
   "source": [
    "bool Lista::vazia() {\n",
    "    return inicio == NULL;\n",
    "}"
   ]
  },
  {
   "cell_type": "code",
   "execution_count": 315,
   "id": "skilled-agent",
   "metadata": {},
   "outputs": [
    {
     "name": "stdout",
     "output_type": "stream",
     "text": [
      "Está vazia!"
     ]
    }
   ],
   "source": [
    "if (minhaLista.vazia()) {\n",
    "    cout << \"Está vazia!\";\n",
    "}"
   ]
  },
  {
   "cell_type": "markdown",
   "id": "offshore-boating",
   "metadata": {},
   "source": [
    "### Verifica se lista está cheia"
   ]
  },
  {
   "cell_type": "code",
   "execution_count": 316,
   "id": "catholic-strike",
   "metadata": {},
   "outputs": [],
   "source": [
    "bool Lista::cheia() {\n",
    "    return false;\n",
    "}"
   ]
  },
  {
   "cell_type": "code",
   "execution_count": 317,
   "id": "accepted-mistress",
   "metadata": {},
   "outputs": [
    {
     "name": "stdout",
     "output_type": "stream",
     "text": [
      "Não está cheia!"
     ]
    }
   ],
   "source": [
    "if (! minhaLista.cheia()) {\n",
    "    cout << \"Não está cheia!\";\n",
    "}"
   ]
  },
  {
   "cell_type": "markdown",
   "id": "joint-upset",
   "metadata": {},
   "source": [
    "### Método Auxiliar: setaPosição"
   ]
  },
  {
   "cell_type": "code",
   "execution_count": 318,
   "id": "powered-popularity",
   "metadata": {},
   "outputs": [],
   "source": [
    "bool Lista::setaPosicao(int posicao, PonteiroElemento &elemento) {\n",
    "    int i;\n",
    "    if (posicao < 0 or posicao > contador) {\n",
    "        return false;\n",
    "    }\n",
    "\n",
    "    elemento = inicio;\n",
    "    for(i = 1 ; i < posicao ; i++) {\n",
    "        elemento = elemento->proximoElemento;\n",
    "    }\n",
    "    \n",
    "    return true;\n",
    "}\n"
   ]
  },
  {
   "cell_type": "code",
   "execution_count": null,
   "id": "egyptian-aquarium",
   "metadata": {},
   "outputs": [],
   "source": []
  },
  {
   "cell_type": "code",
   "execution_count": 319,
   "id": "aerial-prediction",
   "metadata": {},
   "outputs": [],
   "source": [
    "#include \"listar.cpp\""
   ]
  },
  {
   "cell_type": "code",
   "execution_count": 320,
   "id": "informative-tourist",
   "metadata": {},
   "outputs": [],
   "source": [
    "#include \"tamanho.cpp\""
   ]
  },
  {
   "cell_type": "markdown",
   "id": "amended-conditions",
   "metadata": {},
   "source": [
    "### Inserção elemento na fila"
   ]
  },
  {
   "cell_type": "code",
   "execution_count": 321,
   "id": "matched-intellectual",
   "metadata": {},
   "outputs": [],
   "source": [
    "bool Lista::inserir(int posicao, int x) {\n",
    "    PonteiroElemento p, atual;\n",
    "    \n",
    "    if (posicao < 0 or posicao > contador + 1) {\n",
    "        return false;\n",
    "    }\n",
    "\n",
    "    p = new elemento;\n",
    "    p->valor = x;\n",
    "    if (posicao == 0) {\n",
    "        p->proximoElemento = inicio;\n",
    "        inicio = p;\n",
    "    } else {\n",
    "        setaPosicao(posicao, atual);\n",
    "        p->proximoElemento = atual->proximoElemento;\n",
    "        atual->proximoElemento = p;\n",
    "    }\n",
    "    contador++;\n",
    "    return true;    \n",
    "}"
   ]
  },
  {
   "cell_type": "code",
   "execution_count": 322,
   "id": "armed-consent",
   "metadata": {},
   "outputs": [
    {
     "name": "stdout",
     "output_type": "stream",
     "text": [
      "Não inseriu!"
     ]
    }
   ],
   "source": [
    "if (! minhaLista.inserir(2, 3))\n",
    "    cout << \"Não inseriu!\";\n",
    "else\n",
    "    cout << minhaLista.listar()"
   ]
  },
  {
   "cell_type": "code",
   "execution_count": 323,
   "id": "regular-break",
   "metadata": {},
   "outputs": [
    {
     "name": "stdout",
     "output_type": "stream",
     "text": [
      "Não inseriu!"
     ]
    }
   ],
   "source": [
    "if (! minhaLista.inserir(-1, 3))\n",
    "    cout << \"Não inseriu!\";\n",
    "else\n",
    "    cout << minhaLista.listar()"
   ]
  },
  {
   "cell_type": "code",
   "execution_count": 324,
   "id": "atlantic-interaction",
   "metadata": {},
   "outputs": [
    {
     "name": "stdout",
     "output_type": "stream",
     "text": [
      "Não inseriu!"
     ]
    }
   ],
   "source": [
    "if (! minhaLista.inserir(1, 3))\n",
    "    cout << \"Não inseriu!\";\n",
    "else\n",
    "    cout << minhaLista.listar()"
   ]
  },
  {
   "cell_type": "code",
   "execution_count": 325,
   "id": "received-scoop",
   "metadata": {},
   "outputs": [
    {
     "name": "stdout",
     "output_type": "stream",
     "text": [
      "[3] "
     ]
    }
   ],
   "source": [
    "if (! minhaLista.inserir(0, 3))\n",
    "    cout << \"Não inseriu!\";\n",
    "else\n",
    "    cout << minhaLista.listar()"
   ]
  },
  {
   "cell_type": "markdown",
   "id": "bound-enhancement",
   "metadata": {},
   "source": [
    "```c\n",
    "PonteiroElemento p, atual;\n",
    "p = new elemento;\n",
    "p->valor = x;\n",
    "```\n",
    "![topo](imagens/lista02.png)\n",
    "\n",
    "```c\n",
    "if (posicao == 0) {\n",
    "    p->proximoElemento = inicio;\n",
    "    inicio = p;\n",
    "}\n",
    "```    \n",
    "![topo](imagens/lista03.png)\n",
    "\n",
    "```c\n",
    "else {\n",
    "    setaPosicao(posicao, atual);\n",
    "    p->proximoElemento = atual->proximoElemento;\n",
    "    atual->proximoElemento = p;\n",
    "}\n",
    "contador++;\n",
    "return true;    \n",
    "```\n",
    "\n",
    "![topo](imagens/lista04.png)"
   ]
  },
  {
   "cell_type": "code",
   "execution_count": 326,
   "id": "unsigned-watershed",
   "metadata": {},
   "outputs": [
    {
     "name": "stdout",
     "output_type": "stream",
     "text": [
      "[4] [3] "
     ]
    }
   ],
   "source": [
    "if (! minhaLista.inserir(0, 4))\n",
    "    cout << \"Não inseriu!\";\n",
    "else\n",
    "    cout << minhaLista.listar()"
   ]
  },
  {
   "cell_type": "markdown",
   "id": "nuclear-dispatch",
   "metadata": {},
   "source": [
    "```c\n",
    "PonteiroElemento p, atual;\n",
    "p = new elemento;\n",
    "p->valor = x;\n",
    "```\n",
    "![topo](imagens/lista05.png)\n",
    "\n",
    "```c\n",
    "if (posicao == 0) {\n",
    "    p->proximoElemento = inicio;\n",
    "```\n",
    "![topo](imagens/lista06.png)\n",
    "```c\n",
    "    inicio = p;\n",
    "} \n",
    "```\n",
    "![topo](imagens/lista07.png)\n",
    "```c\n",
    "else {\n",
    "    setaPosicao(posicao, atual);\n",
    "    p->proximoElemento = atual->proximoElemento;\n",
    "    atual->proximoElemento = p;\n",
    "}\n",
    "contador++;\n",
    "return true;    \n",
    "```\n",
    "![topo](imagens/lista08.png)"
   ]
  },
  {
   "cell_type": "code",
   "execution_count": 327,
   "id": "toxic-reset",
   "metadata": {},
   "outputs": [
    {
     "name": "stdout",
     "output_type": "stream",
     "text": [
      "[4] [5] [3] "
     ]
    }
   ],
   "source": [
    "if (! minhaLista.inserir(1, 5))\n",
    "    cout << \"Não inseriu!\";\n",
    "else\n",
    "    cout << minhaLista.listar()"
   ]
  },
  {
   "cell_type": "markdown",
   "id": "material-natural",
   "metadata": {},
   "source": [
    "```c\n",
    "PonteiroElemento p, atual;\n",
    "p = new elemento;\n",
    "p->valor = x;\n",
    "```\n",
    "![topo](imagens/lista09.png)\n",
    "\n",
    "```c\n",
    "if (posicao == 0) {\n",
    "    p->proximoElemento = inicio;\n",
    "    inicio = p;\n",
    "} \n",
    "else {\n",
    "    setaPosicao(posicao, atual);\n",
    "```\n",
    "![topo](imagens/lista10.png)\n",
    "```c\n",
    "    p->proximoElemento = atual->proximoElemento;\n",
    "```\n",
    "![topo](imagens/lista11.png)\n",
    "```c\n",
    "    atual->proximoElemento = p;\n",
    "```\n",
    "![topo](imagens/lista12.png)\n",
    "```c\n",
    "}\n",
    "contador++;\n",
    "return true;    \n",
    "```\n",
    "![topo](imagens/lista13.png)"
   ]
  },
  {
   "cell_type": "code",
   "execution_count": 329,
   "id": "cognitive-reggae",
   "metadata": {},
   "outputs": [
    {
     "name": "stdout",
     "output_type": "stream",
     "text": [
      "[4] [5] [3] "
     ]
    }
   ],
   "source": [
    "cout << minhaLista.listar();"
   ]
  },
  {
   "cell_type": "code",
   "execution_count": 330,
   "id": "breathing-spending",
   "metadata": {},
   "outputs": [
    {
     "name": "stdout",
     "output_type": "stream",
     "text": [
      "[7] [4] [5] [3] "
     ]
    }
   ],
   "source": [
    "if (! minhaLista.inserir(0, 7))\n",
    "    cout << \"Não inseriu!\";\n",
    "else\n",
    "    cout << minhaLista.listar()"
   ]
  },
  {
   "cell_type": "code",
   "execution_count": 331,
   "id": "ceramic-screw",
   "metadata": {},
   "outputs": [
    {
     "name": "stdout",
     "output_type": "stream",
     "text": [
      "[7] [4] [9] [5] [3] "
     ]
    }
   ],
   "source": [
    "if (! minhaLista.inserir(2, 9))\n",
    "    cout << \"Não inseriu!\";\n",
    "else\n",
    "    cout << minhaLista.listar()"
   ]
  },
  {
   "cell_type": "code",
   "execution_count": 332,
   "id": "corresponding-screen",
   "metadata": {},
   "outputs": [
    {
     "name": "stdout",
     "output_type": "stream",
     "text": [
      "[7] [4] [9] [8] [5] [3] "
     ]
    }
   ],
   "source": [
    "if (! minhaLista.inserir(3, 8))\n",
    "    cout << \"Não inseriu!\";\n",
    "else\n",
    "    cout << minhaLista.listar()"
   ]
  },
  {
   "cell_type": "code",
   "execution_count": 333,
   "id": "younger-refund",
   "metadata": {},
   "outputs": [
    {
     "name": "stdout",
     "output_type": "stream",
     "text": [
      "[7] [4] [9] [8] [5] [9] [3] "
     ]
    }
   ],
   "source": [
    "if (! minhaLista.inserir(5, 9))\n",
    "    cout << \"Não inseriu!\";\n",
    "else\n",
    "    cout << minhaLista.listar()"
   ]
  },
  {
   "cell_type": "markdown",
   "id": "rough-classics",
   "metadata": {},
   "source": [
    "### Remoção de Elemento da Fila"
   ]
  },
  {
   "cell_type": "code",
   "execution_count": 334,
   "id": "incomplete-stopping",
   "metadata": {},
   "outputs": [],
   "source": [
    "bool Lista::remover(int posicao, int &x) {\n",
    "    PonteiroElemento p, atual;\n",
    "    \n",
    "    if (posicao < 0 or posicao > contador) {\n",
    "        return false;\n",
    "    }\n",
    "\n",
    "    if(posicao == 0) {\n",
    "        p = inicio;\n",
    "        inicio = inicio->proximoElemento;\n",
    "    } else {\n",
    "        setaPosicao(posicao, atual);\n",
    "        p = atual->proximoElemento;\n",
    "        atual->proximoElemento = p->proximoElemento;\n",
    "    }\n",
    "    x = p->valor;\n",
    "    delete p;\n",
    "    contador --;\n",
    "    \n",
    "    return true;\n",
    "}"
   ]
  },
  {
   "cell_type": "code",
   "execution_count": 335,
   "id": "raised-intelligence",
   "metadata": {},
   "outputs": [],
   "source": [
    "int y;"
   ]
  },
  {
   "cell_type": "code",
   "execution_count": 336,
   "id": "lyric-carter",
   "metadata": {},
   "outputs": [
    {
     "name": "stdout",
     "output_type": "stream",
     "text": [
      "[7] [4] [9] [8] [5] [9] [3] "
     ]
    }
   ],
   "source": [
    "cout << minhaLista.listar();"
   ]
  },
  {
   "cell_type": "code",
   "execution_count": 337,
   "id": "loved-citizen",
   "metadata": {},
   "outputs": [
    {
     "name": "stdout",
     "output_type": "stream",
     "text": [
      "7"
     ]
    }
   ],
   "source": [
    "cout << minhaLista.tamanho();"
   ]
  },
  {
   "cell_type": "code",
   "execution_count": 338,
   "id": "declared-excellence",
   "metadata": {},
   "outputs": [
    {
     "name": "stdout",
     "output_type": "stream",
     "text": [
      "Não removeu!"
     ]
    }
   ],
   "source": [
    "if (! minhaLista.remover(-1, y))\n",
    "    cout << \"Não removeu!\";\n",
    "else\n",
    "    cout << \"y: \" << y << \" - \" << minhaLista.listar()"
   ]
  },
  {
   "cell_type": "code",
   "execution_count": 339,
   "id": "pretty-challenge",
   "metadata": {},
   "outputs": [
    {
     "name": "stdout",
     "output_type": "stream",
     "text": [
      "Não removeu!"
     ]
    }
   ],
   "source": [
    "if (! minhaLista.remover(7, y))\n",
    "    cout << \"Não removeu!\";\n",
    "else\n",
    "    cout << \"y: \" << y << \" - \" << minhaLista.listar()"
   ]
  },
  {
   "cell_type": "code",
   "execution_count": 340,
   "id": "sacred-configuration",
   "metadata": {},
   "outputs": [
    {
     "name": "stdout",
     "output_type": "stream",
     "text": [
      "y: 7 - [4] [9] [8] [5] [9] [3] "
     ]
    }
   ],
   "source": [
    "if (! minhaLista.remover(0, y))\n",
    "    cout << \"Não removeu!\";\n",
    "else\n",
    "    cout << \"y: \" << y << \" - \" << minhaLista.listar()"
   ]
  },
  {
   "cell_type": "markdown",
   "id": "adopted-consideration",
   "metadata": {},
   "source": [
    "```c\n",
    "PonteiroElemento p, atual;\n",
    "```\n",
    "![topo](imagens/lista14.png)\n",
    "```c\n",
    "if (posicao < 0 or posicao > contador) {\n",
    "    return false;\n",
    "}\n",
    "\n",
    "if(posicao == 0) {\n",
    "    p = inicio;\n",
    "```\n",
    "![topo](imagens/lista15.png)\n",
    "```c\n",
    "        inicio = inicio->proximoElemento;\n",
    "```\n",
    "![topo](imagens/lista16.png)\n",
    "```c\n",
    "} else {\n",
    "    setaPosicao(posicao, atual);\n",
    "    p = atual->proximoElemento;\n",
    "    atual->proximoElemento = p->proximoElemento;\n",
    "}\n",
    "x = p->valor;\n",
    "```\n",
    "![topo](imagens/lista17.png)\n",
    "```c\n",
    "delete p;\n",
    "```\n",
    "![topo](imagens/lista18.png)\n",
    "```c\n",
    "contador --;\n",
    "return true;\n",
    "```\n",
    "![topo](imagens/lista19.png)"
   ]
  },
  {
   "cell_type": "code",
   "execution_count": 341,
   "id": "experimental-retreat",
   "metadata": {},
   "outputs": [
    {
     "name": "stdout",
     "output_type": "stream",
     "text": [
      "[4] [9] [8] [5] [9] [3] "
     ]
    }
   ],
   "source": [
    "cout << minhaLista.listar();"
   ]
  },
  {
   "cell_type": "code",
   "execution_count": 342,
   "id": "worse-astronomy",
   "metadata": {},
   "outputs": [
    {
     "name": "stdout",
     "output_type": "stream",
     "text": [
      "y: 9 - [4] [9] [8] [5] [3] "
     ]
    }
   ],
   "source": [
    "if (! minhaLista.remover(4, y))\n",
    "    cout << \"Não removeu!\";\n",
    "else\n",
    "    cout << \"y: \" << y << \" - \" << minhaLista.listar()"
   ]
  },
  {
   "cell_type": "markdown",
   "id": "beginning-ecology",
   "metadata": {},
   "source": [
    "```c\n",
    "PonteiroElemento p, atual;\n",
    "```\n",
    "![topo](imagens/lista20.png)\n",
    "```c\n",
    "if (posicao < 0 or posicao > contador) {\n",
    "    return false;\n",
    "}\n",
    "\n",
    "if(posicao == 0) {\n",
    "    p = inicio;\n",
    "        inicio = inicio->proximoElemento;\n",
    "} else {\n",
    "    setaPosicao(posicao, atual);\n",
    "```\n",
    "![topo](imagens/lista21.png)\n",
    "```c\n",
    "    p = atual->proximoElemento;\n",
    "```\n",
    "![topo](imagens/lista22.png)\n",
    "```c\n",
    "    atual->proximoElemento = p->proximoElemento;\n",
    "```\n",
    "![topo](imagens/lista23.png)\n",
    "```c\n",
    "}\n",
    "x = p->valor;\n",
    "```\n",
    "![topo](imagens/lista24.png)\n",
    "```c\n",
    "delete p;\n",
    "```\n",
    "![topo](imagens/lista25.png)\n",
    "```c\n",
    "contador --;\n",
    "return true;\n",
    "```\n",
    "![topo](imagens/lista26.png)"
   ]
  },
  {
   "cell_type": "code",
   "execution_count": 343,
   "id": "considered-cleaner",
   "metadata": {},
   "outputs": [
    {
     "name": "stdout",
     "output_type": "stream",
     "text": [
      "[4] [9] [8] [5] [3] "
     ]
    }
   ],
   "source": [
    "cout << minhaLista.listar();"
   ]
  },
  {
   "cell_type": "code",
   "execution_count": 344,
   "id": "endless-insulation",
   "metadata": {},
   "outputs": [
    {
     "name": "stdout",
     "output_type": "stream",
     "text": [
      "y: 9 - [4] [8] [5] [3] "
     ]
    }
   ],
   "source": [
    "if (! minhaLista.remover(1, y))\n",
    "    cout << \"Não removeu!\";\n",
    "else\n",
    "    cout << \"y: \" << y << \" - \" << minhaLista.listar()"
   ]
  },
  {
   "cell_type": "code",
   "execution_count": 345,
   "id": "particular-buyer",
   "metadata": {},
   "outputs": [
    {
     "name": "stdout",
     "output_type": "stream",
     "text": [
      "y: 4 - [8] [5] [3] "
     ]
    }
   ],
   "source": [
    "if (! minhaLista.remover(0, y))\n",
    "    cout << \"Não removeu!\";\n",
    "else\n",
    "    cout << \"y: \" << y << \" - \" << minhaLista.listar()"
   ]
  },
  {
   "cell_type": "code",
   "execution_count": 346,
   "id": "lucky-vessel",
   "metadata": {},
   "outputs": [
    {
     "name": "stdout",
     "output_type": "stream",
     "text": [
      "y: 8 - [5] [3] "
     ]
    }
   ],
   "source": [
    "if (! minhaLista.remover(0, y))\n",
    "    cout << \"Não removeu!\";\n",
    "else\n",
    "    cout << \"y: \" << y << \" - \" << minhaLista.listar()"
   ]
  },
  {
   "cell_type": "code",
   "execution_count": 347,
   "id": "affecting-elevation",
   "metadata": {},
   "outputs": [
    {
     "name": "stdout",
     "output_type": "stream",
     "text": [
      "y: 5 - [3] "
     ]
    }
   ],
   "source": [
    "if (! minhaLista.remover(0, y))\n",
    "    cout << \"Não removeu!\";\n",
    "else\n",
    "    cout << \"y: \" << y << \" - \" << minhaLista.listar()"
   ]
  },
  {
   "cell_type": "code",
   "execution_count": 348,
   "id": "based-labor",
   "metadata": {},
   "outputs": [
    {
     "name": "stdout",
     "output_type": "stream",
     "text": [
      "y: 3 - "
     ]
    }
   ],
   "source": [
    "if (! minhaLista.remover(0, y))\n",
    "    cout << \"Não removeu!\";\n",
    "else\n",
    "    cout << \"y: \" << y << \" - \" << minhaLista.listar()"
   ]
  },
  {
   "cell_type": "code",
   "execution_count": 349,
   "id": "eight-saint",
   "metadata": {},
   "outputs": [
    {
     "name": "stdout",
     "output_type": "stream",
     "text": [
      "0"
     ]
    }
   ],
   "source": [
    "cout << minhaLista.tamanho();"
   ]
  },
  {
   "cell_type": "code",
   "execution_count": null,
   "id": "activated-vitamin",
   "metadata": {},
   "outputs": [],
   "source": []
  }
 ],
 "metadata": {
  "kernelspec": {
   "display_name": "C++11",
   "language": "C++11",
   "name": "xcpp11"
  },
  "language_info": {
   "codemirror_mode": "text/x-c++src",
   "file_extension": ".cpp",
   "mimetype": "text/x-c++src",
   "name": "c++",
   "version": "11"
  }
 },
 "nbformat": 4,
 "nbformat_minor": 5
}
