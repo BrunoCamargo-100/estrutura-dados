{
 "cells": [
  {
   "cell_type": "markdown",
   "id": "polar-investing",
   "metadata": {},
   "source": [
    "# Listas Dinâmica\n",
    "\n",
    "## Implementação"
   ]
  },
  {
   "cell_type": "code",
   "execution_count": 1,
   "id": "urban-twist",
   "metadata": {},
   "outputs": [],
   "source": [
    "#include <iostream>\n",
    "using namespace std;"
   ]
  },
  {
   "cell_type": "markdown",
   "id": "similar-transcription",
   "metadata": {},
   "source": [
    "## Definição da classe"
   ]
  },
  {
   "cell_type": "code",
   "execution_count": 28,
   "id": "alternative-scale",
   "metadata": {},
   "outputs": [],
   "source": [
    "class Lista {\n",
    "    private:\n",
    "        struct elemento {\n",
    "            int valor;\n",
    "            elemento *proximoElemento;\n",
    "        };\n",
    "        typedef elemento *PonteiroElemento;\n",
    "        PonteiroElemento inicio;\n",
    "        int contador;\n",
    "    public:\n",
    "        Lista();\n",
    "        bool vazia();\n",
    "        bool cheia();\n",
    "        bool inserir(int posicao, int x);\n",
    "        bool remover(int posicao, int &x);\n",
    "        //implementar\n",
    "        string listar();\n",
    "        int tamanho();\n",
    "    private:\n",
    "        bool setaPosicao(int posicao, PonteiroElemento &atual);\n",
    "};"
   ]
  },
  {
   "cell_type": "markdown",
   "id": "mexican-intent",
   "metadata": {},
   "source": [
    "### Método Construtor"
   ]
  },
  {
   "cell_type": "code",
   "execution_count": 29,
   "id": "descending-berlin",
   "metadata": {},
   "outputs": [],
   "source": [
    "Lista::Lista() {\n",
    "    inicio = NULL;\n",
    "    contador = 0;\n",
    "}"
   ]
  },
  {
   "cell_type": "code",
   "execution_count": 30,
   "id": "patient-girlfriend",
   "metadata": {},
   "outputs": [],
   "source": [
    "Lista minhaLista;"
   ]
  },
  {
   "cell_type": "markdown",
   "id": "angry-brazilian",
   "metadata": {},
   "source": [
    "![topo](imagens/lista01.png)\n"
   ]
  },
  {
   "cell_type": "markdown",
   "id": "restricted-dominant",
   "metadata": {},
   "source": [
    "### Verifica se lista está vazia"
   ]
  },
  {
   "cell_type": "code",
   "execution_count": 31,
   "id": "entire-sessions",
   "metadata": {},
   "outputs": [],
   "source": [
    "bool Lista::vazia() {\n",
    "    return inicio == NULL;\n",
    "}"
   ]
  },
  {
   "cell_type": "code",
   "execution_count": 32,
   "id": "contained-snake",
   "metadata": {},
   "outputs": [
    {
     "name": "stdout",
     "output_type": "stream",
     "text": [
      "Está vazia!"
     ]
    }
   ],
   "source": [
    "if (minhaLista.vazia()) {\n",
    "    cout << \"Está vazia!\";\n",
    "}"
   ]
  },
  {
   "cell_type": "markdown",
   "id": "swedish-working",
   "metadata": {},
   "source": [
    "### Verifica se lista está cheia"
   ]
  },
  {
   "cell_type": "code",
   "execution_count": 33,
   "id": "focused-pattern",
   "metadata": {},
   "outputs": [],
   "source": [
    "bool Lista::cheia() {\n",
    "    return false;\n",
    "}"
   ]
  },
  {
   "cell_type": "code",
   "execution_count": 34,
   "id": "acute-blood",
   "metadata": {},
   "outputs": [
    {
     "name": "stdout",
     "output_type": "stream",
     "text": [
      "Não está cheia!"
     ]
    }
   ],
   "source": [
    "if (! minhaLista.cheia()) {\n",
    "    cout << \"Não está cheia!\";\n",
    "}"
   ]
  },
  {
   "cell_type": "markdown",
   "id": "dramatic-oasis",
   "metadata": {},
   "source": [
    "### Método Auxiliar: setaPosição"
   ]
  },
  {
   "cell_type": "code",
   "execution_count": 35,
   "id": "potential-absence",
   "metadata": {},
   "outputs": [],
   "source": [
    "bool Lista::setaPosicao(int posicao, PonteiroElemento &atual) {\n",
    "    atual = inicio;\n",
    "    for(int i = 1 ; i < posicao ; i++) {\n",
    "        atual = atual->proximoElemento;\n",
    "    }    \n",
    "    return true;\n",
    "}"
   ]
  },
  {
   "cell_type": "markdown",
   "id": "increasing-sharp",
   "metadata": {},
   "source": [
    "![topo](imagens/lista19.png)"
   ]
  },
  {
   "cell_type": "code",
   "execution_count": null,
   "id": "awful-eleven",
   "metadata": {},
   "outputs": [],
   "source": []
  },
  {
   "cell_type": "code",
   "execution_count": 36,
   "id": "super-least",
   "metadata": {},
   "outputs": [],
   "source": [
    "#include \"listar.cpp\""
   ]
  },
  {
   "cell_type": "code",
   "execution_count": 37,
   "id": "latest-richardson",
   "metadata": {},
   "outputs": [],
   "source": [
    "#include \"tamanho.cpp\""
   ]
  },
  {
   "cell_type": "markdown",
   "id": "working-green",
   "metadata": {},
   "source": [
    "### Inserção elemento na fila"
   ]
  },
  {
   "cell_type": "code",
   "execution_count": 38,
   "id": "otherwise-trail",
   "metadata": {},
   "outputs": [],
   "source": [
    "bool Lista::inserir(int posicao, int x) {\n",
    "    PonteiroElemento p, atual;\n",
    "    \n",
    "    if (posicao < 1 or posicao > contador + 1) {\n",
    "        return false;\n",
    "    }\n",
    "\n",
    "    p = new elemento;\n",
    "    p->valor = x;\n",
    "    \n",
    "    if (posicao == 1) {\n",
    "        p->proximoElemento = inicio;\n",
    "        inicio = p;\n",
    "    } else {\n",
    "        setaPosicao(posicao - 1, atual);\n",
    "        p->proximoElemento = atual->proximoElemento;\n",
    "        atual->proximoElemento = p;\n",
    "    }\n",
    "    contador++;\n",
    "    return true;    \n",
    "}"
   ]
  },
  {
   "cell_type": "code",
   "execution_count": 39,
   "id": "flush-canberra",
   "metadata": {},
   "outputs": [
    {
     "name": "stdout",
     "output_type": "stream",
     "text": [
      "Não inseriu!"
     ]
    }
   ],
   "source": [
    "if (! minhaLista.inserir(2, 3))\n",
    "    cout << \"Não inseriu!\";\n",
    "else\n",
    "    cout << minhaLista.listar()"
   ]
  },
  {
   "cell_type": "code",
   "execution_count": 40,
   "id": "registered-chassis",
   "metadata": {},
   "outputs": [
    {
     "name": "stdout",
     "output_type": "stream",
     "text": [
      "Não inseriu!"
     ]
    }
   ],
   "source": [
    "if (! minhaLista.inserir(-1, 3))\n",
    "    cout << \"Não inseriu!\";\n",
    "else\n",
    "    cout << minhaLista.listar()"
   ]
  },
  {
   "cell_type": "code",
   "execution_count": 41,
   "id": "dying-boxing",
   "metadata": {},
   "outputs": [
    {
     "name": "stdout",
     "output_type": "stream",
     "text": [
      "Não inseriu!"
     ]
    }
   ],
   "source": [
    "if (! minhaLista.inserir(0, 3))\n",
    "    cout << \"Não inseriu!\";\n",
    "else\n",
    "    cout << minhaLista.listar()"
   ]
  },
  {
   "cell_type": "code",
   "execution_count": 42,
   "id": "prospective-milton",
   "metadata": {},
   "outputs": [
    {
     "name": "stdout",
     "output_type": "stream",
     "text": [
      "[3] "
     ]
    }
   ],
   "source": [
    "if (! minhaLista.inserir(1, 3))\n",
    "    cout << \"Não inseriu!\";\n",
    "else\n",
    "    cout << minhaLista.listar();"
   ]
  },
  {
   "cell_type": "markdown",
   "id": "demonstrated-superior",
   "metadata": {},
   "source": [
    "```c\n",
    "PonteiroElemento p, atual;\n",
    "p = new elemento;\n",
    "p->valor = x;\n",
    "```\n",
    "![topo](imagens/lista02.png)\n",
    "\n",
    "```c\n",
    "if (posicao == 1) {\n",
    "    p->proximoElemento = inicio;\n",
    "    inicio = p;\n",
    "}\n",
    "```    \n",
    "![topo](imagens/lista03.png)\n",
    "\n",
    "```c\n",
    "else {\n",
    "    setaPosicao(posicao - 1, atual);\n",
    "    p->proximoElemento = atual->proximoElemento;\n",
    "    atual->proximoElemento = p;\n",
    "}\n",
    "contador++;\n",
    "return true;    \n",
    "```\n",
    "![topo](imagens/lista04.png)"
   ]
  },
  {
   "cell_type": "code",
   "execution_count": 43,
   "id": "connected-statement",
   "metadata": {},
   "outputs": [
    {
     "name": "stdout",
     "output_type": "stream",
     "text": [
      "[3] "
     ]
    }
   ],
   "source": [
    "cout << minhaLista.listar();"
   ]
  },
  {
   "cell_type": "code",
   "execution_count": 44,
   "id": "built-engagement",
   "metadata": {},
   "outputs": [
    {
     "name": "stdout",
     "output_type": "stream",
     "text": [
      "[4] [3] "
     ]
    }
   ],
   "source": [
    "if (! minhaLista.inserir(1, 4))\n",
    "    cout << \"Não inseriu!\";\n",
    "else\n",
    "    cout << minhaLista.listar();"
   ]
  },
  {
   "cell_type": "markdown",
   "id": "divided-surname",
   "metadata": {},
   "source": [
    "```c\n",
    "PonteiroElemento p, atual;\n",
    "p = new elemento;\n",
    "p->valor = x;\n",
    "```\n",
    "![topo](imagens/lista05.png)\n",
    "```c\n",
    "if (posicao == 1) {\n",
    "    p->proximoElemento = inicio;\n",
    "```\n",
    "![topo](imagens/lista06.png)\n",
    "```c\n",
    "    inicio = p;\n",
    "} \n",
    "```\n",
    "![topo](imagens/lista07.png)\n",
    "```c\n",
    "else {\n",
    "    setaPosicao(posicao - 1, atual);\n",
    "    p->proximoElemento = atual->proximoElemento;\n",
    "    atual->proximoElemento = p;\n",
    "}\n",
    "contador++;\n",
    "return true;    \n",
    "```\n",
    "![topo](imagens/lista08.png)\n"
   ]
  },
  {
   "cell_type": "code",
   "execution_count": 45,
   "id": "critical-volunteer",
   "metadata": {},
   "outputs": [
    {
     "name": "stdout",
     "output_type": "stream",
     "text": [
      "[4] [3] "
     ]
    }
   ],
   "source": [
    "cout << minhaLista.listar();"
   ]
  },
  {
   "cell_type": "code",
   "execution_count": 46,
   "id": "arbitrary-valve",
   "metadata": {},
   "outputs": [
    {
     "name": "stdout",
     "output_type": "stream",
     "text": [
      "[4] [5] [3] "
     ]
    }
   ],
   "source": [
    "if (! minhaLista.inserir(2, 5))\n",
    "    cout << \"Não inseriu!\";\n",
    "else\n",
    "    cout << minhaLista.listar();"
   ]
  },
  {
   "cell_type": "markdown",
   "id": "reserved-perspective",
   "metadata": {},
   "source": [
    "```c\n",
    "PonteiroElemento p, atual;\n",
    "p = new elemento;\n",
    "p->valor = x;\n",
    "```\n",
    "![topo](imagens/lista09.png)\n",
    "\n",
    "```c\n",
    "if (posicao == 1) {\n",
    "    p->proximoElemento = inicio;\n",
    "    inicio = p;\n",
    "} \n",
    "else {\n",
    "    setaPosicao(posicao - 1, atual);\n",
    "```\n",
    "![topo](imagens/lista10.png)\n",
    "```c\n",
    "    p->proximoElemento = atual->proximoElemento;\n",
    "```\n",
    "![topo](imagens/lista11.png)\n",
    "```c\n",
    "    atual->proximoElemento = p;\n",
    "```\n",
    "![topo](imagens/lista12.png)\n",
    "```c\n",
    "}\n",
    "contador++;\n",
    "return true;    \n",
    "```\n",
    "![topo](imagens/lista13.png)\n"
   ]
  },
  {
   "cell_type": "code",
   "execution_count": 47,
   "id": "intermediate-enforcement",
   "metadata": {},
   "outputs": [
    {
     "name": "stdout",
     "output_type": "stream",
     "text": [
      "[4] [5] [3] "
     ]
    }
   ],
   "source": [
    "cout << minhaLista.listar();"
   ]
  },
  {
   "cell_type": "code",
   "execution_count": 48,
   "id": "dutch-mattress",
   "metadata": {},
   "outputs": [
    {
     "name": "stdout",
     "output_type": "stream",
     "text": [
      "[7] [4] [5] [3] "
     ]
    }
   ],
   "source": [
    "if (! minhaLista.inserir(1, 7))\n",
    "    cout << \"Não inseriu!\";\n",
    "else\n",
    "    cout << minhaLista.listar()"
   ]
  },
  {
   "cell_type": "code",
   "execution_count": 49,
   "id": "prescribed-supervision",
   "metadata": {},
   "outputs": [
    {
     "name": "stdout",
     "output_type": "stream",
     "text": [
      "[7] [4] [9] [5] [3] "
     ]
    }
   ],
   "source": [
    "if (! minhaLista.inserir(3, 9))\n",
    "    cout << \"Não inseriu!\";\n",
    "else\n",
    "    cout << minhaLista.listar()"
   ]
  },
  {
   "cell_type": "code",
   "execution_count": 50,
   "id": "german-intake",
   "metadata": {},
   "outputs": [
    {
     "name": "stdout",
     "output_type": "stream",
     "text": [
      "[7] [4] [9] [8] [5] [3] "
     ]
    }
   ],
   "source": [
    "if (! minhaLista.inserir(4, 8))\n",
    "    cout << \"Não inseriu!\";\n",
    "else\n",
    "    cout << minhaLista.listar()"
   ]
  },
  {
   "cell_type": "code",
   "execution_count": 51,
   "id": "macro-fifteen",
   "metadata": {},
   "outputs": [
    {
     "name": "stdout",
     "output_type": "stream",
     "text": [
      "[7] [4] [9] [8] [5] [9] [3] "
     ]
    }
   ],
   "source": [
    "if (! minhaLista.inserir(6, 9))\n",
    "    cout << \"Não inseriu!\";\n",
    "else\n",
    "    cout << minhaLista.listar()"
   ]
  },
  {
   "cell_type": "markdown",
   "id": "executed-frost",
   "metadata": {},
   "source": [
    "### Remoção de Elemento da Fila"
   ]
  },
  {
   "cell_type": "code",
   "execution_count": 55,
   "id": "ordinary-granny",
   "metadata": {},
   "outputs": [],
   "source": [
    "bool Lista::remover(int posicao, int &x) {\n",
    "    PonteiroElemento p, atual;\n",
    "    \n",
    "    if (posicao < 1 or posicao > contador) {\n",
    "        return false;\n",
    "    }\n",
    "\n",
    "    if(posicao == 1) {\n",
    "        p = inicio;\n",
    "        inicio = inicio->proximoElemento;\n",
    "    } else {\n",
    "        setaPosicao(posicao - 1, atual);\n",
    "        p = atual->proximoElemento;\n",
    "        atual->proximoElemento = p->proximoElemento;\n",
    "    }\n",
    "    x = p->valor;\n",
    "    delete p;\n",
    "    contador --;\n",
    "    \n",
    "    return true;\n",
    "}"
   ]
  },
  {
   "cell_type": "code",
   "execution_count": 56,
   "id": "turkish-consultancy",
   "metadata": {},
   "outputs": [],
   "source": [
    "int y;"
   ]
  },
  {
   "cell_type": "code",
   "execution_count": 57,
   "id": "intense-inventory",
   "metadata": {},
   "outputs": [
    {
     "name": "stdout",
     "output_type": "stream",
     "text": [
      "[7] [4] [9] [8] [5] [9] [3] "
     ]
    }
   ],
   "source": [
    "cout << minhaLista.listar();"
   ]
  },
  {
   "cell_type": "code",
   "execution_count": 58,
   "id": "japanese-highway",
   "metadata": {},
   "outputs": [
    {
     "name": "stdout",
     "output_type": "stream",
     "text": [
      "Não removeu!"
     ]
    }
   ],
   "source": [
    "if (! minhaLista.remover(-1, y))\n",
    "    cout << \"Não removeu!\";\n",
    "else\n",
    "    cout << \"y: \" << y << \" - \" << minhaLista.listar()"
   ]
  },
  {
   "cell_type": "code",
   "execution_count": 59,
   "id": "numerous-ghost",
   "metadata": {},
   "outputs": [
    {
     "name": "stdout",
     "output_type": "stream",
     "text": [
      "Não removeu!"
     ]
    }
   ],
   "source": [
    "if (! minhaLista.remover(8, y))\n",
    "    cout << \"Não removeu!\";\n",
    "else\n",
    "    cout << \"y: \" << y << \" - \" << minhaLista.listar()"
   ]
  },
  {
   "cell_type": "code",
   "execution_count": 60,
   "id": "forty-property",
   "metadata": {},
   "outputs": [
    {
     "name": "stdout",
     "output_type": "stream",
     "text": [
      "Não removeu!"
     ]
    }
   ],
   "source": [
    "if (! minhaLista.remover(0, y))\n",
    "    cout << \"Não removeu!\";\n",
    "else\n",
    "    cout << \"y: \" << y << \" - \" << minhaLista.listar()"
   ]
  },
  {
   "cell_type": "code",
   "execution_count": 61,
   "id": "burning-success",
   "metadata": {},
   "outputs": [
    {
     "name": "stdout",
     "output_type": "stream",
     "text": [
      "[7] [4] [9] [8] [5] [9] [3] "
     ]
    }
   ],
   "source": [
    "cout << minhaLista.listar();"
   ]
  },
  {
   "cell_type": "code",
   "execution_count": 62,
   "id": "electric-slovenia",
   "metadata": {},
   "outputs": [
    {
     "name": "stdout",
     "output_type": "stream",
     "text": [
      "y: 7 - [4] [9] [8] [5] [9] [3] "
     ]
    }
   ],
   "source": [
    "if (! minhaLista.remover(1, y))\n",
    "    cout << \"Não removeu!\";\n",
    "else\n",
    "    cout << \"y: \" << y << \" - \" << minhaLista.listar()"
   ]
  },
  {
   "cell_type": "markdown",
   "id": "representative-calibration",
   "metadata": {},
   "source": [
    "```c\n",
    "PonteiroElemento p, atual;\n",
    "```\n",
    "![topo](imagens/lista14.png)\n",
    "```c\n",
    "if (posicao < 1 or posicao > contador) {\n",
    "    return false;\n",
    "}\n",
    "\n",
    "if(posicao == 1) {\n",
    "    p = inicio;\n",
    "```\n",
    "![topo](imagens/lista15.png)\n",
    "```c\n",
    "        inicio = inicio->proximoElemento;\n",
    "```\n",
    "![topo](imagens/lista16.png)\n",
    "```c\n",
    "} else {\n",
    "    setaPosicao(posicao - 1, atual);\n",
    "    p = atual->proximoElemento;\n",
    "    atual->proximoElemento = p->proximoElemento;\n",
    "}\n",
    "x = p->valor;\n",
    "```\n",
    "![topo](imagens/lista17.png)\n",
    "```c\n",
    "delete p;\n",
    "```\n",
    "![topo](imagens/lista18.png)\n",
    "```c\n",
    "contador --;\n",
    "return true;\n",
    "```\n",
    "![topo](imagens/lista19.png)"
   ]
  },
  {
   "cell_type": "code",
   "execution_count": 63,
   "id": "ignored-duncan",
   "metadata": {},
   "outputs": [
    {
     "name": "stdout",
     "output_type": "stream",
     "text": [
      "[4] [9] [8] [5] [9] [3] "
     ]
    }
   ],
   "source": [
    "cout << minhaLista.listar();"
   ]
  },
  {
   "cell_type": "code",
   "execution_count": 64,
   "id": "associate-spell",
   "metadata": {},
   "outputs": [
    {
     "name": "stdout",
     "output_type": "stream",
     "text": [
      "y: 9 - [4] [9] [8] [5] [3] "
     ]
    }
   ],
   "source": [
    "if (! minhaLista.remover(5, y))\n",
    "    cout << \"Não removeu!\";\n",
    "else\n",
    "    cout << \"y: \" << y << \" - \" << minhaLista.listar()"
   ]
  },
  {
   "cell_type": "markdown",
   "id": "stupid-president",
   "metadata": {},
   "source": [
    "```c\n",
    "PonteiroElemento p, atual;\n",
    "```\n",
    "![topo](imagens/lista20.png)\n",
    "```c\n",
    "if (posicao < 1 or posicao > contador) {\n",
    "    return false;\n",
    "}\n",
    "\n",
    "if(posicao == 1) {\n",
    "    p = inicio;\n",
    "        inicio = inicio->proximoElemento;\n",
    "} else {\n",
    "    setaPosicao(posicao - 1, atual);\n",
    "```\n",
    "![topo](imagens/lista21.png)\n",
    "```c\n",
    "    p = atual->proximoElemento;\n",
    "```\n",
    "![topo](imagens/lista22.png)\n",
    "```c\n",
    "    atual->proximoElemento = p->proximoElemento;\n",
    "```\n",
    "![topo](imagens/lista23.png)\n",
    "```c\n",
    "}\n",
    "x = p->valor;\n",
    "```\n",
    "![topo](imagens/lista24.png)\n",
    "```c\n",
    "delete p;\n",
    "```\n",
    "![topo](imagens/lista25.png)\n",
    "```c\n",
    "contador --;\n",
    "return true;\n",
    "```\n",
    "![topo](imagens/lista26.png)\n"
   ]
  },
  {
   "cell_type": "code",
   "execution_count": 65,
   "id": "thrown-infrared",
   "metadata": {},
   "outputs": [
    {
     "name": "stdout",
     "output_type": "stream",
     "text": [
      "[4] [9] [8] [5] [3] "
     ]
    }
   ],
   "source": [
    "cout << minhaLista.listar();"
   ]
  },
  {
   "cell_type": "code",
   "execution_count": 66,
   "id": "buried-cardiff",
   "metadata": {},
   "outputs": [
    {
     "name": "stdout",
     "output_type": "stream",
     "text": [
      "y: 9 - [4] [8] [5] [3] "
     ]
    }
   ],
   "source": [
    "if (! minhaLista.remover(2, y))\n",
    "    cout << \"Não removeu!\";\n",
    "else\n",
    "    cout << \"y: \" << y << \" - \" << minhaLista.listar()"
   ]
  },
  {
   "cell_type": "code",
   "execution_count": 67,
   "id": "turkish-wayne",
   "metadata": {},
   "outputs": [
    {
     "name": "stdout",
     "output_type": "stream",
     "text": [
      "y: 4 - [8] [5] [3] "
     ]
    }
   ],
   "source": [
    "if (! minhaLista.remover(1, y))\n",
    "    cout << \"Não removeu!\";\n",
    "else\n",
    "    cout << \"y: \" << y << \" - \" << minhaLista.listar()"
   ]
  },
  {
   "cell_type": "code",
   "execution_count": 68,
   "id": "brutal-breeding",
   "metadata": {},
   "outputs": [
    {
     "name": "stdout",
     "output_type": "stream",
     "text": [
      "y: 8 - [5] [3] "
     ]
    }
   ],
   "source": [
    "if (! minhaLista.remover(1, y))\n",
    "    cout << \"Não removeu!\";\n",
    "else\n",
    "    cout << \"y: \" << y << \" - \" << minhaLista.listar()"
   ]
  },
  {
   "cell_type": "code",
   "execution_count": 69,
   "id": "descending-fossil",
   "metadata": {},
   "outputs": [
    {
     "name": "stdout",
     "output_type": "stream",
     "text": [
      "y: 5 - [3] "
     ]
    }
   ],
   "source": [
    "if (! minhaLista.remover(1, y))\n",
    "    cout << \"Não removeu!\";\n",
    "else\n",
    "    cout << \"y: \" << y << \" - \" << minhaLista.listar();"
   ]
  },
  {
   "cell_type": "code",
   "execution_count": 70,
   "id": "diverse-pregnancy",
   "metadata": {},
   "outputs": [
    {
     "name": "stdout",
     "output_type": "stream",
     "text": [
      "y: 3 - "
     ]
    }
   ],
   "source": [
    "if (! minhaLista.remover(1, y))\n",
    "    cout << \"Não removeu!\";\n",
    "else\n",
    "    cout << \"y: \" << y << \" - \" << minhaLista.listar();"
   ]
  },
  {
   "cell_type": "code",
   "execution_count": 71,
   "id": "breeding-lighting",
   "metadata": {},
   "outputs": [
    {
     "name": "stdout",
     "output_type": "stream",
     "text": [
      "Não removeu!"
     ]
    }
   ],
   "source": [
    "if (! minhaLista.remover(1, y))\n",
    "    cout << \"Não removeu!\";\n",
    "else\n",
    "    cout << \"y: \" << y << \" - \" << minhaLista.listar();"
   ]
  },
  {
   "cell_type": "code",
   "execution_count": 72,
   "id": "oriented-laptop",
   "metadata": {},
   "outputs": [
    {
     "name": "stdout",
     "output_type": "stream",
     "text": [
      "0"
     ]
    }
   ],
   "source": [
    "cout << minhaLista.tamanho();"
   ]
  }
 ],
 "metadata": {
  "kernelspec": {
   "display_name": "C++11",
   "language": "C++11",
   "name": "xcpp11"
  },
  "language_info": {
   "codemirror_mode": "text/x-c++src",
   "file_extension": ".cpp",
   "mimetype": "text/x-c++src",
   "name": "c++",
   "version": "11"
  }
 },
 "nbformat": 4,
 "nbformat_minor": 5
}
