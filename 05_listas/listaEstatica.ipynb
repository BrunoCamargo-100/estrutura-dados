{
 "cells": [
  {
   "cell_type": "markdown",
   "id": "combined-alberta",
   "metadata": {},
   "source": [
    "# Listas Lineares\n",
    "\n",
    "- dias da semana: [ segunda,  terça, quarta, quinta, sexta, sábado, domingo ]\n",
    "- estações do ano: [ primavera, verão, outono, inverno ]\n",
    "- polaridade: [ positivo, negativo, neutro ]\n",
    "\n",
    "Em uma lista elementos podem ser inseridos, \n",
    "removidos ou substituídos em qualquer \n",
    "posição.\n",
    "\n",
    "## Implementações:\n",
    "\n",
    "- estática (contígua)\n",
    "- dinâmica (encadeada)\n",
    "\n",
    "## Definição\n",
    "\n",
    "Ao inserir um elemento em uma dada posição, os elementos seguintes são deslocados para posições posteriores.\n",
    "\n",
    "Exemplo:\n",
    "\n",
    "Seja uma lista L = [ 4, 9, 3 ] contendo n=3 elementos:\n",
    "- a<sub>1</sub> = 4\n",
    "- a<sub>2</sub> = 9\n",
    "- a<sub>3</sub> = 3\n",
    "\n",
    "Se inserirmos um elemento 5 na 2ª posição da lista teremos L = [ 4, 5, 9, 3 ]\n",
    "- a<sub>1</sub> = 4\n",
    "- a<sub>2</sub> = 5\n",
    "- a<sub>3</sub> = 9\n",
    "- a<sub>4</sub> = 3\n",
    "\n",
    "Ao remover um elemento em uma dada posição, os elementos seguintes são deslocados para posições anteriores.\n",
    "\n",
    "Se removermos o terceiro elemento da nossa lista teremos L = [ 4, 5, 3 ]\n",
    "- a<sub>1</sub> = 4\n",
    "- a<sub>2</sub> = 5\n",
    "- a<sub>3</sub> = 3\n",
    "\n",
    "## Operações Básicas\n",
    "\n",
    "### Criação\n",
    "\n",
    "Lista criada e iniciada vazia\n",
    "\n",
    "### Destruição\n",
    "\n",
    "Elementos removidos da lista\n",
    "\n",
    "### Status: vazia\n",
    "\n",
    "Verifica se a lista está vazia\n",
    "\n",
    "### Status: cheia\n",
    "\n",
    "Verifica se a lista esta cheia\n",
    "\n",
    "### Inserção\n",
    "\n",
    "Inserção de elemento em determinada posição.\n",
    "\n",
    "Esta posição deve ser um valor entre 1 (primeiro elemento da lista) e contador + 1 (após o último elemento da lista).\n",
    "\n",
    "As entradas posteriores ao elemento inserido devem ter suas posições incrementadas em uma unidade.\n",
    "\n",
    "### Remoção\n",
    "\n",
    "Remoção de elemento em determinada posição.\n",
    "\n",
    "Esta posição deve ser um valor entre 1 (primeiro elemento da lista) e contador (último elemento da lista).\n",
    "\n",
    "As entradas posteriores ao elemento removido devem ter suas posições decrementadas em uma unidade.\n",
    "\n",
    "### Retorna\n",
    "\n",
    "Retorna elemento armazenado em determinada posição.\n",
    "\n",
    "Esta posição deve ser um valor entre 1 (primeiro elemento da lista) e contador (último elemento da lista).\n",
    "\n",
    "### Substitui\n",
    "\n",
    "Substitui elemento armazenado em determinada posição.\n",
    "\n",
    "Esta posição deve ser um valor entre 1 (primeiro elemento da lista) e contador (último elemento da lista).\n",
    "\n",
    "\n",
    "## Outras operações\n",
    "\n",
    "### Tamanho\n",
    "\n",
    "Retorna o tamanho atual da lista.\n",
    "\n",
    "### Esvaziar\n",
    "\n",
    "Remove todos os elementos da lista.\n",
    "\n",
    "## Implementação"
   ]
  },
  {
   "cell_type": "code",
   "execution_count": 2,
   "id": "celtic-preparation",
   "metadata": {},
   "outputs": [],
   "source": [
    "#include <iostream>\n",
    "using namespace std;\n",
    "\n",
    "#define MAX 5"
   ]
  },
  {
   "cell_type": "markdown",
   "id": "banner-surfing",
   "metadata": {},
   "source": [
    "## Definição da classe"
   ]
  },
  {
   "cell_type": "code",
   "execution_count": 32,
   "id": "amazing-point",
   "metadata": {},
   "outputs": [],
   "source": [
    "class Lista {\n",
    "    private:\n",
    "        int contador;\n",
    "        int capacidade = MAX;\n",
    "        int elementos[MAX];\n",
    "    public:\n",
    "        Lista();\n",
    "        int elementos2[MAX];\n",
    "        bool vazia();\n",
    "        bool cheia();\n",
    "        bool inserir(int posicao, int x);\n",
    "        bool remover(int posicao, int &x);\n",
    "        bool retornar(int posicao, int &x);\n",
    "        bool substituir(int posicao, int &x);\n",
    "};"
   ]
  },
  {
   "cell_type": "markdown",
   "id": "tested-airfare",
   "metadata": {},
   "source": [
    "### Método Construtor"
   ]
  },
  {
   "cell_type": "code",
   "execution_count": 33,
   "id": "norwegian-pipeline",
   "metadata": {},
   "outputs": [],
   "source": [
    "Lista::Lista() {\n",
    "    contador = 0;\n",
    "}"
   ]
  },
  {
   "cell_type": "code",
   "execution_count": 35,
   "id": "handed-wyoming",
   "metadata": {},
   "outputs": [],
   "source": [
    "Lista minhaLista;"
   ]
  },
  {
   "cell_type": "markdown",
   "id": "leading-catholic",
   "metadata": {},
   "source": [
    "### Verifica se lista está vazia"
   ]
  },
  {
   "cell_type": "code",
   "execution_count": 6,
   "id": "unnecessary-president",
   "metadata": {},
   "outputs": [],
   "source": [
    "bool Lista::vazia() {\n",
    "    return contador == 0;\n",
    "}"
   ]
  },
  {
   "cell_type": "code",
   "execution_count": 7,
   "id": "beginning-field",
   "metadata": {},
   "outputs": [
    {
     "name": "stdout",
     "output_type": "stream",
     "text": [
      "Está vazia!"
     ]
    }
   ],
   "source": [
    "if (minhaLista.vazia()) {\n",
    "    cout << \"Está vazia!\";\n",
    "}"
   ]
  },
  {
   "cell_type": "markdown",
   "id": "associate-summary",
   "metadata": {},
   "source": [
    "### Verifica se lista está cheia"
   ]
  },
  {
   "cell_type": "code",
   "execution_count": 8,
   "id": "vital-emergency",
   "metadata": {},
   "outputs": [],
   "source": [
    "bool Lista::cheia() {\n",
    "    return contador == capacidade;\n",
    "}"
   ]
  },
  {
   "cell_type": "code",
   "execution_count": 9,
   "id": "taken-print",
   "metadata": {},
   "outputs": [
    {
     "name": "stdout",
     "output_type": "stream",
     "text": [
      "Não está cheia!"
     ]
    }
   ],
   "source": [
    "if (! minhaLista.cheia()) {\n",
    "    cout << \"Não está cheia!\";\n",
    "}"
   ]
  },
  {
   "cell_type": "markdown",
   "id": "boxed-donna",
   "metadata": {},
   "source": [
    "### Inserção elemento na fila"
   ]
  },
  {
   "cell_type": "code",
   "execution_count": 121,
   "id": "mature-stopping",
   "metadata": {},
   "outputs": [],
   "source": [
    "bool Lista::inserir(int posicao, int x) {\n",
    "\n",
    "\n",
    "}"
   ]
  },
  {
   "cell_type": "code",
   "execution_count": null,
   "id": "western-sarah",
   "metadata": {},
   "outputs": [],
   "source": []
  }
 ],
 "metadata": {
  "kernelspec": {
   "display_name": "C++11",
   "language": "C++11",
   "name": "xcpp11"
  },
  "language_info": {
   "codemirror_mode": "text/x-c++src",
   "file_extension": ".cpp",
   "mimetype": "text/x-c++src",
   "name": "c++",
   "version": "11"
  }
 },
 "nbformat": 4,
 "nbformat_minor": 5
}
