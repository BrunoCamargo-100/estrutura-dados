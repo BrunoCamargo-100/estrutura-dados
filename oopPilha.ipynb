{
 "cells": [
  {
   "cell_type": "markdown",
   "id": "exempt-leeds",
   "metadata": {},
   "source": [
    "# Pilha Orientada a Objetos"
   ]
  },
  {
   "cell_type": "code",
   "execution_count": 1,
   "id": "dutch-thesaurus",
   "metadata": {},
   "outputs": [],
   "source": [
    "class Pilha {\n",
    "    private:\n",
    "        int topo;\n",
    "        int capacidade;\n",
    "        int *conteudo;\n",
    "    public:\n",
    "        // construtor: será executado quando a classe for instanciada\n",
    "        Pilha(int tamanho) {\n",
    "            this->topo = -1;\n",
    "            this->capacidade = tamanho - 1;\n",
    "            this->conteudo = (int*) malloc (tamanho * sizeof(int));\n",
    "        }\n",
    "\n",
    "        bool estaVazia() {\n",
    "            if (topo == -1) {\n",
    "                return 1;\n",
    "            } else {\n",
    "                return 0;\n",
    "            }\n",
    "        }\n",
    "\n",
    "        bool estaCheia() {\n",
    "            if (this->topo == this->capacidade) {\n",
    "                return 1;\n",
    "            } else {\n",
    "                return 0;\n",
    "            }\n",
    "        }\n",
    "\n",
    "        bool empilhar(int valor) {\n",
    "            if (this->estaCheia())\n",
    "                return 0;\n",
    "            this->topo++;\n",
    "            this->conteudo[this->topo] = valor;\n",
    "            return 1;\n",
    "        }\n",
    "\n",
    "        int desempilhar() {\n",
    "            int aux = this->conteudo[this->topo];\n",
    "            if (this->estaVazia())\n",
    "                return 0;\n",
    "            this->topo--;\n",
    "            return aux;\n",
    "        }\n",
    "\n",
    "        int retornaTopo() {\n",
    "            return this->conteudo[this->topo];\n",
    "        }\n",
    "};"
   ]
  },
  {
   "cell_type": "code",
   "execution_count": 2,
   "id": "innocent-slope",
   "metadata": {},
   "outputs": [],
   "source": [
    "#include <iostream>\n",
    "using namespace std;"
   ]
  },
  {
   "cell_type": "code",
   "execution_count": 3,
   "id": "general-district",
   "metadata": {},
   "outputs": [
    {
     "name": "stdout",
     "output_type": "stream",
     "text": [
      "Esta vazia!\n"
     ]
    }
   ],
   "source": [
    "Pilha minhaPilha(2);\n",
    "\n",
    "if (minhaPilha.estaVazia())\n",
    "    cout << \"Esta vazia!\\n\";\n",
    "else\n",
    "    cout << \"Não esta vazia!\\n\";"
   ]
  },
  {
   "cell_type": "code",
   "execution_count": 4,
   "id": "transparent-valentine",
   "metadata": {},
   "outputs": [
    {
     "name": "stdout",
     "output_type": "stream",
     "text": [
      "Empilhando: 4\n",
      "Empilhado\n"
     ]
    }
   ],
   "source": [
    "cout << \"Empilhando: 4\\n\";\n",
    "\n",
    "if (minhaPilha.empilhar(4))\n",
    "    cout << \"Empilhado\\n\";\n",
    "else\n",
    "    cout << \"Não empilhou\\n\";"
   ]
  },
  {
   "cell_type": "code",
   "execution_count": 5,
   "id": "portuguese-maryland",
   "metadata": {},
   "outputs": [
    {
     "name": "stdout",
     "output_type": "stream",
     "text": [
      "Empilhando: 3\n",
      "Empilhado\n"
     ]
    }
   ],
   "source": [
    "cout << \"Empilhando: 3\\n\";\n",
    "\n",
    "if (minhaPilha.empilhar(3))\n",
    "    cout << \"Empilhado\\n\";\n",
    "else\n",
    "    cout << \"Não empilhou\\n\";"
   ]
  },
  {
   "cell_type": "code",
   "execution_count": 6,
   "id": "joined-syntax",
   "metadata": {},
   "outputs": [
    {
     "name": "stdout",
     "output_type": "stream",
     "text": [
      "Empilhando: 2\n",
      "Não empilhou\n"
     ]
    }
   ],
   "source": [
    "cout << \"Empilhando: 2\\n\";\n",
    "\n",
    "if (minhaPilha.empilhar(2))\n",
    "    cout << \"Empilhado\\n\";\n",
    "else\n",
    "    cout << \"Não empilhou\\n\";"
   ]
  },
  {
   "cell_type": "code",
   "execution_count": 7,
   "id": "flying-potential",
   "metadata": {},
   "outputs": [
    {
     "name": "stdout",
     "output_type": "stream",
     "text": [
      "Empilhando: 1\n",
      "Não empilhou\n"
     ]
    }
   ],
   "source": [
    "cout << \"Empilhando: 1\\n\";\n",
    "if (minhaPilha.empilhar(2))\n",
    "    cout << \"Empilhado\\n\";\n",
    "else\n",
    "    cout << \"Não empilhou\\n\";"
   ]
  },
  {
   "cell_type": "code",
   "execution_count": 8,
   "id": "excellent-produce",
   "metadata": {},
   "outputs": [
    {
     "name": "stdout",
     "output_type": "stream",
     "text": [
      "Topo da pilha: 3\n"
     ]
    }
   ],
   "source": [
    "cout << \"Topo da pilha: \" << minhaPilha.retornaTopo() << \"\\n\";"
   ]
  },
  {
   "cell_type": "code",
   "execution_count": 9,
   "id": "liable-background",
   "metadata": {},
   "outputs": [
    {
     "name": "stdout",
     "output_type": "stream",
     "text": [
      "Desempilhado: 3\n"
     ]
    }
   ],
   "source": [
    "cout << \"Desempilhado: \" << minhaPilha.desempilhar() << \"\\n\";"
   ]
  },
  {
   "cell_type": "code",
   "execution_count": 10,
   "id": "accessory-acoustic",
   "metadata": {},
   "outputs": [
    {
     "name": "stdout",
     "output_type": "stream",
     "text": [
      "Desempilhado: 4\n"
     ]
    }
   ],
   "source": [
    "cout << \"Desempilhado: \" << minhaPilha.desempilhar() << \"\\n\";"
   ]
  },
  {
   "cell_type": "code",
   "execution_count": 11,
   "id": "educational-animal",
   "metadata": {},
   "outputs": [
    {
     "name": "stdout",
     "output_type": "stream",
     "text": [
      "Desempilhado: 0\n"
     ]
    }
   ],
   "source": [
    "cout << \"Desempilhado: \" << minhaPilha.desempilhar() << \"\\n\";"
   ]
  },
  {
   "cell_type": "code",
   "execution_count": 12,
   "id": "beginning-desire",
   "metadata": {},
   "outputs": [
    {
     "name": "stdout",
     "output_type": "stream",
     "text": [
      "Esta vazia!\n"
     ]
    }
   ],
   "source": [
    "if (minhaPilha.estaVazia())\n",
    "    cout << \"Esta vazia!\\n\";\n",
    "else\n",
    "    cout << \"Não esta vazia!\\n\";"
   ]
  },
  {
   "cell_type": "code",
   "execution_count": null,
   "id": "leading-borough",
   "metadata": {},
   "outputs": [],
   "source": []
  },
  {
   "cell_type": "code",
   "execution_count": null,
   "id": "canadian-belief",
   "metadata": {},
   "outputs": [],
   "source": []
  },
  {
   "cell_type": "markdown",
   "id": "familiar-earthquake",
   "metadata": {},
   "source": [
    "## Pilha com 3 elementos"
   ]
  },
  {
   "cell_type": "code",
   "execution_count": 13,
   "id": "palestinian-offense",
   "metadata": {},
   "outputs": [],
   "source": [
    "Pilha minhaPilha(3);"
   ]
  },
  {
   "cell_type": "code",
   "execution_count": 14,
   "id": "suitable-emperor",
   "metadata": {},
   "outputs": [
    {
     "name": "stdout",
     "output_type": "stream",
     "text": [
      "Empilhando: 4\n",
      "Empilhado\n"
     ]
    }
   ],
   "source": [
    "cout << \"Empilhando: 4\\n\";\n",
    "if (minhaPilha.empilhar(4))\n",
    "    cout << \"Empilhado\\n\";\n",
    "else\n",
    "    cout << \"Não empilhou\\n\";"
   ]
  },
  {
   "cell_type": "code",
   "execution_count": 15,
   "id": "seven-delhi",
   "metadata": {},
   "outputs": [
    {
     "name": "stdout",
     "output_type": "stream",
     "text": [
      "Empilhando: 3\n",
      "Empilhado\n"
     ]
    }
   ],
   "source": [
    "cout << \"Empilhando: 3\\n\";\n",
    "if (minhaPilha.empilhar(3))\n",
    "    cout << \"Empilhado\\n\";\n",
    "else\n",
    "    cout << \"Não empilhou\\n\";"
   ]
  },
  {
   "cell_type": "code",
   "execution_count": 16,
   "id": "played-proof",
   "metadata": {},
   "outputs": [
    {
     "name": "stdout",
     "output_type": "stream",
     "text": [
      "Empilhando: 2\n",
      "Empilhado\n"
     ]
    }
   ],
   "source": [
    "cout << \"Empilhando: 2\\n\";\n",
    "if (minhaPilha.empilhar(2))\n",
    "    cout << \"Empilhado\\n\";\n",
    "else\n",
    "    cout << \"Não empilhou\\n\";"
   ]
  },
  {
   "cell_type": "code",
   "execution_count": 17,
   "id": "frank-hello",
   "metadata": {},
   "outputs": [
    {
     "name": "stdout",
     "output_type": "stream",
     "text": [
      "Empilhando: 1\n",
      "Não empilhou\n"
     ]
    }
   ],
   "source": [
    "cout << \"Empilhando: 1\\n\";\n",
    "if (minhaPilha.empilhar(2))\n",
    "    cout << \"Empilhado\\n\";\n",
    "else\n",
    "    cout << \"Não empilhou\\n\";"
   ]
  },
  {
   "cell_type": "code",
   "execution_count": 18,
   "id": "stock-catch",
   "metadata": {},
   "outputs": [
    {
     "name": "stdout",
     "output_type": "stream",
     "text": [
      "Topo da pilha: 2\n"
     ]
    }
   ],
   "source": [
    "cout << \"Topo da pilha: \" << minhaPilha.retornaTopo() << \"\\n\";"
   ]
  },
  {
   "cell_type": "code",
   "execution_count": 19,
   "id": "skilled-clear",
   "metadata": {},
   "outputs": [
    {
     "name": "stdout",
     "output_type": "stream",
     "text": [
      "Desempilhou: 2\n"
     ]
    }
   ],
   "source": [
    "cout << \"Desempilhou: \" << minhaPilha.desempilhar() << \"\\n\";"
   ]
  },
  {
   "cell_type": "code",
   "execution_count": 20,
   "id": "armed-scottish",
   "metadata": {},
   "outputs": [
    {
     "name": "stdout",
     "output_type": "stream",
     "text": [
      "Desempilhou: 3\n"
     ]
    }
   ],
   "source": [
    "cout << \"Desempilhou: \" << minhaPilha.desempilhar() << \"\\n\";"
   ]
  },
  {
   "cell_type": "code",
   "execution_count": 21,
   "id": "local-possession",
   "metadata": {},
   "outputs": [
    {
     "name": "stdout",
     "output_type": "stream",
     "text": [
      "Desempilhou: 4\n"
     ]
    }
   ],
   "source": [
    "cout << \"Desempilhou: \" << minhaPilha.desempilhar() << \"\\n\";"
   ]
  },
  {
   "cell_type": "code",
   "execution_count": 22,
   "id": "sixth-alert",
   "metadata": {},
   "outputs": [
    {
     "name": "stdout",
     "output_type": "stream",
     "text": [
      "Desempilhou: 0\n"
     ]
    }
   ],
   "source": [
    "cout << \"Desempilhou: \" << minhaPilha.desempilhar() << \"\\n\";"
   ]
  },
  {
   "cell_type": "code",
   "execution_count": 23,
   "id": "conceptual-abraham",
   "metadata": {},
   "outputs": [
    {
     "name": "stdout",
     "output_type": "stream",
     "text": [
      "Esta vazia!\n"
     ]
    }
   ],
   "source": [
    "if (minhaPilha.estaVazia())\n",
    "    cout << \"Esta vazia!\\n\";\n",
    "else\n",
    "    cout << \"Não esta vazia!\\n\";"
   ]
  },
  {
   "cell_type": "code",
   "execution_count": null,
   "id": "owned-marble",
   "metadata": {},
   "outputs": [],
   "source": []
  }
 ],
 "metadata": {
  "kernelspec": {
   "display_name": "C++11",
   "language": "C++11",
   "name": "xcpp11"
  },
  "language_info": {
   "codemirror_mode": "text/x-c++src",
   "file_extension": ".cpp",
   "mimetype": "text/x-c++src",
   "name": "c++",
   "version": "11"
  }
 },
 "nbformat": 4,
 "nbformat_minor": 5
}
