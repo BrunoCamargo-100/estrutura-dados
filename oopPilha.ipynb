{
 "cells": [
  {
   "cell_type": "markdown",
   "id": "vertical-capacity",
   "metadata": {},
   "source": [
    "# Pilha Orientada a Objetos"
   ]
  },
  {
   "cell_type": "code",
   "execution_count": 1,
   "id": "oriental-afghanistan",
   "metadata": {},
   "outputs": [],
   "source": [
    "class Pilha {\n",
    "    private:\n",
    "        int topo;\n",
    "        int capacidade;\n",
    "        int *conteudo;\n",
    "    public:\n",
    "        // construtor: será executado quando a classe for instanciada\n",
    "        Pilha(int tamanho) {\n",
    "            this->topo = -1;\n",
    "            this->capacidade = tamanho - 1;\n",
    "            this->conteudo = (int*) malloc (tamanho * sizeof(int));\n",
    "        }\n",
    "\n",
    "        bool estaVazia() {\n",
    "            if (topo == -1) {\n",
    "                return 1;\n",
    "            } else {\n",
    "                return 0;\n",
    "            }\n",
    "        }\n",
    "\n",
    "        bool estaCheia() {\n",
    "            if (this->topo == this->capacidade) {\n",
    "                return 1;\n",
    "            } else {\n",
    "                return 0;\n",
    "            }\n",
    "        }\n",
    "\n",
    "        bool empilhar(int valor) {\n",
    "            if (this->estaCheia())\n",
    "                return 0;\n",
    "            this->topo++;\n",
    "            this->conteudo[this->topo] = valor;\n",
    "            return 1;\n",
    "        }\n",
    "\n",
    "        int desempilhar() {\n",
    "            int aux = this->conteudo[this->topo];\n",
    "            if (this->estaVazia())\n",
    "                return 0;\n",
    "            this->topo--;\n",
    "            return aux;\n",
    "        }\n",
    "\n",
    "        int retornaTopo() {\n",
    "            return this->conteudo[this->topo];\n",
    "        }\n",
    "};"
   ]
  },
  {
   "cell_type": "code",
   "execution_count": 2,
   "id": "recorded-claim",
   "metadata": {},
   "outputs": [],
   "source": [
    "#include <iostream>\n",
    "using namespace std;"
   ]
  },
  {
   "cell_type": "code",
   "execution_count": 3,
   "id": "supposed-annex",
   "metadata": {},
   "outputs": [
    {
     "name": "stdout",
     "output_type": "stream",
     "text": [
      "Esta vazia!\n"
     ]
    }
   ],
   "source": [
    "Pilha minhaPilha(2);\n",
    "\n",
    "if (minhaPilha.estaVazia())\n",
    "    cout << \"Esta vazia!\\n\";\n",
    "else\n",
    "    cout << \"Não esta vazia!\\n\";"
   ]
  },
  {
   "cell_type": "code",
   "execution_count": 4,
   "id": "fabulous-april",
   "metadata": {},
   "outputs": [
    {
     "name": "stdout",
     "output_type": "stream",
     "text": [
      "Empilhando: 4\n",
      "Empilhado\n"
     ]
    }
   ],
   "source": [
    "cout << \"Empilhando: 4\\n\";\n",
    "\n",
    "if (minhaPilha.empilhar(4))\n",
    "    cout << \"Empilhado\\n\";\n",
    "else\n",
    "    cout << \"Não empilhou\\n\";"
   ]
  },
  {
   "cell_type": "code",
   "execution_count": 5,
   "id": "noticed-recruitment",
   "metadata": {},
   "outputs": [
    {
     "name": "stdout",
     "output_type": "stream",
     "text": [
      "Empilhando: 3\n",
      "Empilhado\n"
     ]
    }
   ],
   "source": [
    "cout << \"Empilhando: 3\\n\";\n",
    "\n",
    "if (minhaPilha.empilhar(3))\n",
    "    cout << \"Empilhado\\n\";\n",
    "else\n",
    "    cout << \"Não empilhou\\n\";"
   ]
  },
  {
   "cell_type": "code",
   "execution_count": 6,
   "id": "unlimited-walker",
   "metadata": {},
   "outputs": [
    {
     "name": "stdout",
     "output_type": "stream",
     "text": [
      "Empilhando: 2\n",
      "Não empilhou\n"
     ]
    }
   ],
   "source": [
    "cout << \"Empilhando: 2\\n\";\n",
    "\n",
    "if (minhaPilha.empilhar(2))\n",
    "    cout << \"Empilhado\\n\";\n",
    "else\n",
    "    cout << \"Não empilhou\\n\";"
   ]
  },
  {
   "cell_type": "code",
   "execution_count": 7,
   "id": "green-practice",
   "metadata": {},
   "outputs": [
    {
     "name": "stdout",
     "output_type": "stream",
     "text": [
      "Empilhando: 1\n",
      "Não empilhou\n"
     ]
    }
   ],
   "source": [
    "cout << \"Empilhando: 1\\n\";\n",
    "if (minhaPilha.empilhar(2))\n",
    "    cout << \"Empilhado\\n\";\n",
    "else\n",
    "    cout << \"Não empilhou\\n\";"
   ]
  },
  {
   "cell_type": "code",
   "execution_count": 8,
   "id": "pleased-target",
   "metadata": {},
   "outputs": [
    {
     "name": "stdout",
     "output_type": "stream",
     "text": [
      "Topo da pilha: 3\n"
     ]
    }
   ],
   "source": [
    "cout << \"Topo da pilha: \" << minhaPilha.retornaTopo() << \"\\n\";"
   ]
  },
  {
   "cell_type": "code",
   "execution_count": 9,
   "id": "fitted-egypt",
   "metadata": {},
   "outputs": [
    {
     "name": "stdout",
     "output_type": "stream",
     "text": [
      "Desempilhado: 3\n"
     ]
    }
   ],
   "source": [
    "cout << \"Desempilhado: \" << minhaPilha.desempilhar() << \"\\n\";"
   ]
  },
  {
   "cell_type": "code",
   "execution_count": 10,
   "id": "realistic-spice",
   "metadata": {},
   "outputs": [
    {
     "name": "stdout",
     "output_type": "stream",
     "text": [
      "Desempilhado: 4\n"
     ]
    }
   ],
   "source": [
    "cout << \"Desempilhado: \" << minhaPilha.desempilhar() << \"\\n\";"
   ]
  },
  {
   "cell_type": "code",
   "execution_count": 11,
   "id": "operational-situation",
   "metadata": {},
   "outputs": [
    {
     "name": "stdout",
     "output_type": "stream",
     "text": [
      "Desempilhado: 0\n"
     ]
    }
   ],
   "source": [
    "cout << \"Desempilhado: \" << minhaPilha.desempilhar() << \"\\n\";"
   ]
  },
  {
   "cell_type": "code",
   "execution_count": 12,
   "id": "handmade-penalty",
   "metadata": {},
   "outputs": [
    {
     "name": "stdout",
     "output_type": "stream",
     "text": [
      "Esta vazia!\n"
     ]
    }
   ],
   "source": [
    "if (minhaPilha.estaVazia())\n",
    "    cout << \"Esta vazia!\\n\";\n",
    "else\n",
    "    cout << \"Não esta vazia!\\n\";"
   ]
  },
  {
   "cell_type": "code",
   "execution_count": null,
   "id": "third-miller",
   "metadata": {},
   "outputs": [],
   "source": []
  },
  {
   "cell_type": "code",
   "execution_count": null,
   "id": "communist-battery",
   "metadata": {},
   "outputs": [],
   "source": []
  },
  {
   "cell_type": "markdown",
   "id": "capable-father",
   "metadata": {},
   "source": [
    "## Pilha com 3 elementos"
   ]
  },
  {
   "cell_type": "code",
   "execution_count": 13,
   "id": "suburban-session",
   "metadata": {},
   "outputs": [],
   "source": [
    "Pilha minhaPilha(3);"
   ]
  },
  {
   "cell_type": "code",
   "execution_count": 14,
   "id": "through-civilization",
   "metadata": {},
   "outputs": [
    {
     "name": "stdout",
     "output_type": "stream",
     "text": [
      "Empilhando: 4\n",
      "Empilhado\n"
     ]
    }
   ],
   "source": [
    "cout << \"Empilhando: 4\\n\";\n",
    "if (minhaPilha.empilhar(4))\n",
    "    cout << \"Empilhado\\n\";\n",
    "else\n",
    "    cout << \"Não empilhou\\n\";"
   ]
  },
  {
   "cell_type": "code",
   "execution_count": 15,
   "id": "accepted-running",
   "metadata": {},
   "outputs": [
    {
     "name": "stdout",
     "output_type": "stream",
     "text": [
      "Empilhando: 3\n",
      "Empilhado\n"
     ]
    }
   ],
   "source": [
    "cout << \"Empilhando: 3\\n\";\n",
    "if (minhaPilha.empilhar(3))\n",
    "    cout << \"Empilhado\\n\";\n",
    "else\n",
    "    cout << \"Não empilhou\\n\";"
   ]
  },
  {
   "cell_type": "code",
   "execution_count": 16,
   "id": "preliminary-majority",
   "metadata": {},
   "outputs": [
    {
     "name": "stdout",
     "output_type": "stream",
     "text": [
      "Empilhando: 2\n",
      "Empilhado\n"
     ]
    }
   ],
   "source": [
    "cout << \"Empilhando: 2\\n\";\n",
    "if (minhaPilha.empilhar(2))\n",
    "    cout << \"Empilhado\\n\";\n",
    "else\n",
    "    cout << \"Não empilhou\\n\";"
   ]
  },
  {
   "cell_type": "code",
   "execution_count": 17,
   "id": "vital-brown",
   "metadata": {},
   "outputs": [
    {
     "name": "stdout",
     "output_type": "stream",
     "text": [
      "Empilhando: 1\n",
      "Não empilhou\n"
     ]
    }
   ],
   "source": [
    "cout << \"Empilhando: 1\\n\";\n",
    "if (minhaPilha.empilhar(2))\n",
    "    cout << \"Empilhado\\n\";\n",
    "else\n",
    "    cout << \"Não empilhou\\n\";"
   ]
  },
  {
   "cell_type": "code",
   "execution_count": 18,
   "id": "affected-parish",
   "metadata": {},
   "outputs": [
    {
     "name": "stdout",
     "output_type": "stream",
     "text": [
      "Topo da pilha: 2\n"
     ]
    }
   ],
   "source": [
    "cout << \"Topo da pilha: \" << minhaPilha.retornaTopo() << \"\\n\";"
   ]
  },
  {
   "cell_type": "code",
   "execution_count": 19,
   "id": "cloudy-taylor",
   "metadata": {},
   "outputs": [
    {
     "name": "stdout",
     "output_type": "stream",
     "text": [
      "Desempilhou: 2\n"
     ]
    }
   ],
   "source": [
    "cout << \"Desempilhou: \" << minhaPilha.desempilhar() << \"\\n\";"
   ]
  },
  {
   "cell_type": "code",
   "execution_count": 20,
   "id": "directed-final",
   "metadata": {},
   "outputs": [
    {
     "name": "stdout",
     "output_type": "stream",
     "text": [
      "Desempilhou: 3\n"
     ]
    }
   ],
   "source": [
    "cout << \"Desempilhou: \" << minhaPilha.desempilhar() << \"\\n\";"
   ]
  },
  {
   "cell_type": "code",
   "execution_count": 21,
   "id": "corporate-relaxation",
   "metadata": {},
   "outputs": [
    {
     "name": "stdout",
     "output_type": "stream",
     "text": [
      "Desempilhou: 4\n"
     ]
    }
   ],
   "source": [
    "cout << \"Desempilhou: \" << minhaPilha.desempilhar() << \"\\n\";"
   ]
  },
  {
   "cell_type": "code",
   "execution_count": 22,
   "id": "increased-style",
   "metadata": {},
   "outputs": [
    {
     "name": "stdout",
     "output_type": "stream",
     "text": [
      "Desempilhou: 0\n"
     ]
    }
   ],
   "source": [
    "cout << \"Desempilhou: \" << minhaPilha.desempilhar() << \"\\n\";"
   ]
  },
  {
   "cell_type": "code",
   "execution_count": 23,
   "id": "joined-engagement",
   "metadata": {},
   "outputs": [
    {
     "name": "stdout",
     "output_type": "stream",
     "text": [
      "Esta vazia!\n"
     ]
    }
   ],
   "source": [
    "if (minhaPilha.estaVazia())\n",
    "    cout << \"Esta vazia!\\n\";\n",
    "else\n",
    "    cout << \"Não esta vazia!\\n\";"
   ]
  },
  {
   "cell_type": "code",
   "execution_count": null,
   "id": "fitted-fruit",
   "metadata": {},
   "outputs": [],
   "source": []
  }
 ],
 "metadata": {
  "kernelspec": {
   "display_name": "C++11",
   "language": "C++11",
   "name": "xcpp11"
  },
  "language_info": {
   "codemirror_mode": "text/x-c++src",
   "file_extension": ".cpp",
   "mimetype": "text/x-c++src",
   "name": "c++",
   "version": "11"
  }
 },
 "nbformat": 4,
 "nbformat_minor": 5
}
