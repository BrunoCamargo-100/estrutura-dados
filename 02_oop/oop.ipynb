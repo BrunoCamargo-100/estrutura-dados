{
 "cells": [
  {
   "cell_type": "markdown",
   "id": "magnetic-gibson",
   "metadata": {},
   "source": [
    "# Orientação a objetos\n",
    "\n",
    "|Classe  | Objetos |\n",
    "|--------|---------|\n",
    "|        | Maçã    |\n",
    "| Fruta  | Banana  |\n",
    "|        | Manga   |\n",
    "\n",
    "\n",
    "|Classe  | Objetos |\n",
    "|--------|---------|\n",
    "|        | Fusca   |\n",
    "| Carro  | Uno     |\n",
    "|        | Gol     |\n",
    "\n",
    "\n"
   ]
  },
  {
   "cell_type": "code",
   "execution_count": 1,
   "id": "young-grass",
   "metadata": {},
   "outputs": [],
   "source": [
    "#include <iostream>\n",
    "using namespace std;"
   ]
  },
  {
   "cell_type": "markdown",
   "id": "flexible-scheme",
   "metadata": {},
   "source": [
    "## Classe"
   ]
  },
  {
   "cell_type": "code",
   "execution_count": 2,
   "id": "immune-sentence",
   "metadata": {},
   "outputs": [],
   "source": [
    "class Carro {\n",
    "    public:\n",
    "        string marca;\n",
    "        string modelo;\n",
    "        int ano;\n",
    "};"
   ]
  },
  {
   "cell_type": "markdown",
   "id": "formed-yacht",
   "metadata": {},
   "source": [
    "## Objetos"
   ]
  },
  {
   "cell_type": "code",
   "execution_count": 5,
   "id": "automotive-advertising",
   "metadata": {},
   "outputs": [],
   "source": [
    "Carro carro1;\n",
    "\n",
    "carro1.marca = \"Volkswagen\";\n",
    "carro1.modelo = \"Fusca\";\n",
    "carro1.ano = 1985;"
   ]
  },
  {
   "cell_type": "code",
   "execution_count": 6,
   "id": "endangered-singer",
   "metadata": {},
   "outputs": [
    {
     "name": "stdout",
     "output_type": "stream",
     "text": [
      "Volkswagen\n",
      "Fusca\n",
      "1985"
     ]
    }
   ],
   "source": [
    "cout << carro1.marca << \"\\n\";\n",
    "cout << carro1.modelo << \"\\n\";\n",
    "cout << carro1.ano;"
   ]
  },
  {
   "cell_type": "code",
   "execution_count": 7,
   "id": "emerging-franklin",
   "metadata": {},
   "outputs": [],
   "source": [
    "Carro carro2;\n",
    "carro2.marca = \"Fiat\";\n",
    "carro2.modelo = \"Uno\";\n",
    "carro2.ano = 2007;"
   ]
  },
  {
   "cell_type": "code",
   "execution_count": 8,
   "id": "statistical-tactics",
   "metadata": {},
   "outputs": [
    {
     "name": "stdout",
     "output_type": "stream",
     "text": [
      "Fiat\n",
      "Uno\n",
      "2007"
     ]
    }
   ],
   "source": [
    "cout << carro2.marca << \"\\n\";\n",
    "cout << carro2.modelo << \"\\n\";\n",
    "cout << carro2.ano;"
   ]
  },
  {
   "cell_type": "markdown",
   "id": "moral-consent",
   "metadata": {},
   "source": [
    "## Métodos\n",
    "### Definição interna"
   ]
  },
  {
   "cell_type": "code",
   "execution_count": 9,
   "id": "virgin-midnight",
   "metadata": {},
   "outputs": [],
   "source": [
    "class Carro {\n",
    "    public:\n",
    "        string marca;\n",
    "        string modelo;\n",
    "        int ano;\n",
    "        void acelera() {\n",
    "            cout << \"Vrum 2.0! - \" << marca;\n",
    "        }\n",
    "};"
   ]
  },
  {
   "cell_type": "code",
   "execution_count": 10,
   "id": "effective-blocking",
   "metadata": {},
   "outputs": [
    {
     "name": "stdout",
     "output_type": "stream",
     "text": [
      "Vrum 2.0! - Volkswagen"
     ]
    }
   ],
   "source": [
    "Carro carro1;\n",
    "\n",
    "carro1.marca = \"Volkswagen\";\n",
    "carro1.modelo = \"Fusca\";\n",
    "carro1.ano = 1985;\n",
    "\n",
    "carro1.acelera()"
   ]
  },
  {
   "cell_type": "markdown",
   "id": "conscious-calvin",
   "metadata": {},
   "source": [
    "### Definição externa"
   ]
  },
  {
   "cell_type": "code",
   "execution_count": 16,
   "id": "indoor-slovenia",
   "metadata": {},
   "outputs": [],
   "source": [
    "class Carro {\n",
    "    public:\n",
    "        string marca;\n",
    "        string modelo;\n",
    "        int ano;\n",
    "        void acelera();\n",
    "};"
   ]
  },
  {
   "cell_type": "code",
   "execution_count": 17,
   "id": "pharmaceutical-vietnamese",
   "metadata": {},
   "outputs": [],
   "source": [
    "void Carro::acelera() {\n",
    "    cout << \"Vrum 3.0! - \" << modelo << \" - \" << marca;\n",
    "}"
   ]
  },
  {
   "cell_type": "code",
   "execution_count": 18,
   "id": "every-howard",
   "metadata": {},
   "outputs": [
    {
     "name": "stdout",
     "output_type": "stream",
     "text": [
      "Vrum 3.0! - Fusca - Volkswagen"
     ]
    }
   ],
   "source": [
    "Carro carro1;\n",
    "\n",
    "carro1.marca = \"Volkswagen\";\n",
    "carro1.modelo = \"Fusca\";\n",
    "carro1.ano = 1985;\n",
    "\n",
    "carro1.acelera()"
   ]
  },
  {
   "cell_type": "markdown",
   "id": "alleged-crazy",
   "metadata": {},
   "source": [
    "### Parametros métodos"
   ]
  },
  {
   "cell_type": "code",
   "execution_count": 19,
   "id": "ethical-trade",
   "metadata": {},
   "outputs": [],
   "source": [
    "class Carro {\n",
    "    public:\n",
    "        string marca;\n",
    "        string modelo;\n",
    "        int ano;\n",
    "        void acelera(int velocidade) {\n",
    "            cout << \"Vrum 4.0! \" << velocidade;\n",
    "        }\n",
    "};"
   ]
  },
  {
   "cell_type": "code",
   "execution_count": 20,
   "id": "surrounded-morning",
   "metadata": {},
   "outputs": [
    {
     "name": "stdout",
     "output_type": "stream",
     "text": [
      "Vrum 4.0! 120"
     ]
    }
   ],
   "source": [
    "Carro carro1;\n",
    "carro1.marca = \"Volkswagen\";\n",
    "carro1.modelo = \"Fusca\";\n",
    "carro1.ano = 1985;\n",
    "\n",
    "carro1.acelera(120)"
   ]
  },
  {
   "cell_type": "code",
   "execution_count": 21,
   "id": "increased-senior",
   "metadata": {},
   "outputs": [
    {
     "name": "stdout",
     "output_type": "stream",
     "text": [
      "Vrum 4.0! 110"
     ]
    }
   ],
   "source": [
    "carro1.acelera(110)"
   ]
  },
  {
   "cell_type": "markdown",
   "id": "hungry-wiring",
   "metadata": {},
   "source": [
    "## Construtores"
   ]
  },
  {
   "cell_type": "code",
   "execution_count": 29,
   "id": "needed-color",
   "metadata": {},
   "outputs": [],
   "source": [
    "class Carro {\n",
    "    public:\n",
    "        string marca;\n",
    "        string modelo;\n",
    "        int ano;\n",
    "        Carro(string x, string y) {\n",
    "            marca = x;\n",
    "            modelo = y;\n",
    "            ano = 2001;\n",
    "            cout << \"Olá!\";\n",
    "        }\n",
    "};"
   ]
  },
  {
   "cell_type": "code",
   "execution_count": 41,
   "id": "latest-match",
   "metadata": {},
   "outputs": [
    {
     "name": "stdout",
     "output_type": "stream",
     "text": [
      "Olá!"
     ]
    }
   ],
   "source": [
    "Carro carro1(\"Volkswagen\", \"Fusca\");"
   ]
  },
  {
   "cell_type": "code",
   "execution_count": 42,
   "id": "formed-blair",
   "metadata": {},
   "outputs": [
    {
     "name": "stdout",
     "output_type": "stream",
     "text": [
      "Fusca"
     ]
    }
   ],
   "source": [
    "cout << carro1.modelo;"
   ]
  },
  {
   "cell_type": "code",
   "execution_count": 43,
   "id": "celtic-scottish",
   "metadata": {},
   "outputs": [
    {
     "name": "stdout",
     "output_type": "stream",
     "text": [
      "Volkswagen"
     ]
    }
   ],
   "source": [
    "cout << carro1.marca;"
   ]
  },
  {
   "cell_type": "code",
   "execution_count": 44,
   "id": "sought-acceptance",
   "metadata": {},
   "outputs": [
    {
     "name": "stdout",
     "output_type": "stream",
     "text": [
      "2001"
     ]
    }
   ],
   "source": [
    "cout << carro1.ano;"
   ]
  },
  {
   "cell_type": "code",
   "execution_count": 45,
   "id": "accepted-telephone",
   "metadata": {},
   "outputs": [
    {
     "name": "stdout",
     "output_type": "stream",
     "text": [
      "Olá!"
     ]
    }
   ],
   "source": [
    "Carro carro2(\"Fiat\", \"Uno\");"
   ]
  },
  {
   "cell_type": "code",
   "execution_count": 46,
   "id": "nasty-parts",
   "metadata": {},
   "outputs": [
    {
     "name": "stdout",
     "output_type": "stream",
     "text": [
      "Fiat\n"
     ]
    }
   ],
   "source": [
    "cout << carro2.marca << \"\\n\";"
   ]
  },
  {
   "cell_type": "code",
   "execution_count": 47,
   "id": "offensive-democracy",
   "metadata": {},
   "outputs": [
    {
     "name": "stdout",
     "output_type": "stream",
     "text": [
      "2001\n"
     ]
    }
   ],
   "source": [
    "cout << carro2.ano << \"\\n\";"
   ]
  },
  {
   "cell_type": "markdown",
   "id": "southern-canberra",
   "metadata": {},
   "source": [
    "## Controle acesso"
   ]
  },
  {
   "cell_type": "code",
   "execution_count": 48,
   "id": "robust-convention",
   "metadata": {},
   "outputs": [],
   "source": [
    "class Carro {\n",
    "    private:\n",
    "        string marca;\n",
    "        string modelo;\n",
    "        int ano;\n",
    "};"
   ]
  },
  {
   "cell_type": "code",
   "execution_count": 49,
   "id": "convenient-boards",
   "metadata": {},
   "outputs": [
    {
     "name": "stderr",
     "output_type": "stream",
     "text": [
      "\u001b[1minput_line_59:3:8: \u001b[0m\u001b[0;1;31merror: \u001b[0m\u001b[1m'marca' is a private member of '__cling_N547::Carro'\u001b[0m\n",
      "carro1.marca = \"Fiat\";\n",
      "\u001b[0;1;32m       ^\n",
      "\u001b[0m\u001b[1minput_line_58:3:16: \u001b[0m\u001b[0;1;30mnote: \u001b[0mdeclared private here\u001b[0m\n",
      "        string marca;\n",
      "\u001b[0;1;32m               ^\n",
      "\u001b[0m"
     ]
    },
    {
     "ename": "Interpreter Error",
     "evalue": "",
     "output_type": "error",
     "traceback": [
      "Interpreter Error: "
     ]
    }
   ],
   "source": [
    "Carro carro1;\n",
    "\n",
    "carro1.marca = \"Fiat\";"
   ]
  },
  {
   "cell_type": "code",
   "execution_count": 50,
   "id": "excessive-purse",
   "metadata": {},
   "outputs": [],
   "source": [
    "class Carro {\n",
    "    private:\n",
    "        string marca;\n",
    "        string modelo;\n",
    "        int ano;\n",
    "    public:\n",
    "        // Setter\n",
    "        void setMarca(string x) {\n",
    "            marca = x;\n",
    "        }\n",
    "        // Getter\n",
    "        string getMarca() {\n",
    "            return marca;\n",
    "        }\n",
    "        // Setter\n",
    "        void setModelo(string x) {\n",
    "            modelo = x;\n",
    "        }\n",
    "        // Getter\n",
    "        string getModelo() {\n",
    "            return modelo;\n",
    "        }\n",
    "        // Setter\n",
    "        void setAno(int x) {\n",
    "            if (x > 1990)\n",
    "                ano = x;\n",
    "            else\n",
    "                cout << \"Ano inválido!\";\n",
    "        }\n",
    "        // Getter\n",
    "        int getAno() {\n",
    "            return ano;\n",
    "        }\n",
    "};"
   ]
  },
  {
   "cell_type": "code",
   "execution_count": 52,
   "id": "handmade-maker",
   "metadata": {},
   "outputs": [],
   "source": [
    "Carro carro1;\n",
    "carro1.setMarca(\"Fiat\");\n",
    "carro1.setModelo(\"Uno\");\n",
    "carro1.setAno(2005);"
   ]
  },
  {
   "cell_type": "code",
   "execution_count": 53,
   "id": "noticed-design",
   "metadata": {},
   "outputs": [
    {
     "name": "stderr",
     "output_type": "stream",
     "text": [
      "\u001b[1minput_line_63:2:17: \u001b[0m\u001b[0;1;31merror: \u001b[0m\u001b[1m'modelo' is a private member of '__cling_N549::Carro'\u001b[0m\n",
      " cout << carro1.modelo << \"\\n\";\n",
      "\u001b[0;1;32m                ^\n",
      "\u001b[0m\u001b[1minput_line_60:4:16: \u001b[0m\u001b[0;1;30mnote: \u001b[0mdeclared private here\u001b[0m\n",
      "        string modelo;\n",
      "\u001b[0;1;32m               ^\n",
      "\u001b[0m"
     ]
    },
    {
     "ename": "Interpreter Error",
     "evalue": "",
     "output_type": "error",
     "traceback": [
      "Interpreter Error: "
     ]
    }
   ],
   "source": [
    "cout << carro1.modelo << \"\\n\";"
   ]
  },
  {
   "cell_type": "code",
   "execution_count": 54,
   "id": "quality-establishment",
   "metadata": {},
   "outputs": [
    {
     "name": "stdout",
     "output_type": "stream",
     "text": [
      "Uno\n",
      "Fiat\n",
      "2005\n"
     ]
    }
   ],
   "source": [
    "cout << carro1.getModelo() << \"\\n\";\n",
    "cout << carro1.getMarca() << \"\\n\";\n",
    "cout << carro1.getAno() << \"\\n\";"
   ]
  },
  {
   "cell_type": "code",
   "execution_count": 55,
   "id": "russian-fundamentals",
   "metadata": {},
   "outputs": [
    {
     "name": "stdout",
     "output_type": "stream",
     "text": [
      "Ano inválido!"
     ]
    }
   ],
   "source": [
    "carro1.setAno(1985);"
   ]
  },
  {
   "cell_type": "code",
   "execution_count": 56,
   "id": "generic-australian",
   "metadata": {},
   "outputs": [
    {
     "name": "stdout",
     "output_type": "stream",
     "text": [
      "2005\n"
     ]
    }
   ],
   "source": [
    "cout << carro1.getAno() << \"\\n\";"
   ]
  },
  {
   "cell_type": "code",
   "execution_count": 57,
   "id": "sixth-sperm",
   "metadata": {},
   "outputs": [
    {
     "name": "stderr",
     "output_type": "stream",
     "text": [
      "\u001b[1minput_line_67:2:9: \u001b[0m\u001b[0;1;31merror: \u001b[0m\u001b[1m'ano' is a private member of '__cling_N549::Carro'\u001b[0m\n",
      " carro1.ano = 1985;\n",
      "\u001b[0;1;32m        ^\n",
      "\u001b[0m\u001b[1minput_line_60:5:13: \u001b[0m\u001b[0;1;30mnote: \u001b[0mdeclared private here\u001b[0m\n",
      "        int ano;\n",
      "\u001b[0;1;32m            ^\n",
      "\u001b[0m"
     ]
    },
    {
     "ename": "Interpreter Error",
     "evalue": "",
     "output_type": "error",
     "traceback": [
      "Interpreter Error: "
     ]
    }
   ],
   "source": [
    "carro1.ano = 1985;"
   ]
  },
  {
   "cell_type": "code",
   "execution_count": 58,
   "id": "thirty-maple",
   "metadata": {},
   "outputs": [
    {
     "name": "stdout",
     "output_type": "stream",
     "text": [
      "2005\n"
     ]
    }
   ],
   "source": [
    "cout << carro1.getAno() << \"\\n\";"
   ]
  },
  {
   "cell_type": "code",
   "execution_count": 59,
   "id": "atlantic-liabilities",
   "metadata": {},
   "outputs": [],
   "source": [
    "carro1.setAno(1996);"
   ]
  },
  {
   "cell_type": "code",
   "execution_count": 60,
   "id": "planned-russell",
   "metadata": {},
   "outputs": [
    {
     "name": "stdout",
     "output_type": "stream",
     "text": [
      "1996\n"
     ]
    }
   ],
   "source": [
    "cout << carro1.getAno() << \"\\n\";"
   ]
  }
 ],
 "metadata": {
  "kernelspec": {
   "display_name": "C++11",
   "language": "C++11",
   "name": "xcpp11"
  },
  "language_info": {
   "codemirror_mode": "text/x-c++src",
   "file_extension": ".cpp",
   "mimetype": "text/x-c++src",
   "name": "c++",
   "version": "11"
  }
 },
 "nbformat": 4,
 "nbformat_minor": 5
}
