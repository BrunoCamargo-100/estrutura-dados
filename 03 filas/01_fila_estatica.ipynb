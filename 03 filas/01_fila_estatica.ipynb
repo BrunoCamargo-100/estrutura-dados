{
 "cells": [
  {
   "cell_type": "markdown",
   "id": "divided-adventure",
   "metadata": {},
   "source": [
    "# Filas\n",
    "\n",
    "- Fila é uma lista na qual as inserções são realizadas em uma extremidade (fim da fila) e as remoções em outra (começo da fila)\n",
    "- FIFO: First In, First Out ou primeiro que entra, primeiro que sai\n",
    "- Veremos duas implementações estática e dinâmica\n",
    "\n",
    "## Implementação Fila Estática"
   ]
  },
  {
   "cell_type": "code",
   "execution_count": 1,
   "id": "deadly-marathon",
   "metadata": {},
   "outputs": [],
   "source": [
    "#include <iostream>\n",
    "using namespace std;\n",
    "\n",
    "#define MAX 5"
   ]
  },
  {
   "cell_type": "markdown",
   "id": "practical-plastic",
   "metadata": {},
   "source": [
    "### Definição da Classe"
   ]
  },
  {
   "cell_type": "code",
   "execution_count": 2,
   "id": "plastic-tourism",
   "metadata": {},
   "outputs": [],
   "source": [
    "class Fila {\n",
    "    private:\n",
    "        int contador;\n",
    "        int capacidade = MAX;\n",
    "        int elementos[MAX];\n",
    "    public:\n",
    "        Fila();\n",
    "        bool inserir(int x);\n",
    "        bool remover(int &x);\n",
    "        bool vazia();\n",
    "        bool cheia();\n",
    "};"
   ]
  },
  {
   "cell_type": "markdown",
   "id": "current-collector",
   "metadata": {},
   "source": [
    "### Método Construtor"
   ]
  },
  {
   "cell_type": "code",
   "execution_count": 3,
   "id": "typical-habitat",
   "metadata": {},
   "outputs": [],
   "source": [
    "Fila::Fila() {\n",
    "    contador = 0;\n",
    "}"
   ]
  },
  {
   "cell_type": "code",
   "execution_count": 4,
   "id": "unknown-anxiety",
   "metadata": {},
   "outputs": [],
   "source": [
    "Fila minhaFila;"
   ]
  },
  {
   "cell_type": "markdown",
   "id": "continuing-designation",
   "metadata": {},
   "source": [
    "![topo](imagens/fila001.png)"
   ]
  },
  {
   "cell_type": "markdown",
   "id": "hydraulic-roommate",
   "metadata": {},
   "source": [
    "### Verifica se fila está vazia"
   ]
  },
  {
   "cell_type": "code",
   "execution_count": 5,
   "id": "seasonal-preserve",
   "metadata": {},
   "outputs": [],
   "source": [
    "bool Fila::vazia() {\n",
    "    return contador == 0;\n",
    "}"
   ]
  },
  {
   "cell_type": "code",
   "execution_count": 6,
   "id": "square-association",
   "metadata": {},
   "outputs": [
    {
     "name": "stdout",
     "output_type": "stream",
     "text": [
      "Está vazia!"
     ]
    }
   ],
   "source": [
    "if (minhaFila.vazia()) {\n",
    "    cout << \"Está vazia!\";\n",
    "}"
   ]
  },
  {
   "cell_type": "markdown",
   "id": "becoming-murray",
   "metadata": {},
   "source": [
    "### Verifica se fila está cheia"
   ]
  },
  {
   "cell_type": "code",
   "execution_count": 7,
   "id": "other-vacuum",
   "metadata": {},
   "outputs": [],
   "source": [
    "bool Fila::cheia() {\n",
    "    return contador == capacidade;\n",
    "}"
   ]
  },
  {
   "cell_type": "code",
   "execution_count": 8,
   "id": "compact-strand",
   "metadata": {},
   "outputs": [
    {
     "name": "stdout",
     "output_type": "stream",
     "text": [
      "Não está cheia!"
     ]
    }
   ],
   "source": [
    "if (! minhaFila.cheia()) {\n",
    "    cout << \"Não está cheia!\";\n",
    "}"
   ]
  },
  {
   "cell_type": "code",
   "execution_count": 9,
   "id": "original-marriage",
   "metadata": {},
   "outputs": [
    {
     "name": "stdout",
     "output_type": "stream",
     "text": [
      "Não está cheia!"
     ]
    }
   ],
   "source": [
    "if (minhaFila.cheia() == false) {\n",
    "    cout << \"Não está cheia!\";\n",
    "}"
   ]
  },
  {
   "cell_type": "markdown",
   "id": "provincial-sucking",
   "metadata": {},
   "source": [
    "### Inserção elemento na fila"
   ]
  },
  {
   "cell_type": "code",
   "execution_count": 10,
   "id": "level-contemporary",
   "metadata": {},
   "outputs": [],
   "source": [
    "bool Fila::inserir(int x) {\n",
    "    if (cheia()) {\n",
    "        return false;\n",
    "    }\n",
    "    elementos[contador] = x;\n",
    "    contador++;\n",
    "    return true;\n",
    "}"
   ]
  },
  {
   "cell_type": "code",
   "execution_count": 11,
   "id": "hundred-bruce",
   "metadata": {},
   "outputs": [
    {
     "data": {
      "text/plain": [
       "true"
      ]
     },
     "execution_count": 11,
     "metadata": {},
     "output_type": "execute_result"
    }
   ],
   "source": [
    "minhaFila.inserir(1)"
   ]
  },
  {
   "cell_type": "markdown",
   "id": "medium-intelligence",
   "metadata": {},
   "source": [
    "Chamando o método:\n",
    "\n",
    "![topo](imagens/fila002.png)\n",
    "\n",
    "Armazenando valor no vetor de elementos:\n",
    "\n",
    "```c\n",
    "elementos[contador] = x;\n",
    "```\n",
    "\n",
    "![topo](imagens/fila003.png)\n",
    "\n",
    "Incrementando contador de elementos:\n",
    "\n",
    "```c\n",
    "contador++;\n",
    "```\n",
    "\n",
    "![topo](imagens/fila004.png)\n",
    "\n",
    "\n",
    "\n"
   ]
  },
  {
   "cell_type": "code",
   "execution_count": 12,
   "id": "guilty-porter",
   "metadata": {},
   "outputs": [
    {
     "data": {
      "text/plain": [
       "true"
      ]
     },
     "execution_count": 12,
     "metadata": {},
     "output_type": "execute_result"
    }
   ],
   "source": [
    "minhaFila.inserir(2)"
   ]
  },
  {
   "cell_type": "markdown",
   "id": "selective-aaron",
   "metadata": {},
   "source": [
    "Chamando o método:\n",
    "\n",
    "![topo](imagens/fila005.png)\n",
    "\n",
    "Armazenando valor no vetor de elementos:\n",
    "\n",
    "```c\n",
    "elementos[contador] = x;\n",
    "```\n",
    "\n",
    "![topo](imagens/fila006.png)\n",
    "\n",
    "Incrementando contador de elementos:\n",
    "\n",
    "```c\n",
    "contador++;\n",
    "```\n",
    "\n",
    "![topo](imagens/fila007.png)"
   ]
  },
  {
   "cell_type": "code",
   "execution_count": 13,
   "id": "motivated-functionality",
   "metadata": {},
   "outputs": [
    {
     "name": "stdout",
     "output_type": "stream",
     "text": [
      "3 inserido com sucesso!\n",
      "4 inserido com sucesso!\n",
      "5 inserido com sucesso!\n",
      "6 não foi inserido!\n"
     ]
    }
   ],
   "source": [
    "for (int i = 3; i < 7; i++) {\n",
    "    if (minhaFila.inserir(i))\n",
    "        cout << i << \" inserido com sucesso!\\n\";\n",
    "    else\n",
    "        cout << i << \" não foi inserido!\\n\";\n",
    "}"
   ]
  },
  {
   "cell_type": "code",
   "execution_count": 14,
   "id": "objective-prize",
   "metadata": {},
   "outputs": [
    {
     "name": "stdout",
     "output_type": "stream",
     "text": [
      "Está cheia!"
     ]
    }
   ],
   "source": [
    "if (minhaFila.cheia())\n",
    "    cout << \"Está cheia!\""
   ]
  },
  {
   "cell_type": "markdown",
   "id": "ethical-google",
   "metadata": {},
   "source": [
    "Situação final da fila após inserções:\n",
    "\n",
    "![topo](imagens/fila008.png)"
   ]
  },
  {
   "cell_type": "markdown",
   "id": "unique-bulgarian",
   "metadata": {},
   "source": [
    "### Remoção de elemento da fila"
   ]
  },
  {
   "cell_type": "code",
   "execution_count": 15,
   "id": "parallel-vulnerability",
   "metadata": {},
   "outputs": [],
   "source": [
    "bool Fila::remover(int &x) {\n",
    "    int i;\n",
    "    if (vazia()) {\n",
    "        return false;\n",
    "    }\n",
    "    x = elementos[0];\n",
    "    for (i = 1; i < contador; i++)\n",
    "        elementos[i-1] = elementos[i];\n",
    "    contador--;\n",
    "    return true;\n",
    "}"
   ]
  },
  {
   "cell_type": "code",
   "execution_count": 16,
   "id": "affiliated-gothic",
   "metadata": {},
   "outputs": [
    {
     "name": "stdout",
     "output_type": "stream",
     "text": [
      "1 removido com sucesso!\n"
     ]
    }
   ],
   "source": [
    "int y;\n",
    "if (minhaFila.remover(y))\n",
    "        cout << y << \" removido com sucesso!\\n\";\n",
    "    else\n",
    "        cout << \"não houve remoção!\\n\";"
   ]
  },
  {
   "cell_type": "markdown",
   "id": "numeric-settlement",
   "metadata": {},
   "source": [
    "Chamando o método remover:\n",
    "\n",
    "![topo](imagens/fila009.png)\n",
    "\n",
    "\n",
    "```c\n",
    "x = elementos[0];\n",
    "```\n",
    "\n",
    "![topo](imagens/fila010.png)\n",
    "\n",
    "```c\n",
    "    for (int i = 1; i < contador; i++)\n",
    "        elementos[i-1] = elementos[i];\n",
    "```\n",
    "\n",
    "![topo](imagens/fila011.png)\n",
    "\n",
    "```c\n",
    "    contador--;\n",
    "```\n",
    "\n",
    "![topo](imagens/fila012.png)\n"
   ]
  },
  {
   "cell_type": "code",
   "execution_count": 17,
   "id": "binding-quarter",
   "metadata": {},
   "outputs": [
    {
     "name": "stdout",
     "output_type": "stream",
     "text": [
      "2 removido com sucesso!\n",
      "3 removido com sucesso!\n",
      "4 removido com sucesso!\n",
      "5 removido com sucesso!\n",
      "não houve remoção!\n",
      "não houve remoção!\n"
     ]
    }
   ],
   "source": [
    "int y;\n",
    "for (int i = 1; i < 7; i++) {\n",
    "    if (minhaFila.remover(y))\n",
    "        cout << y << \" removido com sucesso!\\n\";\n",
    "    else\n",
    "        cout << \"não houve remoção!\\n\";\n",
    "}"
   ]
  },
  {
   "cell_type": "code",
   "execution_count": null,
   "id": "damaged-nerve",
   "metadata": {},
   "outputs": [],
   "source": []
  }
 ],
 "metadata": {
  "kernelspec": {
   "display_name": "C++17",
   "language": "C++17",
   "name": "xcpp17"
  },
  "language_info": {
   "codemirror_mode": "text/x-c++src",
   "file_extension": ".cpp",
   "mimetype": "text/x-c++src",
   "name": "c++",
   "version": "17"
  }
 },
 "nbformat": 4,
 "nbformat_minor": 5
}
