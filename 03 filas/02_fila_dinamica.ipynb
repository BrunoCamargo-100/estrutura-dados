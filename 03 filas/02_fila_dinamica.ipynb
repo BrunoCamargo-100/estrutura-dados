{
 "cells": [
  {
   "cell_type": "markdown",
   "id": "sonic-cargo",
   "metadata": {},
   "source": [
    "# Filas\n",
    "\n",
    "## Implementação Fila Dinâmica"
   ]
  },
  {
   "cell_type": "code",
   "execution_count": 2,
   "id": "dominant-bernard",
   "metadata": {},
   "outputs": [],
   "source": [
    "#include <iostream>\n",
    "using namespace std;"
   ]
  },
  {
   "cell_type": "markdown",
   "id": "ancient-rider",
   "metadata": {},
   "source": [
    "### Definição da Classe"
   ]
  },
  {
   "cell_type": "code",
   "execution_count": 3,
   "id": "express-adams",
   "metadata": {},
   "outputs": [],
   "source": [
    "    class Fila {\n",
    "        private:\n",
    "            struct elemento {\n",
    "                int valor;\n",
    "                elemento *proximoElemento; // ligação próximo nó\n",
    "            };\n",
    "            typedef elemento *PonteiroElemento;\n",
    "            PonteiroElemento inicio;\n",
    "            PonteiroElemento fim;\n",
    "        public:\n",
    "            Fila();\n",
    "            bool vazia();\n",
    "            bool cheia();\n",
    "            bool inserir(int x);\n",
    "            bool remover(int &x);\n",
    "    };"
   ]
  },
  {
   "cell_type": "markdown",
   "id": "distinct-warner",
   "metadata": {},
   "source": [
    "### Método Construtor"
   ]
  },
  {
   "cell_type": "code",
   "execution_count": 4,
   "id": "lesbian-stability",
   "metadata": {},
   "outputs": [],
   "source": [
    "Fila::Fila() {\n",
    "    inicio = NULL;\n",
    "    fim = NULL;\n",
    "}"
   ]
  },
  {
   "cell_type": "code",
   "execution_count": 5,
   "id": "governing-india",
   "metadata": {},
   "outputs": [],
   "source": [
    "Fila minhaFila;"
   ]
  },
  {
   "cell_type": "markdown",
   "id": "surprising-cartoon",
   "metadata": {},
   "source": [
    "![topo](imagens/filadinamica001.png)"
   ]
  },
  {
   "cell_type": "markdown",
   "id": "compact-committee",
   "metadata": {},
   "source": [
    "### Verifica se fila está vazia"
   ]
  },
  {
   "cell_type": "code",
   "execution_count": 6,
   "id": "biological-adapter",
   "metadata": {},
   "outputs": [],
   "source": [
    "bool Fila::vazia() {\n",
    "    return inicio == NULL;\n",
    "}"
   ]
  },
  {
   "cell_type": "code",
   "execution_count": 7,
   "id": "periodic-suite",
   "metadata": {},
   "outputs": [
    {
     "name": "stdout",
     "output_type": "stream",
     "text": [
      "Está vazia!"
     ]
    }
   ],
   "source": [
    "if (minhaFila.vazia()) {\n",
    "    cout << \"Está vazia!\";\n",
    "}"
   ]
  },
  {
   "cell_type": "markdown",
   "id": "married-bidding",
   "metadata": {},
   "source": [
    "### Verifica se fila está cheia"
   ]
  },
  {
   "cell_type": "code",
   "execution_count": 8,
   "id": "dress-sound",
   "metadata": {},
   "outputs": [],
   "source": [
    "bool Fila::cheia() {\n",
    "    return false;\n",
    "}"
   ]
  },
  {
   "cell_type": "code",
   "execution_count": 9,
   "id": "acknowledged-potter",
   "metadata": {},
   "outputs": [
    {
     "name": "stdout",
     "output_type": "stream",
     "text": [
      "Não está cheia!"
     ]
    }
   ],
   "source": [
    "if (! minhaFila.cheia()) {\n",
    "    cout << \"Não está cheia!\";\n",
    "}"
   ]
  },
  {
   "cell_type": "markdown",
   "id": "destroyed-artist",
   "metadata": {},
   "source": [
    "### Inserção elemento na fila"
   ]
  },
  {
   "cell_type": "code",
   "execution_count": 10,
   "id": "martial-effect",
   "metadata": {},
   "outputs": [],
   "source": [
    "bool Fila::inserir(int x) {\n",
    "    PonteiroElemento p;\n",
    "    p = new elemento;\n",
    "    if (p == NULL) {\n",
    "        return 0;\n",
    "    }\n",
    "    p->valor = x;\n",
    "    if (vazia()) {\n",
    "        inicio = p;\n",
    "        fim = p;\n",
    "    } else {\n",
    "        fim->proximoElemento = p;\n",
    "        fim = p;\n",
    "    }\n",
    "    p->proximoElemento = NULL;\n",
    "    return true;\n",
    "}"
   ]
  },
  {
   "cell_type": "code",
   "execution_count": 11,
   "id": "architectural-terrain",
   "metadata": {},
   "outputs": [
    {
     "data": {
      "text/plain": [
       "true"
      ]
     },
     "execution_count": 11,
     "metadata": {},
     "output_type": "execute_result"
    }
   ],
   "source": [
    "minhaFila.inserir(1)"
   ]
  },
  {
   "cell_type": "markdown",
   "id": "center-institute",
   "metadata": {},
   "source": [
    "```c\n",
    "minhaFila.inserir(1)\n",
    "```\n",
    "\n",
    "![topo](imagens/filadinamica002.png)    \n",
    "   \n",
    "```c\n",
    "PonteiroElemento p;\n",
    "```\n",
    "\n",
    "![topo](imagens/filadinamica003.png)\n",
    "\n",
    "```c    \n",
    "p = new elemento;\n",
    "```\n",
    "\n",
    "![topo](imagens/filadinamica004.png)\n",
    "    \n",
    "```c\n",
    "p->valor = x;\n",
    "```\n",
    "\n",
    "![topo](imagens/filadinamica005.png)\n",
    "    \n",
    "```c    \n",
    "if (vazia()) {\n",
    "    inicio = p;\n",
    "    fim = p;\n",
    "} else {\n",
    "    fim->proximoElemento = p;\n",
    "    fim = p;\n",
    "}\n",
    "```\n",
    "\n",
    "![topo](imagens/filadinamica006.png)\n",
    "    \n",
    "```c    \n",
    "p->proximoElemento = NULL;\n",
    "```\n",
    "\n",
    "![topo](imagens/filadinamica007.png)\n",
    "\n",
    "Finalizado o método:\n",
    "\n",
    "![topo](imagens/filadinamica008.png)"
   ]
  },
  {
   "cell_type": "code",
   "execution_count": 12,
   "id": "cross-bathroom",
   "metadata": {},
   "outputs": [
    {
     "data": {
      "text/plain": [
       "true"
      ]
     },
     "execution_count": 12,
     "metadata": {},
     "output_type": "execute_result"
    }
   ],
   "source": [
    "minhaFila.inserir(2)"
   ]
  },
  {
   "cell_type": "markdown",
   "id": "present-design",
   "metadata": {},
   "source": [
    "```c\n",
    "minhaFila.inserir(2)\n",
    "```\n",
    "\n",
    "![topo](imagens/filadinamica009.png)    \n",
    "   \n",
    "```c\n",
    "PonteiroElemento p;\n",
    "```\n",
    "\n",
    "![topo](imagens/filadinamica010.png)\n",
    "\n",
    "```c    \n",
    "p = new elemento;\n",
    "```\n",
    "\n",
    "![topo](imagens/filadinamica011.png)\n",
    "    \n",
    "```c\n",
    "p->valor = x;\n",
    "```\n",
    "\n",
    "![topo](imagens/filadinamica012.png)\n",
    "    \n",
    "```c    \n",
    "if (vazia()) {\n",
    "    inicio = p;\n",
    "    fim = p;\n",
    "} else {\n",
    "    fim->proximoElemento = p;\n",
    "```\n",
    "\n",
    "![topo](imagens/filadinamica013.png)\n",
    "\n",
    "```c    \n",
    "    fim = p;\n",
    "}\n",
    "```\n",
    "\n",
    "![topo](imagens/filadinamica014.png)\n",
    "    \n",
    "```c    \n",
    "p->proximoElemento = NULL;\n",
    "```\n",
    "\n",
    "![topo](imagens/filadinamica015.png)\n",
    "\n",
    "Finalizado o método:\n",
    "\n",
    "![topo](imagens/filadinamica016.png)"
   ]
  },
  {
   "cell_type": "code",
   "execution_count": 13,
   "id": "destroyed-cruise",
   "metadata": {},
   "outputs": [
    {
     "data": {
      "text/plain": [
       "true"
      ]
     },
     "execution_count": 13,
     "metadata": {},
     "output_type": "execute_result"
    }
   ],
   "source": [
    "minhaFila.inserir(3)"
   ]
  },
  {
   "cell_type": "markdown",
   "id": "likely-division",
   "metadata": {},
   "source": [
    "```c\n",
    "minhaFila.inserir(3)\n",
    "```\n",
    "\n",
    "![topo](imagens/filadinamica017.png)    \n",
    "   \n",
    "```c\n",
    "PonteiroElemento p;\n",
    "```\n",
    "\n",
    "![topo](imagens/filadinamica018.png)\n",
    "\n",
    "```c    \n",
    "p = new elemento;\n",
    "```\n",
    "\n",
    "![topo](imagens/filadinamica019.png)\n",
    "    \n",
    "```c\n",
    "p->valor = x;\n",
    "```\n",
    "\n",
    "![topo](imagens/filadinamica020.png)\n",
    "    \n",
    "```c    \n",
    "if (vazia()) {\n",
    "    inicio = p;\n",
    "    fim = p;\n",
    "} else {\n",
    "    fim->proximoElemento = p;\n",
    "```\n",
    "\n",
    "![topo](imagens/filadinamica021.png)\n",
    "\n",
    "```c    \n",
    "    fim = p;\n",
    "}\n",
    "```\n",
    "\n",
    "![topo](imagens/filadinamica022.png)\n",
    "\n",
    "```c    \n",
    "p->proximoElemento = NULL;\n",
    "```\n",
    "\n",
    "![topo](imagens/filadinamica023.png)\n",
    "\n",
    "Finalizado o método:\n",
    "\n",
    "![topo](imagens/filadinamica024.png)"
   ]
  },
  {
   "cell_type": "markdown",
   "id": "administrative-elevation",
   "metadata": {},
   "source": [
    "### Remoção de Elemento da Fila"
   ]
  },
  {
   "cell_type": "code",
   "execution_count": null,
   "id": "hollywood-baltimore",
   "metadata": {},
   "outputs": [],
   "source": [
    "bool Fila::remover(int &x) {\n",
    "    PonteiroElemento p;\n",
    "    if (vazia())\n",
    "        return false;\n",
    "    x = inicio->valor;\n",
    "    p = inicio;\n",
    "    inicio = inicio->proximoElemento;\n",
    "    delete p;\n",
    "    if (inicio == NULL)\n",
    "        fim = NULL;\n",
    "    return true;\n",
    "}"
   ]
  },
  {
   "cell_type": "code",
   "execution_count": null,
   "id": "arranged-remainder",
   "metadata": {},
   "outputs": [],
   "source": [
    "int y;\n",
    "if (minhaFila.remover(y))\n",
    "        cout << y << \" removido com sucesso!\\n\";\n",
    "    else\n",
    "        cout << \"não houve remoção!\\n\";"
   ]
  },
  {
   "cell_type": "markdown",
   "id": "first-yacht",
   "metadata": {},
   "source": [
    "```c\n",
    "PonteiroElemento p;\n",
    "```\n",
    "\n",
    "![topo](imagens/filadinamica025.png)\n",
    "\n",
    "```c\n",
    "if (vazia())\n",
    "    return false;\n",
    "x = inicio->valor;\n",
    "```\n",
    "\n",
    "![topo](imagens/filadinamica026.png)\n",
    "\n",
    "```c\n",
    "p = inicio;\n",
    "```\n",
    "\n",
    "![topo](imagens/filadinamica027.png)\n",
    "\n",
    "```c\n",
    "inicio = inicio->proximoElemento;\n",
    "```\n",
    "\n",
    "![topo](imagens/filadinamica028.png)\n",
    "\n",
    "```c\n",
    "delete p;\n",
    "```\n",
    "\n",
    "![topo](imagens/filadinamica029.png)\n",
    "\n",
    "```c\n",
    "if (inicio == NULL)\n",
    "    fim = NULL;\n",
    "return true;\n",
    "```"
   ]
  },
  {
   "cell_type": "markdown",
   "id": "guided-assets",
   "metadata": {},
   "source": [
    "### Outros testes\n",
    "\n",
    "#### Teste 01"
   ]
  },
  {
   "cell_type": "code",
   "execution_count": null,
   "id": "comparative-consultancy",
   "metadata": {},
   "outputs": [],
   "source": [
    "Fila minhaFila;"
   ]
  },
  {
   "cell_type": "code",
   "execution_count": null,
   "id": "waiting-tribe",
   "metadata": {},
   "outputs": [],
   "source": [
    "int y;\n",
    "for (int i = 0; i < 4 ; i ++) {\n",
    "    cout << \"Digite um valor [\" << i << \"]: \";\n",
    "    cin >> y;\n",
    "    minhaFila.inserir(y);\n",
    "}"
   ]
  },
  {
   "cell_type": "code",
   "execution_count": null,
   "id": "stretch-credits",
   "metadata": {},
   "outputs": [],
   "source": [
    "for (int i = 0; i < 6 ; i ++) {\n",
    "    if (minhaFila.remover(y))\n",
    "        cout << \"Removido [\" << i << \"]: \" << y << \" - \" << minhaFila.vazia() << \"\\n\";\n",
    "    else\n",
    "        cout << \"Sem elementos para remover!\" << \" - \" << minhaFila.vazia() << \"\\n\";\n",
    "}"
   ]
  },
  {
   "cell_type": "markdown",
   "id": "light-soviet",
   "metadata": {},
   "source": [
    "#### Teste 02"
   ]
  },
  {
   "cell_type": "code",
   "execution_count": null,
   "id": "anonymous-durham",
   "metadata": {},
   "outputs": [],
   "source": [
    "Fila minhaFila;"
   ]
  },
  {
   "cell_type": "code",
   "execution_count": null,
   "id": "periodic-victor",
   "metadata": {},
   "outputs": [],
   "source": [
    "for (int i = 4; i < 20; i++) {\n",
    "    if (minhaFila.inserir(i))\n",
    "        cout << i << \" inserido com sucesso!\\n\";\n",
    "    else\n",
    "        cout << i << \" não foi inserido!\\n\";\n",
    "}"
   ]
  },
  {
   "cell_type": "code",
   "execution_count": null,
   "id": "injured-yield",
   "metadata": {},
   "outputs": [],
   "source": [
    "for (int i = 4; i < 20; i++) {\n",
    "    if (minhaFila.remover(y)) {\n",
    "        cout << y << \" removido com sucesso! - \";\n",
    "        if (y ==i)\n",
    "            cout << \" [ok]\\n\";\n",
    "        else\n",
    "            cout << \" [not ok]\\n\";\n",
    "    }\n",
    "    else\n",
    "        cout << \" fila vazia!\\n\";\n",
    "}"
   ]
  },
  {
   "cell_type": "code",
   "execution_count": null,
   "id": "experienced-coalition",
   "metadata": {},
   "outputs": [],
   "source": [
    "for (int i = 4; i < 20; i++) {\n",
    "    if (minhaFila.remover(y) == false) {\n",
    "        cout << \" fila vazia! - [ok]\\n\";\n",
    "    }\n",
    "}"
   ]
  },
  {
   "cell_type": "code",
   "execution_count": null,
   "id": "foster-discount",
   "metadata": {},
   "outputs": [],
   "source": []
  },
  {
   "cell_type": "code",
   "execution_count": null,
   "id": "compressed-count",
   "metadata": {},
   "outputs": [],
   "source": []
  },
  {
   "cell_type": "code",
   "execution_count": null,
   "id": "curious-analyst",
   "metadata": {},
   "outputs": [],
   "source": []
  },
  {
   "cell_type": "code",
   "execution_count": null,
   "id": "greenhouse-culture",
   "metadata": {},
   "outputs": [],
   "source": [
    "%%file Fila.h\n",
    "\n",
    "class Fila {\n",
    "    private:\n",
    "        struct elemento {\n",
    "            int valor;\n",
    "            elemento *proximoElemento; // ligação próximo nó\n",
    "        };\n",
    "        typedef elemento *PonteiroElemento;\n",
    "        PonteiroElemento inicio;\n",
    "        PonteiroElemento fim;\n",
    "    public:\n",
    "        Fila();\n",
    "        bool vazia();\n",
    "        bool cheia();\n",
    "        bool inserir(int x);\n",
    "        bool remover(int &x);\n",
    "};\n",
    "\n"
   ]
  },
  {
   "cell_type": "code",
   "execution_count": null,
   "id": "emerging-antigua",
   "metadata": {},
   "outputs": [],
   "source": [
    "%%file Fila.cpp\n",
    "#include <cstdlib>\n",
    "#include \"Fila.h\"\n",
    "\n",
    "Fila::Fila() {\n",
    "    inicio = NULL;\n",
    "    fim = NULL;\n",
    "}\n",
    "\n",
    "bool Fila::vazia() {\n",
    "    //return false;\n",
    "    return (inicio == NULL);\n",
    "}\n",
    "\n",
    "bool Fila::cheia() {\n",
    "    return false;\n",
    "}\n",
    "\n",
    "bool Fila::inserir(int x) {\n",
    "    PonteiroElemento p;\n",
    "    p = new elemento;\n",
    "    p->valor = x;\n",
    "    if (vazia()) {\n",
    "        inicio = p;\n",
    "        fim = p;\n",
    "    } else {\n",
    "        fim->proximoElemento = p;\n",
    "        fim = p;\n",
    "    }\n",
    "    p->proximoElemento = NULL;\n",
    "    return true;\n",
    "}\n",
    "\n",
    "bool Fila::remover(int &x) {\n",
    "    PonteiroElemento p;\n",
    "    if (vazia())\n",
    "        return false;\n",
    "    x = inicio->valor;\n",
    "    p = inicio;\n",
    "    inicio = inicio->proximoElemento;\n",
    "    delete p;\n",
    "    if (inicio == NULL)\n",
    "        fim = NULL;\n",
    "    return true;\n",
    "}\n",
    "\n"
   ]
  },
  {
   "cell_type": "code",
   "execution_count": null,
   "id": "talented-access",
   "metadata": {},
   "outputs": [],
   "source": []
  },
  {
   "cell_type": "code",
   "execution_count": null,
   "id": "underlying-grade",
   "metadata": {},
   "outputs": [],
   "source": [
    "%%file Teste01.h\n",
    "#include <cxxtest/TestSuite.h>\n",
    "#include \"Fila.cpp\"\n",
    "\n",
    "class MyTestSuite1 : public CxxTest::TestSuite\n",
    "{\n",
    "public:\n",
    "    void testaVazia(void)\n",
    "    {\n",
    "        Fila fila01;\n",
    "        int y;\n",
    "        \n",
    "        TS_ASSERT(fila01.vazia() == true);\n",
    "        TS_ASSERT(fila01.cheia() == false);\n",
    "\n",
    "        TS_ASSERT(fila01.inserir(1) == true);\n",
    "        TS_ASSERT(fila01.vazia() == false);\n",
    "        TS_ASSERT(fila01.cheia() == false);\n",
    "\n",
    "        TS_ASSERT(fila01.inserir(2) == true);\n",
    "        TS_ASSERT(fila01.vazia() == false);\n",
    "        TS_ASSERT(fila01.cheia() == false);\n",
    "\n",
    "        TS_ASSERT(fila01.remover(y) == true);\n",
    "        TS_ASSERT(y == 1);\n",
    "        TS_ASSERT(fila01.vazia() == false);\n",
    "        TS_ASSERT(fila01.cheia() == false);\n",
    "\n",
    "        TS_ASSERT(fila01.remover(y) == true);\n",
    "        TS_ASSERT(y == 2);\n",
    "        TS_ASSERT(fila01.vazia() == true);\n",
    "        TS_ASSERT(fila01.cheia() == false);\n",
    "\n",
    "        fila01.remover(y);\n",
    "        TS_ASSERT(fila01.vazia() == true);\n",
    "        TS_ASSERT(fila01.cheia() == false);\n",
    "    }\n",
    "    \n",
    "    void testaInserir(void)\n",
    "    {\n",
    "        Fila fila01;\n",
    "        int y;\n",
    "        \n",
    "\n",
    "        TS_ASSERT(fila01.inserir(1) == true);\n",
    "\n",
    "        TS_ASSERT(fila01.inserir(2) == true);\n",
    "\n",
    "        TS_ASSERT(fila01.remover(y) == true);\n",
    "        TS_ASSERT(y == 1);\n",
    "\n",
    "        TS_ASSERT(fila01.remover(y) == true);\n",
    "        TS_ASSERT(y == 2);\n",
    "\n",
    "        TS_ASSERT(fila01.remover(y) == false);\n",
    "        \n",
    "    }\n",
    "    \n",
    "    \n",
    "};\n"
   ]
  },
  {
   "cell_type": "code",
   "execution_count": null,
   "id": "efficient-pasta",
   "metadata": {},
   "outputs": [],
   "source": [
    "!cxxtestgen --error-printer -o runner01.cpp Teste01.h"
   ]
  },
  {
   "cell_type": "code",
   "execution_count": null,
   "id": "vital-contributor",
   "metadata": {},
   "outputs": [],
   "source": [
    "!g++ -o runner01 runner01.cpp"
   ]
  },
  {
   "cell_type": "code",
   "execution_count": null,
   "id": "center-proceeding",
   "metadata": {},
   "outputs": [],
   "source": [
    "!./runner01"
   ]
  },
  {
   "cell_type": "code",
   "execution_count": null,
   "id": "creative-starter",
   "metadata": {},
   "outputs": [],
   "source": []
  },
  {
   "cell_type": "code",
   "execution_count": null,
   "id": "assisted-iraqi",
   "metadata": {},
   "outputs": [],
   "source": []
  },
  {
   "cell_type": "code",
   "execution_count": null,
   "id": "little-companion",
   "metadata": {},
   "outputs": [],
   "source": []
  },
  {
   "cell_type": "code",
   "execution_count": null,
   "id": "furnished-airline",
   "metadata": {},
   "outputs": [],
   "source": []
  },
  {
   "cell_type": "code",
   "execution_count": null,
   "id": "drawn-martial",
   "metadata": {},
   "outputs": [],
   "source": [
    "%%file teste01.cpp\n",
    "#include <iostream>\n",
    "#include \"Fila.cpp\"\n",
    "\n",
    "using namespace std;\n",
    "\n",
    "int main() {\n",
    "    Fila minhaFila;\n",
    "    int x, y;\n",
    "\n",
    "    if (minhaFila.vazia()) {\n",
    "        cout << \"Esta vazia!\\n\";\n",
    "    } \n",
    "    minhaFila.inserir(1);\n",
    "    cout << \"Esta vazia: \" << minhaFila.vazia() << \"\\n\";\n",
    "    minhaFila.inserir(2);\n",
    "    cout << \"Esta vazia: \" << minhaFila.vazia() << \"\\n\";\n",
    "    minhaFila.remover(x);\n",
    "    cout << \"Esta vazia: \" << minhaFila.vazia() << \"\\n\";\n",
    "    minhaFila.remover(x);\n",
    "    cout << \"Esta vazia: \" << minhaFila.vazia() << \"\\n\";\n",
    "}"
   ]
  },
  {
   "cell_type": "code",
   "execution_count": null,
   "id": "artistic-still",
   "metadata": {},
   "outputs": [],
   "source": [
    "!g++ -o teste01 teste01.cpp"
   ]
  },
  {
   "cell_type": "code",
   "execution_count": null,
   "id": "geographic-turning",
   "metadata": {},
   "outputs": [],
   "source": [
    "!./teste01"
   ]
  },
  {
   "cell_type": "code",
   "execution_count": null,
   "id": "previous-blackberry",
   "metadata": {},
   "outputs": [],
   "source": []
  }
 ],
 "metadata": {
  "kernelspec": {
   "display_name": "C++11",
   "language": "C++11",
   "name": "xcpp11"
  },
  "language_info": {
   "codemirror_mode": "text/x-c++src",
   "file_extension": ".cpp",
   "mimetype": "text/x-c++src",
   "name": "c++",
   "version": "11"
  }
 },
 "nbformat": 4,
 "nbformat_minor": 5
}
