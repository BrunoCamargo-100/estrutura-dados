{
 "cells": [
  {
   "cell_type": "markdown",
   "id": "tutorial-persian",
   "metadata": {},
   "source": [
    "# Orientação a objetos\n",
    "\n",
    "|Classe  | Objetos |\n",
    "|--------|---------|\n",
    "|        | Maçã    |\n",
    "| Fruta  | Banana  |\n",
    "|        | Manga   |\n",
    "\n",
    "\n",
    "|Classe  | Objetos |\n",
    "|--------|---------|\n",
    "|        | Fusca   |\n",
    "| Carro  | Uno     |\n",
    "|        | Gol     |\n",
    "\n",
    "\n"
   ]
  },
  {
   "cell_type": "code",
   "execution_count": 1,
   "id": "novel-residence",
   "metadata": {},
   "outputs": [],
   "source": [
    "#include <iostream>\n",
    "using namespace std;"
   ]
  },
  {
   "cell_type": "markdown",
   "id": "through-arnold",
   "metadata": {},
   "source": [
    "## Classe"
   ]
  },
  {
   "cell_type": "code",
   "execution_count": 2,
   "id": "requested-shower",
   "metadata": {},
   "outputs": [],
   "source": [
    "class Carro01 {\n",
    "    public:\n",
    "        string marca;\n",
    "        string modelo;\n",
    "        int ano;\n",
    "};"
   ]
  },
  {
   "cell_type": "markdown",
   "id": "english-criticism",
   "metadata": {},
   "source": [
    "## Objetos"
   ]
  },
  {
   "cell_type": "code",
   "execution_count": 3,
   "id": "sorted-import",
   "metadata": {},
   "outputs": [],
   "source": [
    "Carro01 carro1;\n",
    "\n",
    "carro1.marca = \"Volswagen\";\n",
    "carro1.modelo = \"Fusca\";\n",
    "carro1.ano = 1985;"
   ]
  },
  {
   "cell_type": "code",
   "execution_count": 4,
   "id": "vocal-seafood",
   "metadata": {},
   "outputs": [
    {
     "name": "stdout",
     "output_type": "stream",
     "text": [
      "Volswagen\n",
      "Fusca\n",
      "1985"
     ]
    }
   ],
   "source": [
    "cout << carro1.marca << \"\\n\";\n",
    "cout << carro1.modelo << \"\\n\";\n",
    "cout << carro1.ano;"
   ]
  },
  {
   "cell_type": "code",
   "execution_count": 5,
   "id": "major-pulse",
   "metadata": {},
   "outputs": [],
   "source": [
    "Carro01 carro2;\n",
    "carro2.marca = \"Fiat\";\n",
    "carro2.modelo = \"Uno\";\n",
    "carro2.ano = 2007;"
   ]
  },
  {
   "cell_type": "code",
   "execution_count": 6,
   "id": "outdoor-hardwood",
   "metadata": {},
   "outputs": [
    {
     "name": "stdout",
     "output_type": "stream",
     "text": [
      "Fiat\n",
      "Uno\n",
      "2007"
     ]
    }
   ],
   "source": [
    "cout << carro2.marca << \"\\n\";\n",
    "cout << carro2.modelo << \"\\n\";\n",
    "cout << carro2.ano;"
   ]
  },
  {
   "cell_type": "markdown",
   "id": "magnetic-roman",
   "metadata": {},
   "source": [
    "## Métodos\n",
    "### Definição interna"
   ]
  },
  {
   "cell_type": "code",
   "execution_count": 7,
   "id": "challenging-afghanistan",
   "metadata": {},
   "outputs": [],
   "source": [
    "class Carro02 {\n",
    "    public:\n",
    "        string marca;\n",
    "        string modelo;\n",
    "        int ano;\n",
    "        void acelera() {\n",
    "            cout << \"Vrum 2.0! - \" << marca;\n",
    "        }\n",
    "};"
   ]
  },
  {
   "cell_type": "code",
   "execution_count": 9,
   "id": "extraordinary-encyclopedia",
   "metadata": {},
   "outputs": [
    {
     "name": "stdout",
     "output_type": "stream",
     "text": [
      "Vrum 2.0! - Volkswagen"
     ]
    }
   ],
   "source": [
    "Carro02 carro1;\n",
    "\n",
    "carro1.marca = \"Volkswagen\";\n",
    "carro1.modelo = \"Fusca\";\n",
    "carro1.ano = 1985;\n",
    "\n",
    "carro1.acelera()"
   ]
  },
  {
   "cell_type": "markdown",
   "id": "instant-flash",
   "metadata": {},
   "source": [
    "### Definição externa"
   ]
  },
  {
   "cell_type": "code",
   "execution_count": 10,
   "id": "dedicated-granny",
   "metadata": {},
   "outputs": [],
   "source": [
    "class Carro03 {\n",
    "    public:\n",
    "        string marca;\n",
    "        string modelo;\n",
    "        int ano;\n",
    "        void acelera();\n",
    "};"
   ]
  },
  {
   "cell_type": "code",
   "execution_count": 11,
   "id": "ceramic-contrary",
   "metadata": {},
   "outputs": [],
   "source": [
    "void Carro03::acelera() {\n",
    "    cout << \"Vrum 3.0! - \" << modelo << \" - \" << marca;\n",
    "}"
   ]
  },
  {
   "cell_type": "code",
   "execution_count": 12,
   "id": "canadian-estimate",
   "metadata": {},
   "outputs": [
    {
     "name": "stdout",
     "output_type": "stream",
     "text": [
      "Vrum 3.0! - Fusca - Volkswagen"
     ]
    }
   ],
   "source": [
    "Carro03 carro1;\n",
    "\n",
    "carro1.marca = \"Volkswagen\";\n",
    "carro1.modelo = \"Fusca\";\n",
    "carro1.ano = 1985;\n",
    "\n",
    "carro1.acelera()"
   ]
  },
  {
   "cell_type": "markdown",
   "id": "improving-brass",
   "metadata": {},
   "source": [
    "### Parametros métodos"
   ]
  },
  {
   "cell_type": "code",
   "execution_count": 13,
   "id": "virtual-story",
   "metadata": {},
   "outputs": [],
   "source": [
    "class Carro04 {\n",
    "    public:\n",
    "        string marca;\n",
    "        string modelo;\n",
    "        int ano;\n",
    "        void acelera(int velocidade) {\n",
    "            cout << \"Vrum 4.0! \" << velocidade;\n",
    "        }\n",
    "};"
   ]
  },
  {
   "cell_type": "code",
   "execution_count": 14,
   "id": "removable-murray",
   "metadata": {},
   "outputs": [
    {
     "name": "stdout",
     "output_type": "stream",
     "text": [
      "Vrum 4.0! 120"
     ]
    }
   ],
   "source": [
    "Carro04 carro1;\n",
    "carro1.marca = \"Volkswagen\";\n",
    "carro1.modelo = \"Fusca\";\n",
    "carro1.ano = 1985;\n",
    "\n",
    "carro1.acelera(120)"
   ]
  },
  {
   "cell_type": "code",
   "execution_count": 15,
   "id": "filled-genre",
   "metadata": {},
   "outputs": [
    {
     "name": "stdout",
     "output_type": "stream",
     "text": [
      "Vrum 4.0! 110"
     ]
    }
   ],
   "source": [
    "carro1.acelera(110)"
   ]
  },
  {
   "cell_type": "markdown",
   "id": "bridal-richardson",
   "metadata": {},
   "source": [
    "## Construtores"
   ]
  },
  {
   "cell_type": "code",
   "execution_count": 16,
   "id": "decreased-calcium",
   "metadata": {},
   "outputs": [],
   "source": [
    "class Carro05 {\n",
    "    public:\n",
    "        string marca;\n",
    "        string modelo;\n",
    "        int ano;\n",
    "        Carro05(string x, string y, int z) {\n",
    "            marca = x;\n",
    "            modelo = y;\n",
    "            ano = z;\n",
    "        }\n",
    "};"
   ]
  },
  {
   "cell_type": "code",
   "execution_count": 17,
   "id": "suited-portfolio",
   "metadata": {},
   "outputs": [],
   "source": [
    "Carro05 carro1(\"Volkswagen\", \"Fusca\", 1985);"
   ]
  },
  {
   "cell_type": "code",
   "execution_count": 18,
   "id": "polished-house",
   "metadata": {},
   "outputs": [],
   "source": [
    "Carro05 carro2(\"Fiat\", \"Uno\", 2007);"
   ]
  },
  {
   "cell_type": "code",
   "execution_count": 20,
   "id": "formal-prince",
   "metadata": {},
   "outputs": [
    {
     "name": "stdout",
     "output_type": "stream",
     "text": [
      "Fusca\n"
     ]
    }
   ],
   "source": [
    "cout << carro1.modelo << \"\\n\";"
   ]
  },
  {
   "cell_type": "code",
   "execution_count": 22,
   "id": "extreme-genealogy",
   "metadata": {},
   "outputs": [
    {
     "name": "stdout",
     "output_type": "stream",
     "text": [
      "Volkswagen\n"
     ]
    }
   ],
   "source": [
    "cout << carro1.marca << \"\\n\";"
   ]
  },
  {
   "cell_type": "code",
   "execution_count": 23,
   "id": "black-inspiration",
   "metadata": {},
   "outputs": [
    {
     "name": "stdout",
     "output_type": "stream",
     "text": [
      "1985\n"
     ]
    }
   ],
   "source": [
    "cout << carro1.ano << \"\\n\";"
   ]
  },
  {
   "cell_type": "code",
   "execution_count": 21,
   "id": "residential-confidence",
   "metadata": {},
   "outputs": [
    {
     "name": "stdout",
     "output_type": "stream",
     "text": [
      "Uno\n"
     ]
    }
   ],
   "source": [
    "cout << carro2.modelo << \"\\n\";"
   ]
  },
  {
   "cell_type": "code",
   "execution_count": 24,
   "id": "herbal-monaco",
   "metadata": {},
   "outputs": [
    {
     "name": "stdout",
     "output_type": "stream",
     "text": [
      "Fiat\n"
     ]
    }
   ],
   "source": [
    "cout << carro2.marca << \"\\n\";"
   ]
  },
  {
   "cell_type": "code",
   "execution_count": 26,
   "id": "considerable-subscriber",
   "metadata": {},
   "outputs": [
    {
     "name": "stdout",
     "output_type": "stream",
     "text": [
      "2007\n"
     ]
    }
   ],
   "source": [
    "cout << carro2.ano << \"\\n\";"
   ]
  },
  {
   "cell_type": "markdown",
   "id": "important-replica",
   "metadata": {},
   "source": [
    "## Controle acesso"
   ]
  },
  {
   "cell_type": "code",
   "execution_count": 27,
   "id": "consistent-heading",
   "metadata": {},
   "outputs": [],
   "source": [
    "class Carro06 {\n",
    "    private:\n",
    "        string marca;\n",
    "        string modelo;\n",
    "        int ano;\n",
    "};"
   ]
  },
  {
   "cell_type": "code",
   "execution_count": 28,
   "id": "coupled-short",
   "metadata": {},
   "outputs": [
    {
     "name": "stderr",
     "output_type": "stream",
     "text": [
      "\u001b[1minput_line_35:3:8: \u001b[0m\u001b[0;1;31merror: \u001b[0m\u001b[1m'marca' is a private member of '__cling_N527::Carro06'\u001b[0m\n",
      "carro1.marca = \"Fiat\";\n",
      "\u001b[0;1;32m       ^\n",
      "\u001b[0m\u001b[1minput_line_34:3:16: \u001b[0m\u001b[0;1;30mnote: \u001b[0mdeclared private here\u001b[0m\n",
      "        string marca;\n",
      "\u001b[0;1;32m               ^\n",
      "\u001b[0m"
     ]
    },
    {
     "ename": "Interpreter Error",
     "evalue": "",
     "output_type": "error",
     "traceback": [
      "Interpreter Error: "
     ]
    }
   ],
   "source": [
    "Carro06 carro1;\n",
    "\n",
    "carro1.marca = \"Fiat\";"
   ]
  },
  {
   "cell_type": "code",
   "execution_count": 29,
   "id": "polar-attack",
   "metadata": {},
   "outputs": [],
   "source": [
    "class Carro07 {\n",
    "    private:\n",
    "        string marca;\n",
    "        string modelo;\n",
    "        int ano;\n",
    "    public:\n",
    "        // Setter\n",
    "        void setMarca(string x) {\n",
    "            marca = x;\n",
    "        }\n",
    "        // Getter\n",
    "        string getMarca() {\n",
    "            return marca;\n",
    "        }\n",
    "        // Setter\n",
    "        void setModelo(string x) {\n",
    "            modelo = x;\n",
    "        }\n",
    "        // Getter\n",
    "        string getModelo() {\n",
    "            return modelo;\n",
    "        }\n",
    "        // Setter\n",
    "        void setAno(int x) {\n",
    "            if (x > 1990)\n",
    "                ano = x;\n",
    "            else\n",
    "                cout << \"Ano inválido!\";\n",
    "        }\n",
    "        // Getter\n",
    "        int getAno() {\n",
    "            return ano;\n",
    "        }\n",
    "};"
   ]
  },
  {
   "cell_type": "code",
   "execution_count": 39,
   "id": "structured-combat",
   "metadata": {},
   "outputs": [],
   "source": [
    "Carro07 carro1;\n",
    "carro1.setMarca(\"Fiat\");\n",
    "carro1.setModelo(\"Uno\");\n",
    "carro1.setAno(2005);"
   ]
  },
  {
   "cell_type": "code",
   "execution_count": 40,
   "id": "timely-surfing",
   "metadata": {},
   "outputs": [
    {
     "name": "stderr",
     "output_type": "stream",
     "text": [
      "\u001b[1minput_line_47:2:17: \u001b[0m\u001b[0;1;31merror: \u001b[0m\u001b[1m'modelo' is a private member of '__cling_N529::Carro07'\u001b[0m\n",
      " cout << carro1.modelo << \"\\n\";\n",
      "\u001b[0;1;32m                ^\n",
      "\u001b[0m\u001b[1minput_line_36:4:16: \u001b[0m\u001b[0;1;30mnote: \u001b[0mdeclared private here\u001b[0m\n",
      "        string modelo;\n",
      "\u001b[0;1;32m               ^\n",
      "\u001b[0m"
     ]
    },
    {
     "ename": "Interpreter Error",
     "evalue": "",
     "output_type": "error",
     "traceback": [
      "Interpreter Error: "
     ]
    }
   ],
   "source": [
    "cout << carro1.modelo << \"\\n\";"
   ]
  },
  {
   "cell_type": "code",
   "execution_count": 41,
   "id": "hidden-jackson",
   "metadata": {},
   "outputs": [
    {
     "name": "stdout",
     "output_type": "stream",
     "text": [
      "Uno\n",
      "Fiat\n",
      "2005\n"
     ]
    }
   ],
   "source": [
    "cout << carro1.getModelo() << \"\\n\";\n",
    "cout << carro1.getMarca() << \"\\n\";\n",
    "cout << carro1.getAno() << \"\\n\";"
   ]
  },
  {
   "cell_type": "code",
   "execution_count": 42,
   "id": "ethical-cartoon",
   "metadata": {},
   "outputs": [
    {
     "name": "stdout",
     "output_type": "stream",
     "text": [
      "Ano inválido!"
     ]
    }
   ],
   "source": [
    "carro1.setAno(1985);"
   ]
  },
  {
   "cell_type": "code",
   "execution_count": 43,
   "id": "concerned-punishment",
   "metadata": {},
   "outputs": [
    {
     "name": "stdout",
     "output_type": "stream",
     "text": [
      "2005\n"
     ]
    }
   ],
   "source": [
    "cout << carro1.getAno() << \"\\n\";"
   ]
  },
  {
   "cell_type": "code",
   "execution_count": 44,
   "id": "excess-thomson",
   "metadata": {},
   "outputs": [
    {
     "name": "stderr",
     "output_type": "stream",
     "text": [
      "\u001b[1minput_line_51:2:9: \u001b[0m\u001b[0;1;31merror: \u001b[0m\u001b[1m'ano' is a private member of '__cling_N529::Carro07'\u001b[0m\n",
      " carro1.ano = 1985;\n",
      "\u001b[0;1;32m        ^\n",
      "\u001b[0m\u001b[1minput_line_36:5:13: \u001b[0m\u001b[0;1;30mnote: \u001b[0mdeclared private here\u001b[0m\n",
      "        int ano;\n",
      "\u001b[0;1;32m            ^\n",
      "\u001b[0m"
     ]
    },
    {
     "ename": "Interpreter Error",
     "evalue": "",
     "output_type": "error",
     "traceback": [
      "Interpreter Error: "
     ]
    }
   ],
   "source": [
    "carro1.ano = 1985;"
   ]
  },
  {
   "cell_type": "code",
   "execution_count": 45,
   "id": "worst-trailer",
   "metadata": {},
   "outputs": [
    {
     "name": "stdout",
     "output_type": "stream",
     "text": [
      "2005\n"
     ]
    }
   ],
   "source": [
    "cout << carro1.getAno() << \"\\n\";"
   ]
  },
  {
   "cell_type": "code",
   "execution_count": 46,
   "id": "about-tender",
   "metadata": {},
   "outputs": [],
   "source": [
    "carro1.setAno(1996);"
   ]
  },
  {
   "cell_type": "code",
   "execution_count": 47,
   "id": "rough-mitchell",
   "metadata": {},
   "outputs": [
    {
     "name": "stdout",
     "output_type": "stream",
     "text": [
      "1996\n"
     ]
    }
   ],
   "source": [
    "cout << carro1.getAno() << \"\\n\";"
   ]
  }
 ],
 "metadata": {
  "kernelspec": {
   "display_name": "C++11",
   "language": "C++11",
   "name": "xcpp11"
  },
  "language_info": {
   "codemirror_mode": "text/x-c++src",
   "file_extension": ".cpp",
   "mimetype": "text/x-c++src",
   "name": "c++",
   "version": "11"
  }
 },
 "nbformat": 4,
 "nbformat_minor": 5
}
