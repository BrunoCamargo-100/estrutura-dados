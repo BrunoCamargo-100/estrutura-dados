{
 "cells": [
  {
   "cell_type": "markdown",
   "id": "unsigned-southeast",
   "metadata": {},
   "source": [
    "# Pilha Dinamica Orientada a Objetos"
   ]
  },
  {
   "cell_type": "code",
   "execution_count": 50,
   "id": "republican-burden",
   "metadata": {},
   "outputs": [],
   "source": [
    "#include <iostream>\n",
    "using namespace std;"
   ]
  },
  {
   "cell_type": "markdown",
   "id": "corporate-vector",
   "metadata": {},
   "source": [
    "## Definição da classe"
   ]
  },
  {
   "cell_type": "code",
   "execution_count": 63,
   "id": "failing-accountability",
   "metadata": {},
   "outputs": [],
   "source": [
    "class Pilha {\n",
    "    private:\n",
    "        struct noPilha {\n",
    "            int valor;\n",
    "            noPilha *proximoNo; // ligação próximo nó\n",
    "        };\n",
    "        typedef noPilha *PonteiroPilha;\n",
    "        PonteiroPilha topo;\n",
    "    public:\n",
    "        Pilha();//construtor\n",
    "        bool estaVazia();\n",
    "        bool empilhar(int x);\n",
    "        bool desempilhar(int &x);\n",
    "        bool retornaTopo(int &x);\n",
    "};"
   ]
  },
  {
   "cell_type": "markdown",
   "id": "offensive-prototype",
   "metadata": {},
   "source": [
    "Temos somente um ponteiro do tipo PonteiroPilha chamado de topo:\n",
    "\n",
    "![topo](imagens/topo.png)"
   ]
  },
  {
   "cell_type": "markdown",
   "id": "sporting-superintendent",
   "metadata": {},
   "source": [
    "## Inicializando pilha (construtor)"
   ]
  },
  {
   "cell_type": "code",
   "execution_count": 64,
   "id": "portuguese-battlefield",
   "metadata": {},
   "outputs": [],
   "source": [
    "Pilha::Pilha() {\n",
    "    topo = NULL;\n",
    "}"
   ]
  },
  {
   "cell_type": "markdown",
   "id": "civilian-nicaragua",
   "metadata": {},
   "source": [
    "A pilha é iniciada vazia.\n",
    "\n",
    "![topo](imagens/pilha_vazia.png)\n"
   ]
  },
  {
   "cell_type": "code",
   "execution_count": 65,
   "id": "sudden-decline",
   "metadata": {},
   "outputs": [],
   "source": [
    "Pilha minhaPilha;"
   ]
  },
  {
   "cell_type": "markdown",
   "id": "married-housing",
   "metadata": {},
   "source": [
    "## Verificando se pilha está vazia"
   ]
  },
  {
   "cell_type": "code",
   "execution_count": 66,
   "id": "favorite-asian",
   "metadata": {},
   "outputs": [],
   "source": [
    "bool Pilha::estaVazia() {\n",
    "    if (topo == NULL) {\n",
    "        return 1;\n",
    "    } else {\n",
    "        return 0;\n",
    "    }\n",
    "}"
   ]
  },
  {
   "cell_type": "code",
   "execution_count": 67,
   "id": "informative-problem",
   "metadata": {},
   "outputs": [
    {
     "data": {
      "text/plain": [
       "true"
      ]
     },
     "execution_count": 67,
     "metadata": {},
     "output_type": "execute_result"
    }
   ],
   "source": [
    "minhaPilha.estaVazia()"
   ]
  },
  {
   "cell_type": "markdown",
   "id": "amateur-investing",
   "metadata": {},
   "source": [
    "## Empilhando"
   ]
  },
  {
   "cell_type": "code",
   "execution_count": 68,
   "id": "running-shuttle",
   "metadata": {},
   "outputs": [],
   "source": [
    "bool Pilha::empilhar(int x) {\n",
    "    PonteiroPilha p;\n",
    "    p = new noPilha;\n",
    "    if (p == NULL) {\n",
    "        return 0;\n",
    "    }\n",
    "    p->valor = x;\n",
    "    p->proximoNo = topo;\n",
    "    topo = p;\n",
    "    return 1;\n",
    "}"
   ]
  },
  {
   "cell_type": "code",
   "execution_count": 69,
   "id": "numeric-trout",
   "metadata": {},
   "outputs": [
    {
     "data": {
      "text/plain": [
       "true"
      ]
     },
     "execution_count": 69,
     "metadata": {},
     "output_type": "execute_result"
    }
   ],
   "source": [
    "minhaPilha.empilhar(8)"
   ]
  },
  {
   "cell_type": "markdown",
   "id": "worse-hepatitis",
   "metadata": {},
   "source": [
    "Primeiro o ponteiro p é criado.\n",
    "\n",
    "```c\n",
    "PonteiroPilha p;\n",
    "```\n",
    "\n",
    "![topo](imagens/empilhar_8_01.png)\n",
    "\n",
    "Definindo p como um struct do tipo noPilha\n",
    "\n",
    "```c\n",
    "p = new noPilha;\n",
    "```\n",
    "\n",
    "![topo](imagens/empilhar_8_02.png)\n",
    "\n",
    "Armazenando o valor 8 em p.valor\n",
    "\n",
    "```c\n",
    "p->valor = x;\n",
    "```\n",
    "\n",
    "![topo](imagens/empilhar_8_03.png)\n",
    "\n",
    "\n",
    "O próximo nó de p aponta para o topo, no caso NULL.\n",
    "\n",
    "```c\n",
    "p->proximoNo = topo;\n",
    "```    \n",
    "\n",
    "![topo](imagens/empilhar_8_04.png)\n",
    "\n",
    "Topo agora aponta para p.\n",
    "\n",
    "```c\n",
    "topo = p;\n",
    "```\n",
    "\n",
    "![topo](imagens/empilhar_8_05.png)\n",
    "\n",
    "Como o ponteiro p era pertencente ao método empilhar, ao termino da execução do método permanece apenas o atributo topo.\n",
    "\n",
    "![topo](imagens/empilhar_8_06.png)"
   ]
  },
  {
   "cell_type": "code",
   "execution_count": 70,
   "id": "italian-lover",
   "metadata": {},
   "outputs": [
    {
     "data": {
      "text/plain": [
       "true"
      ]
     },
     "execution_count": 70,
     "metadata": {},
     "output_type": "execute_result"
    }
   ],
   "source": [
    "minhaPilha.empilhar(10)"
   ]
  },
  {
   "cell_type": "markdown",
   "id": "strategic-conclusion",
   "metadata": {},
   "source": [
    "Outro nó p é criado.\n",
    "\n",
    "```c\n",
    "PonteiroPilha p;\n",
    "```\n",
    "\n",
    "![topo](imagens/empilhar_10_01.png)\n",
    "\n",
    "```c\n",
    "p = new noPilha;\n",
    "```\n",
    "\n",
    "![topo](imagens/empilhar_10_02.png)\n",
    "\n",
    "```c\n",
    "p->valor = x;\n",
    "```\n",
    "\n",
    "![topo](imagens/empilhar_10_03.png)\n",
    "\n",
    "```c\n",
    "p->proximoNo = topo;\n",
    "```\n",
    "\n",
    "![topo](imagens/empilhar_10_04.png)\n",
    "\n",
    "```c\n",
    "topo = p;\n",
    "```\n",
    "\n",
    "![topo](imagens/empilhar_10_05.png)\n",
    "\n",
    "\n",
    "Como o ponteiro p era pertencente ao método empilhar, ao termino da execução do método permanece apenas o atributo topo.\n",
    "\n",
    "![topo](imagens/empilhar_10_06.png)\n",
    "\n",
    "\n"
   ]
  },
  {
   "cell_type": "code",
   "execution_count": 71,
   "id": "occupational-module",
   "metadata": {},
   "outputs": [
    {
     "data": {
      "text/plain": [
       "true"
      ]
     },
     "execution_count": 71,
     "metadata": {},
     "output_type": "execute_result"
    }
   ],
   "source": [
    "minhaPilha.empilhar(4)"
   ]
  },
  {
   "cell_type": "markdown",
   "id": "nearby-engine",
   "metadata": {},
   "source": [
    "Outro nó p é criado.\n",
    "\n",
    "```c\n",
    "PonteiroPilha p;\n",
    "```\n",
    "\n",
    "![topo](imagens/empilhar_4_01.png)\n",
    "\n",
    "```c\n",
    "p = new noPilha;\n",
    "```\n",
    "\n",
    "![topo](imagens/empilhar_4_02.png)\n",
    "\n",
    "```c\n",
    "p->valor = x;\n",
    "```\n",
    "\n",
    "![topo](imagens/empilhar_4_03.png)\n",
    "\n",
    "```c\n",
    "p->proximoNo = topo;\n",
    "```\n",
    "\n",
    "![topo](imagens/empilhar_4_04.png)\n",
    "\n",
    "```c\n",
    "topo = p;\n",
    "```\n",
    "\n",
    "![topo](imagens/empilhar_4_05.png)\n",
    "\n",
    "\n",
    "Como o ponteiro p era pertencente ao método empilhar, ao termino da execução do método permanece apenas o atributo topo.\n",
    "\n",
    "![topo](imagens/empilhar_4_06.png)\n",
    "\n",
    "\n"
   ]
  },
  {
   "cell_type": "markdown",
   "id": "further-smith",
   "metadata": {},
   "source": [
    "## Desempilhar"
   ]
  },
  {
   "cell_type": "code",
   "execution_count": 72,
   "id": "creative-tablet",
   "metadata": {},
   "outputs": [],
   "source": [
    "int y;\n",
    "int resultado;"
   ]
  },
  {
   "cell_type": "code",
   "execution_count": 73,
   "id": "czech-frederick",
   "metadata": {},
   "outputs": [],
   "source": [
    "bool Pilha::desempilhar(int &x) {\n",
    "    PonteiroPilha p;\n",
    "    if (estaVazia()) {\n",
    "        return 0;\n",
    "    }\n",
    "    x = topo->valor;\n",
    "    p = topo;\n",
    "    topo = topo->proximoNo;\n",
    "    free(p);\n",
    "    return 1;\n",
    "}"
   ]
  },
  {
   "cell_type": "code",
   "execution_count": 75,
   "id": "roman-rental",
   "metadata": {},
   "outputs": [
    {
     "name": "stdout",
     "output_type": "stream",
     "text": [
      "10"
     ]
    }
   ],
   "source": [
    "resultado = minhaPilha.desempilhar(y);\n",
    "cout << y;"
   ]
  },
  {
   "cell_type": "code",
   "execution_count": 14,
   "id": "tender-volunteer",
   "metadata": {},
   "outputs": [
    {
     "name": "stdout",
     "output_type": "stream",
     "text": [
      "1"
     ]
    }
   ],
   "source": [
    "cout << resultado;"
   ]
  },
  {
   "cell_type": "markdown",
   "id": "oriented-yemen",
   "metadata": {},
   "source": [
    "Um ponteiro p do tipo PonteiroP é criado:\n",
    "\n",
    "```c\n",
    "PonteiroPilha p;\n",
    "```\n",
    "\n",
    "![topo](imagens/desempilhar_4_01.png)\n",
    "\n",
    "Em x é armazenado o valor atual de topo:\n",
    "\n",
    "```c\n",
    "x = topo->valor;\n",
    "```\n",
    "\n",
    "![topo](imagens/desempilhar_4_02.png)\n",
    "\n",
    "p passa a apontar para topo:\n",
    "\n",
    "```\n",
    "p = topo;\n",
    "```\n",
    "\n",
    "![topo](imagens/desempilhar_4_03.png)\n",
    "\n",
    "topo passa a apontar para seu próprio proximoNo:\n",
    "\n",
    "```\n",
    "topo = topo->proximoNo;\n",
    "```\n",
    "\n",
    "![topo](imagens/desempilhar_4_04.png)\n",
    "\n",
    "p é liberado da memória:\n",
    "\n",
    "```\n",
    "free(p);\n",
    "```\n",
    "\n",
    "![topo](imagens/desempilhar_4_05.png)\n"
   ]
  },
  {
   "cell_type": "code",
   "execution_count": 15,
   "id": "automatic-linux",
   "metadata": {},
   "outputs": [
    {
     "name": "stdout",
     "output_type": "stream",
     "text": [
      "10 - 1"
     ]
    }
   ],
   "source": [
    "resultado = minhaPilha.desempilhar(y);\n",
    "cout << y << \" - \" << resultado;"
   ]
  },
  {
   "cell_type": "code",
   "execution_count": 16,
   "id": "unique-cancellation",
   "metadata": {},
   "outputs": [
    {
     "name": "stdout",
     "output_type": "stream",
     "text": [
      "8 - 1"
     ]
    }
   ],
   "source": [
    "resultado = minhaPilha.desempilhar(y);\n",
    "cout << y << \" - \" << resultado;"
   ]
  },
  {
   "cell_type": "code",
   "execution_count": 17,
   "id": "derived-check",
   "metadata": {},
   "outputs": [
    {
     "name": "stdout",
     "output_type": "stream",
     "text": [
      "8 - 0"
     ]
    }
   ],
   "source": [
    "resultado = minhaPilha.desempilhar(y);\n",
    "cout << y << \" - \" << resultado;"
   ]
  },
  {
   "cell_type": "code",
   "execution_count": 18,
   "id": "interim-static",
   "metadata": {},
   "outputs": [],
   "source": [
    "minhaPilha.empilhar(0);"
   ]
  },
  {
   "cell_type": "code",
   "execution_count": 19,
   "id": "refined-swing",
   "metadata": {},
   "outputs": [],
   "source": [
    "resultado = minhaPilha.desempilhar(y);"
   ]
  },
  {
   "cell_type": "code",
   "execution_count": 20,
   "id": "neutral-level",
   "metadata": {},
   "outputs": [
    {
     "name": "stdout",
     "output_type": "stream",
     "text": [
      "1"
     ]
    }
   ],
   "source": [
    "cout << resultado;"
   ]
  },
  {
   "cell_type": "code",
   "execution_count": 21,
   "id": "indie-prescription",
   "metadata": {},
   "outputs": [
    {
     "name": "stdout",
     "output_type": "stream",
     "text": [
      "0"
     ]
    }
   ],
   "source": [
    "cout << y;"
   ]
  },
  {
   "cell_type": "code",
   "execution_count": 22,
   "id": "transparent-blast",
   "metadata": {},
   "outputs": [],
   "source": [
    "minhaPilha.empilhar(1);\n",
    "minhaPilha.empilhar(0);"
   ]
  },
  {
   "cell_type": "code",
   "execution_count": 23,
   "id": "mediterranean-sperm",
   "metadata": {},
   "outputs": [
    {
     "name": "stdout",
     "output_type": "stream",
     "text": [
      "desempilhou: 0"
     ]
    }
   ],
   "source": [
    "if (minhaPilha.desempilhar(y))\n",
    "    cout << \"desempilhou: \" << y;\n",
    "else\n",
    "    cout << \"não desempilhou!\";"
   ]
  },
  {
   "cell_type": "code",
   "execution_count": 24,
   "id": "stopped-homework",
   "metadata": {},
   "outputs": [
    {
     "name": "stdout",
     "output_type": "stream",
     "text": [
      "desempilhou: 1"
     ]
    }
   ],
   "source": [
    "if (minhaPilha.desempilhar(y))\n",
    "    cout << \"desempilhou: \" << y;\n",
    "else\n",
    "    cout << \"não desempilhou!\";"
   ]
  },
  {
   "cell_type": "code",
   "execution_count": 25,
   "id": "basic-component",
   "metadata": {},
   "outputs": [
    {
     "name": "stdout",
     "output_type": "stream",
     "text": [
      "não desempilhou!"
     ]
    }
   ],
   "source": [
    "if (minhaPilha.desempilhar(y))\n",
    "    cout << \"desempilhou: \" << y;\n",
    "else\n",
    "    cout << \"não desempilhou!\";"
   ]
  },
  {
   "cell_type": "markdown",
   "id": "perfect-mystery",
   "metadata": {},
   "source": [
    "## Retorna topo"
   ]
  },
  {
   "cell_type": "code",
   "execution_count": 26,
   "id": "endless-nothing",
   "metadata": {},
   "outputs": [],
   "source": [
    "minhaPilha.empilhar(4);"
   ]
  },
  {
   "cell_type": "code",
   "execution_count": 27,
   "id": "joined-certificate",
   "metadata": {},
   "outputs": [],
   "source": [
    "bool Pilha::retornaTopo(int &x) {\n",
    "    if (estaVazia()) {\n",
    "        return 0;\n",
    "    }\n",
    "    x = topo->valor;\n",
    "    return 1;\n",
    "}"
   ]
  },
  {
   "cell_type": "code",
   "execution_count": 28,
   "id": "french-supplier",
   "metadata": {},
   "outputs": [],
   "source": [
    "y = 999;\n",
    "resultado = minhaPilha.retornaTopo(y);"
   ]
  },
  {
   "cell_type": "code",
   "execution_count": 29,
   "id": "later-grenada",
   "metadata": {},
   "outputs": [
    {
     "name": "stdout",
     "output_type": "stream",
     "text": [
      "4"
     ]
    }
   ],
   "source": [
    "cout << y;"
   ]
  },
  {
   "cell_type": "code",
   "execution_count": 30,
   "id": "ethical-expense",
   "metadata": {},
   "outputs": [
    {
     "name": "stdout",
     "output_type": "stream",
     "text": [
      "1"
     ]
    }
   ],
   "source": [
    "cout << resultado;"
   ]
  },
  {
   "cell_type": "code",
   "execution_count": 31,
   "id": "opponent-ceramic",
   "metadata": {},
   "outputs": [
    {
     "name": "stdout",
     "output_type": "stream",
     "text": [
      "valor: 4 - resultado: 1"
     ]
    }
   ],
   "source": [
    "y = 999;\n",
    "resultado = minhaPilha.retornaTopo(y);\n",
    "cout << \"valor: \" << y << \" - resultado: \" << resultado;"
   ]
  },
  {
   "cell_type": "code",
   "execution_count": 32,
   "id": "chronic-guidance",
   "metadata": {},
   "outputs": [
    {
     "data": {
      "text/plain": [
       "true"
      ]
     },
     "execution_count": 32,
     "metadata": {},
     "output_type": "execute_result"
    }
   ],
   "source": [
    "minhaPilha.desempilhar(y)"
   ]
  },
  {
   "cell_type": "code",
   "execution_count": 33,
   "id": "alleged-cloud",
   "metadata": {},
   "outputs": [
    {
     "name": "stdout",
     "output_type": "stream",
     "text": [
      "valor: 999 - resultado: 0"
     ]
    }
   ],
   "source": [
    "y = 999;\n",
    "resultado = minhaPilha.retornaTopo(y);\n",
    "cout << \"valor: \" << y << \" - resultado: \" << resultado;"
   ]
  },
  {
   "cell_type": "code",
   "execution_count": null,
   "id": "concerned-orientation",
   "metadata": {},
   "outputs": [],
   "source": []
  },
  {
   "cell_type": "code",
   "execution_count": 90,
   "id": "engaged-blend",
   "metadata": {},
   "outputs": [
    {
     "name": "stdout",
     "output_type": "stream",
     "text": [
      "1"
     ]
    }
   ],
   "source": []
  },
  {
   "cell_type": "markdown",
   "id": "accessory-panama",
   "metadata": {},
   "source": [
    "## Testando pilha"
   ]
  },
  {
   "cell_type": "code",
   "execution_count": 53,
   "id": "alive-renewal",
   "metadata": {},
   "outputs": [],
   "source": [
    "Pilha minhaPilha;"
   ]
  },
  {
   "cell_type": "code",
   "execution_count": 54,
   "id": "efficient-housing",
   "metadata": {},
   "outputs": [
    {
     "name": "stdout",
     "output_type": "stream",
     "text": [
      "Esta vazia!\n"
     ]
    }
   ],
   "source": [
    "if (minhaPilha.estaVazia())\n",
    "    cout << \"Esta vazia!\\n\";\n",
    "else\n",
    "    cout << \"Não esta vazia!\\n\";"
   ]
  },
  {
   "cell_type": "code",
   "execution_count": 55,
   "id": "instrumental-egyptian",
   "metadata": {},
   "outputs": [
    {
     "name": "stdout",
     "output_type": "stream",
     "text": [
      "Empilhando: 4\n",
      "Empilhado\n"
     ]
    }
   ],
   "source": [
    "cout << \"Empilhando: 4\\n\";\n",
    "if (minhaPilha.empilhar(4))\n",
    "    cout << \"Empilhado\\n\";\n",
    "else\n",
    "    cout << \"Não empilhou\\n\";"
   ]
  },
  {
   "cell_type": "code",
   "execution_count": 56,
   "id": "equivalent-blanket",
   "metadata": {},
   "outputs": [
    {
     "name": "stdout",
     "output_type": "stream",
     "text": [
      "Empilhando: 3\n",
      "Empilhado\n"
     ]
    }
   ],
   "source": [
    "cout << \"Empilhando: 3\\n\";\n",
    "if (minhaPilha.empilhar(3))\n",
    "    cout << \"Empilhado\\n\";\n",
    "else\n",
    "    cout << \"Não empilhou\\n\";"
   ]
  },
  {
   "cell_type": "code",
   "execution_count": 57,
   "id": "twelve-pacific",
   "metadata": {},
   "outputs": [
    {
     "name": "stdout",
     "output_type": "stream",
     "text": [
      "Empilhando: 2\n",
      "Empilhado\n"
     ]
    }
   ],
   "source": [
    "cout << \"Empilhando: 2\\n\";\n",
    "if (minhaPilha.empilhar(2))\n",
    "    cout << \"Empilhado\\n\";\n",
    "else\n",
    "    cout << \"Não empilhou\\n\";"
   ]
  },
  {
   "cell_type": "code",
   "execution_count": 58,
   "id": "precious-thanks",
   "metadata": {},
   "outputs": [
    {
     "name": "stdout",
     "output_type": "stream",
     "text": [
      "Empilhando: 1\n",
      "Empilhado\n"
     ]
    }
   ],
   "source": [
    "cout << \"Empilhando: 1\\n\";\n",
    "if (minhaPilha.empilhar(1))\n",
    "    cout << \"Empilhado\\n\";\n",
    "else\n",
    "    cout << \"Não empilhou\\n\";"
   ]
  },
  {
   "cell_type": "code",
   "execution_count": 59,
   "id": "quantitative-subscriber",
   "metadata": {},
   "outputs": [
    {
     "name": "stdout",
     "output_type": "stream",
     "text": [
      "Topo da pilha: 1\n"
     ]
    }
   ],
   "source": [
    "cout << \"Topo da pilha: \" << minhaPilha.retornaTopo() << \"\\n\";"
   ]
  },
  {
   "cell_type": "code",
   "execution_count": 60,
   "id": "intelligent-bryan",
   "metadata": {},
   "outputs": [
    {
     "name": "stdout",
     "output_type": "stream",
     "text": [
      "Desempilhou: 1\n"
     ]
    }
   ],
   "source": [
    "if (minhaPilha.desempilhar(x))\n",
    "    cout << \"Desempilhou: \" << x << \"\\n\";\n",
    "else\n",
    "    cout << \"Pilha vazia!\";"
   ]
  },
  {
   "cell_type": "code",
   "execution_count": 61,
   "id": "stone-radio",
   "metadata": {},
   "outputs": [
    {
     "name": "stdout",
     "output_type": "stream",
     "text": [
      "Desempilhou: 2\n"
     ]
    }
   ],
   "source": [
    "if (minhaPilha.desempilhar(x))\n",
    "    cout << \"Desempilhou: \" << x << \"\\n\";\n",
    "else\n",
    "    cout << \"Pilha vazia!\";"
   ]
  },
  {
   "cell_type": "code",
   "execution_count": 62,
   "id": "nutritional-uncle",
   "metadata": {},
   "outputs": [
    {
     "name": "stdout",
     "output_type": "stream",
     "text": [
      "Desempilhou: 3\n"
     ]
    }
   ],
   "source": [
    "if (minhaPilha.desempilhar(x))\n",
    "    cout << \"Desempilhou: \" << x << \"\\n\";\n",
    "else\n",
    "    cout << \"Pilha vazia!\";"
   ]
  },
  {
   "cell_type": "code",
   "execution_count": 63,
   "id": "cleared-cycling",
   "metadata": {},
   "outputs": [
    {
     "name": "stdout",
     "output_type": "stream",
     "text": [
      "Desempilhou: 4\n"
     ]
    }
   ],
   "source": [
    "if (minhaPilha.desempilhar(x))\n",
    "    cout << \"Desempilhou: \" << x << \"\\n\";\n",
    "else\n",
    "    cout << \"Pilha vazia!\";"
   ]
  },
  {
   "cell_type": "code",
   "execution_count": 64,
   "id": "maritime-token",
   "metadata": {},
   "outputs": [
    {
     "name": "stdout",
     "output_type": "stream",
     "text": [
      "Pilha vazia!"
     ]
    }
   ],
   "source": [
    "if (minhaPilha.desempilhar(x))\n",
    "    cout << \"Desempilhou: \" << x << \"\\n\";\n",
    "else\n",
    "    cout << \"Pilha vazia!\";"
   ]
  },
  {
   "cell_type": "code",
   "execution_count": 65,
   "id": "colored-parameter",
   "metadata": {},
   "outputs": [
    {
     "data": {
      "text/plain": [
       "true"
      ]
     },
     "execution_count": 65,
     "metadata": {},
     "output_type": "execute_result"
    }
   ],
   "source": [
    "minhaPilha.empilhar(0)"
   ]
  },
  {
   "cell_type": "code",
   "execution_count": 66,
   "id": "speaking-walnut",
   "metadata": {},
   "outputs": [
    {
     "name": "stdout",
     "output_type": "stream",
     "text": [
      "Desempilhou: 0\n"
     ]
    }
   ],
   "source": [
    "if (minhaPilha.desempilhar(x))\n",
    "    cout << \"Desempilhou: \" << x << \"\\n\";\n",
    "else\n",
    "    cout << \"Pilha vazia!\";"
   ]
  },
  {
   "cell_type": "code",
   "execution_count": 67,
   "id": "parliamentary-calcium",
   "metadata": {},
   "outputs": [
    {
     "name": "stdout",
     "output_type": "stream",
     "text": [
      "Pilha vazia!"
     ]
    }
   ],
   "source": [
    "if (minhaPilha.desempilhar(x))\n",
    "    cout << \"Desempilhou: \" << x << \"\\n\";\n",
    "else\n",
    "    cout << \"Pilha vazia!\";"
   ]
  },
  {
   "cell_type": "code",
   "execution_count": null,
   "id": "timely-venture",
   "metadata": {},
   "outputs": [],
   "source": []
  }
 ],
 "metadata": {
  "kernelspec": {
   "display_name": "C++11",
   "language": "C++11",
   "name": "xcpp11"
  },
  "language_info": {
   "codemirror_mode": "text/x-c++src",
   "file_extension": ".cpp",
   "mimetype": "text/x-c++src",
   "name": "c++",
   "version": "11"
  }
 },
 "nbformat": 4,
 "nbformat_minor": 5
}
