{
 "cells": [
  {
   "cell_type": "markdown",
   "id": "handed-portfolio",
   "metadata": {},
   "source": [
    "# Ponteiros"
   ]
  },
  {
   "cell_type": "code",
   "execution_count": null,
   "id": "prescription-glass",
   "metadata": {},
   "outputs": [],
   "source": []
  },
  {
   "cell_type": "code",
   "execution_count": null,
   "id": "rural-secondary",
   "metadata": {},
   "outputs": [],
   "source": []
  },
  {
   "cell_type": "code",
   "execution_count": 2,
   "id": "academic-contract",
   "metadata": {},
   "outputs": [],
   "source": [
    "#include <iostream>\n",
    "using namespace std;"
   ]
  },
  {
   "cell_type": "code",
   "execution_count": 3,
   "id": "first-cameroon",
   "metadata": {},
   "outputs": [],
   "source": [
    "int a;"
   ]
  },
  {
   "cell_type": "code",
   "execution_count": 5,
   "id": "human-valve",
   "metadata": {},
   "outputs": [
    {
     "data": {
      "text/plain": [
       "4"
      ]
     },
     "execution_count": 5,
     "metadata": {},
     "output_type": "execute_result"
    }
   ],
   "source": [
    "sizeof(a)"
   ]
  },
  {
   "cell_type": "code",
   "execution_count": 6,
   "id": "powered-fields",
   "metadata": {},
   "outputs": [],
   "source": [
    "a = 8;"
   ]
  },
  {
   "cell_type": "code",
   "execution_count": 7,
   "id": "quick-danger",
   "metadata": {},
   "outputs": [
    {
     "name": "stdout",
     "output_type": "stream",
     "text": [
      "8"
     ]
    }
   ],
   "source": [
    "cout << a;"
   ]
  },
  {
   "cell_type": "code",
   "execution_count": 8,
   "id": "optional-belfast",
   "metadata": {},
   "outputs": [
    {
     "name": "stdout",
     "output_type": "stream",
     "text": [
      "a: 0x7effd80cf02c"
     ]
    }
   ],
   "source": [
    "cout << \"a: \" << &a;"
   ]
  },
  {
   "cell_type": "code",
   "execution_count": 9,
   "id": "prostate-arena",
   "metadata": {},
   "outputs": [],
   "source": [
    "int *pa;"
   ]
  },
  {
   "cell_type": "code",
   "execution_count": 10,
   "id": "direct-apple",
   "metadata": {},
   "outputs": [],
   "source": [
    "pa = &a;"
   ]
  },
  {
   "cell_type": "code",
   "execution_count": 11,
   "id": "explicit-rwanda",
   "metadata": {},
   "outputs": [
    {
     "name": "stdout",
     "output_type": "stream",
     "text": [
      "0x7effd80cf02c"
     ]
    }
   ],
   "source": [
    "cout << pa;"
   ]
  },
  {
   "cell_type": "code",
   "execution_count": 12,
   "id": "authorized-memorabilia",
   "metadata": {},
   "outputs": [
    {
     "name": "stdout",
     "output_type": "stream",
     "text": [
      "8"
     ]
    }
   ],
   "source": [
    "cout << *pa;"
   ]
  },
  {
   "cell_type": "code",
   "execution_count": 13,
   "id": "discrete-associate",
   "metadata": {},
   "outputs": [],
   "source": [
    "*pa = 9;"
   ]
  },
  {
   "cell_type": "code",
   "execution_count": 14,
   "id": "satisfied-latex",
   "metadata": {},
   "outputs": [
    {
     "name": "stdout",
     "output_type": "stream",
     "text": [
      "9"
     ]
    }
   ],
   "source": [
    "cout << *pa;"
   ]
  },
  {
   "cell_type": "code",
   "execution_count": 15,
   "id": "painful-canvas",
   "metadata": {},
   "outputs": [
    {
     "name": "stdout",
     "output_type": "stream",
     "text": [
      "9"
     ]
    }
   ],
   "source": [
    "cout << a;"
   ]
  },
  {
   "cell_type": "code",
   "execution_count": null,
   "id": "otherwise-webcam",
   "metadata": {},
   "outputs": [],
   "source": []
  },
  {
   "cell_type": "code",
   "execution_count": 16,
   "id": "wrong-catering",
   "metadata": {},
   "outputs": [],
   "source": [
    "void func1(int y) {\n",
    "  y++;\n",
    "  cout << \"y em func1:\\t\" << y << \"\\n\";\n",
    "  cout << \"end y: \\t\" << &y << \"\\n\";\n",
    "}"
   ]
  },
  {
   "cell_type": "code",
   "execution_count": 17,
   "id": "urban-begin",
   "metadata": {},
   "outputs": [
    {
     "name": "stdout",
     "output_type": "stream",
     "text": [
      "y em func1:\t10\n",
      "end y: \t0x7fff733ba2ec\n"
     ]
    }
   ],
   "source": [
    "func1(a);"
   ]
  },
  {
   "cell_type": "code",
   "execution_count": 18,
   "id": "iraqi-lecture",
   "metadata": {},
   "outputs": [
    {
     "name": "stdout",
     "output_type": "stream",
     "text": [
      "0x7effd80cf02c"
     ]
    }
   ],
   "source": [
    "cout << &a;"
   ]
  },
  {
   "cell_type": "code",
   "execution_count": 21,
   "id": "sorted-sydney",
   "metadata": {},
   "outputs": [
    {
     "name": "stdout",
     "output_type": "stream",
     "text": [
      "9"
     ]
    }
   ],
   "source": [
    "cout << a;"
   ]
  },
  {
   "cell_type": "code",
   "execution_count": null,
   "id": "reported-circus",
   "metadata": {},
   "outputs": [],
   "source": []
  },
  {
   "cell_type": "code",
   "execution_count": 22,
   "id": "polyphonic-failure",
   "metadata": {},
   "outputs": [],
   "source": [
    "void func2(int *py) {\n",
    "  (*py)++;\n",
    "  cout << \"y em func2:\\t\" << *py << \"\\n\";\n",
    "  cout << \"end py: \\t\" << py << \"\\n\";\n",
    "}"
   ]
  },
  {
   "cell_type": "code",
   "execution_count": 23,
   "id": "utility-entry",
   "metadata": {},
   "outputs": [
    {
     "name": "stdout",
     "output_type": "stream",
     "text": [
      "y em func2:\t10\n",
      "end py: \t0x7effd80cf02c\n"
     ]
    }
   ],
   "source": [
    "func2(&a);"
   ]
  },
  {
   "cell_type": "code",
   "execution_count": 24,
   "id": "verified-perry",
   "metadata": {},
   "outputs": [
    {
     "name": "stdout",
     "output_type": "stream",
     "text": [
      "0x7effd80cf02c"
     ]
    }
   ],
   "source": [
    "cout << &a;"
   ]
  },
  {
   "cell_type": "code",
   "execution_count": 25,
   "id": "specific-novel",
   "metadata": {},
   "outputs": [
    {
     "name": "stdout",
     "output_type": "stream",
     "text": [
      "10"
     ]
    }
   ],
   "source": [
    "cout << a;"
   ]
  },
  {
   "cell_type": "code",
   "execution_count": 26,
   "id": "wireless-section",
   "metadata": {},
   "outputs": [
    {
     "name": "stdout",
     "output_type": "stream",
     "text": [
      "10"
     ]
    }
   ],
   "source": [
    "cout << *pa;"
   ]
  },
  {
   "cell_type": "code",
   "execution_count": 27,
   "id": "similar-breakdown",
   "metadata": {},
   "outputs": [
    {
     "name": "stdout",
     "output_type": "stream",
     "text": [
      "0x7effd80cf02c"
     ]
    }
   ],
   "source": [
    "cout << pa;"
   ]
  },
  {
   "cell_type": "code",
   "execution_count": 28,
   "id": "chinese-island",
   "metadata": {},
   "outputs": [
    {
     "name": "stderr",
     "output_type": "stream",
     "text": [
      "\u001b[1minput_line_40:2:10: \u001b[0m\u001b[0;1;31merror: \u001b[0m\u001b[1muse of undeclared identifier 'py'\u001b[0m\n",
      " cout << py\n",
      "\u001b[0;1;32m         ^\n",
      "\u001b[0m"
     ]
    },
    {
     "ename": "Interpreter Error",
     "evalue": "",
     "output_type": "error",
     "traceback": [
      "Interpreter Error: "
     ]
    }
   ],
   "source": [
    "cout << py"
   ]
  },
  {
   "cell_type": "code",
   "execution_count": null,
   "id": "restricted-session",
   "metadata": {},
   "outputs": [],
   "source": []
  },
  {
   "cell_type": "code",
   "execution_count": 29,
   "id": "atmospheric-jonathan",
   "metadata": {},
   "outputs": [
    {
     "name": "stdout",
     "output_type": "stream",
     "text": [
      "y em main: \t3\n",
      "end y: \t0x7effd80cf038\n",
      "y em func1:\t4\n",
      "end y: \t0x7fff733ba23c\n",
      "y em main: \t3\n",
      "end y: \t0x7effd80cf038\n",
      "y em func2:\t4\n",
      "end py: \t0x7effd80cf038\n",
      "y em main: \t4\n",
      "end y: \t0x7effd80cf038\n"
     ]
    }
   ],
   "source": [
    "int y = 3;\n",
    "cout << \"y em main: \\t\" << y << \"\\n\";\n",
    "cout << \"end y: \\t\" << &y << \"\\n\";\n",
    "getchar();\n",
    "func1(y);\n",
    "getchar();\n",
    "cout << \"y em main: \\t\" << y << \"\\n\";\n",
    "cout << \"end y: \\t\" << &y << \"\\n\";\n",
    "getchar();\n",
    "\n",
    "func2(&y);\n",
    "getchar();\n",
    "\n",
    "cout << \"y em main: \\t\" << y << \"\\n\";\n",
    "cout << \"end y: \\t\" << &y << \"\\n\";\n"
   ]
  },
  {
   "cell_type": "code",
   "execution_count": null,
   "id": "dedicated-radio",
   "metadata": {},
   "outputs": [],
   "source": []
  },
  {
   "cell_type": "code",
   "execution_count": null,
   "id": "handmade-share",
   "metadata": {},
   "outputs": [],
   "source": []
  }
 ],
 "metadata": {
  "kernelspec": {
   "display_name": "C++11",
   "language": "C++11",
   "name": "xcpp11"
  },
  "language_info": {
   "codemirror_mode": "text/x-c++src",
   "file_extension": ".cpp",
   "mimetype": "text/x-c++src",
   "name": "c++",
   "version": "11"
  }
 },
 "nbformat": 4,
 "nbformat_minor": 5
}
